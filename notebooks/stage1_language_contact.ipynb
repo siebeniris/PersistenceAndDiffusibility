{
 "cells": [
  {
   "cell_type": "code",
   "execution_count": 2,
   "id": "6f8bec59-0cf2-49ef-8605-286df0a9d94f",
   "metadata": {},
   "outputs": [],
   "source": [
    "import pandas as pd\n",
    "import numpy as np\n",
    "import geopy.distance\n",
    "from itertools import product\n",
    "from tqdm import tqdm"
   ]
  },
  {
   "cell_type": "code",
   "execution_count": 3,
   "id": "7ff58779-2302-43e7-8c2b-f9bd04004495",
   "metadata": {
    "scrolled": true
   },
   "outputs": [
    {
     "name": "stdout",
     "output_type": "stream",
     "text": [
      "INFO: Pandarallel will run on 10 workers.\n",
      "INFO: Pandarallel will use standard multiprocessing data transfer (pipe) to transfer data between the main process and workers.\n"
     ]
    }
   ],
   "source": [
    "\n",
    "from pandarallel import pandarallel\n",
    "\n",
    "pandarallel.initialize(progress_bar=True)"
   ]
  },
  {
   "cell_type": "code",
   "execution_count": 4,
   "id": "9fffd842-6ee6-4936-82ec-7da8bb998c77",
   "metadata": {},
   "outputs": [],
   "source": [
    "colex = pd.read_csv(\"../data/colexifications/colex_all_dedup.csv\")"
   ]
  },
  {
   "cell_type": "code",
   "execution_count": 7,
   "id": "070ecb5c-095b-43de-aa94-580e8c0d0644",
   "metadata": {},
   "outputs": [],
   "source": [
    "colex_langs = set(list(colex[\"Glottocode\"]))"
   ]
  },
  {
   "cell_type": "code",
   "execution_count": 9,
   "id": "cf67ac6d-6fef-4927-b404-b329a28ecabe",
   "metadata": {},
   "outputs": [
    {
     "data": {
      "text/plain": [
       "2933"
      ]
     },
     "execution_count": 9,
     "metadata": {},
     "output_type": "execute_result"
    }
   ],
   "source": [
    "len(colex_langs)"
   ]
  },
  {
   "cell_type": "code",
   "execution_count": 5,
   "id": "bc9f0702-271e-4eee-9f13-3abb932c2c0e",
   "metadata": {},
   "outputs": [],
   "source": [
    "phon = pd.read_csv(\"../data/stage1/pmiLanguageDistances.csv\",sep=\"\\t\")"
   ]
  },
  {
   "cell_type": "code",
   "execution_count": 12,
   "id": "5f8e902a-e919-4cf4-b123-c85ae8f030c2",
   "metadata": {},
   "outputs": [],
   "source": [
    "phon_langs = set(phon.Glottocode1.tolist()+phon.Glottocode2.tolist())"
   ]
  },
  {
   "cell_type": "code",
   "execution_count": 15,
   "id": "8e12309b-3f4c-43a4-809b-ab964aa8fad7",
   "metadata": {},
   "outputs": [
    {
     "data": {
      "text/plain": [
       "1563"
      ]
     },
     "execution_count": 15,
     "metadata": {},
     "output_type": "execute_result"
    }
   ],
   "source": [
    "len(phon_langs)"
   ]
  },
  {
   "cell_type": "code",
   "execution_count": 16,
   "id": "90a8ceca-09eb-4c01-b4da-63513f5d731b",
   "metadata": {},
   "outputs": [],
   "source": [
    "all_langs = phon_langs.union(colex_langs)"
   ]
  },
  {
   "cell_type": "code",
   "execution_count": 17,
   "id": "fc1e41c7-8736-49cb-b766-86d04ecab0b0",
   "metadata": {},
   "outputs": [
    {
     "data": {
      "text/plain": [
       "2933"
      ]
     },
     "execution_count": 17,
     "metadata": {},
     "output_type": "execute_result"
    }
   ],
   "source": [
    "len(all_langs)"
   ]
  },
  {
   "cell_type": "code",
   "execution_count": 18,
   "id": "3d067806-a16a-4958-b75f-82a5ed972c4a",
   "metadata": {
    "scrolled": true
   },
   "outputs": [
    {
     "data": {
      "text/plain": [
       "1563"
      ]
     },
     "execution_count": 18,
     "metadata": {},
     "output_type": "execute_result"
    }
   ],
   "source": [
    "len(phon_langs.intersection(colex_langs))"
   ]
  },
  {
   "cell_type": "markdown",
   "id": "056616ac-32b5-4d65-aee8-3f3f113d20ac",
   "metadata": {},
   "source": [
    "# Step1: Write lang2lang coords to csv"
   ]
  },
  {
   "cell_type": "code",
   "execution_count": 20,
   "id": "e60ba098-d85c-4791-90aa-d337d7e9e271",
   "metadata": {},
   "outputs": [],
   "source": [
    "dflang = pd.read_csv(\"../data/languages/languages_all.csv\", index_col=0)"
   ]
  },
  {
   "cell_type": "code",
   "execution_count": 30,
   "id": "2717363a-215a-42c6-bf4c-cbe007af9e98",
   "metadata": {},
   "outputs": [
    {
     "data": {
      "text/html": [
       "<div>\n",
       "<style scoped>\n",
       "    .dataframe tbody tr th:only-of-type {\n",
       "        vertical-align: middle;\n",
       "    }\n",
       "\n",
       "    .dataframe tbody tr th {\n",
       "        vertical-align: top;\n",
       "    }\n",
       "\n",
       "    .dataframe thead th {\n",
       "        text-align: right;\n",
       "    }\n",
       "</style>\n",
       "<table border=\"1\" class=\"dataframe\">\n",
       "  <thead>\n",
       "    <tr style=\"text-align: right;\">\n",
       "      <th></th>\n",
       "      <th>parent</th>\n",
       "      <th>name</th>\n",
       "      <th>level</th>\n",
       "      <th>hid</th>\n",
       "      <th>iso639_3</th>\n",
       "      <th>latitude</th>\n",
       "      <th>longitude</th>\n",
       "      <th>macroareas</th>\n",
       "      <th>countries</th>\n",
       "      <th>timespan</th>\n",
       "      <th>branch</th>\n",
       "      <th>parent_name</th>\n",
       "      <th>id.1</th>\n",
       "      <th>family</th>\n",
       "      <th>family_id</th>\n",
       "      <th>macroarea</th>\n",
       "      <th>nr_macroarea</th>\n",
       "    </tr>\n",
       "    <tr>\n",
       "      <th>id</th>\n",
       "      <th></th>\n",
       "      <th></th>\n",
       "      <th></th>\n",
       "      <th></th>\n",
       "      <th></th>\n",
       "      <th></th>\n",
       "      <th></th>\n",
       "      <th></th>\n",
       "      <th></th>\n",
       "      <th></th>\n",
       "      <th></th>\n",
       "      <th></th>\n",
       "      <th></th>\n",
       "      <th></th>\n",
       "      <th></th>\n",
       "      <th></th>\n",
       "      <th></th>\n",
       "    </tr>\n",
       "  </thead>\n",
       "  <tbody>\n",
       "    <tr>\n",
       "      <th>abin1243</th>\n",
       "      <td>NaN</td>\n",
       "      <td>Abinomn</td>\n",
       "      <td>language</td>\n",
       "      <td>bsa</td>\n",
       "      <td>bsa</td>\n",
       "      <td>-2.922810</td>\n",
       "      <td>138.891000</td>\n",
       "      <td>['Papunesia']</td>\n",
       "      <td>['Indonesia']</td>\n",
       "      <td>NaN</td>\n",
       "      <td>NaN</td>\n",
       "      <td>NaN</td>\n",
       "      <td>abin1243</td>\n",
       "      <td>NaN</td>\n",
       "      <td>NaN</td>\n",
       "      <td>Papunesia</td>\n",
       "      <td>1</td>\n",
       "    </tr>\n",
       "    <tr>\n",
       "      <th>abis1238</th>\n",
       "      <td>NaN</td>\n",
       "      <td>Aewa</td>\n",
       "      <td>language</td>\n",
       "      <td>ash</td>\n",
       "      <td>ash</td>\n",
       "      <td>-1.284096</td>\n",
       "      <td>-75.084405</td>\n",
       "      <td>['South America']</td>\n",
       "      <td>['Peru']</td>\n",
       "      <td>NaN</td>\n",
       "      <td>NaN</td>\n",
       "      <td>NaN</td>\n",
       "      <td>abis1238</td>\n",
       "      <td>NaN</td>\n",
       "      <td>NaN</td>\n",
       "      <td>South America</td>\n",
       "      <td>1</td>\n",
       "    </tr>\n",
       "    <tr>\n",
       "      <th>abaz1241</th>\n",
       "      <td>abkh1243</td>\n",
       "      <td>Abaza</td>\n",
       "      <td>language</td>\n",
       "      <td>abq</td>\n",
       "      <td>abq</td>\n",
       "      <td>44.250000</td>\n",
       "      <td>42.000000</td>\n",
       "      <td>['Eurasia']</td>\n",
       "      <td>['Russian Federation', 'Turkey']</td>\n",
       "      <td>NaN</td>\n",
       "      <td>Abkhaz-Abaza</td>\n",
       "      <td>Abkhaz-Abaza</td>\n",
       "      <td>abaz1241</td>\n",
       "      <td>Abkhaz-Adyge</td>\n",
       "      <td>abkh1242</td>\n",
       "      <td>Eurasia</td>\n",
       "      <td>1</td>\n",
       "    </tr>\n",
       "    <tr>\n",
       "      <th>abkh1244</th>\n",
       "      <td>abkh1243</td>\n",
       "      <td>Abkhaz</td>\n",
       "      <td>language</td>\n",
       "      <td>abk</td>\n",
       "      <td>abk</td>\n",
       "      <td>43.056218</td>\n",
       "      <td>41.159115</td>\n",
       "      <td>['Eurasia']</td>\n",
       "      <td>['Georgia', 'Russian Federation', 'Turkey']</td>\n",
       "      <td>NaN</td>\n",
       "      <td>Abkhaz-Abaza</td>\n",
       "      <td>Abkhaz-Abaza</td>\n",
       "      <td>abkh1244</td>\n",
       "      <td>Abkhaz-Adyge</td>\n",
       "      <td>abkh1242</td>\n",
       "      <td>Eurasia</td>\n",
       "      <td>1</td>\n",
       "    </tr>\n",
       "    <tr>\n",
       "      <th>adyg1241</th>\n",
       "      <td>circ1239</td>\n",
       "      <td>Adyghe</td>\n",
       "      <td>language</td>\n",
       "      <td>ady</td>\n",
       "      <td>ady</td>\n",
       "      <td>44.000000</td>\n",
       "      <td>39.330000</td>\n",
       "      <td>['Eurasia']</td>\n",
       "      <td>['Israel', 'Jordan', 'Russian Federation', 'Sy...</td>\n",
       "      <td>NaN</td>\n",
       "      <td>Circassian</td>\n",
       "      <td>Circassian</td>\n",
       "      <td>adyg1241</td>\n",
       "      <td>Abkhaz-Adyge</td>\n",
       "      <td>abkh1242</td>\n",
       "      <td>Eurasia</td>\n",
       "      <td>1</td>\n",
       "    </tr>\n",
       "  </tbody>\n",
       "</table>\n",
       "</div>"
      ],
      "text/plain": [
       "            parent     name     level  hid iso639_3   latitude   longitude   \n",
       "id                                                                           \n",
       "abin1243       NaN  Abinomn  language  bsa      bsa  -2.922810  138.891000  \\\n",
       "abis1238       NaN     Aewa  language  ash      ash  -1.284096  -75.084405   \n",
       "abaz1241  abkh1243    Abaza  language  abq      abq  44.250000   42.000000   \n",
       "abkh1244  abkh1243   Abkhaz  language  abk      abk  43.056218   41.159115   \n",
       "adyg1241  circ1239   Adyghe  language  ady      ady  44.000000   39.330000   \n",
       "\n",
       "                 macroareas   \n",
       "id                            \n",
       "abin1243      ['Papunesia']  \\\n",
       "abis1238  ['South America']   \n",
       "abaz1241        ['Eurasia']   \n",
       "abkh1244        ['Eurasia']   \n",
       "adyg1241        ['Eurasia']   \n",
       "\n",
       "                                                  countries timespan   \n",
       "id                                                                     \n",
       "abin1243                                      ['Indonesia']      NaN  \\\n",
       "abis1238                                           ['Peru']      NaN   \n",
       "abaz1241                   ['Russian Federation', 'Turkey']      NaN   \n",
       "abkh1244        ['Georgia', 'Russian Federation', 'Turkey']      NaN   \n",
       "adyg1241  ['Israel', 'Jordan', 'Russian Federation', 'Sy...      NaN   \n",
       "\n",
       "                branch   parent_name      id.1        family family_id   \n",
       "id                                                                       \n",
       "abin1243           NaN           NaN  abin1243           NaN       NaN  \\\n",
       "abis1238           NaN           NaN  abis1238           NaN       NaN   \n",
       "abaz1241  Abkhaz-Abaza  Abkhaz-Abaza  abaz1241  Abkhaz-Adyge  abkh1242   \n",
       "abkh1244  Abkhaz-Abaza  Abkhaz-Abaza  abkh1244  Abkhaz-Adyge  abkh1242   \n",
       "adyg1241    Circassian    Circassian  adyg1241  Abkhaz-Adyge  abkh1242   \n",
       "\n",
       "              macroarea  nr_macroarea  \n",
       "id                                     \n",
       "abin1243      Papunesia             1  \n",
       "abis1238  South America             1  \n",
       "abaz1241        Eurasia             1  \n",
       "abkh1244        Eurasia             1  \n",
       "adyg1241        Eurasia             1  "
      ]
     },
     "execution_count": 30,
     "metadata": {},
     "output_type": "execute_result"
    }
   ],
   "source": [
    "dflang.head()"
   ]
  },
  {
   "cell_type": "code",
   "execution_count": 27,
   "id": "dffd73ee-d517-4fd5-9f1f-5b7b73455c1f",
   "metadata": {},
   "outputs": [],
   "source": [
    "dflang.dropna(subset=[\"latitude\", \"longitude\"], inplace=True)"
   ]
  },
  {
   "cell_type": "code",
   "execution_count": 28,
   "id": "e96494db-ae3a-4810-9d8b-710c3e1a625e",
   "metadata": {},
   "outputs": [],
   "source": [
    "coords = {lang:(lat, long) for (lang, lat,long) in zip(dflang.index,dflang[\"latitude\"], dflang[\"longitude\"])}"
   ]
  },
  {
   "cell_type": "code",
   "execution_count": 29,
   "id": "eba071b4-ca47-4822-93cf-af5114a10961",
   "metadata": {},
   "outputs": [
    {
     "data": {
      "text/plain": [
       "8763"
      ]
     },
     "execution_count": 29,
     "metadata": {},
     "output_type": "execute_result"
    }
   ],
   "source": [
    "len(coords)"
   ]
  },
  {
   "cell_type": "code",
   "execution_count": 36,
   "id": "9e8d7f2a-5d62-4b9d-a31b-a0077dca6ab1",
   "metadata": {},
   "outputs": [
    {
     "data": {
      "text/plain": [
       "8763"
      ]
     },
     "execution_count": 36,
     "metadata": {},
     "output_type": "execute_result"
    }
   ],
   "source": [
    "langs = list(coords.keys())\n",
    "len(langs)"
   ]
  },
  {
   "cell_type": "code",
   "execution_count": 42,
   "id": "3778f112-2bba-446a-bc3c-b9d71b1994ad",
   "metadata": {},
   "outputs": [],
   "source": [
    "interlangs = set(langs).intersection(all_langs)"
   ]
  },
  {
   "cell_type": "code",
   "execution_count": 43,
   "id": "d461f134-bb08-4e3c-b1a3-5f30ca2add06",
   "metadata": {},
   "outputs": [
    {
     "data": {
      "text/plain": [
       "2554"
      ]
     },
     "execution_count": 43,
     "metadata": {},
     "output_type": "execute_result"
    }
   ],
   "source": [
    "len(interlangs)"
   ]
  },
  {
   "cell_type": "code",
   "execution_count": 44,
   "id": "68f2f6a1-27e9-4f40-9e34-8aa09e9f6355",
   "metadata": {},
   "outputs": [],
   "source": [
    "combs = product(interlangs, interlangs, repeat=1)"
   ]
  },
  {
   "cell_type": "code",
   "execution_count": 38,
   "id": "04e35715-29b9-4248-b4bf-763b814fc836",
   "metadata": {
    "scrolled": true
   },
   "outputs": [
    {
     "data": {
      "text/plain": [
       "38"
      ]
     },
     "execution_count": 38,
     "metadata": {},
     "output_type": "execute_result"
    }
   ],
   "source": [
    "writer = open(\"../data/stage1/lang2lang_coords.csv\",\"w+\")\n",
    "writer.write(\"Glottocode1\\tCoord1\\tGlottocode2\\tCoord2\\n\")"
   ]
  },
  {
   "cell_type": "code",
   "execution_count": 45,
   "id": "5edec22f-9b80-45e7-ba51-db3de90dc890",
   "metadata": {
    "scrolled": true
   },
   "outputs": [
    {
     "name": "stderr",
     "output_type": "stream",
     "text": [
      "100%|█████████████████████████████| 6522916/6522916 [00:14<00:00, 454162.14it/s]\n"
     ]
    }
   ],
   "source": [
    "\n",
    "for lang2lang in tqdm(list(combs)):\n",
    "    lang1, lang2= lang2lang\n",
    "    # print(lang1,lang2)\n",
    "    coord1 = coords[lang1]\n",
    "    coord2= coords[lang2]\n",
    "    writer.write((f\"{lang1}\\t{coord1}\\t{lang2}\\t{coord2}\\n\"))"
   ]
  },
  {
   "cell_type": "markdown",
   "id": "b7ae9d14-19cd-49c6-8239-1e0cf7dc1313",
   "metadata": {},
   "source": [
    "# Step2: calculate lang2lang distance parallelly"
   ]
  },
  {
   "cell_type": "code",
   "execution_count": 47,
   "id": "af1e292f-2f14-49e4-aa58-f71e68e609a4",
   "metadata": {},
   "outputs": [],
   "source": [
    "from ast import literal_eval"
   ]
  },
  {
   "cell_type": "code",
   "execution_count": 48,
   "id": "129ced6f-d4fb-4552-8c07-3d7940c054f9",
   "metadata": {},
   "outputs": [],
   "source": [
    "def geodesic_dist(coord1, coord2):\n",
    "    return geopy.distance.geodesic(coord1,coord2).km"
   ]
  },
  {
   "cell_type": "code",
   "execution_count": 49,
   "id": "05860a2f-0a07-4cae-ba93-e127096c006a",
   "metadata": {},
   "outputs": [],
   "source": [
    "df = pd.read_csv(\"../data/stage1/lang2lang_coords.csv\", sep=\"\\t\")"
   ]
  },
  {
   "cell_type": "code",
   "execution_count": 51,
   "id": "3ef0fc76-eeac-4f45-9cb4-02faf0e785be",
   "metadata": {},
   "outputs": [
    {
     "data": {
      "text/plain": [
       "6522896"
      ]
     },
     "execution_count": 51,
     "metadata": {},
     "output_type": "execute_result"
    }
   ],
   "source": [
    "len(df)"
   ]
  },
  {
   "cell_type": "code",
   "execution_count": 50,
   "id": "5741b3b1-75fd-4b70-a599-7cc67d5cbd29",
   "metadata": {
    "scrolled": true
   },
   "outputs": [
    {
     "data": {
      "text/html": [
       "<div>\n",
       "<style scoped>\n",
       "    .dataframe tbody tr th:only-of-type {\n",
       "        vertical-align: middle;\n",
       "    }\n",
       "\n",
       "    .dataframe tbody tr th {\n",
       "        vertical-align: top;\n",
       "    }\n",
       "\n",
       "    .dataframe thead th {\n",
       "        text-align: right;\n",
       "    }\n",
       "</style>\n",
       "<table border=\"1\" class=\"dataframe\">\n",
       "  <thead>\n",
       "    <tr style=\"text-align: right;\">\n",
       "      <th></th>\n",
       "      <th>Glottocode1</th>\n",
       "      <th>Coord1</th>\n",
       "      <th>Glottocode2</th>\n",
       "      <th>Coord2</th>\n",
       "    </tr>\n",
       "  </thead>\n",
       "  <tbody>\n",
       "    <tr>\n",
       "      <th>0</th>\n",
       "      <td>mawa1267</td>\n",
       "      <td>(-5.2219, 145.589)</td>\n",
       "      <td>mawa1267</td>\n",
       "      <td>(-5.2219, 145.589)</td>\n",
       "    </tr>\n",
       "    <tr>\n",
       "      <th>1</th>\n",
       "      <td>mawa1267</td>\n",
       "      <td>(-5.2219, 145.589)</td>\n",
       "      <td>paic1239</td>\n",
       "      <td>(-21.096, 165.15)</td>\n",
       "    </tr>\n",
       "    <tr>\n",
       "      <th>2</th>\n",
       "      <td>mawa1267</td>\n",
       "      <td>(-5.2219, 145.589)</td>\n",
       "      <td>west2650</td>\n",
       "      <td>(12.4771, 104.026)</td>\n",
       "    </tr>\n",
       "    <tr>\n",
       "      <th>3</th>\n",
       "      <td>mawa1267</td>\n",
       "      <td>(-5.2219, 145.589)</td>\n",
       "      <td>anja1238</td>\n",
       "      <td>(-5.45899, 145.717)</td>\n",
       "    </tr>\n",
       "    <tr>\n",
       "      <th>4</th>\n",
       "      <td>mawa1267</td>\n",
       "      <td>(-5.2219, 145.589)</td>\n",
       "      <td>hanu1241</td>\n",
       "      <td>(12.4159, 121.221)</td>\n",
       "    </tr>\n",
       "    <tr>\n",
       "      <th>...</th>\n",
       "      <td>...</td>\n",
       "      <td>...</td>\n",
       "      <td>...</td>\n",
       "      <td>...</td>\n",
       "    </tr>\n",
       "    <tr>\n",
       "      <th>6522891</th>\n",
       "      <td>lauu1247</td>\n",
       "      <td>(-8.51018, 160.872)</td>\n",
       "      <td>cune1239</td>\n",
       "      <td>(38.0, 36.0)</td>\n",
       "    </tr>\n",
       "    <tr>\n",
       "      <th>6522892</th>\n",
       "      <td>lauu1247</td>\n",
       "      <td>(-8.51018, 160.872)</td>\n",
       "      <td>pany1241</td>\n",
       "      <td>(-22.7816, 118.723)</td>\n",
       "    </tr>\n",
       "    <tr>\n",
       "      <th>6522893</th>\n",
       "      <td>lauu1247</td>\n",
       "      <td>(-8.51018, 160.872)</td>\n",
       "      <td>bara1380</td>\n",
       "      <td>(0.02193, -70.808)</td>\n",
       "    </tr>\n",
       "    <tr>\n",
       "      <th>6522894</th>\n",
       "      <td>lauu1247</td>\n",
       "      <td>(-8.51018, 160.872)</td>\n",
       "      <td>cayu1262</td>\n",
       "      <td>(-13.2482, -65.4822)</td>\n",
       "    </tr>\n",
       "    <tr>\n",
       "      <th>6522895</th>\n",
       "      <td>lauu1247</td>\n",
       "      <td>(-8.51018, 160.872)</td>\n",
       "      <td>maly1234</td>\n",
       "      <td>(-29.43, 142.0)</td>\n",
       "    </tr>\n",
       "  </tbody>\n",
       "</table>\n",
       "<p>6522896 rows × 4 columns</p>\n",
       "</div>"
      ],
      "text/plain": [
       "        Glottocode1               Coord1 Glottocode2                Coord2\n",
       "0          mawa1267   (-5.2219, 145.589)    mawa1267    (-5.2219, 145.589)\n",
       "1          mawa1267   (-5.2219, 145.589)    paic1239     (-21.096, 165.15)\n",
       "2          mawa1267   (-5.2219, 145.589)    west2650    (12.4771, 104.026)\n",
       "3          mawa1267   (-5.2219, 145.589)    anja1238   (-5.45899, 145.717)\n",
       "4          mawa1267   (-5.2219, 145.589)    hanu1241    (12.4159, 121.221)\n",
       "...             ...                  ...         ...                   ...\n",
       "6522891    lauu1247  (-8.51018, 160.872)    cune1239          (38.0, 36.0)\n",
       "6522892    lauu1247  (-8.51018, 160.872)    pany1241   (-22.7816, 118.723)\n",
       "6522893    lauu1247  (-8.51018, 160.872)    bara1380    (0.02193, -70.808)\n",
       "6522894    lauu1247  (-8.51018, 160.872)    cayu1262  (-13.2482, -65.4822)\n",
       "6522895    lauu1247  (-8.51018, 160.872)    maly1234       (-29.43, 142.0)\n",
       "\n",
       "[6522896 rows x 4 columns]"
      ]
     },
     "execution_count": 50,
     "metadata": {},
     "output_type": "execute_result"
    }
   ],
   "source": [
    "df"
   ]
  },
  {
   "cell_type": "code",
   "execution_count": 52,
   "id": "d9963234-a74f-4c1a-98b6-5efe594ea5eb",
   "metadata": {},
   "outputs": [
    {
     "data": {
      "application/vnd.jupyter.widget-view+json": {
       "model_id": "82664f70c4f846a8973cd5cba46aacd9",
       "version_major": 2,
       "version_minor": 0
      },
      "text/plain": [
       "VBox(children=(HBox(children=(IntProgress(value=0, description='0.00%', max=652290), Label(value='0 / 652290')…"
      ]
     },
     "metadata": {},
     "output_type": "display_data"
    },
    {
     "data": {
      "application/vnd.jupyter.widget-view+json": {
       "model_id": "12fbc92e92f74aefac239920d4175d7e",
       "version_major": 2,
       "version_minor": 0
      },
      "text/plain": [
       "VBox(children=(HBox(children=(IntProgress(value=0, description='0.00%', max=652290), Label(value='0 / 652290')…"
      ]
     },
     "metadata": {},
     "output_type": "display_data"
    }
   ],
   "source": [
    "df[\"Coord1\"]=df[\"Coord1\"].parallel_apply(literal_eval)\n",
    "df[\"Coord2\"]=df[\"Coord2\"].parallel_apply(literal_eval)"
   ]
  },
  {
   "cell_type": "code",
   "execution_count": 53,
   "id": "ebc3b3cb-46bb-47b7-8a0e-09442cef5d86",
   "metadata": {},
   "outputs": [
    {
     "data": {
      "text/plain": [
       "(-5.2219, 145.589)"
      ]
     },
     "execution_count": 53,
     "metadata": {},
     "output_type": "execute_result"
    }
   ],
   "source": [
    "df[\"Coord1\"].tolist()[0]"
   ]
  },
  {
   "cell_type": "code",
   "execution_count": 54,
   "id": "36c147e4-663e-4c5d-924e-88893fbe2c2c",
   "metadata": {
    "scrolled": true
   },
   "outputs": [
    {
     "data": {
      "application/vnd.jupyter.widget-view+json": {
       "model_id": "314bcc0574344f5d95f52fa8336efc75",
       "version_major": 2,
       "version_minor": 0
      },
      "text/plain": [
       "VBox(children=(HBox(children=(IntProgress(value=0, description='0.00%', max=652290), Label(value='0 / 652290')…"
      ]
     },
     "metadata": {},
     "output_type": "display_data"
    }
   ],
   "source": [
    "df[\"GeodesicDist\"]=df[[\"Coord1\", \"Coord2\"]].parallel_apply(lambda x: geodesic_dist(*x), axis=1)"
   ]
  },
  {
   "cell_type": "code",
   "execution_count": 55,
   "id": "8499e0af-d831-4a37-8bb7-ed607d2d16ff",
   "metadata": {},
   "outputs": [],
   "source": [
    "df.to_csv(\"../data/stage1/lang2lang_geodesic.csv\", index=False)"
   ]
  },
  {
   "cell_type": "code",
   "execution_count": null,
   "id": "452b0c4a-7a03-461c-bdc1-3ab4fe2d2f55",
   "metadata": {},
   "outputs": [],
   "source": []
  },
  {
   "cell_type": "markdown",
   "id": "19dd9100-5d38-4064-9aeb-811526b257de",
   "metadata": {},
   "source": [
    "# Step3: get language contact distance"
   ]
  },
  {
   "cell_type": "code",
   "execution_count": 56,
   "id": "c26a454c-c903-4c4f-83bc-9d550a7e0a9e",
   "metadata": {},
   "outputs": [],
   "source": [
    "import json\n",
    "import os\n",
    "from collections import defaultdict"
   ]
  },
  {
   "cell_type": "code",
   "execution_count": 57,
   "id": "3237c736-1ad7-4010-85c7-1458cc1e3feb",
   "metadata": {},
   "outputs": [],
   "source": [
    "lang2lang_dict = dict(zip(zip(df[\"Glottocode1\"],df[\"Glottocode2\"]), df[\"GeodesicDist\"]))"
   ]
  },
  {
   "cell_type": "code",
   "execution_count": 58,
   "id": "e885d0cf-dfee-48c4-9c32-8dbf8f7c2a95",
   "metadata": {},
   "outputs": [],
   "source": [
    "lang2lang_dict_sorted={tuple(sorted(x)):y for x,y in lang2lang_dict.items()}"
   ]
  },
  {
   "cell_type": "code",
   "execution_count": 62,
   "id": "1e410ad4-5204-458b-8af5-9660a62200e7",
   "metadata": {
    "scrolled": true
   },
   "outputs": [
    {
     "data": {
      "text/plain": [
       "3262734"
      ]
     },
     "execution_count": 62,
     "metadata": {},
     "output_type": "execute_result"
    }
   ],
   "source": [
    "len(lang2lang_dict_sorted)"
   ]
  },
  {
   "cell_type": "code",
   "execution_count": null,
   "id": "7b397677-b6d5-4137-88fa-262b554c0221",
   "metadata": {},
   "outputs": [],
   "source": []
  },
  {
   "cell_type": "code",
   "execution_count": 68,
   "id": "781bac55-a0cd-479f-a0cb-fd1119b882ac",
   "metadata": {},
   "outputs": [],
   "source": [
    "output_folder=\"../data/stage1/language_contacts_nr1\"\n",
    "os.makedirs(output_folder)"
   ]
  },
  {
   "cell_type": "code",
   "execution_count": 100,
   "id": "2a07a8c3-576b-4f60-a55f-52d77eb0b6eb",
   "metadata": {},
   "outputs": [],
   "source": [
    "def get_lang2lang_contacts(tgt_lang, worklangs=list(interlangs), lang2lang_dict=lang2lang_dict_sorted):\n",
    "    outputfile = f\"{output_folder}/{tgt_lang}.json\"\n",
    "    if not os.path.exists(outputfile):\n",
    "        in_dryer2018=defaultdict(dict)\n",
    "        in_dryer2018[tgt_lang]=dict()\n",
    "        possible_langs= [x for x in worklangs if x!=tgt_lang]\n",
    "        for z in possible_langs:\n",
    "            between_count=0\n",
    "            y = tgt_lang\n",
    "            for x in worklangs:\n",
    "                try:\n",
    "                    x_y = tuple(sorted([x,y]))\n",
    "                    x_z = tuple(sorted([x,z]))\n",
    "                    y_z = tuple(sorted([y,z]))\n",
    "                    dist_x_y = lang2lang_dict[x_y]\n",
    "                    dist_x_z = lang2lang_dict[x_z]\n",
    "                    dist_y_z = lang2lang_dict[y_z]\n",
    "            \n",
    "                    if dist_x_y < dist_y_z and dist_x_z <dist_y_z:\n",
    "                        between_count+=1\n",
    "                except Exception: \n",
    "                    print(x,y,z)\n",
    "                    continue\n",
    "            in_dryer2018[tgt_lang][z]= between_count\n",
    "        with open(outputfile, \"w+\") as f:\n",
    "            json.dump(in_dryer2018, f)\n",
    "    # return in_dryer2018\n",
    "    "
   ]
  },
  {
   "cell_type": "code",
   "execution_count": null,
   "id": "5e253800-b9bb-4085-8f8d-3189764c1da0",
   "metadata": {
    "scrolled": true
   },
   "outputs": [],
   "source": [
    "for lang in tqdm(interlangs):\n",
    "    get_lang2lang_contacts(lang, interlangs, lang2lang_dict_sorted)"
   ]
  },
  {
   "cell_type": "code",
   "execution_count": 77,
   "id": "1e3e6345-2450-493a-bc1b-14716ae0e08e",
   "metadata": {},
   "outputs": [],
   "source": [
    "from joblib import Parallel, delayed\n"
   ]
  },
  {
   "cell_type": "code",
   "execution_count": 78,
   "id": "dc4979f5-78b1-453d-8950-2fddf871817b",
   "metadata": {},
   "outputs": [
    {
     "data": {
      "text/plain": [
       "62.81559433760269"
      ]
     },
     "execution_count": 78,
     "metadata": {},
     "output_type": "execute_result"
    }
   ],
   "source": [
    "lang2lang_dict_sorted[(\"abau1245\", \"pyuu1245\")]"
   ]
  },
  {
   "cell_type": "code",
   "execution_count": null,
   "id": "e96980b2-f7bb-4727-81f5-dd7a55a8c98b",
   "metadata": {},
   "outputs": [],
   "source": []
  },
  {
   "cell_type": "code",
   "execution_count": 83,
   "id": "751e1033-030d-4999-bf03-834ba93fd8ee",
   "metadata": {},
   "outputs": [
    {
     "data": {
      "text/plain": [
       "2240.936976501583"
      ]
     },
     "execution_count": 83,
     "metadata": {},
     "output_type": "execute_result"
    }
   ],
   "source": [
    "lang2lang_dict_sorted[(\"lauu1247\", \"pyuu1245\")]"
   ]
  },
  {
   "cell_type": "code",
   "execution_count": 91,
   "id": "8086e0f8-60d6-4052-acb3-cf239799e050",
   "metadata": {},
   "outputs": [
    {
     "data": {
      "text/plain": [
       "2554"
      ]
     },
     "execution_count": 91,
     "metadata": {},
     "output_type": "execute_result"
    }
   ],
   "source": [
    "len(interlangs)"
   ]
  },
  {
   "cell_type": "code",
   "execution_count": 93,
   "id": "cf7a6d8b-2a92-4cbc-9cbb-2ca4bc9559a1",
   "metadata": {},
   "outputs": [
    {
     "data": {
      "text/plain": [
       "True"
      ]
     },
     "execution_count": 93,
     "metadata": {},
     "output_type": "execute_result"
    }
   ],
   "source": [
    "\"lauu1247\"==\"lauu1247\" "
   ]
  },
  {
   "cell_type": "code",
   "execution_count": 103,
   "id": "1baf46cc-db94-4448-a9cf-8ca833fd3f84",
   "metadata": {
    "scrolled": true
   },
   "outputs": [
    {
     "name": "stderr",
     "output_type": "stream",
     "text": [
      "\n",
      "\n",
      "\n",
      "\n",
      "\n",
      "\n",
      "\n",
      "\n",
      "  0%|                                                  | 0/2554 [00:00<?, ?it/s]\u001B[A\u001B[A\u001B[A\u001B[A\u001B[A\u001B[A\u001B[A\u001B[A\n",
      "\n",
      "\n",
      "\n",
      "\n",
      "\n",
      "\n",
      "\n",
      "  0%|▏                                        | 10/2554 [00:01<05:29,  7.71it/s]\u001B[A\u001B[A\u001B[A\u001B[A\u001B[A\u001B[A\u001B[A\u001B[A\n",
      "\n",
      "\n",
      "\n",
      "\n",
      "\n",
      "\n",
      "\n",
      "  1%|▎                                        | 20/2554 [00:02<04:46,  8.85it/s]\u001B[A\u001B[A\u001B[A\u001B[A\u001B[A\u001B[A\u001B[A\u001B[A\n",
      "\n",
      "\n",
      "\n",
      "\n",
      "\n",
      "\n",
      "\n",
      "  1%|▍                                        | 30/2554 [00:12<22:35,  1.86it/s]\u001B[A\u001B[A\u001B[A\u001B[A\u001B[A\u001B[A\u001B[A\u001B[A\n",
      "\n",
      "\n",
      "\n",
      "\n",
      "\n",
      "\n",
      "\n",
      "  2%|▋                                        | 40/2554 [00:21<28:02,  1.49it/s]\u001B[A\u001B[A\u001B[A\u001B[A\u001B[A\u001B[A\u001B[A\u001B[A\n",
      "\n",
      "\n",
      "\n",
      "\n",
      "\n",
      "\n",
      "\n",
      "  2%|▊                                        | 50/2554 [00:31<33:31,  1.25it/s]\u001B[A\u001B[A\u001B[A\u001B[A\u001B[A\u001B[A\u001B[A\u001B[A\n",
      "\n",
      "\n",
      "\n",
      "\n",
      "\n",
      "\n",
      "\n",
      "  2%|▉                                        | 60/2554 [00:42<36:23,  1.14it/s]\u001B[A\u001B[A\u001B[A\u001B[A\u001B[A\u001B[A\u001B[A\u001B[A\n",
      "\n",
      "\n",
      "\n",
      "\n",
      "\n",
      "\n",
      "\n",
      "  3%|█                                        | 70/2554 [00:51<37:31,  1.10it/s]\u001B[A\u001B[A\u001B[A\u001B[A\u001B[A\u001B[A\u001B[A\u001B[A\n",
      "\n",
      "\n",
      "\n",
      "\n",
      "\n",
      "\n",
      "\n",
      "  3%|█▎                                       | 80/2554 [01:01<38:24,  1.07it/s]\u001B[A\u001B[A\u001B[A\u001B[A\u001B[A\u001B[A\u001B[A\u001B[A\n",
      "\n",
      "\n",
      "\n",
      "\n",
      "\n",
      "\n",
      "\n",
      "  4%|█▍                                       | 90/2554 [01:11<39:19,  1.04it/s]\u001B[A\u001B[A\u001B[A\u001B[A\u001B[A\u001B[A\u001B[A\u001B[A\n",
      "\n",
      "\n",
      "\n",
      "\n",
      "\n",
      "\n",
      "\n",
      "  4%|█▌                                      | 100/2554 [01:22<40:19,  1.01it/s]\u001B[A\u001B[A\u001B[A\u001B[A\u001B[A\u001B[A\u001B[A\u001B[A\n",
      "\n",
      "\n",
      "\n",
      "\n",
      "\n",
      "\n",
      "\n",
      "  4%|█▋                                      | 110/2554 [01:32<40:35,  1.00it/s]\u001B[A\u001B[A\u001B[A\u001B[A\u001B[A\u001B[A\u001B[A\u001B[A\n",
      "\n",
      "\n",
      "\n",
      "\n",
      "\n",
      "\n",
      "\n",
      "  5%|█▉                                      | 120/2554 [01:42<41:06,  1.01s/it]\u001B[A\u001B[A\u001B[A\u001B[A\u001B[A\u001B[A\u001B[A\u001B[A\n",
      "\n",
      "\n",
      "\n",
      "\n",
      "\n",
      "\n",
      "\n",
      "  5%|██                                      | 130/2554 [01:52<40:46,  1.01s/it]\u001B[A\u001B[A\u001B[A\u001B[A\u001B[A\u001B[A\u001B[A\u001B[A\n",
      "\n",
      "\n",
      "\n",
      "\n",
      "\n",
      "\n",
      "\n",
      "  5%|██▏                                     | 140/2554 [02:03<40:40,  1.01s/it]\u001B[A\u001B[A\u001B[A\u001B[A\u001B[A\u001B[A\u001B[A\u001B[A\n",
      "\n",
      "\n",
      "\n",
      "\n",
      "\n",
      "\n",
      "\n",
      "  6%|██▎                                     | 150/2554 [02:13<40:52,  1.02s/it]\u001B[A\u001B[A\u001B[A\u001B[A\u001B[A\u001B[A\u001B[A\u001B[A\n",
      "\n",
      "\n",
      "\n",
      "\n",
      "\n",
      "\n",
      "\n",
      "  6%|██▌                                     | 160/2554 [02:24<42:10,  1.06s/it]\u001B[A\u001B[A\u001B[A\u001B[A\u001B[A\u001B[A\u001B[A\u001B[A\n",
      "\n",
      "\n",
      "\n",
      "\n",
      "\n",
      "\n",
      "\n",
      "  7%|██▋                                     | 170/2554 [02:33<39:57,  1.01s/it]\u001B[A\u001B[A\u001B[A\u001B[A\u001B[A\u001B[A\u001B[A\u001B[A\n",
      "\n",
      "\n",
      "\n",
      "\n",
      "\n",
      "\n",
      "\n",
      "  7%|██▊                                     | 180/2554 [02:43<39:32,  1.00it/s]\u001B[A\u001B[A\u001B[A\u001B[A\u001B[A\u001B[A\u001B[A\u001B[A\n",
      "\n",
      "\n",
      "\n",
      "\n",
      "\n",
      "\n",
      "\n",
      "  7%|██▉                                     | 190/2554 [02:53<39:34,  1.00s/it]\u001B[A\u001B[A\u001B[A\u001B[A\u001B[A\u001B[A\u001B[A\u001B[A\n",
      "\n",
      "\n",
      "\n",
      "\n",
      "\n",
      "\n",
      "\n",
      "  8%|███▏                                    | 200/2554 [03:03<39:16,  1.00s/it]\u001B[A\u001B[A\u001B[A\u001B[A\u001B[A\u001B[A\u001B[A\u001B[A\n",
      "\n",
      "\n",
      "\n",
      "\n",
      "\n",
      "\n",
      "\n",
      "  8%|███▎                                    | 210/2554 [03:13<39:01,  1.00it/s]\u001B[A\u001B[A\u001B[A\u001B[A\u001B[A\u001B[A\u001B[A\u001B[A\n",
      "\n",
      "\n",
      "\n",
      "\n",
      "\n",
      "\n",
      "\n",
      "  9%|███▍                                    | 220/2554 [03:23<38:50,  1.00it/s]\u001B[A\u001B[A\u001B[A\u001B[A\u001B[A\u001B[A\u001B[A\u001B[A"
     ]
    },
    {
     "name": "stdout",
     "output_type": "stream",
     "text": [
      "lauu1247 gorr1238 lauu1247\n",
      "lauu1247 ngar1296 lauu1247\n",
      "lauu1247 oroh1237 lauu1247\n"
     ]
    },
    {
     "name": "stderr",
     "output_type": "stream",
     "text": [
      "\n",
      "\n",
      "\n",
      "\n",
      "\n",
      "\n",
      "\n",
      "\n",
      "  9%|███▌                                    | 230/2554 [03:45<52:23,  1.35s/it]\u001B[A\u001B[A\u001B[A\u001B[A\u001B[A\u001B[A\u001B[A\u001B[A"
     ]
    },
    {
     "name": "stdout",
     "output_type": "stream",
     "text": [
      "lauu1247 gudu1252 lauu1247\n",
      "lauu1247 qaua1234 lauu1247\n",
      "lauu1247 sene1263 lauu1247\n",
      "lauu1247 cent2142 lauu1247\n",
      "lauu1247 moss1236 lauu1247\n",
      "lauu1247 waya1269 lauu1247\n"
     ]
    },
    {
     "name": "stderr",
     "output_type": "stream",
     "text": [
      "\n",
      "\n",
      "\n",
      "\n",
      "\n",
      "\n",
      "\n",
      "\n",
      "  9%|███▊                                    | 240/2554 [03:59<53:20,  1.38s/it]\u001B[A\u001B[A\u001B[A\u001B[A\u001B[A\u001B[A\u001B[A\u001B[A"
     ]
    },
    {
     "name": "stdout",
     "output_type": "stream",
     "text": [
      "lauu1247 yidi1250 lauu1247\n",
      "lauu1247 usar1243 lauu1247\n"
     ]
    },
    {
     "name": "stderr",
     "output_type": "stream",
     "text": [
      "\n",
      "\n",
      "\n",
      "\n",
      "\n",
      "\n",
      "\n",
      "\n",
      " 10%|███▉                                    | 250/2554 [04:14<53:22,  1.39s/it]\u001B[A\u001B[A\u001B[A\u001B[A\u001B[A\u001B[A\u001B[A\u001B[A"
     ]
    },
    {
     "name": "stdout",
     "output_type": "stream",
     "text": [
      "lauu1247 taup1242 lauu1247\n",
      "lauu1247 west2615 lauu1247\n",
      "lauu1247 latv1249 lauu1247\n",
      "lauu1247 boli1256 lauu1247\n",
      "lauu1247 mala1522 lauu1247\n",
      "lauu1247 guri1247 lauu1247\n",
      "lauu1247 agua1253 lauu1247\n",
      "lauu1247 nyat1246 lauu1247\n"
     ]
    },
    {
     "name": "stderr",
     "output_type": "stream",
     "text": [
      "\n",
      "\n",
      "\n",
      "\n",
      "\n",
      "\n",
      "\n",
      "\n",
      " 10%|████                                    | 260/2554 [04:28<53:44,  1.41s/it]\u001B[A\u001B[A\u001B[A\u001B[A\u001B[A\u001B[A\u001B[A\u001B[A"
     ]
    },
    {
     "name": "stdout",
     "output_type": "stream",
     "text": [
      "lauu1247 lemi1243 lauu1247\n",
      "lauu1247 edol1239 lauu1247\n",
      "lauu1247 moyo1238 lauu1247\n",
      "lauu1247 shix1238 lauu1247\n",
      "lauu1247 kana1286 lauu1247\n",
      "lauu1247 yami1256 lauu1247\n",
      "lauu1247 cajo1238 lauu1247\n",
      "lauu1247 abau1245 lauu1247\n",
      "lauu1247 sout2741 lauu1247\n",
      "lauu1247 psik1239 lauu1247\n",
      "lauu1247 samb1321 lauu1247\n"
     ]
    },
    {
     "name": "stderr",
     "output_type": "stream",
     "text": [
      "\n",
      "\n",
      "\n",
      "\n",
      "\n",
      "\n",
      "\n",
      "\n",
      " 11%|████▏                                   | 270/2554 [04:43<55:04,  1.45s/it]\u001B[A\u001B[A\u001B[A\u001B[A\u001B[A\u001B[A\u001B[A\u001B[A"
     ]
    },
    {
     "name": "stdout",
     "output_type": "stream",
     "text": [
      "lauu1247 gari1256 lauu1247\n",
      "lauu1247 dima1251 lauu1247\n",
      "lauu1247 quio1241 lauu1247\n",
      "lauu1247 russ1263 lauu1247\n",
      "lauu1247 ziaa1250 lauu1247\n",
      "lauu1247 naru1238 lauu1247\n",
      "lauu1247 komo1261 lauu1247\n",
      "lauu1247 kala1379 lauu1247\n",
      "lauu1247 bimi1240 lauu1247\n",
      "lauu1247 mama1271 lauu1247\n",
      "lauu1247 nort2958 lauu1247\n",
      "lauu1247 yira1239 lauu1247\n",
      "lauu1247 kube1244 lauu1247\n"
     ]
    },
    {
     "name": "stderr",
     "output_type": "stream",
     "text": [
      "\n",
      "\n",
      "\n",
      "\n",
      "\n",
      "\n",
      "\n",
      "\n",
      " 11%|████▍                                   | 280/2554 [04:58<54:35,  1.44s/it]\u001B[A\u001B[A\u001B[A\u001B[A\u001B[A\u001B[A\u001B[A\u001B[A"
     ]
    },
    {
     "name": "stdout",
     "output_type": "stream",
     "text": [
      "lauu1247 xico1235 lauu1247\n",
      "lauu1247 yuru1263 lauu1247\n",
      "lauu1247 tika1246 lauu1247\n"
     ]
    },
    {
     "name": "stderr",
     "output_type": "stream",
     "text": [
      "\n",
      "\n",
      "\n",
      "\n",
      "\n",
      "\n",
      "\n",
      "\n",
      " 11%|████▌                                   | 290/2554 [05:12<54:32,  1.45s/it]\u001B[A\u001B[A\u001B[A\u001B[A\u001B[A\u001B[A\u001B[A\u001B[A"
     ]
    },
    {
     "name": "stdout",
     "output_type": "stream",
     "text": [
      "lauu1247 duru1249 lauu1247\n",
      "lauu1247 kala1376 lauu1247\n",
      "lauu1247 kare1341 lauu1247\n",
      "lauu1247 cent2053 lauu1247\n",
      "lauu1247 gusi1247 lauu1247\n",
      "lauu1247 alam1246 lauu1247\n",
      "lauu1247 marw1256 lauu1247\n",
      "lauu1247 bana1292 lauu1247\n",
      "lauu1247 pamp1244 lauu1247\n",
      "lauu1247 yami1254 lauu1247\n",
      "lauu1247 rund1242 lauu1247\n",
      "lauu1247 chir1284 lauu1247\n"
     ]
    },
    {
     "name": "stderr",
     "output_type": "stream",
     "text": [
      "\n",
      "\n",
      "\n",
      "\n",
      "\n",
      "\n",
      "\n",
      "\n",
      " 12%|████▋                                   | 300/2554 [05:30<57:39,  1.53s/it]\u001B[A\u001B[A\u001B[A\u001B[A\u001B[A\u001B[A\u001B[A\u001B[A"
     ]
    },
    {
     "name": "stdout",
     "output_type": "stream",
     "text": [
      "lauu1247 pure1242 lauu1247\n",
      "lauu1247 muru1274 lauu1247\n",
      "lauu1247 pogo1243 lauu1247\n",
      "lauu1247 tetu1246 lauu1247\n",
      "lauu1247 yang1304 lauu1247\n"
     ]
    },
    {
     "name": "stderr",
     "output_type": "stream",
     "text": [
      "\n",
      "\n",
      "\n",
      "\n",
      "\n",
      "\n",
      "\n",
      "\n",
      " 12%|████▊                                   | 310/2554 [05:44<56:23,  1.51s/it]\u001B[A\u001B[A\u001B[A\u001B[A\u001B[A\u001B[A\u001B[A\u001B[A"
     ]
    },
    {
     "name": "stdout",
     "output_type": "stream",
     "text": [
      "lauu1247 bobo1254 lauu1247\n",
      "lauu1247 hani1248 lauu1247\n",
      "lauu1247 sisi1250 lauu1247\n",
      "lauu1247 swab1242 lauu1247\n",
      "lauu1247 sawa1247 lauu1247\n",
      "lauu1247 gofa1235 lauu1247\n",
      "lauu1247 baru1267 lauu1247\n",
      "lauu1247 bari1290 lauu1247\n",
      "lauu1247 teut1235 lauu1247\n"
     ]
    },
    {
     "name": "stderr",
     "output_type": "stream",
     "text": [
      "\n",
      "\n",
      "\n",
      "\n",
      "\n",
      "\n",
      "\n",
      "\n",
      " 13%|█████                                   | 320/2554 [06:00<56:35,  1.52s/it]\u001B[A\u001B[A\u001B[A\u001B[A\u001B[A\u001B[A\u001B[A\u001B[A"
     ]
    },
    {
     "name": "stdout",
     "output_type": "stream",
     "text": [
      "lauu1247 bopa1235 lauu1247\n",
      "lauu1247 even1259 lauu1247\n",
      "lauu1247 tung1293 lauu1247\n",
      "lauu1247 anut1237 lauu1247\n",
      "lauu1247 mong1338 lauu1247\n",
      "lauu1247 kala1377 lauu1247\n",
      "lauu1247 nucl1240 lauu1247\n",
      "lauu1247 nyam1276 lauu1247\n"
     ]
    },
    {
     "name": "stderr",
     "output_type": "stream",
     "text": [
      "\n",
      "\n",
      "\n",
      "\n",
      "\n",
      "\n",
      "\n",
      "\n",
      " 13%|█████▏                                  | 330/2554 [06:16<57:53,  1.56s/it]\u001B[A\u001B[A\u001B[A\u001B[A\u001B[A\u001B[A\u001B[A\u001B[A"
     ]
    },
    {
     "name": "stdout",
     "output_type": "stream",
     "text": [
      "lauu1247 west2450 lauu1247\n",
      "lauu1247 bisl1239 lauu1247\n",
      "lauu1247 yeii1239 lauu1247\n",
      "lauu1247 uten1234 lauu1247\n",
      "lauu1247 dong1286 lauu1247\n",
      "lauu1247 lote1237 lauu1247\n",
      "lauu1247 emab1235 lauu1247\n",
      "lauu1247 edop1238 lauu1247\n",
      "lauu1247 haus1257 lauu1247\n"
     ]
    },
    {
     "name": "stderr",
     "output_type": "stream",
     "text": [
      "\n",
      "\n",
      "\n",
      "\n",
      "\n",
      "\n",
      "\n",
      "\n",
      " 13%|█████▎                                  | 340/2554 [06:31<56:25,  1.53s/it]\u001B[A\u001B[A\u001B[A\u001B[A\u001B[A\u001B[A\u001B[A\u001B[A"
     ]
    },
    {
     "name": "stdout",
     "output_type": "stream",
     "text": [
      "lauu1247 gras1249 lauu1247\n",
      "lauu1247 ghod1238 lauu1247\n",
      "lauu1247 kara1465 lauu1247\n",
      "lauu1247 nopa1235 lauu1247\n",
      "lauu1247 mian1256 lauu1247\n",
      "lauu1247 faro1244 lauu1247\n",
      "lauu1247 tauy1241 lauu1247\n",
      "lauu1247 sout3051 lauu1247\n"
     ]
    },
    {
     "name": "stderr",
     "output_type": "stream",
     "text": [
      "\n",
      "\n",
      "\n",
      "\n",
      "\n",
      "\n",
      "\n",
      "\n",
      " 14%|█████▍                                  | 350/2554 [06:49<59:05,  1.61s/it]\u001B[A\u001B[A\u001B[A\u001B[A\u001B[A\u001B[A\u001B[A\u001B[A"
     ]
    },
    {
     "name": "stdout",
     "output_type": "stream",
     "text": [
      "lauu1247 ayor1240 lauu1247\n",
      "lauu1247 madh1244 lauu1247\n",
      "lauu1247 ipil1240 lauu1247\n",
      "lauu1247 sang1330 lauu1247\n",
      "lauu1247 alun1238 lauu1247\n",
      "lauu1247 taga1270 lauu1247\n",
      "lauu1247 yand1257 lauu1247\n",
      "lauu1247 midd1318 lauu1247\n",
      "lauu1247 kati1270 lauu1247\n",
      "lauu1247 shan1277 lauu1247\n",
      "lauu1247 mati1250 lauu1247\n",
      "lauu1247 toba1269 lauu1247\n",
      "lauu1247 dzon1239 lauu1247\n",
      "lauu1247 zigu1244 lauu1247\n",
      "lauu1247 kazu1245 lauu1247\n",
      "lauu1247 hmon1264 lauu1247\n",
      "lauu1247 tata1258 lauu1247\n",
      "lauu1247 zuni1245 lauu1247\n",
      "lauu1247 koro1312 lauu1247\n",
      "lauu1247 tson1249 lauu1247\n",
      "lauu1247 gira1247 lauu1247\n",
      "lauu1247 daai1236 lauu1247\n"
     ]
    },
    {
     "name": "stderr",
     "output_type": "stream",
     "text": [
      "\n",
      "\n",
      "\n",
      "\n",
      "\n",
      "\n",
      "\n",
      "\n",
      " 14%|█████▋                                  | 360/2554 [07:04<57:46,  1.58s/it]\u001B[A\u001B[A\u001B[A\u001B[A\u001B[A\u001B[A\u001B[A\u001B[A"
     ]
    },
    {
     "name": "stdout",
     "output_type": "stream",
     "text": [
      "lauu1247 boly1239 lauu1247\n",
      "lauu1247 honi1244 lauu1247\n",
      "lauu1247 dhiv1236 lauu1247\n",
      "lauu1247 noga1249 lauu1247\n",
      "lauu1247 genn1243 lauu1247\n",
      "lauu1247 borg1235 lauu1247\n",
      "lauu1247 koor1239 lauu1247\n",
      "lauu1247 asha1243 lauu1247\n"
     ]
    },
    {
     "name": "stderr",
     "output_type": "stream",
     "text": [
      "\n",
      "\n",
      "\n",
      "\n",
      "\n",
      "\n",
      "\n",
      "\n",
      " 14%|█████▊                                  | 370/2554 [07:20<58:17,  1.60s/it]\u001B[A\u001B[A\u001B[A\u001B[A\u001B[A\u001B[A\u001B[A\u001B[A"
     ]
    },
    {
     "name": "stdout",
     "output_type": "stream",
     "text": [
      "lauu1247 kama1365 lauu1247\n",
      "lauu1247 biri1259 lauu1247\n",
      "lauu1247 doya1240 lauu1247\n",
      "lauu1247 cent2050 lauu1247\n",
      "lauu1247 rinc1236 lauu1247\n"
     ]
    },
    {
     "name": "stderr",
     "output_type": "stream",
     "text": [
      "\n",
      "\n",
      "\n",
      "\n",
      "\n",
      "\n",
      "\n",
      "\n",
      " 15%|█████▉                                  | 380/2554 [07:37<58:52,  1.62s/it]\u001B[A\u001B[A\u001B[A\u001B[A\u001B[A\u001B[A\u001B[A\u001B[A"
     ]
    },
    {
     "name": "stdout",
     "output_type": "stream",
     "text": [
      "lauu1247 lamp1243 lauu1247\n",
      "lauu1247 bauz1241 lauu1247\n",
      "lauu1247 kamb1297 lauu1247\n",
      "lauu1247 nyab1255 lauu1247\n",
      "lauu1247 temm1241 lauu1247\n",
      "lauu1247 lung1249 lauu1247\n",
      "lauu1247 hual1241 lauu1247\n",
      "lauu1247 kusa1251 lauu1247\n",
      "lauu1247 shua1257 lauu1247\n",
      "lauu1247 kana1288 lauu1247\n",
      "lauu1247 bogh1241 lauu1247\n",
      "lauu1247 nort2775 lauu1247\n",
      "lauu1247 kuku1273 lauu1247\n",
      "lauu1247 suii1243 lauu1247\n",
      "lauu1247 cofa1242 lauu1247\n",
      "lauu1247 kire1240 lauu1247\n",
      "lauu1247 mudb1240 lauu1247\n"
     ]
    },
    {
     "name": "stderr",
     "output_type": "stream",
     "text": [
      "\n",
      "\n",
      "\n",
      "\n",
      "\n",
      "\n",
      "\n",
      "\n",
      " 15%|██████                                  | 390/2554 [07:54<59:13,  1.64s/it]\u001B[A\u001B[A\u001B[A\u001B[A\u001B[A\u001B[A\u001B[A\u001B[A"
     ]
    },
    {
     "name": "stdout",
     "output_type": "stream",
     "text": [
      "lauu1247 sout2642 lauu1247\n",
      "lauu1247 molo1262 lauu1247\n",
      "lauu1247 sydn1236 lauu1247\n",
      "lauu1247 kond1303 lauu1247\n",
      "lauu1247 kwan1278 lauu1247\n",
      "lauu1247 kili1267 lauu1247\n",
      "lauu1247 guaj1255 lauu1247\n",
      "lauu1247 marg1254 lauu1247\n",
      "lauu1247 sumi1235 lauu1247\n",
      "lauu1247 biss1248 lauu1247\n"
     ]
    },
    {
     "name": "stderr",
     "output_type": "stream",
     "text": [
      "\n",
      "\n",
      "\n",
      "\n",
      "\n",
      "\n",
      "\n",
      "\n",
      " 16%|██████▎                                 | 400/2554 [08:10<58:31,  1.63s/it]\u001B[A\u001B[A\u001B[A\u001B[A\u001B[A\u001B[A\u001B[A\u001B[A\n",
      "\n",
      "\n",
      "\n",
      "\n",
      "\n",
      "\n",
      "\n",
      " 16%|██████▍                                 | 410/2554 [08:27<59:18,  1.66s/it]\u001B[A\u001B[A\u001B[A\u001B[A\u001B[A\u001B[A\u001B[A\u001B[A\n",
      "\n",
      "\n",
      "\n",
      "\n",
      "\n",
      "\n",
      "\n",
      " 16%|██████▌                                 | 420/2554 [08:41<55:39,  1.56s/it]\u001B[A\u001B[A\u001B[A\u001B[A\u001B[A\u001B[A\u001B[A\u001B[A"
     ]
    },
    {
     "name": "stdout",
     "output_type": "stream",
     "text": [
      "lauu1247 olda1245 lauu1247\n",
      "lauu1247 tani1255 lauu1247\n",
      "lauu1247 dako1258 lauu1247\n",
      "lauu1247 yalu1240 lauu1247\n",
      "lauu1247 awap1236 lauu1247\n",
      "lauu1247 thai1261 lauu1247\n",
      "lauu1247 bomu1247 lauu1247\n",
      "lauu1247 nabi1239 lauu1247\n",
      "lauu1247 djeo1235 lauu1247\n",
      "lauu1247 leng1259 lauu1247\n",
      "lauu1247 tete1251 lauu1247\n",
      "lauu1247 nucl1695 lauu1247\n",
      "lauu1247 bala1310 lauu1247\n",
      "lauu1247 nuji1238 lauu1247\n",
      "lauu1247 aruo1240 lauu1247\n",
      "lauu1247 dibi1240 lauu1247\n",
      "lauu1247 sout2941 lauu1247\n",
      "lauu1247 kuba1248 lauu1247\n",
      "lauu1247 gogo1263 lauu1247\n",
      "lauu1247 ghom1247 lauu1247\n",
      "lauu1247 sabu1255 lauu1247\n",
      "lauu1247 hueh1236 lauu1247\n",
      "lauu1247 baba1268 lauu1247\n"
     ]
    },
    {
     "name": "stderr",
     "output_type": "stream",
     "text": [
      "\n",
      "\n",
      "\n",
      "\n",
      "\n",
      "\n",
      "\n",
      "\n",
      " 17%|██████▋                                 | 430/2554 [08:57<56:06,  1.58s/it]\u001B[A\u001B[A\u001B[A\u001B[A\u001B[A\u001B[A\u001B[A\u001B[A"
     ]
    },
    {
     "name": "stdout",
     "output_type": "stream",
     "text": [
      "lauu1247 cent2134 lauu1247\n",
      "lauu1247 nang1261 lauu1247\n",
      "lauu1247 kuco1235 lauu1247\n",
      "lauu1247 murr1258 lauu1247\n",
      "lauu1247 rawa1267 lauu1247\n",
      "lauu1247 sout1528 lauu1247\n",
      "lauu1247 sout2723 lauu1247\n",
      "lauu1247 gall1278 lauu1247\n",
      "lauu1247 djam1256 lauu1247\n",
      "lauu1247 youl1235 lauu1247\n",
      "lauu1247 koya1251 lauu1247\n"
     ]
    },
    {
     "name": "stderr",
     "output_type": "stream",
     "text": [
      "\n",
      "\n",
      "\n",
      "\n",
      "\n",
      "\n",
      "\n",
      "\n",
      " 17%|██████▉                                 | 440/2554 [09:14<56:59,  1.62s/it]\u001B[A\u001B[A\u001B[A\u001B[A\u001B[A\u001B[A\u001B[A\u001B[A"
     ]
    },
    {
     "name": "stdout",
     "output_type": "stream",
     "text": [
      "lauu1247 gheg1238 lauu1247\n",
      "lauu1247 muss1246 lauu1247\n",
      "lauu1247 orej1242 lauu1247\n",
      "lauu1247 male1284 lauu1247\n",
      "lauu1247 koti1238 lauu1247\n",
      "lauu1247 fina1242 lauu1247\n",
      "lauu1247 mang1403 lauu1247\n",
      "lauu1247 mawa1266 lauu1247\n",
      "lauu1247 darg1241 lauu1247\n",
      "lauu1247 bang1363 lauu1247\n",
      "lauu1247 tuni1259 lauu1247\n",
      "lauu1247 east2556 lauu1247\n",
      "lauu1247 apal1257 lauu1247\n",
      "lauu1247 wola1243 lauu1247\n",
      "lauu1247 bina1277 lauu1247\n",
      "lauu1247 hawa1247 lauu1247\n",
      "lauu1247 kimm1245 lauu1247\n"
     ]
    },
    {
     "name": "stderr",
     "output_type": "stream",
     "text": [
      "\n",
      "\n",
      "\n",
      "\n",
      "\n",
      "\n",
      "\n",
      "\n",
      " 18%|███████                                 | 450/2554 [09:32<58:34,  1.67s/it]\u001B[A\u001B[A\u001B[A\u001B[A\u001B[A\u001B[A\u001B[A\u001B[A\n",
      "\n",
      "\n",
      "\n",
      "\n",
      "\n",
      "\n",
      "\n",
      " 18%|███████▏                                | 460/2554 [09:48<57:17,  1.64s/it]\u001B[A\u001B[A\u001B[A\u001B[A\u001B[A\u001B[A\u001B[A\u001B[A"
     ]
    },
    {
     "name": "stdout",
     "output_type": "stream",
     "text": [
      "lauu1247 pamo1253 lauu1247\n",
      "lauu1247 nden1248 lauu1247\n",
      "lauu1247 napu1241 lauu1247\n",
      "lauu1247 afar1241 lauu1247\n",
      "lauu1247 zarm1239 lauu1247\n",
      "lauu1247 kowa1245 lauu1247\n",
      "lauu1247 kank1243 lauu1247\n",
      "lauu1247 papi1255 lauu1247\n",
      "lauu1247 boka1249 lauu1247\n",
      "lauu1247 bone1254 lauu1247\n",
      "lauu1247 uare1241 lauu1247\n",
      "lauu1247 arop1243 lauu1247\n",
      "lauu1247 dani1285 lauu1247\n",
      "lauu1247 lele1264 lauu1247\n",
      "lauu1247 toab1237 lauu1247\n",
      "lauu1247 tora1261 lauu1247\n",
      "lauu1247 avar1256 lauu1247\n",
      "lauu1247 fiji1243 lauu1247\n",
      "lauu1247 kalu1248 lauu1247\n",
      "lauu1247 wanm1242 lauu1247\n",
      "lauu1247 chir1286 lauu1247\n",
      "lauu1247 cint1239 lauu1247\n"
     ]
    },
    {
     "name": "stderr",
     "output_type": "stream",
     "text": [
      "\n",
      "\n",
      "\n",
      "\n",
      "\n",
      "\n",
      "\n",
      "\n",
      " 18%|███████▎                                | 470/2554 [10:02<55:06,  1.59s/it]\u001B[A\u001B[A\u001B[A\u001B[A\u001B[A\u001B[A\u001B[A\u001B[A"
     ]
    },
    {
     "name": "stdout",
     "output_type": "stream",
     "text": [
      "lauu1247 heqi1238 lauu1247\n",
      "lauu1247 muse1242 lauu1247\n",
      "lauu1247 domu1246 lauu1247\n",
      "lauu1247 nort2860 lauu1247\n",
      "lauu1247 sulk1246 lauu1247\n"
     ]
    },
    {
     "name": "stderr",
     "output_type": "stream",
     "text": [
      "\n",
      "\n",
      "\n",
      "\n",
      "\n",
      "\n",
      "\n",
      "\n",
      " 19%|███████▌                                | 480/2554 [10:21<58:00,  1.68s/it]\u001B[A\u001B[A\u001B[A\u001B[A\u001B[A\u001B[A\u001B[A\u001B[A"
     ]
    },
    {
     "name": "stdout",
     "output_type": "stream",
     "text": [
      "lauu1247 meng1267 lauu1247\n",
      "lauu1247 waim1252 lauu1247\n",
      "lauu1247 kett1243 lauu1247\n",
      "lauu1247 chad1249 lauu1247\n",
      "lauu1247 beij1234 lauu1247\n"
     ]
    },
    {
     "name": "stderr",
     "output_type": "stream",
     "text": [
      "\n",
      "\n",
      "\n",
      "\n",
      "\n",
      "\n",
      "\n",
      "\n",
      " 19%|███████▋                                | 490/2554 [10:37<56:44,  1.65s/it]\u001B[A\u001B[A\u001B[A\u001B[A\u001B[A\u001B[A\u001B[A\u001B[A"
     ]
    },
    {
     "name": "stdout",
     "output_type": "stream",
     "text": [
      "lauu1247 yaoo1241 lauu1247\n",
      "lauu1247 cors1241 lauu1247\n",
      "lauu1247 polc1243 lauu1247\n",
      "lauu1247 kuka1246 lauu1247\n",
      "lauu1247 kurt1250 lauu1247\n",
      "lauu1247 prus1238 lauu1247\n"
     ]
    },
    {
     "name": "stderr",
     "output_type": "stream",
     "text": [
      "\n",
      "\n",
      "\n",
      "\n",
      "\n",
      "\n",
      "\n",
      "\n",
      " 20%|███████▊                                | 500/2554 [10:53<55:34,  1.62s/it]\u001B[A\u001B[A\u001B[A\u001B[A\u001B[A\u001B[A\u001B[A\u001B[A"
     ]
    },
    {
     "name": "stdout",
     "output_type": "stream",
     "text": [
      "lauu1247 arii1243 lauu1247\n",
      "lauu1247 guja1252 lauu1247\n",
      "lauu1247 stan1293 lauu1247\n",
      "lauu1247 kala1397 lauu1247\n",
      "lauu1247 enga1252 lauu1247\n",
      "lauu1247 paca1246 lauu1247\n",
      "lauu1247 bero1242 lauu1247\n",
      "lauu1247 babu1240 lauu1247\n",
      "lauu1247 nyor1246 lauu1247\n",
      "lauu1247 swah1253 lauu1247\n",
      "lauu1247 bira1254 lauu1247\n",
      "lauu1247 yawa1258 lauu1247\n",
      "lauu1247 malt1254 lauu1247\n",
      "lauu1247 nyin1250 lauu1247\n",
      "lauu1247 trum1247 lauu1247\n",
      "lauu1247 bret1244 lauu1247\n",
      "lauu1247 mund1330 lauu1247\n",
      "lauu1247 agut1237 lauu1247\n"
     ]
    },
    {
     "name": "stderr",
     "output_type": "stream",
     "text": [
      "\n",
      "\n",
      "\n",
      "\n",
      "\n",
      "\n",
      "\n",
      "\n",
      " 20%|███████▉                                | 510/2554 [11:07<53:21,  1.57s/it]\u001B[A\u001B[A\u001B[A\u001B[A\u001B[A\u001B[A\u001B[A\u001B[A"
     ]
    },
    {
     "name": "stdout",
     "output_type": "stream",
     "text": [
      "lauu1247 amap1240 lauu1247\n",
      "lauu1247 bisi1244 lauu1247\n",
      "lauu1247 cara1272 lauu1247\n",
      "lauu1247 plat1254 lauu1247\n",
      "lauu1247 park1239 lauu1247\n",
      "lauu1247 sout2778 lauu1247\n",
      "lauu1247 nage1237 lauu1247\n",
      "lauu1247 wels1247 lauu1247\n",
      "lauu1247 anga1292 lauu1247\n",
      "lauu1247 pear1247 lauu1247\n",
      "lauu1247 payn1244 lauu1247\n",
      "lauu1247 hyaa1239 lauu1247\n"
     ]
    },
    {
     "name": "stderr",
     "output_type": "stream",
     "text": [
      "\n",
      "\n",
      "\n",
      "\n",
      "\n",
      "\n",
      "\n",
      "\n",
      " 20%|████████▏                               | 520/2554 [11:24<55:05,  1.63s/it]\u001B[A\u001B[A\u001B[A\u001B[A\u001B[A\u001B[A\u001B[A\u001B[A"
     ]
    },
    {
     "name": "stdout",
     "output_type": "stream",
     "text": [
      "lauu1247 kaza1248 lauu1247\n",
      "lauu1247 tswa1253 lauu1247\n",
      "lauu1247 cish1238 lauu1247\n",
      "lauu1247 bula1255 lauu1247\n",
      "lauu1247 yima1243 lauu1247\n",
      "lauu1247 avok1242 lauu1247\n",
      "lauu1247 bauu1244 lauu1247\n",
      "lauu1247 buli1254 lauu1247\n",
      "lauu1247 koro1310 lauu1247\n",
      "lauu1247 kere1286 lauu1247\n",
      "lauu1247 anga1288 lauu1247\n"
     ]
    },
    {
     "name": "stderr",
     "output_type": "stream",
     "text": [
      "\n",
      "\n",
      "\n",
      "\n",
      "\n",
      "\n",
      "\n",
      "\n",
      " 21%|████████▎                               | 530/2554 [11:40<53:45,  1.59s/it]\u001B[A\u001B[A\u001B[A\u001B[A\u001B[A\u001B[A\u001B[A\u001B[A\n",
      "\n",
      "\n",
      "\n",
      "\n",
      "\n",
      "\n",
      "\n",
      " 21%|████████▍                               | 540/2554 [11:56<54:10,  1.61s/it]\u001B[A\u001B[A\u001B[A\u001B[A\u001B[A\u001B[A\u001B[A\u001B[A"
     ]
    },
    {
     "name": "stdout",
     "output_type": "stream",
     "text": [
      "lauu1247 ngar1287 lauu1247\n",
      "lauu1247 nucl1347 lauu1247\n",
      "lauu1247 ndoo1242 lauu1247\n",
      "lauu1247 blag1240 lauu1247\n",
      "lauu1247 miju1243 lauu1247\n"
     ]
    },
    {
     "name": "stderr",
     "output_type": "stream",
     "text": [
      "\n",
      "\n",
      "\n",
      "\n",
      "\n",
      "\n",
      "\n",
      "\n",
      " 22%|████████▌                               | 550/2554 [12:15<56:48,  1.70s/it]\u001B[A\u001B[A\u001B[A\u001B[A\u001B[A\u001B[A\u001B[A\u001B[A"
     ]
    },
    {
     "name": "stdout",
     "output_type": "stream",
     "text": [
      "lauu1247 nucl1454 lauu1247\n",
      "lauu1247 wola1242 lauu1247\n",
      "lauu1247 even1260 lauu1247\n",
      "lauu1247 cent2292 lauu1247\n",
      "lauu1247 paum1247 lauu1247\n",
      "lauu1247 mich1245 lauu1247\n",
      "lauu1247 pitt1247 lauu1247\n",
      "lauu1247 wira1262 lauu1247\n",
      "lauu1247 nalc1240 lauu1247\n",
      "lauu1247 dera1248 lauu1247\n",
      "lauu1247 oroq1238 lauu1247\n",
      "lauu1247 ghay1237 lauu1247\n",
      "lauu1247 nanc1254 lauu1247\n",
      "lauu1247 oldf1239 lauu1247\n",
      "lauu1247 amto1250 lauu1247\n",
      "lauu1247 bela1254 lauu1247\n",
      "lauu1247 dzal1238 lauu1247\n",
      "lauu1247 ihan1234 lauu1247\n"
     ]
    },
    {
     "name": "stderr",
     "output_type": "stream",
     "text": [
      "\n",
      "\n",
      "\n",
      "\n",
      "\n",
      "\n",
      "\n",
      "\n",
      " 22%|████████▊                               | 560/2554 [12:31<54:41,  1.65s/it]\u001B[A\u001B[A\u001B[A\u001B[A\u001B[A\u001B[A\u001B[A\u001B[A"
     ]
    },
    {
     "name": "stdout",
     "output_type": "stream",
     "text": [
      "lauu1247 samm1244 lauu1247\n",
      "lauu1247 awiy1238 lauu1247\n",
      "lauu1247 ujin1234 lauu1247\n",
      "lauu1247 diri1252 lauu1247\n",
      "lauu1247 nort2943 lauu1247\n",
      "lauu1247 nort2847 lauu1247\n",
      "lauu1247 serb1264 lauu1247\n",
      "lauu1247 arap1274 lauu1247\n",
      "lauu1247 sout2883 lauu1247\n",
      "lauu1247 moma1243 lauu1247\n",
      "lauu1247 lash1243 lauu1247\n",
      "lauu1247 nyun1247 lauu1247\n",
      "lauu1247 bata1288 lauu1247\n",
      "lauu1247 gali1258 lauu1247\n",
      "lauu1247 anam1247 lauu1247\n",
      "lauu1247 masi1266 lauu1247\n",
      "lauu1247 awar1248 lauu1247\n",
      "lauu1247 beam1240 lauu1247\n"
     ]
    },
    {
     "name": "stderr",
     "output_type": "stream",
     "text": [
      "\n",
      "\n",
      "\n",
      "\n",
      "\n",
      "\n",
      "\n",
      "\n",
      " 22%|████████▉                               | 570/2554 [12:45<52:36,  1.59s/it]\u001B[A\u001B[A\u001B[A\u001B[A\u001B[A\u001B[A\u001B[A\u001B[A"
     ]
    },
    {
     "name": "stdout",
     "output_type": "stream",
     "text": [
      "lauu1247 nekk1240 lauu1247\n",
      "lauu1247 oksa1245 lauu1247\n",
      "lauu1247 kala1399 lauu1247\n",
      "lauu1247 yoco1235 lauu1247\n",
      "lauu1247 luwo1239 lauu1247\n"
     ]
    },
    {
     "name": "stderr",
     "output_type": "stream",
     "text": [
      "\n",
      "\n",
      "\n",
      "\n",
      "\n",
      "\n",
      "\n",
      "\n",
      " 23%|█████████                               | 580/2554 [13:01<52:16,  1.59s/it]\u001B[A\u001B[A\u001B[A\u001B[A\u001B[A\u001B[A\u001B[A\u001B[A"
     ]
    },
    {
     "name": "stdout",
     "output_type": "stream",
     "text": [
      "lauu1247 guiq1238 lauu1247\n",
      "lauu1247 ambu1247 lauu1247\n",
      "lauu1247 kapi1249 lauu1247\n",
      "lauu1247 maib1239 lauu1247\n",
      "lauu1247 else1239 lauu1247\n",
      "lauu1247 pura1253 lauu1247\n",
      "lauu1247 tokp1240 lauu1247\n",
      "lauu1247 kwat1244 lauu1247\n",
      "lauu1247 aves1237 lauu1247\n",
      "lauu1247 ango1255 lauu1247\n",
      "lauu1247 taba1259 lauu1247\n"
     ]
    },
    {
     "name": "stderr",
     "output_type": "stream",
     "text": [
      "\n",
      "\n",
      "\n",
      "\n",
      "\n",
      "\n",
      "\n",
      "\n",
      " 23%|█████████▏                              | 590/2554 [13:16<51:31,  1.57s/it]\u001B[A\u001B[A\u001B[A\u001B[A\u001B[A\u001B[A\u001B[A\u001B[A"
     ]
    },
    {
     "name": "stdout",
     "output_type": "stream",
     "text": [
      "lauu1247 kore1280 lauu1247\n",
      "lauu1247 buam1238 lauu1247\n",
      "lauu1247 sgaw1245 lauu1247\n",
      "lauu1247 kara1481 lauu1247\n",
      "lauu1247 hefe1234 lauu1247\n",
      "lauu1247 saam1283 lauu1247\n",
      "lauu1247 band1340 lauu1247\n",
      "lauu1247 manm1238 lauu1247\n",
      "lauu1247 esee1248 lauu1247\n",
      "lauu1247 sart1249 lauu1247\n",
      "lauu1247 nene1249 lauu1247\n",
      "lauu1247 nort2972 lauu1247\n"
     ]
    },
    {
     "name": "stderr",
     "output_type": "stream",
     "text": [
      "\n",
      "\n",
      "\n",
      "\n",
      "\n",
      "\n",
      "\n",
      "\n",
      " 23%|█████████▍                              | 600/2554 [13:31<50:14,  1.54s/it]\u001B[A\u001B[A\u001B[A\u001B[A\u001B[A\u001B[A\u001B[A\u001B[A"
     ]
    },
    {
     "name": "stdout",
     "output_type": "stream",
     "text": [
      "lauu1247 busa1253 lauu1247\n",
      "lauu1247 zuoj1238 lauu1247\n",
      "lauu1247 guan1279 lauu1247\n",
      "lauu1247 zoog1238 lauu1247\n",
      "lauu1247 tabr1243 lauu1247\n",
      "lauu1247 aona1235 lauu1247\n",
      "lauu1247 imba1240 lauu1247\n",
      "lauu1247 mako1251 lauu1247\n",
      "lauu1247 dang1274 lauu1247\n",
      "lauu1247 hata1243 lauu1247\n",
      "lauu1247 mara1404 lauu1247\n",
      "lauu1247 yaqa1246 lauu1247\n",
      "lauu1247 galo1242 lauu1247\n"
     ]
    },
    {
     "name": "stderr",
     "output_type": "stream",
     "text": [
      "\n",
      "\n",
      "\n",
      "\n",
      "\n",
      "\n",
      "\n",
      "\n",
      " 24%|█████████▌                              | 610/2554 [13:49<52:04,  1.61s/it]\u001B[A\u001B[A\u001B[A\u001B[A\u001B[A\u001B[A\u001B[A\u001B[A"
     ]
    },
    {
     "name": "stdout",
     "output_type": "stream",
     "text": [
      "lauu1247 than1255 lauu1247\n",
      "lauu1247 guma1253 lauu1247\n",
      "lauu1247 kara1474 lauu1247\n",
      "lauu1247 sanu1240 lauu1247\n",
      "lauu1247 marb1239 lauu1247\n"
     ]
    },
    {
     "name": "stderr",
     "output_type": "stream",
     "text": [
      "\n",
      "\n",
      "\n",
      "\n",
      "\n",
      "\n",
      "\n",
      "\n",
      " 24%|█████████▋                              | 620/2554 [14:05<52:07,  1.62s/it]\u001B[A\u001B[A\u001B[A\u001B[A\u001B[A\u001B[A\u001B[A\u001B[A"
     ]
    },
    {
     "name": "stdout",
     "output_type": "stream",
     "text": [
      "lauu1247 cube1242 lauu1247\n",
      "lauu1247 west2563 lauu1247\n",
      "lauu1247 aimo1244 lauu1247\n",
      "lauu1247 chuj1250 lauu1247\n",
      "lauu1247 mori1278 lauu1247\n",
      "lauu1247 khas1269 lauu1247\n",
      "lauu1247 norw1259 lauu1247\n",
      "lauu1247 melp1238 lauu1247\n",
      "lauu1247 kuwa1247 lauu1247\n",
      "lauu1247 tlin1245 lauu1247\n",
      "lauu1247 ndog1248 lauu1247\n",
      "lauu1247 west2441 lauu1247\n"
     ]
    },
    {
     "name": "stderr",
     "output_type": "stream",
     "text": [
      "\n",
      "\n",
      "\n",
      "\n",
      "\n",
      "\n",
      "\n",
      "\n",
      " 25%|█████████▊                              | 630/2554 [14:22<52:30,  1.64s/it]\u001B[A\u001B[A\u001B[A\u001B[A\u001B[A\u001B[A\u001B[A\u001B[A\n",
      "\n",
      "\n",
      "\n",
      "\n",
      "\n",
      "\n",
      "\n",
      " 25%|██████████                              | 640/2554 [14:39<53:23,  1.67s/it]\u001B[A\u001B[A\u001B[A\u001B[A\u001B[A\u001B[A\u001B[A\u001B[A"
     ]
    },
    {
     "name": "stdout",
     "output_type": "stream",
     "text": [
      "lauu1247 lubu1243 lauu1247\n",
      "lauu1247 apma1241 lauu1247\n",
      "lauu1247 nige1255 lauu1247\n",
      "lauu1247 itam1234 lauu1247\n",
      "lauu1247 naka1264 lauu1247\n"
     ]
    },
    {
     "name": "stderr",
     "output_type": "stream",
     "text": [
      "\n",
      "\n",
      "\n",
      "\n",
      "\n",
      "\n",
      "\n",
      "\n",
      " 25%|██████████▏                             | 650/2554 [14:56<52:30,  1.65s/it]\u001B[A\u001B[A\u001B[A\u001B[A\u001B[A\u001B[A\u001B[A\u001B[A"
     ]
    },
    {
     "name": "stdout",
     "output_type": "stream",
     "text": [
      "lauu1247 nort2877 lauu1247\n",
      "lauu1247 djap1238 lauu1247\n",
      "lauu1247 ende1246 lauu1247\n",
      "lauu1247 suba1238 lauu1247\n",
      "lauu1247 sout2785 lauu1247\n",
      "lauu1247 luok1236 lauu1247\n",
      "lauu1247 laka1255 lauu1247\n",
      "lauu1247 chha1249 lauu1247\n",
      "lauu1247 moer1240 lauu1247\n",
      "lauu1247 embe1260 lauu1247\n",
      "lauu1247 nyam1277 lauu1247\n",
      "lauu1247 noma1263 lauu1247\n",
      "lauu1247 maon1238 lauu1247\n",
      "lauu1247 lasa1237 lauu1247\n",
      "lauu1247 goka1239 lauu1247\n",
      "lauu1247 kirg1245 lauu1247\n"
     ]
    },
    {
     "name": "stderr",
     "output_type": "stream",
     "text": [
      "\n",
      "\n",
      "\n",
      "\n",
      "\n",
      "\n",
      "\n",
      "\n",
      " 26%|██████████▎                             | 660/2554 [15:12<52:01,  1.65s/it]\u001B[A\u001B[A\u001B[A\u001B[A\u001B[A\u001B[A\u001B[A\u001B[A"
     ]
    },
    {
     "name": "stdout",
     "output_type": "stream",
     "text": [
      "lauu1247 mini1256 lauu1247\n",
      "lauu1247 chin1478 lauu1247\n",
      "lauu1247 oloo1241 lauu1247\n",
      "lauu1247 qanj1241 lauu1247\n",
      "lauu1247 tama1336 lauu1247\n",
      "lauu1247 rumu1243 lauu1247\n",
      "lauu1247 zana1238 lauu1247\n",
      "lauu1247 roma1326 lauu1247\n",
      "lauu1247 yang1296 lauu1247\n",
      "lauu1247 sout2973 lauu1247\n",
      "lauu1247 moha1258 lauu1247\n",
      "lauu1247 siss1242 lauu1247\n",
      "lauu1247 erok1237 lauu1247\n",
      "lauu1247 hixk1239 lauu1247\n",
      "lauu1247 fali1285 lauu1247\n",
      "lauu1247 teso1249 lauu1247\n"
     ]
    },
    {
     "name": "stderr",
     "output_type": "stream",
     "text": [
      "\n",
      "\n",
      "\n",
      "\n",
      "\n",
      "\n",
      "\n",
      "\n",
      " 26%|██████████▍                             | 670/2554 [15:27<50:48,  1.62s/it]\u001B[A\u001B[A\u001B[A\u001B[A\u001B[A\u001B[A\u001B[A\u001B[A"
     ]
    },
    {
     "name": "stdout",
     "output_type": "stream",
     "text": [
      "lauu1247 kora1294 lauu1247\n",
      "lauu1247 tehu1242 lauu1247\n",
      "lauu1247 gera1246 lauu1247\n",
      "lauu1247 umbu1258 lauu1247\n",
      "lauu1247 muyu1244 lauu1247\n",
      "lauu1247 leni1238 lauu1247\n",
      "lauu1247 apal1256 lauu1247\n",
      "lauu1247 humb1243 lauu1247\n",
      "lauu1247 tenh1241 lauu1247\n",
      "lauu1247 mbun1249 lauu1247\n",
      "lauu1247 puru1264 lauu1247\n",
      "lauu1247 onoo1246 lauu1247\n",
      "lauu1247 kiku1240 lauu1247\n"
     ]
    },
    {
     "name": "stderr",
     "output_type": "stream",
     "text": [
      "\n",
      "\n",
      "\n",
      "\n",
      "\n",
      "\n",
      "\n",
      "\n",
      " 27%|██████████▋                             | 680/2554 [15:43<50:19,  1.61s/it]\u001B[A\u001B[A\u001B[A\u001B[A\u001B[A\u001B[A\u001B[A\u001B[A"
     ]
    },
    {
     "name": "stdout",
     "output_type": "stream",
     "text": [
      "lauu1247 dawa1242 lauu1247\n",
      "lauu1247 sout2840 lauu1247\n",
      "lauu1247 ndau1241 lauu1247\n",
      "lauu1247 zyph1238 lauu1247\n",
      "lauu1247 midd1350 lauu1247\n",
      "lauu1247 dakp1242 lauu1247\n",
      "lauu1247 keor1235 lauu1247\n",
      "lauu1247 khak1248 lauu1247\n",
      "lauu1247 tsho1240 lauu1247\n"
     ]
    },
    {
     "name": "stderr",
     "output_type": "stream",
     "text": [
      "\n",
      "\n",
      "\n",
      "\n",
      "\n",
      "\n",
      "\n",
      "\n",
      " 27%|██████████▊                             | 690/2554 [16:01<51:06,  1.65s/it]\u001B[A\u001B[A\u001B[A\u001B[A\u001B[A\u001B[A\u001B[A\u001B[A"
     ]
    },
    {
     "name": "stdout",
     "output_type": "stream",
     "text": [
      "lauu1247 gapa1238 lauu1247\n",
      "lauu1247 tuca1252 lauu1247\n",
      "lauu1247 mosi1248 lauu1247\n",
      "lauu1247 tedi1235 lauu1247\n",
      "lauu1247 maba1273 lauu1247\n",
      "lauu1247 halh1238 lauu1247\n",
      "lauu1247 tbol1240 lauu1247\n",
      "lauu1247 nort2920 lauu1247\n",
      "lauu1247 chru1239 lauu1247\n",
      "lauu1247 urii1240 lauu1247\n",
      "lauu1247 dita1238 lauu1247\n",
      "lauu1247 makn1235 lauu1247\n",
      "lauu1247 nami1256 lauu1247\n",
      "lauu1247 ande1247 lauu1247\n"
     ]
    },
    {
     "name": "stderr",
     "output_type": "stream",
     "text": [
      "\n",
      "\n",
      "\n",
      "\n",
      "\n",
      "\n",
      "\n",
      "\n",
      " 27%|██████████▉                             | 700/2554 [16:17<50:53,  1.65s/it]\u001B[A\u001B[A\u001B[A\u001B[A\u001B[A\u001B[A\u001B[A\u001B[A"
     ]
    },
    {
     "name": "stdout",
     "output_type": "stream",
     "text": [
      "lauu1247 xhos1239 lauu1247\n",
      "lauu1247 tsik1238 lauu1247\n",
      "lauu1247 achi1256 lauu1247\n",
      "lauu1247 tami1289 lauu1247\n",
      "lauu1247 trin1274 lauu1247\n",
      "lauu1247 mend1266 lauu1247\n",
      "lauu1247 para1299 lauu1247\n",
      "lauu1247 beri1254 lauu1247\n",
      "lauu1247 qili1234 lauu1247\n",
      "lauu1247 oldg1234 lauu1247\n",
      "lauu1247 saus1246 lauu1247\n"
     ]
    },
    {
     "name": "stderr",
     "output_type": "stream",
     "text": [
      "\n",
      "\n",
      "\n",
      "\n",
      "\n",
      "\n",
      "\n",
      "\n",
      " 28%|███████████                             | 710/2554 [16:33<49:48,  1.62s/it]\u001B[A\u001B[A\u001B[A\u001B[A\u001B[A\u001B[A\u001B[A\u001B[A\n",
      "\n",
      "\n",
      "\n",
      "\n",
      "\n",
      "\n",
      "\n",
      " 28%|███████████▏                            | 711/2554 [16:34<49:00,  1.60s/it]\u001B[A\u001B[A\u001B[A\u001B[A\u001B[A\u001B[A\u001B[A\u001B[A"
     ]
    },
    {
     "name": "stdout",
     "output_type": "stream",
     "text": [
      "lauu1247 mala1495 lauu1247\n",
      "lauu1247 bezh1248 lauu1247\n",
      "lauu1247 ekaj1238 lauu1247\n",
      "lauu1247 gilb1244 lauu1247\n",
      "lauu1247 hawa1245 lauu1247\n",
      "lauu1247 kana1293 lauu1247\n"
     ]
    },
    {
     "name": "stderr",
     "output_type": "stream",
     "text": [
      "\n",
      "\n",
      "\n",
      "\n",
      "\n",
      "\n",
      "\n",
      "\n",
      " 28%|███████████▎                            | 720/2554 [16:49<49:34,  1.62s/it]\u001B[A\u001B[A\u001B[A\u001B[A\u001B[A\u001B[A\u001B[A\u001B[A"
     ]
    },
    {
     "name": "stdout",
     "output_type": "stream",
     "text": [
      "lauu1247 lowe1415 lauu1247\n",
      "lauu1247 hinu1240 lauu1247\n",
      "lauu1247 nawd1238 lauu1247\n",
      "lauu1247 rutu1240 lauu1247\n",
      "lauu1247 sian1257 lauu1247\n",
      "lauu1247 suen1241 lauu1247\n",
      "lauu1247 mans1262 lauu1247\n",
      "lauu1247 mend1268 lauu1247\n",
      "lauu1247 yano1262 lauu1247\n"
     ]
    },
    {
     "name": "stderr",
     "output_type": "stream",
     "text": [
      "\n",
      "\n",
      "\n",
      "\n",
      "\n",
      "\n",
      "\n",
      "\n",
      " 29%|███████████▍                            | 730/2554 [17:04<47:46,  1.57s/it]\u001B[A\u001B[A\u001B[A\u001B[A\u001B[A\u001B[A\u001B[A\u001B[A"
     ]
    },
    {
     "name": "stdout",
     "output_type": "stream",
     "text": [
      "lauu1247 kahe1238 lauu1247\n",
      "lauu1247 sanb1242 lauu1247\n",
      "lauu1247 chor1273 lauu1247\n"
     ]
    },
    {
     "name": "stderr",
     "output_type": "stream",
     "text": [
      "\n",
      "\n",
      "\n",
      "\n",
      "\n",
      "\n",
      "\n",
      "\n",
      " 29%|███████████▌                            | 740/2554 [17:20<48:33,  1.61s/it]\u001B[A\u001B[A\u001B[A\u001B[A\u001B[A\u001B[A\u001B[A\u001B[A"
     ]
    },
    {
     "name": "stdout",
     "output_type": "stream",
     "text": [
      "lauu1247 sani1270 lauu1247\n",
      "lauu1247 ukra1253 lauu1247\n",
      "lauu1247 youn1235 lauu1247\n",
      "lauu1247 kagu1239 lauu1247\n",
      "lauu1247 mang1405 lauu1247\n",
      "lauu1247 kuri1259 lauu1247\n",
      "lauu1247 murl1244 lauu1247\n",
      "lauu1247 usku1243 lauu1247\n",
      "lauu1247 adze1240 lauu1247\n",
      "lauu1247 beri1253 lauu1247\n",
      "lauu1247 poko1261 lauu1247\n",
      "lauu1247 nucl1630 lauu1247\n",
      "lauu1247 utal1238 lauu1247\n",
      "lauu1247 vang1243 lauu1247\n",
      "lauu1247 auhe1237 lauu1247\n",
      "lauu1247 mofu1248 lauu1247\n",
      "lauu1247 wang1299 lauu1247\n",
      "lauu1247 khum1248 lauu1247\n",
      "lauu1247 giky1238 lauu1247\n",
      "lauu1247 guma1255 lauu1247\n",
      "lauu1247 maru1249 lauu1247\n"
     ]
    },
    {
     "name": "stderr",
     "output_type": "stream",
     "text": [
      "\n",
      "\n",
      "\n",
      "\n",
      "\n",
      "\n",
      "\n",
      "\n",
      " 29%|███████████▋                            | 750/2554 [17:37<48:48,  1.62s/it]\u001B[A\u001B[A\u001B[A\u001B[A\u001B[A\u001B[A\u001B[A\u001B[A"
     ]
    },
    {
     "name": "stdout",
     "output_type": "stream",
     "text": [
      "lauu1247 piap1246 lauu1247\n",
      "lauu1247 stan1318 lauu1247\n",
      "lauu1247 anma1239 lauu1247\n",
      "lauu1247 nusu1239 lauu1247\n",
      "lauu1247 zara1247 lauu1247\n",
      "lauu1247 chur1257 lauu1247\n",
      "lauu1247 buga1250 lauu1247\n",
      "lauu1247 lisu1250 lauu1247\n",
      "lauu1247 liab1237 lauu1247\n"
     ]
    },
    {
     "name": "stderr",
     "output_type": "stream",
     "text": [
      "\n",
      "\n",
      "\n",
      "\n",
      "\n",
      "\n",
      "\n",
      "\n",
      " 30%|███████████▉                            | 760/2554 [17:55<50:15,  1.68s/it]\u001B[A\u001B[A\u001B[A\u001B[A\u001B[A\u001B[A\u001B[A\u001B[A\n",
      "\n",
      "\n",
      "\n",
      "\n",
      "\n",
      "\n",
      "\n",
      " 30%|████████████                            | 770/2554 [18:12<50:27,  1.70s/it]\u001B[A\u001B[A\u001B[A\u001B[A\u001B[A\u001B[A\u001B[A\u001B[A"
     ]
    },
    {
     "name": "stdout",
     "output_type": "stream",
     "text": [
      "lauu1247 adny1235 lauu1247\n",
      "lauu1247 guwa1242 lauu1247\n",
      "lauu1247 carr1249 lauu1247\n",
      "lauu1247 nyun1248 lauu1247\n",
      "lauu1247 pura1257 lauu1247\n"
     ]
    },
    {
     "name": "stderr",
     "output_type": "stream",
     "text": [
      "\n",
      "\n",
      "\n",
      "\n",
      "\n",
      "\n",
      "\n",
      "\n",
      " 31%|████████████▏                           | 780/2554 [18:30<50:31,  1.71s/it]\u001B[A\u001B[A\u001B[A\u001B[A\u001B[A\u001B[A\u001B[A\u001B[A"
     ]
    },
    {
     "name": "stdout",
     "output_type": "stream",
     "text": [
      "lauu1247 cent2118 lauu1247\n",
      "lauu1247 sali1298 lauu1247\n",
      "lauu1247 badj1244 lauu1247\n",
      "lauu1247 onaa1245 lauu1247\n",
      "lauu1247 mala1475 lauu1247\n",
      "lauu1247 dana1254 lauu1247\n",
      "lauu1247 igna1246 lauu1247\n",
      "lauu1247 bond1247 lauu1247\n",
      "lauu1247 kurr1243 lauu1247\n",
      "lauu1247 utuu1240 lauu1247\n",
      "lauu1247 tave1240 lauu1247\n",
      "lauu1247 dogh1241 lauu1247\n",
      "lauu1247 yagw1240 lauu1247\n",
      "lauu1247 kuku1280 lauu1247\n",
      "lauu1247 urak1238 lauu1247\n",
      "lauu1247 vend1245 lauu1247\n"
     ]
    },
    {
     "name": "stderr",
     "output_type": "stream",
     "text": [
      "\n",
      "\n",
      "\n",
      "\n",
      "\n",
      "\n",
      "\n",
      "\n",
      " 31%|████████████▎                           | 790/2554 [18:44<48:00,  1.63s/it]\u001B[A\u001B[A\u001B[A\u001B[A\u001B[A\u001B[A\u001B[A\u001B[A"
     ]
    },
    {
     "name": "stdout",
     "output_type": "stream",
     "text": [
      "lauu1247 kyak1244 lauu1247\n",
      "lauu1247 midd1317 lauu1247\n",
      "lauu1247 bete1262 lauu1247\n",
      "lauu1247 kala1388 lauu1247\n",
      "lauu1247 baeg1237 lauu1247\n",
      "lauu1247 sile1255 lauu1247\n",
      "lauu1247 ikiz1238 lauu1247\n",
      "lauu1247 tzut1248 lauu1247\n",
      "lauu1247 poli1260 lauu1247\n",
      "lauu1247 lowe1385 lauu1247\n",
      "lauu1247 cari1279 lauu1247\n",
      "lauu1247 mouw1234 lauu1247\n",
      "lauu1247 bima1247 lauu1247\n",
      "lauu1247 kaya1328 lauu1247\n",
      "lauu1247 tuka1249 lauu1247\n",
      "lauu1247 java1254 lauu1247\n"
     ]
    },
    {
     "name": "stderr",
     "output_type": "stream",
     "text": [
      "\n",
      "\n",
      "\n",
      "\n",
      "\n",
      "\n",
      "\n",
      "\n",
      " 31%|████████████▌                           | 800/2554 [19:01<47:54,  1.64s/it]\u001B[A\u001B[A\u001B[A\u001B[A\u001B[A\u001B[A\u001B[A\u001B[A"
     ]
    },
    {
     "name": "stdout",
     "output_type": "stream",
     "text": [
      "lauu1247 emum1240 lauu1247\n",
      "lauu1247 chuu1238 lauu1247\n",
      "lauu1247 hang1260 lauu1247\n",
      "lauu1247 anga1290 lauu1247\n",
      "lauu1247 wala1266 lauu1247\n",
      "lauu1247 baba1267 lauu1247\n",
      "lauu1247 saba1268 lauu1247\n",
      "lauu1247 keoo1238 lauu1247\n",
      "lauu1247 oldc1244 lauu1247\n",
      "lauu1247 gula1268 lauu1247\n",
      "lauu1247 huli1244 lauu1247\n"
     ]
    },
    {
     "name": "stderr",
     "output_type": "stream",
     "text": [
      "\n",
      "\n",
      "\n",
      "\n",
      "\n",
      "\n",
      "\n",
      "\n",
      " 32%|████████████▋                           | 810/2554 [19:17<47:52,  1.65s/it]\u001B[A\u001B[A\u001B[A\u001B[A\u001B[A\u001B[A\u001B[A\u001B[A"
     ]
    },
    {
     "name": "stdout",
     "output_type": "stream",
     "text": [
      "lauu1247 aeka1244 lauu1247\n",
      "lauu1247 buhu1237 lauu1247\n",
      "lauu1247 flin1247 lauu1247\n",
      "lauu1247 wira1265 lauu1247\n",
      "lauu1247 guar1292 lauu1247\n",
      "lauu1247 nucl1643 lauu1247\n",
      "lauu1247 inga1252 lauu1247\n",
      "lauu1247 zizi1238 lauu1247\n",
      "lauu1247 choa1237 lauu1247\n",
      "lauu1247 anci1242 lauu1247\n"
     ]
    },
    {
     "name": "stderr",
     "output_type": "stream",
     "text": [
      "\n",
      "\n",
      "\n",
      "\n",
      "\n",
      "\n",
      "\n",
      "\n",
      " 32%|████████████▊                           | 820/2554 [19:34<47:20,  1.64s/it]\u001B[A\u001B[A\u001B[A\u001B[A\u001B[A\u001B[A\u001B[A\u001B[A"
     ]
    },
    {
     "name": "stdout",
     "output_type": "stream",
     "text": [
      "lauu1247 pawa1255 lauu1247\n",
      "lauu1247 apat1240 lauu1247\n",
      "lauu1247 juqu1238 lauu1247\n",
      "lauu1247 alur1250 lauu1247\n",
      "lauu1247 baka1277 lauu1247\n",
      "lauu1247 xuzh1234 lauu1247\n",
      "lauu1247 nang1262 lauu1247\n",
      "lauu1247 uigh1240 lauu1247\n"
     ]
    },
    {
     "name": "stderr",
     "output_type": "stream",
     "text": [
      "\n",
      "\n",
      "\n",
      "\n",
      "\n",
      "\n",
      "\n",
      "\n",
      " 32%|████████████▉                           | 830/2554 [19:51<47:38,  1.66s/it]\u001B[A\u001B[A\u001B[A\u001B[A\u001B[A\u001B[A\u001B[A\u001B[A"
     ]
    },
    {
     "name": "stdout",
     "output_type": "stream",
     "text": [
      "lauu1247 mikm1235 lauu1247\n",
      "lauu1247 tsha1245 lauu1247\n",
      "lauu1247 maiw1251 lauu1247\n",
      "lauu1247 maha1287 lauu1247\n"
     ]
    },
    {
     "name": "stderr",
     "output_type": "stream",
     "text": [
      "\n",
      "\n",
      "\n",
      "\n",
      "\n",
      "\n",
      "\n",
      "\n",
      " 33%|█████████████▏                          | 840/2554 [20:09<49:01,  1.72s/it]\u001B[A\u001B[A\u001B[A\u001B[A\u001B[A\u001B[A\u001B[A\u001B[A"
     ]
    },
    {
     "name": "stdout",
     "output_type": "stream",
     "text": [
      "lauu1247 isab1240 lauu1247\n",
      "lauu1247 ukur1240 lauu1247\n",
      "lauu1247 somm1240 lauu1247\n",
      "lauu1247 tobo1251 lauu1247\n",
      "lauu1247 sarr1246 lauu1247\n",
      "lauu1247 pali1273 lauu1247\n",
      "lauu1247 toto1306 lauu1247\n",
      "lauu1247 nggw1242 lauu1247\n",
      "lauu1247 quer1236 lauu1247\n",
      "lauu1247 kase1253 lauu1247\n",
      "lauu1247 mali1284 lauu1247\n",
      "lauu1247 kumy1244 lauu1247\n",
      "lauu1247 luan1263 lauu1247\n",
      "lauu1247 yate1242 lauu1247\n",
      "lauu1247 tach1250 lauu1247\n",
      "lauu1247 czec1258 lauu1247\n",
      "lauu1247 kaxa1239 lauu1247\n",
      "lauu1247 jian1239 lauu1247\n",
      "lauu1247 simb1256 lauu1247\n",
      "lauu1247 moko1243 lauu1247\n"
     ]
    },
    {
     "name": "stderr",
     "output_type": "stream",
     "text": [
      "\n",
      "\n",
      "\n",
      "\n",
      "\n",
      "\n",
      "\n",
      "\n",
      " 33%|█████████████▎                          | 850/2554 [20:26<48:17,  1.70s/it]\u001B[A\u001B[A\u001B[A\u001B[A\u001B[A\u001B[A\u001B[A\u001B[A"
     ]
    },
    {
     "name": "stdout",
     "output_type": "stream",
     "text": [
      "lauu1247 chim1302 lauu1247\n",
      "lauu1247 ashe1273 lauu1247\n",
      "lauu1247 hume1246 lauu1247\n",
      "lauu1247 hote1245 lauu1247\n"
     ]
    },
    {
     "name": "stderr",
     "output_type": "stream",
     "text": [
      "\n",
      "\n",
      "\n",
      "\n",
      "\n",
      "\n",
      "\n",
      "\n",
      " 34%|█████████████▍                          | 860/2554 [20:43<48:12,  1.71s/it]\u001B[A\u001B[A\u001B[A\u001B[A\u001B[A\u001B[A\u001B[A\u001B[A"
     ]
    },
    {
     "name": "stdout",
     "output_type": "stream",
     "text": [
      "lauu1247 lala1270 lauu1247\n",
      "lauu1247 awar1249 lauu1247\n",
      "lauu1247 west2369 lauu1247\n",
      "lauu1247 kala1384 lauu1247\n",
      "lauu1247 tobe1252 lauu1247\n",
      "lauu1247 occi1239 lauu1247\n",
      "lauu1247 agii1245 lauu1247\n",
      "lauu1247 seri1257 lauu1247\n",
      "lauu1247 kaya1329 lauu1247\n",
      "lauu1247 lewo1243 lauu1247\n",
      "lauu1247 mala1464 lauu1247\n",
      "lauu1247 adel1244 lauu1247\n",
      "lauu1247 nucl1396 lauu1247\n",
      "lauu1247 epen1239 lauu1247\n"
     ]
    },
    {
     "name": "stderr",
     "output_type": "stream",
     "text": [
      "\n",
      "\n",
      "\n",
      "\n",
      "\n",
      "\n",
      "\n",
      "\n",
      " 34%|█████████████▋                          | 870/2554 [20:59<46:46,  1.67s/it]\u001B[A\u001B[A\u001B[A\u001B[A\u001B[A\u001B[A\u001B[A\u001B[A"
     ]
    },
    {
     "name": "stdout",
     "output_type": "stream",
     "text": [
      "lauu1247 karo1304 lauu1247\n",
      "lauu1247 olds1250 lauu1247\n",
      "lauu1247 pimb1238 lauu1247\n"
     ]
    },
    {
     "name": "stderr",
     "output_type": "stream",
     "text": [
      "\n",
      "\n",
      "\n",
      "\n",
      "\n",
      "\n",
      "\n",
      "\n",
      " 34%|█████████████▊                          | 880/2554 [21:16<46:53,  1.68s/it]\u001B[A\u001B[A\u001B[A\u001B[A\u001B[A\u001B[A\u001B[A\u001B[A"
     ]
    },
    {
     "name": "stdout",
     "output_type": "stream",
     "text": [
      "lauu1247 omie1241 lauu1247\n",
      "lauu1247 east2652 lauu1247\n",
      "lauu1247 akoy1238 lauu1247\n",
      "lauu1247 bent1238 lauu1247\n",
      "lauu1247 yaha1248 lauu1247\n",
      "lauu1247 beng1280 lauu1247\n",
      "lauu1247 tani1257 lauu1247\n",
      "lauu1247 tape1242 lauu1247\n",
      "lauu1247 sekp1241 lauu1247\n",
      "lauu1247 qaqe1238 lauu1247\n",
      "lauu1247 anga1293 lauu1247\n",
      "lauu1247 ming1252 lauu1247\n",
      "lauu1247 sout2732 lauu1247\n",
      "lauu1247 adyg1241 lauu1247\n",
      "lauu1247 huay1241 lauu1247\n",
      "lauu1247 mara1378 lauu1247\n",
      "lauu1247 dyir1250 lauu1247\n",
      "lauu1247 mata1306 lauu1247\n",
      "lauu1247 gree1278 lauu1247\n",
      "lauu1247 high1278 lauu1247\n"
     ]
    },
    {
     "name": "stderr",
     "output_type": "stream",
     "text": [
      "\n",
      "\n",
      "\n",
      "\n",
      "\n",
      "\n",
      "\n",
      "\n",
      " 35%|█████████████▉                          | 890/2554 [21:32<46:13,  1.67s/it]\u001B[A\u001B[A\u001B[A\u001B[A\u001B[A\u001B[A\u001B[A\u001B[A"
     ]
    },
    {
     "name": "stdout",
     "output_type": "stream",
     "text": [
      "lauu1247 erav1244 lauu1247\n",
      "lauu1247 foau1240 lauu1247\n",
      "lauu1247 xish1235 lauu1247\n",
      "lauu1247 dawr1236 lauu1247\n",
      "lauu1247 guam1248 lauu1247\n",
      "lauu1247 esta1236 lauu1247\n",
      "lauu1247 ogea1238 lauu1247\n",
      "lauu1247 keap1239 lauu1247\n",
      "lauu1247 lole1239 lauu1247\n"
     ]
    },
    {
     "name": "stderr",
     "output_type": "stream",
     "text": [
      "\n",
      "\n",
      "\n",
      "\n",
      "\n",
      "\n",
      "\n",
      "\n",
      " 35%|██████████████                          | 900/2554 [21:49<46:07,  1.67s/it]\u001B[A\u001B[A\u001B[A\u001B[A\u001B[A\u001B[A\u001B[A\u001B[A"
     ]
    },
    {
     "name": "stdout",
     "output_type": "stream",
     "text": [
      "lauu1247 wich1264 lauu1247\n",
      "lauu1247 uyaa1238 lauu1247\n",
      "lauu1247 kaur1267 lauu1247\n",
      "lauu1247 nyan1308 lauu1247\n",
      "lauu1247 phom1236 lauu1247\n",
      "lauu1247 mate1258 lauu1247\n",
      "lauu1247 gaww1239 lauu1247\n",
      "lauu1247 nort1545 lauu1247\n",
      "lauu1247 adho1243 lauu1247\n",
      "lauu1247 ubyk1235 lauu1247\n",
      "lauu1247 maxa1247 lauu1247\n",
      "lauu1247 goba1246 lauu1247\n",
      "lauu1247 saru1243 lauu1247\n"
     ]
    },
    {
     "name": "stderr",
     "output_type": "stream",
     "text": [
      "\n",
      "\n",
      "\n",
      "\n",
      "\n",
      "\n",
      "\n",
      "\n",
      " 36%|██████████████▎                         | 910/2554 [22:05<45:11,  1.65s/it]\u001B[A\u001B[A\u001B[A\u001B[A\u001B[A\u001B[A\u001B[A\u001B[A"
     ]
    },
    {
     "name": "stdout",
     "output_type": "stream",
     "text": [
      "lauu1247 oldw1239 lauu1247\n",
      "lauu1247 want1252 lauu1247\n",
      "lauu1247 kawa1276 lauu1247\n",
      "lauu1247 yaou1238 lauu1247\n",
      "lauu1247 sopp1247 lauu1247\n",
      "lauu1247 slov1268 lauu1247\n",
      "lauu1247 bata1294 lauu1247\n"
     ]
    },
    {
     "name": "stderr",
     "output_type": "stream",
     "text": [
      "\n",
      "\n",
      "\n",
      "\n",
      "\n",
      "\n",
      "\n",
      "\n",
      " 36%|██████████████▍                         | 920/2554 [22:22<45:05,  1.66s/it]\u001B[A\u001B[A\u001B[A\u001B[A\u001B[A\u001B[A\u001B[A\u001B[A\n",
      "\n",
      "\n",
      "\n",
      "\n",
      "\n",
      "\n",
      "\n",
      " 36%|██████████████▌                         | 930/2554 [22:39<45:41,  1.69s/it]\u001B[A\u001B[A\u001B[A\u001B[A\u001B[A\u001B[A\u001B[A\u001B[A"
     ]
    },
    {
     "name": "stdout",
     "output_type": "stream",
     "text": [
      "lauu1247 tehi1237 lauu1247\n",
      "lauu1247 yong1270 lauu1247\n",
      "lauu1247 lowl1265 lauu1247\n",
      "lauu1247 tawa1286 lauu1247\n",
      "lauu1247 nila1242 lauu1247\n",
      "lauu1247 wari1266 lauu1247\n",
      "lauu1247 mixt1426 lauu1247\n",
      "lauu1247 dano1240 lauu1247\n",
      "lauu1247 pina1252 lauu1247\n",
      "lauu1247 koon1245 lauu1247\n",
      "lauu1247 ngar1297 lauu1247\n",
      "lauu1247 tour1242 lauu1247\n",
      "lauu1247 kajt1238 lauu1247\n",
      "lauu1247 beem1239 lauu1247\n",
      "lauu1247 sout2869 lauu1247\n",
      "lauu1247 rasa1243 lauu1247\n",
      "lauu1247 phai1238 lauu1247\n",
      "lauu1247 waig1243 lauu1247\n"
     ]
    },
    {
     "name": "stderr",
     "output_type": "stream",
     "text": [
      "\n",
      "\n",
      "\n",
      "\n",
      "\n",
      "\n",
      "\n",
      "\n",
      " 37%|██████████████▋                         | 940/2554 [22:55<44:22,  1.65s/it]\u001B[A\u001B[A\u001B[A\u001B[A\u001B[A\u001B[A\u001B[A\u001B[A"
     ]
    },
    {
     "name": "stdout",
     "output_type": "stream",
     "text": [
      "lauu1247 huic1243 lauu1247\n",
      "lauu1247 asas1240 lauu1247\n",
      "lauu1247 sant1424 lauu1247\n",
      "lauu1247 east2516 lauu1247\n",
      "lauu1247 nuer1246 lauu1247\n",
      "lauu1247 wask1241 lauu1247\n",
      "lauu1247 ghar1239 lauu1247\n",
      "lauu1247 tojo1241 lauu1247\n",
      "lauu1247 semp1241 lauu1247\n"
     ]
    },
    {
     "name": "stderr",
     "output_type": "stream",
     "text": [
      "\n",
      "\n",
      "\n",
      "\n",
      "\n",
      "\n",
      "\n",
      "\n",
      " 37%|██████████████▉                         | 950/2554 [23:14<46:00,  1.72s/it]\u001B[A\u001B[A\u001B[A\u001B[A\u001B[A\u001B[A\u001B[A\u001B[A"
     ]
    },
    {
     "name": "stdout",
     "output_type": "stream",
     "text": [
      "lauu1247 waer1237 lauu1247\n",
      "lauu1247 kemb1235 lauu1247\n",
      "lauu1247 abun1252 lauu1247\n",
      "lauu1247 enap1235 lauu1247\n",
      "lauu1247 suma1270 lauu1247\n"
     ]
    },
    {
     "name": "stderr",
     "output_type": "stream",
     "text": [
      "\n",
      "\n",
      "\n",
      "\n",
      "\n",
      "\n",
      "\n",
      "\n",
      " 38%|███████████████                         | 960/2554 [23:33<47:26,  1.79s/it]\u001B[A\u001B[A\u001B[A\u001B[A\u001B[A\u001B[A\u001B[A\u001B[A"
     ]
    },
    {
     "name": "stdout",
     "output_type": "stream",
     "text": [
      "lauu1247 ocai1244 lauu1247\n",
      "lauu1247 fala1243 lauu1247\n",
      "lauu1247 kumb1274 lauu1247\n",
      "lauu1247 pwon1235 lauu1247\n",
      "lauu1247 miyo1238 lauu1247\n",
      "lauu1247 baat1238 lauu1247\n",
      "lauu1247 taii1241 lauu1247\n",
      "lauu1247 chiq1250 lauu1247\n",
      "lauu1247 sout2790 lauu1247\n",
      "lauu1247 cent2074 lauu1247\n",
      "lauu1247 kein1239 lauu1247\n"
     ]
    },
    {
     "name": "stderr",
     "output_type": "stream",
     "text": [
      "\n",
      "\n",
      "\n",
      "\n",
      "\n",
      "\n",
      "\n",
      "\n",
      " 38%|███████████████▏                        | 970/2554 [23:48<44:58,  1.70s/it]\u001B[A\u001B[A\u001B[A\u001B[A\u001B[A\u001B[A\u001B[A\u001B[A"
     ]
    },
    {
     "name": "stdout",
     "output_type": "stream",
     "text": [
      "lauu1247 aree1239 lauu1247\n",
      "lauu1247 tuwa1243 lauu1247\n",
      "lauu1247 tumb1250 lauu1247\n",
      "lauu1247 yatz1235 lauu1247\n",
      "lauu1247 khap1242 lauu1247\n",
      "lauu1247 kutu1263 lauu1247\n",
      "lauu1247 kuwa1246 lauu1247\n"
     ]
    },
    {
     "name": "stderr",
     "output_type": "stream",
     "text": [
      "\n",
      "\n",
      "\n",
      "\n",
      "\n",
      "\n",
      "\n",
      "\n",
      " 38%|███████████████▎                        | 980/2554 [24:04<43:49,  1.67s/it]\u001B[A\u001B[A\u001B[A\u001B[A\u001B[A\u001B[A\u001B[A\u001B[A"
     ]
    },
    {
     "name": "stdout",
     "output_type": "stream",
     "text": [
      "lauu1247 hdii1240 lauu1247\n",
      "lauu1247 madi1260 lauu1247\n",
      "lauu1247 jita1239 lauu1247\n",
      "lauu1247 pele1245 lauu1247\n",
      "lauu1247 logo1258 lauu1247\n",
      "lauu1247 seba1251 lauu1247\n",
      "lauu1247 bori1243 lauu1247\n",
      "lauu1247 teri1250 lauu1247\n",
      "lauu1247 mash1270 lauu1247\n"
     ]
    },
    {
     "name": "stderr",
     "output_type": "stream",
     "text": [
      "\n",
      "\n",
      "\n",
      "\n",
      "\n",
      "\n",
      "\n",
      "\n",
      " 39%|███████████████▌                        | 990/2554 [24:22<44:43,  1.72s/it]\u001B[A\u001B[A\u001B[A\u001B[A\u001B[A\u001B[A\u001B[A\u001B[A"
     ]
    },
    {
     "name": "stdout",
     "output_type": "stream",
     "text": [
      "lauu1247 fare1241 lauu1247\n",
      "lauu1247 huuu1240 lauu1247\n",
      "lauu1247 eryu1239 lauu1247\n",
      "lauu1247 wana1269 lauu1247\n",
      "lauu1247 cand1248 lauu1247\n",
      "lauu1247 sout2746 lauu1247\n",
      "lauu1247 cent2018 lauu1247\n",
      "lauu1247 pang1290 lauu1247\n",
      "lauu1247 imro1237 lauu1247\n",
      "lauu1247 ayac1239 lauu1247\n",
      "lauu1247 coyu1235 lauu1247\n",
      "lauu1247 corn1251 lauu1247\n",
      "lauu1247 cacu1241 lauu1247\n",
      "lauu1247 cota1241 lauu1247\n",
      "lauu1247 pamo1252 lauu1247\n",
      "lauu1247 gurd1238 lauu1247\n",
      "lauu1247 lule1254 lauu1247\n",
      "lauu1247 bung1265 lauu1247\n",
      "lauu1247 sowa1245 lauu1247\n",
      "lauu1247 bafi1243 lauu1247\n",
      "lauu1247 kabo1247 lauu1247\n"
     ]
    },
    {
     "name": "stderr",
     "output_type": "stream",
     "text": [
      "\n",
      "\n",
      "\n",
      "\n",
      "\n",
      "\n",
      "\n",
      "\n",
      " 39%|███████████████▎                       | 1000/2554 [24:41<45:41,  1.76s/it]\u001B[A\u001B[A\u001B[A\u001B[A\u001B[A\u001B[A\u001B[A\u001B[A"
     ]
    },
    {
     "name": "stdout",
     "output_type": "stream",
     "text": [
      "lauu1247 noct1238 lauu1247\n",
      "lauu1247 kuuk1238 lauu1247\n",
      "lauu1247 west2600 lauu1247\n",
      "lauu1247 coat1238 lauu1247\n"
     ]
    },
    {
     "name": "stderr",
     "output_type": "stream",
     "text": [
      "\n",
      "\n",
      "\n",
      "\n",
      "\n",
      "\n",
      "\n",
      "\n",
      " 40%|███████████████▍                       | 1010/2554 [24:56<43:15,  1.68s/it]\u001B[A\u001B[A\u001B[A\u001B[A\u001B[A\u001B[A\u001B[A\u001B[A"
     ]
    },
    {
     "name": "stdout",
     "output_type": "stream",
     "text": [
      "lauu1247 kouy1238 lauu1247\n",
      "lauu1247 apur1254 lauu1247\n",
      "lauu1247 kiri1256 lauu1247\n",
      "lauu1247 yukp1241 lauu1247\n",
      "lauu1247 inab1237 lauu1247\n",
      "lauu1247 sout2940 lauu1247\n",
      "lauu1247 gugu1255 lauu1247\n",
      "lauu1247 pyuu1245 lauu1247\n",
      "lauu1247 maka1316 lauu1247\n"
     ]
    },
    {
     "name": "stderr",
     "output_type": "stream",
     "text": [
      "\n",
      "\n",
      "\n",
      "\n",
      "\n",
      "\n",
      "\n",
      "\n",
      " 40%|███████████████▌                       | 1020/2554 [25:15<44:55,  1.76s/it]\u001B[A\u001B[A\u001B[A\u001B[A\u001B[A\u001B[A\u001B[A\u001B[A"
     ]
    },
    {
     "name": "stdout",
     "output_type": "stream",
     "text": [
      "lauu1247 kama1367 lauu1247\n",
      "lauu1247 saba1262 lauu1247\n",
      "lauu1247 ekar1243 lauu1247\n",
      "lauu1247 kild1236 lauu1247\n",
      "lauu1247 mail1248 lauu1247\n",
      "lauu1247 shen1252 lauu1247\n",
      "lauu1247 iray1237 lauu1247\n",
      "lauu1247 guer1241 lauu1247\n",
      "lauu1247 iron1242 lauu1247\n",
      "lauu1247 naxi1245 lauu1247\n",
      "lauu1247 wand1278 lauu1247\n",
      "lauu1247 espe1235 lauu1247\n",
      "lauu1247 same1240 lauu1247\n",
      "lauu1247 friu1240 lauu1247\n",
      "lauu1247 cash1254 lauu1247\n",
      "lauu1247 pata1262 lauu1247\n"
     ]
    },
    {
     "name": "stderr",
     "output_type": "stream",
     "text": [
      "\n",
      "\n",
      "\n",
      "\n",
      "\n",
      "\n",
      "\n",
      "\n",
      " 40%|███████████████▋                       | 1030/2554 [25:31<42:48,  1.69s/it]\u001B[A\u001B[A\u001B[A\u001B[A\u001B[A\u001B[A\u001B[A\u001B[A"
     ]
    },
    {
     "name": "stdout",
     "output_type": "stream",
     "text": [
      "lauu1247 gavi1246 lauu1247\n",
      "lauu1247 leng1262 lauu1247\n",
      "lauu1247 madi1261 lauu1247\n",
      "lauu1247 yong1280 lauu1247\n",
      "lauu1247 ihaa1241 lauu1247\n",
      "lauu1247 panj1256 lauu1247\n",
      "lauu1247 duke1237 lauu1247\n",
      "lauu1247 komi1269 lauu1247\n"
     ]
    },
    {
     "name": "stderr",
     "output_type": "stream",
     "text": [
      "\n",
      "\n",
      "\n",
      "\n",
      "\n",
      "\n",
      "\n",
      "\n",
      " 41%|███████████████▉                       | 1040/2554 [25:51<45:15,  1.79s/it]\u001B[A\u001B[A\u001B[A\u001B[A\u001B[A\u001B[A\u001B[A\u001B[A"
     ]
    },
    {
     "name": "stdout",
     "output_type": "stream",
     "text": [
      "lauu1247 dhar1247 lauu1247\n",
      "lauu1247 buki1249 lauu1247\n",
      "lauu1247 dass1243 lauu1247\n",
      "lauu1247 cita1245 lauu1247\n",
      "lauu1247 timn1235 lauu1247\n"
     ]
    },
    {
     "name": "stderr",
     "output_type": "stream",
     "text": [
      "\n",
      "\n",
      "\n",
      "\n",
      "\n",
      "\n",
      "\n",
      "\n",
      " 41%|████████████████                       | 1050/2554 [26:09<44:46,  1.79s/it]\u001B[A\u001B[A\u001B[A\u001B[A\u001B[A\u001B[A\u001B[A\u001B[A"
     ]
    },
    {
     "name": "stdout",
     "output_type": "stream",
     "text": [
      "lauu1247 gela1263 lauu1247\n",
      "lauu1247 yama1264 lauu1247\n",
      "lauu1247 kala1394 lauu1247\n",
      "lauu1247 texm1235 lauu1247\n",
      "lauu1247 afri1274 lauu1247\n",
      "lauu1247 duun1241 lauu1247\n",
      "lauu1247 kama1370 lauu1247\n",
      "lauu1247 chug1252 lauu1247\n",
      "lauu1247 toho1245 lauu1247\n",
      "lauu1247 nort2722 lauu1247\n",
      "lauu1247 popt1235 lauu1247\n",
      "lauu1247 east2558 lauu1247\n",
      "lauu1247 copa1237 lauu1247\n",
      "lauu1247 nort2740 lauu1247\n"
     ]
    },
    {
     "name": "stderr",
     "output_type": "stream",
     "text": [
      "\n",
      "\n",
      "\n",
      "\n",
      "\n",
      "\n",
      "\n",
      "\n",
      " 42%|████████████████▏                      | 1060/2554 [26:26<43:52,  1.76s/it]\u001B[A\u001B[A\u001B[A\u001B[A\u001B[A\u001B[A\u001B[A\u001B[A"
     ]
    },
    {
     "name": "stdout",
     "output_type": "stream",
     "text": [
      "lauu1247 taik1255 lauu1247\n",
      "lauu1247 thar1283 lauu1247\n",
      "lauu1247 taba1263 lauu1247\n",
      "lauu1247 botl1242 lauu1247\n",
      "lauu1247 clas1254 lauu1247\n"
     ]
    },
    {
     "name": "stderr",
     "output_type": "stream",
     "text": [
      "\n",
      "\n",
      "\n",
      "\n",
      "\n",
      "\n",
      "\n",
      "\n",
      " 42%|████████████████▎                      | 1070/2554 [26:44<43:57,  1.78s/it]\u001B[A\u001B[A\u001B[A\u001B[A\u001B[A\u001B[A\u001B[A\u001B[A"
     ]
    },
    {
     "name": "stdout",
     "output_type": "stream",
     "text": [
      "lauu1247 waru1264 lauu1247\n",
      "lauu1247 siaw1243 lauu1247\n",
      "lauu1247 tupu1244 lauu1247\n",
      "lauu1247 kulo1237 lauu1247\n",
      "lauu1247 ngad1258 lauu1247\n",
      "lauu1247 suzh1234 lauu1247\n",
      "lauu1247 cher1273 lauu1247\n",
      "lauu1247 kaba1278 lauu1247\n",
      "lauu1247 toto1305 lauu1247\n",
      "lauu1247 arif1239 lauu1247\n"
     ]
    },
    {
     "name": "stderr",
     "output_type": "stream",
     "text": [
      "\n",
      "\n",
      "\n",
      "\n",
      "\n",
      "\n",
      "\n",
      "\n",
      " 42%|████████████████▍                      | 1080/2554 [27:00<42:24,  1.73s/it]\u001B[A\u001B[A\u001B[A\u001B[A\u001B[A\u001B[A\u001B[A\u001B[A"
     ]
    },
    {
     "name": "stdout",
     "output_type": "stream",
     "text": [
      "lauu1247 kaiy1239 lauu1247\n",
      "lauu1247 mesm1239 lauu1247\n",
      "lauu1247 mano1275 lauu1247\n",
      "lauu1247 seve1240 lauu1247\n",
      "lauu1247 sele1250 lauu1247\n",
      "lauu1247 onob1238 lauu1247\n"
     ]
    },
    {
     "name": "stderr",
     "output_type": "stream",
     "text": [
      "\n",
      "\n",
      "\n",
      "\n",
      "\n",
      "\n",
      "\n",
      "\n",
      " 43%|████████████████▋                      | 1090/2554 [27:17<42:03,  1.72s/it]\u001B[A\u001B[A\u001B[A\u001B[A\u001B[A\u001B[A\u001B[A\u001B[A\n",
      "\n",
      "\n",
      "\n",
      "\n",
      "\n",
      "\n",
      "\n",
      " 43%|████████████████▊                      | 1100/2554 [27:34<41:21,  1.71s/it]\u001B[A\u001B[A\u001B[A\u001B[A\u001B[A\u001B[A\u001B[A\u001B[A"
     ]
    },
    {
     "name": "stdout",
     "output_type": "stream",
     "text": [
      "lauu1247 anuk1239 lauu1247\n",
      "lauu1247 bamb1269 lauu1247\n",
      "lauu1247 pano1254 lauu1247\n",
      "lauu1247 idun1242 lauu1247\n",
      "lauu1247 dhao1237 lauu1247\n",
      "lauu1247 koru1245 lauu1247\n",
      "lauu1247 sapo1254 lauu1247\n",
      "lauu1247 dout1240 lauu1247\n",
      "lauu1247 bugh1239 lauu1247\n",
      "lauu1247 tuku1254 lauu1247\n",
      "lauu1247 baou1238 lauu1247\n",
      "lauu1247 nort3046 lauu1247\n",
      "lauu1247 lhom1239 lauu1247\n",
      "lauu1247 bilu1245 lauu1247\n",
      "lauu1247 hlai1239 lauu1247\n",
      "lauu1247 ibat1238 lauu1247\n",
      "lauu1247 dobe1238 lauu1247\n",
      "lauu1247 cabi1241 lauu1247\n",
      "lauu1247 guah1255 lauu1247\n",
      "lauu1247 kama1373 lauu1247\n",
      "lauu1247 bulg1262 lauu1247\n",
      "lauu1247 loba1239 lauu1247\n",
      "lauu1247 kiry1234 lauu1247\n",
      "lauu1247 naka1262 lauu1247\n",
      "lauu1247 sika1263 lauu1247\n",
      "lauu1247 bawm1236 lauu1247\n",
      "lauu1247 vunj1238 lauu1247\n",
      "lauu1247 mapu1245 lauu1247\n",
      "lauu1247 lakk1252 lauu1247\n",
      "lauu1247 ndyu1242 lauu1247\n",
      "lauu1247 gwah1244 lauu1247\n",
      "lauu1247 nukk1240 lauu1247\n",
      "lauu1247 nort2957 lauu1247\n"
     ]
    },
    {
     "name": "stderr",
     "output_type": "stream",
     "text": [
      "\n",
      "\n",
      "\n",
      "\n",
      "\n",
      "\n",
      "\n",
      "\n",
      " 43%|████████████████▉                      | 1110/2554 [27:49<39:21,  1.64s/it]\u001B[A\u001B[A\u001B[A\u001B[A\u001B[A\u001B[A\u001B[A\u001B[A"
     ]
    },
    {
     "name": "stdout",
     "output_type": "stream",
     "text": [
      "lauu1247 awac1239 lauu1247\n",
      "lauu1247 nege1244 lauu1247\n",
      "lauu1247 embe1261 lauu1247\n",
      "lauu1247 amba1269 lauu1247\n",
      "lauu1247 kryt1240 lauu1247\n",
      "lauu1247 keya1238 lauu1247\n",
      "lauu1247 sepi1255 lauu1247\n",
      "lauu1247 cash1251 lauu1247\n",
      "lauu1247 tepe1279 lauu1247\n",
      "lauu1247 mode1248 lauu1247\n",
      "lauu1247 amat1238 lauu1247\n",
      "lauu1247 mans1260 lauu1247\n"
     ]
    },
    {
     "name": "stderr",
     "output_type": "stream",
     "text": [
      "\n",
      "\n",
      "\n",
      "\n",
      "\n",
      "\n",
      "\n",
      "\n",
      " 44%|█████████████████                      | 1120/2554 [28:10<42:28,  1.78s/it]\u001B[A\u001B[A\u001B[A\u001B[A\u001B[A\u001B[A\u001B[A\u001B[A"
     ]
    },
    {
     "name": "stdout",
     "output_type": "stream",
     "text": [
      "lauu1247 chiq1248 lauu1247\n",
      "lauu1247 nort2976 lauu1247\n",
      "lauu1247 iton1250 lauu1247\n",
      "lauu1247 ramo1244 lauu1247\n",
      "lauu1247 swat1243 lauu1247\n"
     ]
    },
    {
     "name": "stderr",
     "output_type": "stream",
     "text": [
      "\n",
      "\n",
      "\n",
      "\n",
      "\n",
      "\n",
      "\n",
      "\n",
      " 44%|█████████████████▎                     | 1130/2554 [28:25<40:45,  1.72s/it]\u001B[A\u001B[A\u001B[A\u001B[A\u001B[A\u001B[A\u001B[A\u001B[A"
     ]
    },
    {
     "name": "stdout",
     "output_type": "stream",
     "text": [
      "lauu1247 doee1238 lauu1247\n",
      "lauu1247 kiny1244 lauu1247\n",
      "lauu1247 iauu1242 lauu1247\n",
      "lauu1247 bina1275 lauu1247\n",
      "lauu1247 wand1267 lauu1247\n",
      "lauu1247 hehe1240 lauu1247\n"
     ]
    },
    {
     "name": "stderr",
     "output_type": "stream",
     "text": [
      "\n",
      "\n",
      "\n",
      "\n",
      "\n",
      "\n",
      "\n",
      "\n",
      " 45%|█████████████████▍                     | 1140/2554 [28:44<41:44,  1.77s/it]\u001B[A\u001B[A\u001B[A\u001B[A\u001B[A\u001B[A\u001B[A\u001B[A"
     ]
    },
    {
     "name": "stdout",
     "output_type": "stream",
     "text": [
      "lauu1247 orya1242 lauu1247\n",
      "lauu1247 kaer1234 lauu1247\n",
      "lauu1247 iwal1237 lauu1247\n",
      "lauu1247 moun1252 lauu1247\n",
      "lauu1247 kwai1243 lauu1247\n",
      "lauu1247 sasa1249 lauu1247\n",
      "lauu1247 pedi1238 lauu1247\n",
      "lauu1247 bwai1242 lauu1247\n"
     ]
    },
    {
     "name": "stderr",
     "output_type": "stream",
     "text": [
      "\n",
      "\n",
      "\n",
      "\n",
      "\n",
      "\n",
      "\n",
      "\n",
      " 45%|█████████████████▌                     | 1150/2554 [29:02<41:06,  1.76s/it]\u001B[A\u001B[A\u001B[A\u001B[A\u001B[A\u001B[A\u001B[A\u001B[A"
     ]
    },
    {
     "name": "stdout",
     "output_type": "stream",
     "text": [
      "lauu1247 ninz1246 lauu1247\n",
      "lauu1247 akeu1235 lauu1247\n",
      "lauu1247 nepa1254 lauu1247\n",
      "lauu1247 vlax1238 lauu1247\n",
      "lauu1247 kunm1234 lauu1247\n",
      "lauu1247 kuan1247 lauu1247\n",
      "lauu1247 momu1241 lauu1247\n",
      "lauu1247 sank1253 lauu1247\n",
      "lauu1247 orow1243 lauu1247\n",
      "lauu1247 veng1238 lauu1247\n",
      "lauu1247 ikom1245 lauu1247\n",
      "lauu1247 kobo1248 lauu1247\n"
     ]
    },
    {
     "name": "stderr",
     "output_type": "stream",
     "text": [
      "\n",
      "\n",
      "\n",
      "\n",
      "\n",
      "\n",
      "\n",
      "\n",
      " 45%|█████████████████▋                     | 1160/2554 [29:19<40:53,  1.76s/it]\u001B[A\u001B[A\u001B[A\u001B[A\u001B[A\u001B[A\u001B[A\u001B[A"
     ]
    },
    {
     "name": "stdout",
     "output_type": "stream",
     "text": [
      "lauu1247 tele1256 lauu1247\n",
      "lauu1247 east2534 lauu1247\n",
      "lauu1247 shon1251 lauu1247\n",
      "lauu1247 lavu1241 lauu1247\n",
      "lauu1247 arch1244 lauu1247\n",
      "lauu1247 dimi1244 lauu1247\n",
      "lauu1247 ment1249 lauu1247\n",
      "lauu1247 mama1277 lauu1247\n",
      "lauu1247 assa1263 lauu1247\n",
      "lauu1247 somr1240 lauu1247\n",
      "lauu1247 atoh1238 lauu1247\n",
      "lauu1247 anem1248 lauu1247\n",
      "lauu1247 mose1249 lauu1247\n",
      "lauu1247 arua1261 lauu1247\n",
      "lauu1247 ubir1237 lauu1247\n",
      "lauu1247 dogr1252 lauu1247\n",
      "lauu1247 tawo1244 lauu1247\n",
      "lauu1247 jola1263 lauu1247\n",
      "lauu1247 sili1247 lauu1247\n",
      "lauu1247 diux1235 lauu1247\n",
      "lauu1247 foii1241 lauu1247\n",
      "lauu1247 ngan1291 lauu1247\n",
      "lauu1247 amha1245 lauu1247\n"
     ]
    },
    {
     "name": "stderr",
     "output_type": "stream",
     "text": [
      "\n",
      "\n",
      "\n",
      "\n",
      "\n",
      "\n",
      "\n",
      "\n",
      " 46%|█████████████████▊                     | 1170/2554 [29:38<41:37,  1.80s/it]\u001B[A\u001B[A\u001B[A\u001B[A\u001B[A\u001B[A\u001B[A\u001B[A\n",
      "\n",
      "\n",
      "\n",
      "\n",
      "\n",
      "\n",
      "\n",
      " 46%|██████████████████                     | 1180/2554 [29:55<40:39,  1.78s/it]\u001B[A\u001B[A\u001B[A\u001B[A\u001B[A\u001B[A\u001B[A\u001B[A\n",
      "\n",
      "\n",
      "\n",
      "\n",
      "\n",
      "\n",
      "\n",
      " 47%|██████████████████▏                    | 1190/2554 [30:11<39:03,  1.72s/it]\u001B[A\u001B[A\u001B[A\u001B[A\u001B[A\u001B[A\u001B[A\u001B[A"
     ]
    },
    {
     "name": "stdout",
     "output_type": "stream",
     "text": [
      "lauu1247 nort2916 lauu1247\n",
      "lauu1247 embu1241 lauu1247\n",
      "lauu1247 taus1252 lauu1247\n",
      "lauu1247 tena1240 lauu1247\n",
      "lauu1247 baka1274 lauu1247\n",
      "lauu1247 para1306 lauu1247\n",
      "lauu1247 kono1268 lauu1247\n",
      "lauu1247 bulu1251 lauu1247\n",
      "lauu1247 suau1242 lauu1247\n",
      "lauu1247 naka1265 lauu1247\n",
      "lauu1247 ngaw1239 lauu1247\n",
      "lauu1247 awyi1241 lauu1247\n",
      "lauu1247 ruka1240 lauu1247\n",
      "lauu1247 sout2844 lauu1247\n",
      "lauu1247 abua1245 lauu1247\n",
      "lauu1247 jami1235 lauu1247\n",
      "lauu1247 baim1245 lauu1247\n",
      "lauu1247 nucl1310 lauu1247\n"
     ]
    },
    {
     "name": "stderr",
     "output_type": "stream",
     "text": [
      "\n",
      "\n",
      "\n",
      "\n",
      "\n",
      "\n",
      "\n",
      "\n",
      " 47%|██████████████████▎                    | 1200/2554 [30:27<37:49,  1.68s/it]\u001B[A\u001B[A\u001B[A\u001B[A\u001B[A\u001B[A\u001B[A\u001B[A"
     ]
    },
    {
     "name": "stdout",
     "output_type": "stream",
     "text": [
      "lauu1247 chol1282 lauu1247\n",
      "lauu1247 east2370 lauu1247\n",
      "lauu1247 ital1282 lauu1247\n",
      "lauu1247 baur1253 lauu1247\n",
      "lauu1247 stan1295 lauu1247\n",
      "lauu1247 phon1246 lauu1247\n",
      "lauu1247 fuzh1239 lauu1247\n",
      "lauu1247 gada1258 lauu1247\n",
      "lauu1247 ewee1241 lauu1247\n",
      "lauu1247 hopi1249 lauu1247\n",
      "lauu1247 kwom1262 lauu1247\n",
      "lauu1247 colo1256 lauu1247\n",
      "lauu1247 nucl1301 lauu1247\n",
      "lauu1247 moba1244 lauu1247\n",
      "lauu1247 boto1242 lauu1247\n",
      "lauu1247 nand1266 lauu1247\n",
      "lauu1247 sout2994 lauu1247\n",
      "lauu1247 ngal1291 lauu1247\n",
      "lauu1247 nuuc1236 lauu1247\n"
     ]
    },
    {
     "name": "stderr",
     "output_type": "stream",
     "text": [
      "\n",
      "\n",
      "\n",
      "\n",
      "\n",
      "\n",
      "\n",
      "\n",
      " 47%|██████████████████▍                    | 1210/2554 [30:46<39:13,  1.75s/it]\u001B[A\u001B[A\u001B[A\u001B[A\u001B[A\u001B[A\u001B[A\u001B[A"
     ]
    },
    {
     "name": "stdout",
     "output_type": "stream",
     "text": [
      "lauu1247 maya1280 lauu1247\n",
      "lauu1247 algo1255 lauu1247\n",
      "lauu1247 west2454 lauu1247\n",
      "lauu1247 kadi1248 lauu1247\n",
      "lauu1247 kuot1243 lauu1247\n"
     ]
    },
    {
     "name": "stderr",
     "output_type": "stream",
     "text": [
      "\n",
      "\n",
      "\n",
      "\n",
      "\n",
      "\n",
      "\n",
      "\n",
      " 48%|██████████████████▋                    | 1220/2554 [31:03<38:35,  1.74s/it]\u001B[A\u001B[A\u001B[A\u001B[A\u001B[A\u001B[A\u001B[A\u001B[A"
     ]
    },
    {
     "name": "stdout",
     "output_type": "stream",
     "text": [
      "lauu1247 nort2671 lauu1247\n",
      "lauu1247 goro1259 lauu1247\n",
      "lauu1247 kuma1275 lauu1247\n",
      "lauu1247 tofa1246 lauu1247\n",
      "lauu1247 lega1249 lauu1247\n",
      "lauu1247 kons1243 lauu1247\n",
      "lauu1247 akhv1239 lauu1247\n",
      "lauu1247 kisa1266 lauu1247\n",
      "lauu1247 mitl1236 lauu1247\n"
     ]
    },
    {
     "name": "stderr",
     "output_type": "stream",
     "text": [
      "\n",
      "\n",
      "\n",
      "\n",
      "\n",
      "\n",
      "\n",
      "\n",
      " 48%|██████████████████▊                    | 1230/2554 [31:20<37:37,  1.70s/it]\u001B[A\u001B[A\u001B[A\u001B[A\u001B[A\u001B[A\u001B[A\u001B[A"
     ]
    },
    {
     "name": "stdout",
     "output_type": "stream",
     "text": [
      "lauu1247 nimi1240 lauu1247\n",
      "lauu1247 sier1250 lauu1247\n",
      "lauu1247 waam1244 lauu1247\n"
     ]
    },
    {
     "name": "stderr",
     "output_type": "stream",
     "text": [
      "\n",
      "\n",
      "\n",
      "\n",
      "\n",
      "\n",
      "\n",
      "\n",
      " 49%|██████████████████▉                    | 1240/2554 [31:38<38:13,  1.75s/it]\u001B[A\u001B[A\u001B[A\u001B[A\u001B[A\u001B[A\u001B[A\u001B[A"
     ]
    },
    {
     "name": "stdout",
     "output_type": "stream",
     "text": [
      "lauu1247 kona1242 lauu1247\n",
      "lauu1247 kuma1273 lauu1247\n",
      "lauu1247 naro1249 lauu1247\n",
      "lauu1247 warl1256 lauu1247\n",
      "lauu1247 mina1274 lauu1247\n",
      "lauu1247 bugi1244 lauu1247\n",
      "lauu1247 aros1241 lauu1247\n",
      "lauu1247 natu1246 lauu1247\n",
      "lauu1247 teun1241 lauu1247\n",
      "lauu1247 teiw1235 lauu1247\n",
      "lauu1247 vari1239 lauu1247\n",
      "lauu1247 misi1243 lauu1247\n",
      "lauu1247 piji1239 lauu1247\n",
      "lauu1247 wari1268 lauu1247\n",
      "lauu1247 tezo1238 lauu1247\n",
      "lauu1247 waim1255 lauu1247\n"
     ]
    },
    {
     "name": "stderr",
     "output_type": "stream",
     "text": [
      "\n",
      "\n",
      "\n",
      "\n",
      "\n",
      "\n",
      "\n",
      "\n",
      " 49%|███████████████████                    | 1250/2554 [31:55<37:52,  1.74s/it]\u001B[A\u001B[A\u001B[A\u001B[A\u001B[A\u001B[A\u001B[A\u001B[A"
     ]
    },
    {
     "name": "stdout",
     "output_type": "stream",
     "text": [
      "lauu1247 lamb1271 lauu1247\n",
      "lauu1247 buna1276 lauu1247\n",
      "lauu1247 ngiz1242 lauu1247\n",
      "lauu1247 cent1394 lauu1247\n",
      "lauu1247 sika1262 lauu1247\n",
      "lauu1247 nucl1290 lauu1247\n",
      "lauu1247 rong1266 lauu1247\n",
      "lauu1247 sapo1253 lauu1247\n",
      "lauu1247 magd1235 lauu1247\n",
      "lauu1247 muya1243 lauu1247\n",
      "lauu1247 asum1237 lauu1247\n",
      "lauu1247 abkh1244 lauu1247\n",
      "lauu1247 veps1250 lauu1247\n",
      "lauu1247 toll1241 lauu1247\n",
      "lauu1247 sioo1240 lauu1247\n",
      "lauu1247 anka1246 lauu1247\n",
      "lauu1247 kham1282 lauu1247\n"
     ]
    },
    {
     "name": "stderr",
     "output_type": "stream",
     "text": [
      "\n",
      "\n",
      "\n",
      "\n",
      "\n",
      "\n",
      "\n",
      "\n",
      " 49%|███████████████████▏                   | 1260/2554 [32:13<37:29,  1.74s/it]\u001B[A\u001B[A\u001B[A\u001B[A\u001B[A\u001B[A\u001B[A\u001B[A"
     ]
    },
    {
     "name": "stdout",
     "output_type": "stream",
     "text": [
      "lauu1247 kaby1243 lauu1247\n",
      "lauu1247 cham1313 lauu1247\n",
      "lauu1247 kora1296 lauu1247\n",
      "lauu1247 maza1292 lauu1247\n"
     ]
    },
    {
     "name": "stderr",
     "output_type": "stream",
     "text": [
      "\n",
      "\n",
      "\n",
      "\n",
      "\n",
      "\n",
      "\n",
      "\n",
      " 50%|███████████████████▍                   | 1270/2554 [32:30<37:18,  1.74s/it]\u001B[A\u001B[A\u001B[A\u001B[A\u001B[A\u001B[A\u001B[A\u001B[A"
     ]
    },
    {
     "name": "stdout",
     "output_type": "stream",
     "text": [
      "lauu1247 konn1242 lauu1247\n",
      "lauu1247 east2398 lauu1247\n",
      "lauu1247 bamb1270 lauu1247\n",
      "lauu1247 isth1242 lauu1247\n",
      "lauu1247 bell1243 lauu1247\n",
      "lauu1247 tang1336 lauu1247\n",
      "lauu1247 ango1254 lauu1247\n",
      "lauu1247 tong1325 lauu1247\n",
      "lauu1247 napo1242 lauu1247\n",
      "lauu1247 anin1240 lauu1247\n",
      "lauu1247 kehu1238 lauu1247\n",
      "lauu1247 yuga1244 lauu1247\n"
     ]
    },
    {
     "name": "stderr",
     "output_type": "stream",
     "text": [
      "\n",
      "\n",
      "\n",
      "\n",
      "\n",
      "\n",
      "\n",
      "\n",
      " 50%|███████████████████▌                   | 1280/2554 [32:46<35:58,  1.69s/it]\u001B[A\u001B[A\u001B[A\u001B[A\u001B[A\u001B[A\u001B[A\u001B[A"
     ]
    },
    {
     "name": "stdout",
     "output_type": "stream",
     "text": [
      "lauu1247 kura1250 lauu1247\n",
      "lauu1247 mang1404 lauu1247\n",
      "lauu1247 pang1287 lauu1247\n",
      "lauu1247 hame1242 lauu1247\n"
     ]
    },
    {
     "name": "stderr",
     "output_type": "stream",
     "text": [
      "\n",
      "\n",
      "\n",
      "\n",
      "\n",
      "\n",
      "\n",
      "\n",
      " 51%|███████████████████▋                   | 1290/2554 [33:04<36:31,  1.73s/it]\u001B[A\u001B[A\u001B[A\u001B[A\u001B[A\u001B[A\u001B[A\u001B[A"
     ]
    },
    {
     "name": "stdout",
     "output_type": "stream",
     "text": [
      "lauu1247 gali1262 lauu1247\n",
      "lauu1247 west2430 lauu1247\n",
      "lauu1247 jola1262 lauu1247\n",
      "lauu1247 liwe1234 lauu1247\n",
      "lauu1247 wich1262 lauu1247\n",
      "lauu1247 yand1253 lauu1247\n",
      "lauu1247 chew1245 lauu1247\n",
      "lauu1247 coat1244 lauu1247\n",
      "lauu1247 mula1253 lauu1247\n",
      "lauu1247 meya1236 lauu1247\n"
     ]
    },
    {
     "name": "stderr",
     "output_type": "stream",
     "text": [
      "\n",
      "\n",
      "\n",
      "\n",
      "\n",
      "\n",
      "\n",
      "\n",
      " 51%|███████████████████▊                   | 1300/2554 [33:22<36:25,  1.74s/it]\u001B[A\u001B[A\u001B[A\u001B[A\u001B[A\u001B[A\u001B[A\u001B[A"
     ]
    },
    {
     "name": "stdout",
     "output_type": "stream",
     "text": [
      "lauu1247 sali1295 lauu1247\n",
      "lauu1247 hali1244 lauu1247\n",
      "lauu1247 lukp1238 lauu1247\n",
      "lauu1247 basa1284 lauu1247\n",
      "lauu1247 atem1241 lauu1247\n",
      "lauu1247 nort2959 lauu1247\n",
      "lauu1247 play1240 lauu1247\n",
      "lauu1247 wala1269 lauu1247\n"
     ]
    },
    {
     "name": "stderr",
     "output_type": "stream",
     "text": [
      "\n",
      "\n",
      "\n",
      "\n",
      "\n",
      "\n",
      "\n",
      "\n",
      " 51%|████████████████████                   | 1310/2554 [33:38<35:34,  1.72s/it]\u001B[A\u001B[A\u001B[A\u001B[A\u001B[A\u001B[A\u001B[A\u001B[A"
     ]
    },
    {
     "name": "stdout",
     "output_type": "stream",
     "text": [
      "lauu1247 logu1236 lauu1247\n",
      "lauu1247 ekaa1234 lauu1247\n",
      "lauu1247 horp1239 lauu1247\n",
      "lauu1247 dung1253 lauu1247\n",
      "lauu1247 siyi1240 lauu1247\n",
      "lauu1247 sout3210 lauu1247\n",
      "lauu1247 masb1238 lauu1247\n",
      "lauu1247 kark1258 lauu1247\n",
      "lauu1247 cana1262 lauu1247\n",
      "lauu1247 mama1278 lauu1247\n",
      "lauu1247 udii1243 lauu1247\n",
      "lauu1247 kain1272 lauu1247\n",
      "lauu1247 quey1238 lauu1247\n",
      "lauu1247 tigr1271 lauu1247\n",
      "lauu1247 bava1246 lauu1247\n",
      "lauu1247 mwer1248 lauu1247\n",
      "lauu1247 tomm1242 lauu1247\n",
      "lauu1247 mafa1239 lauu1247\n",
      "lauu1247 cent2087 lauu1247\n",
      "lauu1247 fait1240 lauu1247\n",
      "lauu1247 basq1248 lauu1247\n",
      "lauu1247 thak1245 lauu1247\n",
      "lauu1247 curr1243 lauu1247\n",
      "lauu1247 taga1272 lauu1247\n",
      "lauu1247 tabo1241 lauu1247\n"
     ]
    },
    {
     "name": "stderr",
     "output_type": "stream",
     "text": [
      "\n",
      "\n",
      "\n",
      "\n",
      "\n",
      "\n",
      "\n",
      "\n",
      " 52%|████████████████████▏                  | 1320/2554 [33:56<35:23,  1.72s/it]\u001B[A\u001B[A\u001B[A\u001B[A\u001B[A\u001B[A\u001B[A\u001B[A"
     ]
    },
    {
     "name": "stdout",
     "output_type": "stream",
     "text": [
      "lauu1247 neha1247 lauu1247\n",
      "lauu1247 bitt1240 lauu1247\n",
      "lauu1247 pate1247 lauu1247\n",
      "lauu1247 nava1243 lauu1247\n"
     ]
    },
    {
     "name": "stderr",
     "output_type": "stream",
     "text": [
      "\n",
      "\n",
      "\n",
      "\n",
      "\n",
      "\n",
      "\n",
      "\n",
      " 52%|████████████████████▎                  | 1330/2554 [34:15<36:19,  1.78s/it]\u001B[A\u001B[A\u001B[A\u001B[A\u001B[A\u001B[A\u001B[A\u001B[A\n",
      "\n",
      "\n",
      "\n",
      "\n",
      "\n",
      "\n",
      "\n",
      " 52%|████████████████████▍                  | 1340/2554 [34:30<34:26,  1.70s/it]\u001B[A\u001B[A\u001B[A\u001B[A\u001B[A\u001B[A\u001B[A\u001B[A"
     ]
    },
    {
     "name": "stdout",
     "output_type": "stream",
     "text": [
      "lauu1247 budu1248 lauu1247\n",
      "lauu1247 lenj1248 lauu1247\n",
      "lauu1247 irig1242 lauu1247\n",
      "lauu1247 weno1238 lauu1247\n",
      "lauu1247 weri1253 lauu1247\n",
      "lauu1247 chop1243 lauu1247\n",
      "lauu1247 tatu1247 lauu1247\n",
      "lauu1247 nort2697 lauu1247\n",
      "lauu1247 nucl1460 lauu1247\n"
     ]
    },
    {
     "name": "stderr",
     "output_type": "stream",
     "text": [
      "\n",
      "\n",
      "\n",
      "\n",
      "\n",
      "\n",
      "\n",
      "\n",
      " 53%|████████████████████▌                  | 1350/2554 [34:49<35:13,  1.76s/it]\u001B[A\u001B[A\u001B[A\u001B[A\u001B[A\u001B[A\u001B[A\u001B[A"
     ]
    },
    {
     "name": "stdout",
     "output_type": "stream",
     "text": [
      "lauu1247 sawi1256 lauu1247\n",
      "lauu1247 plau1238 lauu1247\n",
      "lauu1247 pint1251 lauu1247\n",
      "lauu1247 oriy1255 lauu1247\n",
      "lauu1247 mori1271 lauu1247\n",
      "lauu1247 maka1311 lauu1247\n",
      "lauu1247 savo1255 lauu1247\n",
      "lauu1247 roma1328 lauu1247\n",
      "lauu1247 meny1245 lauu1247\n",
      "lauu1247 zotu1235 lauu1247\n",
      "lauu1247 bagv1239 lauu1247\n",
      "lauu1247 yabu1234 lauu1247\n",
      "lauu1247 doro1266 lauu1247\n",
      "lauu1247 stan1288 lauu1247\n",
      "lauu1247 hmon1333 lauu1247\n",
      "lauu1247 wiru1244 lauu1247\n",
      "lauu1247 nort2815 lauu1247\n",
      "lauu1247 taji1245 lauu1247\n"
     ]
    },
    {
     "name": "stderr",
     "output_type": "stream",
     "text": [
      "\n",
      "\n",
      "\n",
      "\n",
      "\n",
      "\n",
      "\n",
      "\n",
      " 53%|████████████████████▊                  | 1360/2554 [35:08<35:50,  1.80s/it]\u001B[A\u001B[A\u001B[A\u001B[A\u001B[A\u001B[A\u001B[A\u001B[A"
     ]
    },
    {
     "name": "stdout",
     "output_type": "stream",
     "text": [
      "lauu1247 chib1270 lauu1247\n",
      "lauu1247 narr1259 lauu1247\n",
      "lauu1247 oldi1245 lauu1247\n",
      "lauu1247 ngal1298 lauu1247\n",
      "lauu1247 jina1245 lauu1247\n"
     ]
    },
    {
     "name": "stderr",
     "output_type": "stream",
     "text": [
      "\n",
      "\n",
      "\n",
      "\n",
      "\n",
      "\n",
      "\n",
      "\n",
      " 54%|████████████████████▉                  | 1370/2554 [35:26<35:30,  1.80s/it]\u001B[A\u001B[A\u001B[A\u001B[A\u001B[A\u001B[A\u001B[A\u001B[A"
     ]
    },
    {
     "name": "stdout",
     "output_type": "stream",
     "text": [
      "lauu1247 lang1316 lauu1247\n",
      "lauu1247 rong1269 lauu1247\n",
      "lauu1247 amel1241 lauu1247\n",
      "lauu1247 mark1255 lauu1247\n",
      "lauu1247 diaa1238 lauu1247\n",
      "lauu1247 tain1252 lauu1247\n"
     ]
    },
    {
     "name": "stderr",
     "output_type": "stream",
     "text": [
      "\n",
      "\n",
      "\n",
      "\n",
      "\n",
      "\n",
      "\n",
      "\n",
      " 54%|█████████████████████                  | 1380/2554 [35:43<34:29,  1.76s/it]\u001B[A\u001B[A\u001B[A\u001B[A\u001B[A\u001B[A\u001B[A\u001B[A"
     ]
    },
    {
     "name": "stdout",
     "output_type": "stream",
     "text": [
      "lauu1247 chan1313 lauu1247\n",
      "lauu1247 haya1250 lauu1247\n",
      "lauu1247 jara1266 lauu1247\n",
      "lauu1247 wang1302 lauu1247\n",
      "lauu1247 mama1275 lauu1247\n",
      "lauu1247 puka1244 lauu1247\n",
      "lauu1247 kaur1271 lauu1247\n",
      "lauu1247 sant1436 lauu1247\n",
      "lauu1247 mumm1238 lauu1247\n",
      "lauu1247 nkon1248 lauu1247\n",
      "lauu1247 mono1270 lauu1247\n",
      "lauu1247 sanj1281 lauu1247\n"
     ]
    },
    {
     "name": "stderr",
     "output_type": "stream",
     "text": [
      "\n",
      "\n",
      "\n",
      "\n",
      "\n",
      "\n",
      "\n",
      "\n",
      " 54%|█████████████████████▏                 | 1390/2554 [35:58<32:39,  1.68s/it]\u001B[A\u001B[A\u001B[A\u001B[A\u001B[A\u001B[A\u001B[A\u001B[A"
     ]
    },
    {
     "name": "stdout",
     "output_type": "stream",
     "text": [
      "lauu1247 nede1245 lauu1247\n",
      "lauu1247 newa1246 lauu1247\n",
      "lauu1247 mong1342 lauu1247\n",
      "lauu1247 manx1243 lauu1247\n",
      "lauu1247 nyis1236 lauu1247\n",
      "lauu1247 nimo1247 lauu1247\n",
      "lauu1247 ukal1234 lauu1247\n",
      "lauu1247 seri1255 lauu1247\n",
      "lauu1247 lada1244 lauu1247\n",
      "lauu1247 wana1268 lauu1247\n",
      "lauu1247 kuni1267 lauu1247\n",
      "lauu1247 lite1248 lauu1247\n",
      "lauu1247 balk1252 lauu1247\n",
      "lauu1247 qawa1238 lauu1247\n",
      "lauu1247 ngab1239 lauu1247\n",
      "lauu1247 nort2765 lauu1247\n",
      "lauu1247 kwer1264 lauu1247\n",
      "lauu1247 namu1246 lauu1247\n",
      "lauu1247 aeky1238 lauu1247\n",
      "lauu1247 embe1262 lauu1247\n",
      "lauu1247 ngai1241 lauu1247\n"
     ]
    },
    {
     "name": "stderr",
     "output_type": "stream",
     "text": [
      "\n",
      "\n",
      "\n",
      "\n",
      "\n",
      "\n",
      "\n",
      "\n",
      " 55%|█████████████████████▍                 | 1400/2554 [36:18<34:35,  1.80s/it]\u001B[A\u001B[A\u001B[A\u001B[A\u001B[A\u001B[A\u001B[A\u001B[A"
     ]
    },
    {
     "name": "stdout",
     "output_type": "stream",
     "text": [
      "lauu1247 moco1246 lauu1247\n",
      "lauu1247 hang1258 lauu1247\n",
      "lauu1247 tata1255 lauu1247\n",
      "lauu1247 cogu1240 lauu1247\n",
      "lauu1247 nort2747 lauu1247\n"
     ]
    },
    {
     "name": "stderr",
     "output_type": "stream",
     "text": [
      "\n",
      "\n",
      "\n",
      "\n",
      "\n",
      "\n",
      "\n",
      "\n",
      " 55%|█████████████████████▌                 | 1410/2554 [36:37<34:39,  1.82s/it]\u001B[A\u001B[A\u001B[A\u001B[A\u001B[A\u001B[A\u001B[A\u001B[A\n",
      "\n",
      "\n",
      "\n",
      "\n",
      "\n",
      "\n",
      "\n",
      " 56%|█████████████████████▋                 | 1420/2554 [36:55<34:13,  1.81s/it]\u001B[A\u001B[A\u001B[A\u001B[A\u001B[A\u001B[A\u001B[A\u001B[A"
     ]
    },
    {
     "name": "stdout",
     "output_type": "stream",
     "text": [
      "lauu1247 kuan1248 lauu1247\n",
      "lauu1247 anci1244 lauu1247\n",
      "lauu1247 cari1275 lauu1247\n",
      "lauu1247 zaba1237 lauu1247\n",
      "lauu1247 pile1238 lauu1247\n",
      "lauu1247 nort2917 lauu1247\n"
     ]
    },
    {
     "name": "stderr",
     "output_type": "stream",
     "text": [
      "\n",
      "\n",
      "\n",
      "\n",
      "\n",
      "\n",
      "\n",
      "\n",
      " 56%|█████████████████████▊                 | 1430/2554 [37:14<34:27,  1.84s/it]\u001B[A\u001B[A\u001B[A\u001B[A\u001B[A\u001B[A\u001B[A\u001B[A"
     ]
    },
    {
     "name": "stdout",
     "output_type": "stream",
     "text": [
      "lauu1247 dudu1240 lauu1247\n",
      "lauu1247 yara1250 lauu1247\n",
      "lauu1247 gwer1238 lauu1247\n",
      "lauu1247 ayau1235 lauu1247\n",
      "lauu1247 olds1249 lauu1247\n",
      "lauu1247 east2347 lauu1247\n",
      "lauu1247 kand1303 lauu1247\n",
      "lauu1247 cane1242 lauu1247\n",
      "lauu1247 delo1240 lauu1247\n",
      "lauu1247 nucl1305 lauu1247\n",
      "lauu1247 khia1236 lauu1247\n",
      "lauu1247 sout2750 lauu1247\n",
      "lauu1247 hili1240 lauu1247\n",
      "lauu1247 khow1242 lauu1247\n",
      "lauu1247 tira1258 lauu1247\n",
      "lauu1247 karo1303 lauu1247\n",
      "lauu1247 nige1257 lauu1247\n"
     ]
    },
    {
     "name": "stderr",
     "output_type": "stream",
     "text": [
      "\n",
      "\n",
      "\n",
      "\n",
      "\n",
      "\n",
      "\n",
      "\n",
      " 56%|█████████████████████▉                 | 1440/2554 [37:32<33:47,  1.82s/it]\u001B[A\u001B[A\u001B[A\u001B[A\u001B[A\u001B[A\u001B[A\u001B[A"
     ]
    },
    {
     "name": "stdout",
     "output_type": "stream",
     "text": [
      "lauu1247 itaw1240 lauu1247\n",
      "lauu1247 koyo1242 lauu1247\n",
      "lauu1247 imbo1238 lauu1247\n",
      "lauu1247 puin1248 lauu1247\n",
      "lauu1247 silo1240 lauu1247\n",
      "lauu1247 bepo1240 lauu1247\n",
      "lauu1247 moro1284 lauu1247\n",
      "lauu1247 jion1236 lauu1247\n",
      "lauu1247 wari1262 lauu1247\n",
      "lauu1247 dhud1236 lauu1247\n",
      "lauu1247 cine1238 lauu1247\n",
      "lauu1247 mana1288 lauu1247\n",
      "lauu1247 nung1290 lauu1247\n",
      "lauu1247 nucl1453 lauu1247\n",
      "lauu1247 rapa1244 lauu1247\n",
      "lauu1247 duri1242 lauu1247\n",
      "lauu1247 elam1244 lauu1247\n",
      "lauu1247 glav1244 lauu1247\n",
      "lauu1247 gizr1240 lauu1247\n",
      "lauu1247 nort2973 lauu1247\n",
      "lauu1247 scot1245 lauu1247\n"
     ]
    },
    {
     "name": "stderr",
     "output_type": "stream",
     "text": [
      "\n",
      "\n",
      "\n",
      "\n",
      "\n",
      "\n",
      "\n",
      "\n",
      " 57%|██████████████████████▏                | 1450/2554 [37:50<33:32,  1.82s/it]\u001B[A\u001B[A\u001B[A\u001B[A\u001B[A\u001B[A\u001B[A\u001B[A"
     ]
    },
    {
     "name": "stdout",
     "output_type": "stream",
     "text": [
      "lauu1247 chay1248 lauu1247\n",
      "lauu1247 guay1257 lauu1247\n",
      "lauu1247 udmu1245 lauu1247\n",
      "lauu1247 mask1242 lauu1247\n",
      "lauu1247 kimr1241 lauu1247\n",
      "lauu1247 baru1269 lauu1247\n",
      "lauu1247 tair1256 lauu1247\n",
      "lauu1247 kalm1243 lauu1247\n",
      "lauu1247 fiji1242 lauu1247\n",
      "lauu1247 hoav1238 lauu1247\n",
      "lauu1247 rapt1240 lauu1247\n"
     ]
    },
    {
     "name": "stderr",
     "output_type": "stream",
     "text": [
      "\n",
      "\n",
      "\n",
      "\n",
      "\n",
      "\n",
      "\n",
      "\n",
      " 57%|██████████████████████▎                | 1460/2554 [38:07<32:27,  1.78s/it]\u001B[A\u001B[A\u001B[A\u001B[A\u001B[A\u001B[A\u001B[A\u001B[A\n",
      "\n",
      "\n",
      "\n",
      "\n",
      "\n",
      "\n",
      "\n",
      " 58%|██████████████████████▍                | 1470/2554 [38:24<31:50,  1.76s/it]\u001B[A\u001B[A\u001B[A\u001B[A\u001B[A\u001B[A\u001B[A\u001B[A"
     ]
    },
    {
     "name": "stdout",
     "output_type": "stream",
     "text": [
      "lauu1247 kara1467 lauu1247\n",
      "lauu1247 gale1259 lauu1247\n",
      "lauu1247 thad1238 lauu1247\n",
      "lauu1247 argu1237 lauu1247\n",
      "lauu1247 onto1237 lauu1247\n",
      "lauu1247 mese1244 lauu1247\n",
      "lauu1247 nort2745 lauu1247\n",
      "lauu1247 naba1256 lauu1247\n",
      "lauu1247 pirr1240 lauu1247\n",
      "lauu1247 ingu1240 lauu1247\n",
      "lauu1247 kamu1260 lauu1247\n",
      "lauu1247 sanm1295 lauu1247\n",
      "lauu1247 boko1267 lauu1247\n",
      "lauu1247 pare1271 lauu1247\n",
      "lauu1247 mopa1243 lauu1247\n",
      "lauu1247 rita1239 lauu1247\n",
      "lauu1247 mand1436 lauu1247\n",
      "lauu1247 wakh1245 lauu1247\n"
     ]
    },
    {
     "name": "stderr",
     "output_type": "stream",
     "text": [
      "\n",
      "\n",
      "\n",
      "\n",
      "\n",
      "\n",
      "\n",
      "\n",
      " 58%|██████████████████████▌                | 1480/2554 [38:43<32:06,  1.79s/it]\u001B[A\u001B[A\u001B[A\u001B[A\u001B[A\u001B[A\u001B[A\u001B[A"
     ]
    },
    {
     "name": "stdout",
     "output_type": "stream",
     "text": [
      "lauu1247 bwan1241 lauu1247\n",
      "lauu1247 mada1285 lauu1247\n",
      "lauu1247 laca1243 lauu1247\n",
      "lauu1247 maya1285 lauu1247\n",
      "lauu1247 komy1238 lauu1247\n",
      "lauu1247 fonn1241 lauu1247\n",
      "lauu1247 culi1244 lauu1247\n",
      "lauu1247 yura1255 lauu1247\n",
      "lauu1247 tlac1235 lauu1247\n",
      "lauu1247 dima1252 lauu1247\n"
     ]
    },
    {
     "name": "stderr",
     "output_type": "stream",
     "text": [
      "\n",
      "\n",
      "\n",
      "\n",
      "\n",
      "\n",
      "\n",
      "\n",
      " 58%|██████████████████████▊                | 1490/2554 [39:01<32:10,  1.81s/it]\u001B[A\u001B[A\u001B[A\u001B[A\u001B[A\u001B[A\u001B[A\u001B[A"
     ]
    },
    {
     "name": "stdout",
     "output_type": "stream",
     "text": [
      "lauu1247 bata1293 lauu1247\n",
      "lauu1247 croa1245 lauu1247\n",
      "lauu1247 kafa1242 lauu1247\n",
      "lauu1247 agar1252 lauu1247\n",
      "lauu1247 taca1256 lauu1247\n",
      "lauu1247 mach1266 lauu1247\n",
      "lauu1247 bimo1239 lauu1247\n",
      "lauu1247 sumb1240 lauu1247\n",
      "lauu1247 yare1248 lauu1247\n",
      "lauu1247 sauk1252 lauu1247\n",
      "lauu1247 gain1243 lauu1247\n",
      "lauu1247 kahu1241 lauu1247\n",
      "lauu1247 ngaa1240 lauu1247\n"
     ]
    },
    {
     "name": "stderr",
     "output_type": "stream",
     "text": [
      "\n",
      "\n",
      "\n",
      "\n",
      "\n",
      "\n",
      "\n",
      "\n",
      " 59%|██████████████████████▉                | 1500/2554 [39:18<31:09,  1.77s/it]\u001B[A\u001B[A\u001B[A\u001B[A\u001B[A\u001B[A\u001B[A\u001B[A\n",
      "\n",
      "\n",
      "\n",
      "\n",
      "\n",
      "\n",
      "\n",
      " 59%|███████████████████████                | 1510/2554 [39:37<31:29,  1.81s/it]\u001B[A\u001B[A\u001B[A\u001B[A\u001B[A\u001B[A\u001B[A\u001B[A"
     ]
    },
    {
     "name": "stdout",
     "output_type": "stream",
     "text": [
      "lauu1247 usil1237 lauu1247\n",
      "lauu1247 nami1258 lauu1247\n",
      "lauu1247 yoru1245 lauu1247\n",
      "lauu1247 ocot1244 lauu1247\n"
     ]
    },
    {
     "name": "stderr",
     "output_type": "stream",
     "text": [
      "\n",
      "\n",
      "\n",
      "\n",
      "\n",
      "\n",
      "\n",
      "\n",
      " 60%|███████████████████████▏               | 1520/2554 [39:57<31:59,  1.86s/it]\u001B[A\u001B[A\u001B[A\u001B[A\u001B[A\u001B[A\u001B[A\u001B[A"
     ]
    },
    {
     "name": "stdout",
     "output_type": "stream",
     "text": [
      "lauu1247 bisu1244 lauu1247\n",
      "lauu1247 sanj1285 lauu1247\n",
      "lauu1247 yort1237 lauu1247\n",
      "lauu1247 maia1251 lauu1247\n",
      "lauu1247 ivat1242 lauu1247\n",
      "lauu1247 kobo1249 lauu1247\n",
      "lauu1247 ngom1268 lauu1247\n",
      "lauu1247 yann1237 lauu1247\n"
     ]
    },
    {
     "name": "stderr",
     "output_type": "stream",
     "text": [
      "\n",
      "\n",
      "\n",
      "\n",
      "\n",
      "\n",
      "\n",
      "\n",
      " 60%|███████████████████████▎               | 1530/2554 [40:14<30:57,  1.81s/it]\u001B[A\u001B[A\u001B[A\u001B[A\u001B[A\u001B[A\u001B[A\u001B[A"
     ]
    },
    {
     "name": "stdout",
     "output_type": "stream",
     "text": [
      "lauu1247 mari1428 lauu1247\n",
      "lauu1247 daak1235 lauu1247\n",
      "lauu1247 nort2945 lauu1247\n",
      "lauu1247 safe1240 lauu1247\n",
      "lauu1247 ikaa1238 lauu1247\n",
      "lauu1247 saar1237 lauu1247\n",
      "lauu1247 kekc1242 lauu1247\n",
      "lauu1247 nung1283 lauu1247\n",
      "lauu1247 kusa1250 lauu1247\n",
      "lauu1247 mbul1263 lauu1247\n",
      "lauu1247 gudj1237 lauu1247\n",
      "lauu1247 amis1246 lauu1247\n",
      "lauu1247 thao1240 lauu1247\n",
      "lauu1247 tane1237 lauu1247\n",
      "lauu1247 buso1238 lauu1247\n",
      "lauu1247 panc1247 lauu1247\n",
      "lauu1247 kamb1299 lauu1247\n",
      "lauu1247 biao1254 lauu1247\n",
      "lauu1247 dhar1248 lauu1247\n",
      "lauu1247 wabo1241 lauu1247\n",
      "lauu1247 amri1238 lauu1247\n",
      "lauu1247 batu1258 lauu1247\n",
      "lauu1247 ajie1238 lauu1247\n",
      "lauu1247 mini1253 lauu1247\n",
      "lauu1247 buku1249 lauu1247\n",
      "lauu1247 kach1280 lauu1247\n",
      "lauu1247 abaz1241 lauu1247\n",
      "lauu1247 ilok1237 lauu1247\n",
      "lauu1247 kais1235 lauu1247\n",
      "lauu1247 mund1326 lauu1247\n",
      "lauu1247 ciac1237 lauu1247\n"
     ]
    },
    {
     "name": "stderr",
     "output_type": "stream",
     "text": [
      "\n",
      "\n",
      "\n",
      "\n",
      "\n",
      "\n",
      "\n",
      "\n",
      " 60%|███████████████████████▌               | 1540/2554 [40:31<30:07,  1.78s/it]\u001B[A\u001B[A\u001B[A\u001B[A\u001B[A\u001B[A\u001B[A\u001B[A\n",
      "\n",
      "\n",
      "\n",
      "\n",
      "\n",
      "\n",
      "\n",
      " 60%|███████████████████████▌               | 1541/2554 [40:31<28:56,  1.71s/it]\u001B[A\u001B[A\u001B[A\u001B[A\u001B[A\u001B[A\u001B[A\u001B[A"
     ]
    },
    {
     "name": "stdout",
     "output_type": "stream",
     "text": [
      "lauu1247 papi1253 lauu1247\n",
      "lauu1247 jala1237 lauu1247\n",
      "lauu1247 luuu1242 lauu1247\n",
      "lauu1247 khva1239 lauu1247\n",
      "lauu1247 came1252 lauu1247\n",
      "lauu1247 kaka1267 lauu1247\n",
      "lauu1247 gonj1241 lauu1247\n"
     ]
    },
    {
     "name": "stderr",
     "output_type": "stream",
     "text": [
      "\n",
      "\n",
      "\n",
      "\n",
      "\n",
      "\n",
      "\n",
      "\n",
      " 61%|███████████████████████▋               | 1550/2554 [40:51<31:18,  1.87s/it]\u001B[A\u001B[A\u001B[A\u001B[A\u001B[A\u001B[A\u001B[A\u001B[A"
     ]
    },
    {
     "name": "stdout",
     "output_type": "stream",
     "text": [
      "lauu1247 taly1247 lauu1247\n",
      "lauu1247 stan1306 lauu1247\n",
      "lauu1247 keny1279 lauu1247\n"
     ]
    },
    {
     "name": "stderr",
     "output_type": "stream",
     "text": [
      "\n",
      "\n",
      "\n",
      "\n",
      "\n",
      "\n",
      "\n",
      "\n",
      " 61%|███████████████████████▊               | 1560/2554 [41:08<30:19,  1.83s/it]\u001B[A\u001B[A\u001B[A\u001B[A\u001B[A\u001B[A\u001B[A\u001B[A"
     ]
    },
    {
     "name": "stdout",
     "output_type": "stream",
     "text": [
      "lauu1247 mans1258 lauu1247\n",
      "lauu1247 puyu1239 lauu1247\n",
      "lauu1247 woli1241 lauu1247\n"
     ]
    },
    {
     "name": "stderr",
     "output_type": "stream",
     "text": [
      "\n",
      "\n",
      "\n",
      "\n",
      "\n",
      "\n",
      "\n",
      "\n",
      " 61%|███████████████████████▉               | 1570/2554 [41:28<30:34,  1.86s/it]\u001B[A\u001B[A\u001B[A\u001B[A\u001B[A\u001B[A\u001B[A\u001B[A"
     ]
    },
    {
     "name": "stdout",
     "output_type": "stream",
     "text": [
      "lauu1247 miga1241 lauu1247\n",
      "lauu1247 midd1321 lauu1247\n",
      "lauu1247 pume1238 lauu1247\n",
      "lauu1247 para1311 lauu1247\n",
      "lauu1247 watu1247 lauu1247\n",
      "lauu1247 midg1235 lauu1247\n",
      "lauu1247 nekg1240 lauu1247\n",
      "lauu1247 biyo1243 lauu1247\n",
      "lauu1247 yang1307 lauu1247\n",
      "lauu1247 araw1272 lauu1247\n",
      "lauu1247 huas1242 lauu1247\n",
      "lauu1247 usan1239 lauu1247\n",
      "lauu1247 limo1248 lauu1247\n",
      "lauu1247 komb1273 lauu1247\n",
      "lauu1247 ersu1241 lauu1247\n",
      "lauu1247 peve1243 lauu1247\n",
      "lauu1247 nucl1452 lauu1247\n",
      "lauu1247 shor1247 lauu1247\n",
      "lauu1247 gaan1243 lauu1247\n",
      "lauu1247 tean1237 lauu1247\n",
      "lauu1247 siha1245 lauu1247\n",
      "lauu1247 guny1241 lauu1247\n",
      "lauu1247 ngam1268 lauu1247\n"
     ]
    },
    {
     "name": "stderr",
     "output_type": "stream",
     "text": [
      "\n",
      "\n",
      "\n",
      "\n",
      "\n",
      "\n",
      "\n",
      "\n",
      " 62%|████████████████████████▏              | 1580/2554 [41:46<30:01,  1.85s/it]\u001B[A\u001B[A\u001B[A\u001B[A\u001B[A\u001B[A\u001B[A\u001B[A"
     ]
    },
    {
     "name": "stdout",
     "output_type": "stream",
     "text": [
      "lauu1247 djin1253 lauu1247\n",
      "lauu1247 warl1255 lauu1247\n",
      "lauu1247 adam1253 lauu1247\n",
      "lauu1247 buru1296 lauu1247\n",
      "lauu1247 vene1258 lauu1247\n",
      "lauu1247 vano1237 lauu1247\n",
      "lauu1247 viet1252 lauu1247\n",
      "lauu1247 bedo1237 lauu1247\n",
      "lauu1247 sarr1247 lauu1247\n",
      "lauu1247 habu1241 lauu1247\n"
     ]
    },
    {
     "name": "stderr",
     "output_type": "stream",
     "text": [
      "\n",
      "\n",
      "\n",
      "\n",
      "\n",
      "\n",
      "\n",
      "\n",
      " 62%|████████████████████████▎              | 1590/2554 [42:06<30:44,  1.91s/it]\u001B[A\u001B[A\u001B[A\u001B[A\u001B[A\u001B[A\u001B[A\u001B[A"
     ]
    },
    {
     "name": "stdout",
     "output_type": "stream",
     "text": [
      "lauu1247 dghw1239 lauu1247\n",
      "lauu1247 east2482 lauu1247\n",
      "lauu1247 maca1259 lauu1247\n",
      "lauu1247 cola1237 lauu1247\n",
      "lauu1247 sout3004 lauu1247\n"
     ]
    },
    {
     "name": "stderr",
     "output_type": "stream",
     "text": [
      "\n",
      "\n",
      "\n",
      "\n",
      "\n",
      "\n",
      "\n",
      "\n",
      " 63%|████████████████████████▍              | 1600/2554 [42:23<29:20,  1.85s/it]\u001B[A\u001B[A\u001B[A\u001B[A\u001B[A\u001B[A\u001B[A\u001B[A"
     ]
    },
    {
     "name": "stdout",
     "output_type": "stream",
     "text": [
      "lauu1247 yill1241 lauu1247\n",
      "lauu1247 zouu1235 lauu1247\n",
      "lauu1247 muni1257 lauu1247\n",
      "lauu1247 urub1250 lauu1247\n",
      "lauu1247 east2551 lauu1247\n"
     ]
    },
    {
     "name": "stderr",
     "output_type": "stream",
     "text": [
      "\n",
      "\n",
      "\n",
      "\n",
      "\n",
      "\n",
      "\n",
      "\n",
      " 63%|████████████████████████▌              | 1610/2554 [42:41<28:45,  1.83s/it]\u001B[A\u001B[A\u001B[A\u001B[A\u001B[A\u001B[A\u001B[A\u001B[A"
     ]
    },
    {
     "name": "stdout",
     "output_type": "stream",
     "text": [
      "lauu1247 itip1234 lauu1247\n",
      "lauu1247 sele1249 lauu1247\n",
      "lauu1247 bael1237 lauu1247\n",
      "lauu1247 telu1262 lauu1247\n",
      "lauu1247 ngge1241 lauu1247\n",
      "lauu1247 sout2782 lauu1247\n",
      "lauu1247 ciba1236 lauu1247\n",
      "lauu1247 sanm1287 lauu1247\n",
      "lauu1247 mani1235 lauu1247\n",
      "lauu1247 west2354 lauu1247\n",
      "lauu1247 skol1241 lauu1247\n",
      "lauu1247 uman1240 lauu1247\n",
      "lauu1247 nila1244 lauu1247\n",
      "lauu1247 chig1238 lauu1247\n",
      "lauu1247 acol1236 lauu1247\n",
      "lauu1247 akla1241 lauu1247\n",
      "lauu1247 iumi1238 lauu1247\n",
      "lauu1247 mand1423 lauu1247\n",
      "lauu1247 soni1260 lauu1247\n",
      "lauu1247 touo1238 lauu1247\n",
      "lauu1247 calu1238 lauu1247\n"
     ]
    },
    {
     "name": "stderr",
     "output_type": "stream",
     "text": [
      "\n",
      "\n",
      "\n",
      "\n",
      "\n",
      "\n",
      "\n",
      "\n",
      " 63%|████████████████████████▋              | 1620/2554 [42:59<28:12,  1.81s/it]\u001B[A\u001B[A\u001B[A\u001B[A\u001B[A\u001B[A\u001B[A\u001B[A"
     ]
    },
    {
     "name": "stdout",
     "output_type": "stream",
     "text": [
      "lauu1247 ngie1241 lauu1247\n",
      "lauu1247 zinz1238 lauu1247\n",
      "lauu1247 paas1238 lauu1247\n"
     ]
    },
    {
     "name": "stderr",
     "output_type": "stream",
     "text": [
      "\n",
      "\n",
      "\n",
      "\n",
      "\n",
      "\n",
      "\n",
      "\n",
      " 64%|████████████████████████▉              | 1630/2554 [43:17<27:48,  1.81s/it]\u001B[A\u001B[A\u001B[A\u001B[A\u001B[A\u001B[A\u001B[A\u001B[A"
     ]
    },
    {
     "name": "stdout",
     "output_type": "stream",
     "text": [
      "lauu1247 limb1266 lauu1247\n",
      "lauu1247 gand1255 lauu1247\n",
      "lauu1247 lahu1253 lauu1247\n",
      "lauu1247 urua1244 lauu1247\n",
      "lauu1247 nias1242 lauu1247\n",
      "lauu1247 akoo1248 lauu1247\n",
      "lauu1247 jaru1254 lauu1247\n",
      "lauu1247 jena1242 lauu1247\n"
     ]
    },
    {
     "name": "stderr",
     "output_type": "stream",
     "text": [
      "\n",
      "\n",
      "\n",
      "\n",
      "\n",
      "\n",
      "\n",
      "\n",
      " 64%|█████████████████████████              | 1640/2554 [43:33<26:41,  1.75s/it]\u001B[A\u001B[A\u001B[A\u001B[A\u001B[A\u001B[A\u001B[A\u001B[A"
     ]
    },
    {
     "name": "stdout",
     "output_type": "stream",
     "text": [
      "lauu1247 khoi1252 lauu1247\n",
      "lauu1247 ngaw1240 lauu1247\n",
      "lauu1247 toki1238 lauu1247\n",
      "lauu1247 limb1263 lauu1247\n",
      "lauu1247 buna1278 lauu1247\n",
      "lauu1247 meke1243 lauu1247\n",
      "lauu1247 taba1266 lauu1247\n",
      "lauu1247 wand1264 lauu1247\n",
      "lauu1247 loma1260 lauu1247\n",
      "lauu1247 riri1237 lauu1247\n",
      "lauu1247 lamb1273 lauu1247\n",
      "lauu1247 kimm1246 lauu1247\n",
      "lauu1247 ache1246 lauu1247\n",
      "lauu1247 mayi1235 lauu1247\n",
      "lauu1247 atat1238 lauu1247\n",
      "lauu1247 wuvu1239 lauu1247\n",
      "lauu1247 maka1304 lauu1247\n",
      "lauu1247 bemb1255 lauu1247\n",
      "lauu1247 wels1246 lauu1247\n"
     ]
    },
    {
     "name": "stderr",
     "output_type": "stream",
     "text": [
      "\n",
      "\n",
      "\n",
      "\n",
      "\n",
      "\n",
      "\n",
      "\n",
      " 65%|█████████████████████████▏             | 1650/2554 [43:49<25:48,  1.71s/it]\u001B[A\u001B[A\u001B[A\u001B[A\u001B[A\u001B[A\u001B[A\u001B[A"
     ]
    },
    {
     "name": "stdout",
     "output_type": "stream",
     "text": [
      "lauu1247 digo1243 lauu1247\n",
      "lauu1247 xian1250 lauu1247\n",
      "lauu1247 pana1306 lauu1247\n",
      "lauu1247 fasu1242 lauu1247\n",
      "lauu1247 tinp1237 lauu1247\n",
      "lauu1247 toro1253 lauu1247\n",
      "lauu1247 goth1244 lauu1247\n",
      "lauu1247 wari1264 lauu1247\n",
      "lauu1247 gwic1235 lauu1247\n",
      "lauu1247 urip1239 lauu1247\n",
      "lauu1247 garo1247 lauu1247\n",
      "lauu1247 walm1241 lauu1247\n"
     ]
    },
    {
     "name": "stderr",
     "output_type": "stream",
     "text": [
      "\n",
      "\n",
      "\n",
      "\n",
      "\n",
      "\n",
      "\n",
      "\n",
      " 65%|█████████████████████████▎             | 1660/2554 [44:08<26:05,  1.75s/it]\u001B[A\u001B[A\u001B[A\u001B[A\u001B[A\u001B[A\u001B[A\u001B[A"
     ]
    },
    {
     "name": "stdout",
     "output_type": "stream",
     "text": [
      "lauu1247 lama1279 lauu1247\n",
      "lauu1247 east2555 lauu1247\n",
      "lauu1247 cham1315 lauu1247\n",
      "lauu1247 nupo1240 lauu1247\n",
      "lauu1247 bena1262 lauu1247\n",
      "lauu1247 mbun1248 lauu1247\n",
      "lauu1247 bemb1257 lauu1247\n",
      "lauu1247 maca1260 lauu1247\n",
      "lauu1247 nort2780 lauu1247\n",
      "lauu1247 koko1269 lauu1247\n"
     ]
    },
    {
     "name": "stderr",
     "output_type": "stream",
     "text": [
      "\n",
      "\n",
      "\n",
      "\n",
      "\n",
      "\n",
      "\n",
      "\n",
      " 65%|█████████████████████████▌             | 1670/2554 [44:30<27:49,  1.89s/it]\u001B[A\u001B[A\u001B[A\u001B[A\u001B[A\u001B[A\u001B[A\u001B[A"
     ]
    },
    {
     "name": "stdout",
     "output_type": "stream",
     "text": [
      "lauu1247 oldn1244 lauu1247\n",
      "lauu1247 beav1236 lauu1247\n",
      "lauu1247 haka1240 lauu1247\n"
     ]
    },
    {
     "name": "stderr",
     "output_type": "stream",
     "text": [
      "\n",
      "\n",
      "\n",
      "\n",
      "\n",
      "\n",
      "\n",
      "\n",
      " 66%|█████████████████████████▋             | 1680/2554 [44:48<27:02,  1.86s/it]\u001B[A\u001B[A\u001B[A\u001B[A\u001B[A\u001B[A\u001B[A\u001B[A"
     ]
    },
    {
     "name": "stdout",
     "output_type": "stream",
     "text": [
      "lauu1247 bena1264 lauu1247\n",
      "lauu1247 kuyu1236 lauu1247\n",
      "lauu1247 laoo1244 lauu1247\n",
      "lauu1247 morb1239 lauu1247\n",
      "lauu1247 roma1327 lauu1247\n",
      "lauu1247 kamb1316 lauu1247\n",
      "lauu1247 yopn1238 lauu1247\n",
      "lauu1247 ngan1299 lauu1247\n",
      "lauu1247 masa1299 lauu1247\n",
      "lauu1247 esto1258 lauu1247\n",
      "lauu1247 paiw1248 lauu1247\n",
      "lauu1247 mali1279 lauu1247\n"
     ]
    },
    {
     "name": "stderr",
     "output_type": "stream",
     "text": [
      "\n",
      "\n",
      "\n",
      "\n",
      "\n",
      "\n",
      "\n",
      "\n",
      " 66%|█████████████████████████▊             | 1690/2554 [45:05<26:17,  1.83s/it]\u001B[A\u001B[A\u001B[A\u001B[A\u001B[A\u001B[A\u001B[A\u001B[A"
     ]
    },
    {
     "name": "stdout",
     "output_type": "stream",
     "text": [
      "lauu1247 khez1235 lauu1247\n",
      "lauu1247 ward1248 lauu1247\n",
      "lauu1247 gumu1244 lauu1247\n",
      "lauu1247 nyam1271 lauu1247\n",
      "lauu1247 lith1251 lauu1247\n",
      "lauu1247 lanp1241 lauu1247\n",
      "lauu1247 lobi1245 lauu1247\n",
      "lauu1247 muri1260 lauu1247\n",
      "lauu1247 pitj1243 lauu1247\n",
      "lauu1247 chim1309 lauu1247\n",
      "lauu1247 nana1257 lauu1247\n",
      "lauu1247 salt1242 lauu1247\n"
     ]
    },
    {
     "name": "stderr",
     "output_type": "stream",
     "text": [
      "\n",
      "\n",
      "\n",
      "\n",
      "\n",
      "\n",
      "\n",
      "\n",
      " 67%|█████████████████████████▉             | 1700/2554 [45:22<25:24,  1.79s/it]\u001B[A\u001B[A\u001B[A\u001B[A\u001B[A\u001B[A\u001B[A\u001B[A"
     ]
    },
    {
     "name": "stdout",
     "output_type": "stream",
     "text": [
      "lauu1247 pira1254 lauu1247\n",
      "lauu1247 awad1243 lauu1247\n",
      "lauu1247 nucl1770 lauu1247\n",
      "lauu1247 gida1247 lauu1247\n"
     ]
    },
    {
     "name": "stderr",
     "output_type": "stream",
     "text": [
      "\n",
      "\n",
      "\n",
      "\n",
      "\n",
      "\n",
      "\n",
      "\n",
      " 67%|██████████████████████████             | 1710/2554 [45:42<25:46,  1.83s/it]\u001B[A\u001B[A\u001B[A\u001B[A\u001B[A\u001B[A\u001B[A\u001B[A"
     ]
    },
    {
     "name": "stdout",
     "output_type": "stream",
     "text": [
      "lauu1247 kamb1303 lauu1247\n",
      "lauu1247 oldf1241 lauu1247\n",
      "lauu1247 dido1241 lauu1247\n",
      "lauu1247 ouji1238 lauu1247\n",
      "lauu1247 yarl1238 lauu1247\n",
      "lauu1247 axiy1235 lauu1247\n",
      "lauu1247 lang1320 lauu1247\n",
      "lauu1247 kabi1261 lauu1247\n",
      "lauu1247 nukn1238 lauu1247\n",
      "lauu1247 sang1321 lauu1247\n",
      "lauu1247 dobu1241 lauu1247\n",
      "lauu1247 taua1242 lauu1247\n",
      "lauu1247 pena1270 lauu1247\n",
      "lauu1247 kosr1238 lauu1247\n",
      "lauu1247 mand1444 lauu1247\n",
      "lauu1247 warl1254 lauu1247\n",
      "lauu1247 djuw1238 lauu1247\n",
      "lauu1247 chic1274 lauu1247\n",
      "lauu1247 kama1364 lauu1247\n",
      "lauu1247 fata1245 lauu1247\n"
     ]
    },
    {
     "name": "stderr",
     "output_type": "stream",
     "text": [
      "\n",
      "\n",
      "\n",
      "\n",
      "\n",
      "\n",
      "\n",
      "\n",
      " 67%|██████████████████████████▎            | 1720/2554 [45:58<24:52,  1.79s/it]\u001B[A\u001B[A\u001B[A\u001B[A\u001B[A\u001B[A\u001B[A\u001B[A"
     ]
    },
    {
     "name": "stdout",
     "output_type": "stream",
     "text": [
      "lauu1247 oldp1254 lauu1247\n",
      "lauu1247 tzot1259 lauu1247\n",
      "lauu1247 achu1248 lauu1247\n",
      "lauu1247 mama1276 lauu1247\n",
      "lauu1247 quio1240 lauu1247\n",
      "lauu1247 krio1252 lauu1247\n",
      "lauu1247 kash1277 lauu1247\n"
     ]
    },
    {
     "name": "stderr",
     "output_type": "stream",
     "text": [
      "\n",
      "\n",
      "\n",
      "\n",
      "\n",
      "\n",
      "\n",
      "\n",
      " 68%|██████████████████████████▍            | 1730/2554 [46:15<24:04,  1.75s/it]\u001B[A\u001B[A\u001B[A\u001B[A\u001B[A\u001B[A\u001B[A\u001B[A"
     ]
    },
    {
     "name": "stdout",
     "output_type": "stream",
     "text": [
      "lauu1247 nafr1241 lauu1247\n",
      "lauu1247 yafi1240 lauu1247\n",
      "lauu1247 anuf1239 lauu1247\n",
      "lauu1247 opao1240 lauu1247\n"
     ]
    },
    {
     "name": "stderr",
     "output_type": "stream",
     "text": [
      "\n",
      "\n",
      "\n",
      "\n",
      "\n",
      "\n",
      "\n",
      "\n",
      " 68%|██████████████████████████▌            | 1740/2554 [46:34<24:23,  1.80s/it]\u001B[A\u001B[A\u001B[A\u001B[A\u001B[A\u001B[A\u001B[A\u001B[A"
     ]
    },
    {
     "name": "stdout",
     "output_type": "stream",
     "text": [
      "lauu1247 yele1255 lauu1247\n",
      "lauu1247 movi1243 lauu1247\n",
      "lauu1247 puta1243 lauu1247\n",
      "lauu1247 maas1239 lauu1247\n",
      "lauu1247 toor1238 lauu1247\n"
     ]
    },
    {
     "name": "stderr",
     "output_type": "stream",
     "text": [
      "\n",
      "\n",
      "\n",
      "\n",
      "\n",
      "\n",
      "\n",
      "\n",
      " 69%|██████████████████████████▋            | 1750/2554 [46:51<23:46,  1.77s/it]\u001B[A\u001B[A\u001B[A\u001B[A\u001B[A\u001B[A\u001B[A\u001B[A"
     ]
    },
    {
     "name": "stdout",
     "output_type": "stream",
     "text": [
      "lauu1247 wotu1240 lauu1247\n",
      "lauu1247 long1395 lauu1247\n",
      "lauu1247 bong1291 lauu1247\n",
      "lauu1247 maun1240 lauu1247\n",
      "lauu1247 ring1244 lauu1247\n",
      "lauu1247 cavi1250 lauu1247\n",
      "lauu1247 lozi1239 lauu1247\n",
      "lauu1247 ning1274 lauu1247\n"
     ]
    },
    {
     "name": "stderr",
     "output_type": "stream",
     "text": [
      "\n",
      "\n",
      "\n",
      "\n",
      "\n",
      "\n",
      "\n",
      "\n",
      " 69%|██████████████████████████▉            | 1760/2554 [47:10<23:25,  1.77s/it]\u001B[A\u001B[A\u001B[A\u001B[A\u001B[A\u001B[A\u001B[A\u001B[A\n",
      "\n",
      "\n",
      "\n",
      "\n",
      "\n",
      "\n",
      "\n",
      " 69%|██████████████████████████▉            | 1761/2554 [47:10<22:57,  1.74s/it]\u001B[A\u001B[A\u001B[A\u001B[A\u001B[A\u001B[A\u001B[A\u001B[A"
     ]
    },
    {
     "name": "stdout",
     "output_type": "stream",
     "text": [
      "lauu1247 biwa1243 lauu1247\n",
      "lauu1247 ndon1254 lauu1247\n",
      "lauu1247 andi1255 lauu1247\n",
      "lauu1247 chao1238 lauu1247\n",
      "lauu1247 gamo1243 lauu1247\n",
      "lauu1247 kanj1260 lauu1247\n",
      "lauu1247 sira1267 lauu1247\n",
      "lauu1247 roto1249 lauu1247\n",
      "lauu1247 labi1245 lauu1247\n",
      "lauu1247 zaca1241 lauu1247\n",
      "lauu1247 gami1243 lauu1247\n",
      "lauu1247 niii1240 lauu1247\n",
      "lauu1247 bali1278 lauu1247\n",
      "lauu1247 rett1240 lauu1247\n"
     ]
    },
    {
     "name": "stderr",
     "output_type": "stream",
     "text": [
      "\n",
      "\n",
      "\n",
      "\n",
      "\n",
      "\n",
      "\n",
      "\n",
      " 69%|███████████████████████████            | 1770/2554 [47:27<23:37,  1.81s/it]\u001B[A\u001B[A\u001B[A\u001B[A\u001B[A\u001B[A\u001B[A\u001B[A"
     ]
    },
    {
     "name": "stdout",
     "output_type": "stream",
     "text": [
      "lauu1247 lush1249 lauu1247\n",
      "lauu1247 woga1249 lauu1247\n",
      "lauu1247 ning1273 lauu1247\n",
      "lauu1247 motu1246 lauu1247\n",
      "lauu1247 hwan1240 lauu1247\n",
      "lauu1247 makh1261 lauu1247\n",
      "lauu1247 gend1249 lauu1247\n",
      "lauu1247 urue1240 lauu1247\n",
      "lauu1247 waor1240 lauu1247\n",
      "lauu1247 casi1235 lauu1247\n",
      "lauu1247 uppe1275 lauu1247\n",
      "lauu1247 tain1253 lauu1247\n",
      "lauu1247 nort2770 lauu1247\n",
      "lauu1247 uppe1439 lauu1247\n",
      "lauu1247 chuk1274 lauu1247\n",
      "lauu1247 dato1239 lauu1247\n",
      "lauu1247 cemu1238 lauu1247\n"
     ]
    },
    {
     "name": "stderr",
     "output_type": "stream",
     "text": [
      "\n",
      "\n",
      "\n",
      "\n",
      "\n",
      "\n",
      "\n",
      "\n",
      " 70%|███████████████████████████▏           | 1780/2554 [47:47<24:08,  1.87s/it]\u001B[A\u001B[A\u001B[A\u001B[A\u001B[A\u001B[A\u001B[A\u001B[A\n",
      "\n",
      "\n",
      "\n",
      "\n",
      "\n",
      "\n",
      "\n",
      " 70%|███████████████████████████▎           | 1790/2554 [48:05<23:22,  1.84s/it]\u001B[A\u001B[A\u001B[A\u001B[A\u001B[A\u001B[A\u001B[A\u001B[A"
     ]
    },
    {
     "name": "stdout",
     "output_type": "stream",
     "text": [
      "lauu1247 pali1279 lauu1247\n",
      "lauu1247 urim1252 lauu1247\n",
      "lauu1247 bumb1241 lauu1247\n",
      "lauu1247 kuii1253 lauu1247\n",
      "lauu1247 sanm1298 lauu1247\n",
      "lauu1247 mala1494 lauu1247\n",
      "lauu1247 pani1258 lauu1247\n",
      "lauu1247 more1258 lauu1247\n",
      "lauu1247 indo1316 lauu1247\n",
      "lauu1247 guin1254 lauu1247\n",
      "lauu1247 ware1253 lauu1247\n"
     ]
    },
    {
     "name": "stderr",
     "output_type": "stream",
     "text": [
      "\n",
      "\n",
      "\n",
      "\n",
      "\n",
      "\n",
      "\n",
      "\n",
      " 70%|███████████████████████████▍           | 1800/2554 [48:20<21:41,  1.73s/it]\u001B[A\u001B[A\u001B[A\u001B[A\u001B[A\u001B[A\u001B[A\u001B[A"
     ]
    },
    {
     "name": "stdout",
     "output_type": "stream",
     "text": [
      "lauu1247 bata1301 lauu1247\n",
      "lauu1247 marg1266 lauu1247\n",
      "lauu1247 muya1239 lauu1247\n",
      "lauu1247 shug1248 lauu1247\n",
      "lauu1247 papa1238 lauu1247\n",
      "lauu1247 cent2144 lauu1247\n",
      "lauu1247 gaoo1237 lauu1247\n",
      "lauu1247 fino1238 lauu1247\n",
      "lauu1247 nucl1622 lauu1247\n",
      "lauu1247 wanc1238 lauu1247\n",
      "lauu1247 nucl1417 lauu1247\n",
      "lauu1247 yale1246 lauu1247\n",
      "lauu1247 zhou1234 lauu1247\n",
      "lauu1247 jams1239 lauu1247\n",
      "lauu1247 weda1241 lauu1247\n",
      "lauu1247 sara1340 lauu1247\n",
      "lauu1247 puel1244 lauu1247\n",
      "lauu1247 kwer1261 lauu1247\n",
      "lauu1247 bamu1257 lauu1247\n",
      "lauu1247 zigu1242 lauu1247\n",
      "lauu1247 biyo1244 lauu1247\n",
      "lauu1247 iris1253 lauu1247\n",
      "lauu1247 mezq1235 lauu1247\n",
      "lauu1247 kere1283 lauu1247\n"
     ]
    },
    {
     "name": "stderr",
     "output_type": "stream",
     "text": [
      "\n",
      "\n",
      "\n",
      "\n",
      "\n",
      "\n",
      "\n",
      "\n",
      " 71%|███████████████████████████▋           | 1810/2554 [48:40<22:26,  1.81s/it]\u001B[A\u001B[A\u001B[A\u001B[A\u001B[A\u001B[A\u001B[A\u001B[A\n",
      "\n",
      "\n",
      "\n",
      "\n",
      "\n",
      "\n",
      "\n",
      " 71%|███████████████████████████▊           | 1820/2554 [48:59<22:34,  1.85s/it]\u001B[A\u001B[A\u001B[A\u001B[A\u001B[A\u001B[A\u001B[A\u001B[A"
     ]
    },
    {
     "name": "stdout",
     "output_type": "stream",
     "text": [
      "lauu1247 nort2971 lauu1247\n",
      "lauu1247 gwen1239 lauu1247\n",
      "lauu1247 palu1252 lauu1247\n",
      "lauu1247 komi1268 lauu1247\n",
      "lauu1247 adan1251 lauu1247\n",
      "lauu1247 midd1344 lauu1247\n",
      "lauu1247 mbab1239 lauu1247\n",
      "lauu1247 mayo1264 lauu1247\n",
      "lauu1247 east2462 lauu1247\n",
      "lauu1247 binu1244 lauu1247\n",
      "lauu1247 kula1280 lauu1247\n",
      "lauu1247 ticu1245 lauu1247\n",
      "lauu1247 pula1262 lauu1247\n",
      "lauu1247 mwan1247 lauu1247\n"
     ]
    },
    {
     "name": "stderr",
     "output_type": "stream",
     "text": [
      "\n",
      "\n",
      "\n",
      "\n",
      "\n",
      "\n",
      "\n",
      "\n",
      " 72%|███████████████████████████▉           | 1830/2554 [49:16<21:41,  1.80s/it]\u001B[A\u001B[A\u001B[A\u001B[A\u001B[A\u001B[A\u001B[A\u001B[A\n",
      "\n",
      "\n",
      "\n",
      "\n",
      "\n",
      "\n",
      "\n",
      " 72%|████████████████████████████           | 1840/2554 [49:37<22:38,  1.90s/it]\u001B[A\u001B[A\u001B[A\u001B[A\u001B[A\u001B[A\u001B[A\u001B[A"
     ]
    },
    {
     "name": "stdout",
     "output_type": "stream",
     "text": [
      "lauu1247 sana1298 lauu1247\n",
      "lauu1247 bian1251 lauu1247\n",
      "lauu1247 paam1238 lauu1247\n",
      "lauu1247 nort2646 lauu1247\n",
      "lauu1247 susu1250 lauu1247\n",
      "lauu1247 dari1249 lauu1247\n",
      "lauu1247 wath1238 lauu1247\n",
      "lauu1247 daga1275 lauu1247\n",
      "lauu1247 kari1304 lauu1247\n",
      "lauu1247 jama1262 lauu1247\n",
      "lauu1247 bagu1252 lauu1247\n",
      "lauu1247 buru1306 lauu1247\n",
      "lauu1247 moch1256 lauu1247\n"
     ]
    },
    {
     "name": "stderr",
     "output_type": "stream",
     "text": [
      "\n",
      "\n",
      "\n",
      "\n",
      "\n",
      "\n",
      "\n",
      "\n",
      " 72%|████████████████████████████▏          | 1850/2554 [49:57<22:43,  1.94s/it]\u001B[A\u001B[A\u001B[A\u001B[A\u001B[A\u001B[A\u001B[A\u001B[A"
     ]
    },
    {
     "name": "stdout",
     "output_type": "stream",
     "text": [
      "lauu1247 kand1301 lauu1247\n",
      "lauu1247 tind1238 lauu1247\n",
      "lauu1247 kara1499 lauu1247\n",
      "lauu1247 itik1240 lauu1247\n",
      "lauu1247 yawe1241 lauu1247\n",
      "lauu1247 aghu1254 lauu1247\n",
      "lauu1247 pahl1241 lauu1247\n",
      "lauu1247 kuli1254 lauu1247\n",
      "lauu1247 remp1241 lauu1247\n",
      "lauu1247 irig1241 lauu1247\n",
      "lauu1247 sese1246 lauu1247\n",
      "lauu1247 nade1244 lauu1247\n",
      "lauu1247 elna1235 lauu1247\n",
      "lauu1247 kway1241 lauu1247\n",
      "lauu1247 tsak1250 lauu1247\n",
      "lauu1247 brem1238 lauu1247\n",
      "lauu1247 stan1290 lauu1247\n",
      "lauu1247 sint1235 lauu1247\n",
      "lauu1247 turk1304 lauu1247\n",
      "lauu1247 owin1240 lauu1247\n",
      "lauu1247 kose1239 lauu1247\n",
      "lauu1247 kami1256 lauu1247\n"
     ]
    },
    {
     "name": "stderr",
     "output_type": "stream",
     "text": [
      "\n",
      "\n",
      "\n",
      "\n",
      "\n",
      "\n",
      "\n",
      "\n",
      " 73%|████████████████████████████▍          | 1860/2554 [50:17<22:33,  1.95s/it]\u001B[A\u001B[A\u001B[A\u001B[A\u001B[A\u001B[A\u001B[A\u001B[A"
     ]
    },
    {
     "name": "stdout",
     "output_type": "stream",
     "text": [
      "lauu1247 yare1249 lauu1247\n",
      "lauu1247 empl1237 lauu1247\n",
      "lauu1247 west2555 lauu1247\n",
      "lauu1247 desa1247 lauu1247\n"
     ]
    },
    {
     "name": "stderr",
     "output_type": "stream",
     "text": [
      "\n",
      "\n",
      "\n",
      "\n",
      "\n",
      "\n",
      "\n",
      "\n",
      " 73%|████████████████████████████▌          | 1870/2554 [50:38<22:35,  1.98s/it]\u001B[A\u001B[A\u001B[A\u001B[A\u001B[A\u001B[A\u001B[A\u001B[A"
     ]
    },
    {
     "name": "stdout",
     "output_type": "stream",
     "text": [
      "lauu1247 labe1239 lauu1247\n",
      "lauu1247 poqo1254 lauu1247\n",
      "lauu1247 guya1249 lauu1247\n",
      "lauu1247 saep1240 lauu1247\n",
      "lauu1247 waha1238 lauu1247\n"
     ]
    },
    {
     "name": "stderr",
     "output_type": "stream",
     "text": [
      "\n",
      "\n",
      "\n",
      "\n",
      "\n",
      "\n",
      "\n",
      "\n",
      " 74%|████████████████████████████▋          | 1880/2554 [50:55<21:28,  1.91s/it]\u001B[A\u001B[A\u001B[A\u001B[A\u001B[A\u001B[A\u001B[A\u001B[A"
     ]
    },
    {
     "name": "stdout",
     "output_type": "stream",
     "text": [
      "lauu1247 samo1305 lauu1247\n",
      "lauu1247 maon1241 lauu1247\n",
      "lauu1247 ghan1242 lauu1247\n",
      "lauu1247 sara1326 lauu1247\n",
      "lauu1247 niva1238 lauu1247\n",
      "lauu1247 wong1246 lauu1247\n",
      "lauu1247 sanp1260 lauu1247\n"
     ]
    },
    {
     "name": "stderr",
     "output_type": "stream",
     "text": [
      "\n",
      "\n",
      "\n",
      "\n",
      "\n",
      "\n",
      "\n",
      "\n",
      " 74%|████████████████████████████▊          | 1890/2554 [51:15<21:13,  1.92s/it]\u001B[A\u001B[A\u001B[A\u001B[A\u001B[A\u001B[A\u001B[A\u001B[A"
     ]
    },
    {
     "name": "stdout",
     "output_type": "stream",
     "text": [
      "lauu1247 aghu1253 lauu1247\n",
      "lauu1247 aika1237 lauu1247\n",
      "lauu1247 sout3001 lauu1247\n",
      "lauu1247 tekt1235 lauu1247\n",
      "lauu1247 saka1292 lauu1247\n"
     ]
    },
    {
     "name": "stderr",
     "output_type": "stream",
     "text": [
      "\n",
      "\n",
      "\n",
      "\n",
      "\n",
      "\n",
      "\n",
      "\n",
      " 74%|█████████████████████████████          | 1900/2554 [51:33<20:47,  1.91s/it]\u001B[A\u001B[A\u001B[A\u001B[A\u001B[A\u001B[A\u001B[A\u001B[A"
     ]
    },
    {
     "name": "stdout",
     "output_type": "stream",
     "text": [
      "lauu1247 clas1249 lauu1247\n",
      "lauu1247 obom1235 lauu1247\n",
      "lauu1247 siro1249 lauu1247\n",
      "lauu1247 bats1242 lauu1247\n",
      "lauu1247 russ1264 lauu1247\n",
      "lauu1247 gure1255 lauu1247\n",
      "lauu1247 copt1239 lauu1247\n",
      "lauu1247 mwag1236 lauu1247\n",
      "lauu1247 kele1255 lauu1247\n",
      "lauu1247 khoi1253 lauu1247\n",
      "lauu1247 faiw1243 lauu1247\n",
      "lauu1247 tiko1237 lauu1247\n",
      "lauu1247 dadi1250 lauu1247\n",
      "lauu1247 ngad1257 lauu1247\n",
      "lauu1247 chen1267 lauu1247\n",
      "lauu1247 huay1240 lauu1247\n",
      "lauu1247 amar1274 lauu1247\n",
      "lauu1247 kumb1268 lauu1247\n",
      "lauu1247 west2644 lauu1247\n",
      "lauu1247 agua1252 lauu1247\n",
      "lauu1247 umaa1242 lauu1247\n",
      "lauu1247 baca1246 lauu1247\n"
     ]
    },
    {
     "name": "stderr",
     "output_type": "stream",
     "text": [
      "\n",
      "\n",
      "\n",
      "\n",
      "\n",
      "\n",
      "\n",
      "\n",
      " 75%|█████████████████████████████▏         | 1910/2554 [51:53<20:41,  1.93s/it]\u001B[A\u001B[A\u001B[A\u001B[A\u001B[A\u001B[A\u001B[A\u001B[A"
     ]
    },
    {
     "name": "stdout",
     "output_type": "stream",
     "text": [
      "lauu1247 sham1280 lauu1247\n",
      "lauu1247 muin1242 lauu1247\n",
      "lauu1247 yind1248 lauu1247\n",
      "lauu1247 kaki1249 lauu1247\n",
      "lauu1247 timu1262 lauu1247\n",
      "lauu1247 ntch1242 lauu1247\n",
      "lauu1247 hama1240 lauu1247\n",
      "lauu1247 sran1240 lauu1247\n",
      "lauu1247 west2415 lauu1247\n",
      "lauu1247 angg1239 lauu1247\n",
      "lauu1247 badi1246 lauu1247\n",
      "lauu1247 nucl1683 lauu1247\n"
     ]
    },
    {
     "name": "stderr",
     "output_type": "stream",
     "text": [
      "\n",
      "\n",
      "\n",
      "\n",
      "\n",
      "\n",
      "\n",
      "\n",
      " 75%|█████████████████████████████▎         | 1920/2554 [52:13<20:30,  1.94s/it]\u001B[A\u001B[A\u001B[A\u001B[A\u001B[A\u001B[A\u001B[A\u001B[A"
     ]
    },
    {
     "name": "stdout",
     "output_type": "stream",
     "text": [
      "lauu1247 bugl1243 lauu1247\n",
      "lauu1247 koon1244 lauu1247\n",
      "lauu1247 nhan1238 lauu1247\n",
      "lauu1247 tsak1249 lauu1247\n"
     ]
    },
    {
     "name": "stderr",
     "output_type": "stream",
     "text": [
      "\n",
      "\n",
      "\n",
      "\n",
      "\n",
      "\n",
      "\n",
      "\n",
      " 76%|█████████████████████████████▍         | 1930/2554 [52:31<19:43,  1.90s/it]\u001B[A\u001B[A\u001B[A\u001B[A\u001B[A\u001B[A\u001B[A\u001B[A"
     ]
    },
    {
     "name": "stdout",
     "output_type": "stream",
     "text": [
      "lauu1247 ruma1248 lauu1247\n",
      "lauu1247 lazz1240 lauu1247\n",
      "lauu1247 cent2117 lauu1247\n",
      "lauu1247 aime1238 lauu1247\n",
      "lauu1247 bata1289 lauu1247\n",
      "lauu1247 sins1241 lauu1247\n",
      "lauu1247 alan1249 lauu1247\n",
      "lauu1247 slov1269 lauu1247\n",
      "lauu1247 surs1246 lauu1247\n",
      "lauu1247 caja1238 lauu1247\n",
      "lauu1247 sout2832 lauu1247\n"
     ]
    },
    {
     "name": "stderr",
     "output_type": "stream",
     "text": [
      "\n",
      "\n",
      "\n",
      "\n",
      "\n",
      "\n",
      "\n",
      "\n",
      " 76%|█████████████████████████████▌         | 1940/2554 [52:48<18:59,  1.86s/it]\u001B[A\u001B[A\u001B[A\u001B[A\u001B[A\u001B[A\u001B[A\u001B[A"
     ]
    },
    {
     "name": "stdout",
     "output_type": "stream",
     "text": [
      "lauu1247 asut1235 lauu1247\n",
      "lauu1247 lezg1247 lauu1247\n",
      "lauu1247 misk1235 lauu1247\n",
      "lauu1247 gula1270 lauu1247\n",
      "lauu1247 utar1238 lauu1247\n"
     ]
    },
    {
     "name": "stderr",
     "output_type": "stream",
     "text": [
      "\n",
      "\n",
      "\n",
      "\n",
      "\n",
      "\n",
      "\n",
      "\n",
      " 76%|█████████████████████████████▊         | 1950/2554 [53:10<19:26,  1.93s/it]\u001B[A\u001B[A\u001B[A\u001B[A\u001B[A\u001B[A\u001B[A\u001B[A"
     ]
    },
    {
     "name": "stdout",
     "output_type": "stream",
     "text": [
      "lauu1247 alla1248 lauu1247\n",
      "lauu1247 wers1238 lauu1247\n",
      "lauu1247 poch1243 lauu1247\n",
      "lauu1247 ejag1239 lauu1247\n",
      "lauu1247 paez1247 lauu1247\n",
      "lauu1247 nucl1302 lauu1247\n",
      "lauu1247 beli1260 lauu1247\n",
      "lauu1247 nort2725 lauu1247\n",
      "lauu1247 esee1247 lauu1247\n",
      "lauu1247 mbya1239 lauu1247\n",
      "lauu1247 kako1242 lauu1247\n",
      "lauu1247 idum1241 lauu1247\n",
      "lauu1247 munc1235 lauu1247\n",
      "lauu1247 koit1244 lauu1247\n"
     ]
    },
    {
     "name": "stderr",
     "output_type": "stream",
     "text": [
      "\n",
      "\n",
      "\n",
      "\n",
      "\n",
      "\n",
      "\n",
      "\n",
      " 77%|█████████████████████████████▉         | 1960/2554 [53:28<18:51,  1.90s/it]\u001B[A\u001B[A\u001B[A\u001B[A\u001B[A\u001B[A\u001B[A\u001B[A"
     ]
    },
    {
     "name": "stdout",
     "output_type": "stream",
     "text": [
      "lauu1247 mith1236 lauu1247\n",
      "lauu1247 leal1235 lauu1247\n",
      "lauu1247 alek1238 lauu1247\n",
      "lauu1247 faga1239 lauu1247\n",
      "lauu1247 ahin1234 lauu1247\n",
      "lauu1247 shee1238 lauu1247\n",
      "lauu1247 xian1253 lauu1247\n",
      "lauu1247 cabe1245 lauu1247\n",
      "lauu1247 yane1238 lauu1247\n",
      "lauu1247 dedu1240 lauu1247\n",
      "lauu1247 pall1243 lauu1247\n",
      "lauu1247 high1243 lauu1247\n",
      "lauu1247 sich1238 lauu1247\n",
      "lauu1247 gads1258 lauu1247\n",
      "lauu1247 nhir1234 lauu1247\n",
      "lauu1247 bekw1241 lauu1247\n",
      "lauu1247 jude1256 lauu1247\n",
      "lauu1247 livv1243 lauu1247\n",
      "lauu1247 tung1290 lauu1247\n",
      "lauu1247 cham1309 lauu1247\n",
      "lauu1247 osse1243 lauu1247\n"
     ]
    },
    {
     "name": "stderr",
     "output_type": "stream",
     "text": [
      "\n",
      "\n",
      "\n",
      "\n",
      "\n",
      "\n",
      "\n",
      "\n",
      " 77%|██████████████████████████████         | 1970/2554 [53:48<18:51,  1.94s/it]\u001B[A\u001B[A\u001B[A\u001B[A\u001B[A\u001B[A\u001B[A\u001B[A\n",
      "\n",
      "\n",
      "\n",
      "\n",
      "\n",
      "\n",
      "\n",
      " 78%|██████████████████████████████▏        | 1980/2554 [54:07<18:18,  1.91s/it]\u001B[A\u001B[A\u001B[A\u001B[A\u001B[A\u001B[A\u001B[A\u001B[A"
     ]
    },
    {
     "name": "stdout",
     "output_type": "stream",
     "text": [
      "lauu1247 musa1265 lauu1247\n",
      "lauu1247 kara1476 lauu1247\n",
      "lauu1247 sout3127 lauu1247\n",
      "lauu1247 mank1251 lauu1247\n",
      "lauu1247 kara1483 lauu1247\n",
      "lauu1247 chum1261 lauu1247\n",
      "lauu1247 zaca1242 lauu1247\n",
      "lauu1247 taro1264 lauu1247\n",
      "lauu1247 broo1239 lauu1247\n",
      "lauu1247 blab1237 lauu1247\n",
      "lauu1247 mani1292 lauu1247\n",
      "lauu1247 yess1239 lauu1247\n",
      "lauu1247 hang1263 lauu1247\n",
      "lauu1247 gaga1249 lauu1247\n",
      "lauu1247 isth1244 lauu1247\n",
      "lauu1247 ughe1237 lauu1247\n"
     ]
    },
    {
     "name": "stderr",
     "output_type": "stream",
     "text": [
      "\n",
      "\n",
      "\n",
      "\n",
      "\n",
      "\n",
      "\n",
      "\n",
      " 78%|██████████████████████████████▍        | 1990/2554 [54:25<17:45,  1.89s/it]\u001B[A\u001B[A\u001B[A\u001B[A\u001B[A\u001B[A\u001B[A\u001B[A"
     ]
    },
    {
     "name": "stdout",
     "output_type": "stream",
     "text": [
      "lauu1247 ivbi1241 lauu1247\n",
      "lauu1247 kamo1255 lauu1247\n",
      "lauu1247 mamp1244 lauu1247\n"
     ]
    },
    {
     "name": "stderr",
     "output_type": "stream",
     "text": [
      "\n",
      "\n",
      "\n",
      "\n",
      "\n",
      "\n",
      "\n",
      "\n",
      " 78%|██████████████████████████████▌        | 2000/2554 [54:46<17:58,  1.95s/it]\u001B[A\u001B[A\u001B[A\u001B[A\u001B[A\u001B[A\u001B[A\u001B[A"
     ]
    },
    {
     "name": "stdout",
     "output_type": "stream",
     "text": [
      "lauu1247 peno1244 lauu1247\n",
      "lauu1247 fuyu1242 lauu1247\n",
      "lauu1247 tiii1241 lauu1247\n",
      "lauu1247 penn1240 lauu1247\n",
      "lauu1247 muru1273 lauu1247\n",
      "lauu1247 tuvi1240 lauu1247\n",
      "lauu1247 shan1274 lauu1247\n",
      "lauu1247 ngul1246 lauu1247\n",
      "lauu1247 moli1248 lauu1247\n",
      "lauu1247 pomm1237 lauu1247\n"
     ]
    },
    {
     "name": "stderr",
     "output_type": "stream",
     "text": [
      "\n",
      "\n",
      "\n",
      "\n",
      "\n",
      "\n",
      "\n",
      "\n",
      " 79%|██████████████████████████████▋        | 2010/2554 [55:06<17:47,  1.96s/it]\u001B[A\u001B[A\u001B[A\u001B[A\u001B[A\u001B[A\u001B[A\u001B[A"
     ]
    },
    {
     "name": "stdout",
     "output_type": "stream",
     "text": [
      "lauu1247 numa1254 lauu1247\n",
      "lauu1247 khun1259 lauu1247\n",
      "lauu1247 mung1272 lauu1247\n",
      "lauu1247 waur1244 lauu1247\n",
      "lauu1247 isna1241 lauu1247\n",
      "lauu1247 urig1240 lauu1247\n",
      "lauu1247 yang1306 lauu1247\n",
      "lauu1247 gila1241 lauu1247\n",
      "lauu1247 binu1245 lauu1247\n",
      "lauu1247 karr1236 lauu1247\n",
      "lauu1247 chay1249 lauu1247\n",
      "lauu1247 brib1243 lauu1247\n",
      "lauu1247 maor1246 lauu1247\n",
      "lauu1247 cent2072 lauu1247\n",
      "lauu1247 izer1241 lauu1247\n",
      "lauu1247 mono1273 lauu1247\n"
     ]
    },
    {
     "name": "stderr",
     "output_type": "stream",
     "text": [
      "\n",
      "\n",
      "\n",
      "\n",
      "\n",
      "\n",
      "\n",
      "\n",
      " 79%|██████████████████████████████▊        | 2020/2554 [55:23<16:48,  1.89s/it]\u001B[A\u001B[A\u001B[A\u001B[A\u001B[A\u001B[A\u001B[A\u001B[A"
     ]
    },
    {
     "name": "stdout",
     "output_type": "stream",
     "text": [
      "lauu1247 nucl1633 lauu1247\n",
      "lauu1247 nzan1240 lauu1247\n",
      "lauu1247 nort2760 lauu1247\n",
      "lauu1247 assy1241 lauu1247\n",
      "lauu1247 buno1241 lauu1247\n",
      "lauu1247 mang1378 lauu1247\n",
      "lauu1247 situ1238 lauu1247\n",
      "lauu1247 east2414 lauu1247\n"
     ]
    },
    {
     "name": "stderr",
     "output_type": "stream",
     "text": [
      "\n",
      "\n",
      "\n",
      "\n",
      "\n",
      "\n",
      "\n",
      "\n",
      " 79%|██████████████████████████████▉        | 2030/2554 [55:41<16:23,  1.88s/it]\u001B[A\u001B[A\u001B[A\u001B[A\u001B[A\u001B[A\u001B[A\u001B[A"
     ]
    },
    {
     "name": "stdout",
     "output_type": "stream",
     "text": [
      "lauu1247 yavi1244 lauu1247\n",
      "lauu1247 tosk1239 lauu1247\n",
      "lauu1247 acha1249 lauu1247\n",
      "lauu1247 ndam1239 lauu1247\n",
      "lauu1247 seta1245 lauu1247\n"
     ]
    },
    {
     "name": "stderr",
     "output_type": "stream",
     "text": [
      "\n",
      "\n",
      "\n",
      "\n",
      "\n",
      "\n",
      "\n",
      "\n",
      " 80%|███████████████████████████████▏       | 2040/2554 [56:01<16:11,  1.89s/it]\u001B[A\u001B[A\u001B[A\u001B[A\u001B[A\u001B[A\u001B[A\u001B[A"
     ]
    },
    {
     "name": "stdout",
     "output_type": "stream",
     "text": [
      "lauu1247 east2371 lauu1247\n",
      "lauu1247 term1237 lauu1247\n",
      "lauu1247 nort2938 lauu1247\n",
      "lauu1247 hung1274 lauu1247\n",
      "lauu1247 adon1237 lauu1247\n",
      "lauu1247 timb1251 lauu1247\n",
      "lauu1247 asue1235 lauu1247\n",
      "lauu1247 paka1251 lauu1247\n",
      "lauu1247 aman1265 lauu1247\n",
      "lauu1247 mzie1235 lauu1247\n",
      "lauu1247 taul1251 lauu1247\n",
      "lauu1247 bura1267 lauu1247\n",
      "lauu1247 kart1247 lauu1247\n",
      "lauu1247 kimb1242 lauu1247\n",
      "lauu1247 mere1246 lauu1247\n"
     ]
    },
    {
     "name": "stderr",
     "output_type": "stream",
     "text": [
      "\n",
      "\n",
      "\n",
      "\n",
      "\n",
      "\n",
      "\n",
      "\n",
      " 80%|███████████████████████████████▎       | 2050/2554 [56:19<15:45,  1.88s/it]\u001B[A\u001B[A\u001B[A\u001B[A\u001B[A\u001B[A\u001B[A\u001B[A"
     ]
    },
    {
     "name": "stdout",
     "output_type": "stream",
     "text": [
      "lauu1247 yagu1244 lauu1247\n",
      "lauu1247 yaga1262 lauu1247\n",
      "lauu1247 iraq1241 lauu1247\n",
      "lauu1247 bayu1240 lauu1247\n",
      "lauu1247 icel1247 lauu1247\n"
     ]
    },
    {
     "name": "stderr",
     "output_type": "stream",
     "text": [
      "\n",
      "\n",
      "\n",
      "\n",
      "\n",
      "\n",
      "\n",
      "\n",
      " 81%|███████████████████████████████▍       | 2060/2554 [56:39<15:45,  1.91s/it]\u001B[A\u001B[A\u001B[A\u001B[A\u001B[A\u001B[A\u001B[A\u001B[A"
     ]
    },
    {
     "name": "stdout",
     "output_type": "stream",
     "text": [
      "lauu1247 guru1261 lauu1247\n",
      "lauu1247 moos1236 lauu1247\n",
      "lauu1247 nucl1696 lauu1247\n",
      "lauu1247 lioo1240 lauu1247\n",
      "lauu1247 nung1282 lauu1247\n",
      "lauu1247 lugu1238 lauu1247\n",
      "lauu1247 bang1339 lauu1247\n",
      "lauu1247 sant1451 lauu1247\n",
      "lauu1247 kosa1249 lauu1247\n",
      "lauu1247 mayi1236 lauu1247\n",
      "lauu1247 xaas1235 lauu1247\n",
      "lauu1247 taku1257 lauu1247\n",
      "lauu1247 hunz1247 lauu1247\n",
      "lauu1247 muru1266 lauu1247\n",
      "lauu1247 boko1266 lauu1247\n"
     ]
    },
    {
     "name": "stderr",
     "output_type": "stream",
     "text": [
      "\n",
      "\n",
      "\n",
      "\n",
      "\n",
      "\n",
      "\n",
      "\n",
      " 81%|███████████████████████████████▌       | 2070/2554 [56:56<14:48,  1.84s/it]\u001B[A\u001B[A\u001B[A\u001B[A\u001B[A\u001B[A\u001B[A\u001B[A"
     ]
    },
    {
     "name": "stdout",
     "output_type": "stream",
     "text": [
      "lauu1247 saya1246 lauu1247\n",
      "lauu1247 chuv1255 lauu1247\n",
      "lauu1247 mana1295 lauu1247\n",
      "lauu1247 warr1255 lauu1247\n",
      "lauu1247 dump1243 lauu1247\n",
      "lauu1247 tumu1242 lauu1247\n",
      "lauu1247 sanm1289 lauu1247\n",
      "lauu1247 naas1242 lauu1247\n",
      "lauu1247 inok1238 lauu1247\n",
      "lauu1247 tlah1239 lauu1247\n",
      "lauu1247 chip1262 lauu1247\n",
      "lauu1247 cuib1242 lauu1247\n",
      "lauu1247 ozol1235 lauu1247\n",
      "lauu1247 ainu1240 lauu1247\n"
     ]
    },
    {
     "name": "stderr",
     "output_type": "stream",
     "text": [
      "\n",
      "\n",
      "\n",
      "\n",
      "\n",
      "\n",
      "\n",
      "\n",
      " 81%|███████████████████████████████▊       | 2080/2554 [57:16<14:53,  1.88s/it]\u001B[A\u001B[A\u001B[A\u001B[A\u001B[A\u001B[A\u001B[A\u001B[A"
     ]
    },
    {
     "name": "stdout",
     "output_type": "stream",
     "text": [
      "lauu1247 khan1273 lauu1247\n",
      "lauu1247 soma1255 lauu1247\n",
      "lauu1247 east2472 lauu1247\n",
      "lauu1247 chok1243 lauu1247\n"
     ]
    },
    {
     "name": "stderr",
     "output_type": "stream",
     "text": [
      "\n",
      "\n",
      "\n",
      "\n",
      "\n",
      "\n",
      "\n",
      "\n",
      " 82%|███████████████████████████████▉       | 2090/2554 [57:34<14:26,  1.87s/it]\u001B[A\u001B[A\u001B[A\u001B[A\u001B[A\u001B[A\u001B[A\u001B[A"
     ]
    },
    {
     "name": "stdout",
     "output_type": "stream",
     "text": [
      "lauu1247 boun1245 lauu1247\n",
      "lauu1247 lame1257 lauu1247\n",
      "lauu1247 yany1243 lauu1247\n"
     ]
    },
    {
     "name": "stderr",
     "output_type": "stream",
     "text": [
      "\n",
      "\n",
      "\n",
      "\n",
      "\n",
      "\n",
      "\n",
      "\n",
      " 82%|████████████████████████████████       | 2100/2554 [57:54<14:21,  1.90s/it]\u001B[A\u001B[A\u001B[A\u001B[A\u001B[A\u001B[A\u001B[A\u001B[A"
     ]
    },
    {
     "name": "stdout",
     "output_type": "stream",
     "text": [
      "lauu1247 karo1305 lauu1247\n",
      "lauu1247 seru1245 lauu1247\n",
      "lauu1247 kaik1246 lauu1247\n",
      "lauu1247 kala1380 lauu1247\n",
      "lauu1247 kuni1265 lauu1247\n",
      "lauu1247 mbay1241 lauu1247\n",
      "lauu1247 chav1241 lauu1247\n",
      "lauu1247 roma1332 lauu1247\n",
      "lauu1247 khal1275 lauu1247\n",
      "lauu1247 lega1250 lauu1247\n",
      "lauu1247 dhan1270 lauu1247\n",
      "lauu1247 jeri1243 lauu1247\n",
      "lauu1247 coat1241 lauu1247\n",
      "lauu1247 ocot1243 lauu1247\n",
      "lauu1247 diri1259 lauu1247\n",
      "lauu1247 mbuk1243 lauu1247\n",
      "lauu1247 temb1276 lauu1247\n",
      "lauu1247 yaku1245 lauu1247\n"
     ]
    },
    {
     "name": "stderr",
     "output_type": "stream",
     "text": [
      "\n",
      "\n",
      "\n",
      "\n",
      "\n",
      "\n",
      "\n",
      "\n",
      " 83%|████████████████████████████████▏      | 2110/2554 [58:11<13:47,  1.86s/it]\u001B[A\u001B[A\u001B[A\u001B[A\u001B[A\u001B[A\u001B[A\u001B[A"
     ]
    },
    {
     "name": "stdout",
     "output_type": "stream",
     "text": [
      "lauu1247 pula1267 lauu1247\n",
      "lauu1247 zaza1245 lauu1247\n",
      "lauu1247 gily1242 lauu1247\n",
      "lauu1247 dhal1245 lauu1247\n",
      "lauu1247 bata1290 lauu1247\n",
      "lauu1247 iama1237 lauu1247\n",
      "lauu1247 moro1285 lauu1247\n",
      "lauu1247 sout2715 lauu1247\n",
      "lauu1247 maku1278 lauu1247\n",
      "lauu1247 djim1235 lauu1247\n",
      "lauu1247 west2640 lauu1247\n",
      "lauu1247 bili1250 lauu1247\n"
     ]
    },
    {
     "name": "stderr",
     "output_type": "stream",
     "text": [
      "\n",
      "\n",
      "\n",
      "\n",
      "\n",
      "\n",
      "\n",
      "\n",
      " 83%|████████████████████████████████▎      | 2120/2554 [58:29<13:10,  1.82s/it]\u001B[A\u001B[A\u001B[A\u001B[A\u001B[A\u001B[A\u001B[A\u001B[A"
     ]
    },
    {
     "name": "stdout",
     "output_type": "stream",
     "text": [
      "lauu1247 sout2866 lauu1247\n",
      "lauu1247 torr1261 lauu1247\n",
      "lauu1247 mula1254 lauu1247\n",
      "lauu1247 lahu1252 lauu1247\n",
      "lauu1247 dyul1238 lauu1247\n"
     ]
    },
    {
     "name": "stderr",
     "output_type": "stream",
     "text": [
      "\n",
      "\n",
      "\n",
      "\n",
      "\n",
      "\n",
      "\n",
      "\n",
      " 83%|████████████████████████████████▌      | 2130/2554 [58:48<13:03,  1.85s/it]\u001B[A\u001B[A\u001B[A\u001B[A\u001B[A\u001B[A\u001B[A\u001B[A"
     ]
    },
    {
     "name": "stdout",
     "output_type": "stream",
     "text": [
      "lauu1247 sika1261 lauu1247\n",
      "lauu1247 kosa1251 lauu1247\n",
      "lauu1247 diba1242 lauu1247\n",
      "lauu1247 yabe1254 lauu1247\n",
      "lauu1247 orok1269 lauu1247\n",
      "lauu1247 gese1240 lauu1247\n",
      "lauu1247 dupa1235 lauu1247\n",
      "lauu1247 matu1259 lauu1247\n"
     ]
    },
    {
     "name": "stderr",
     "output_type": "stream",
     "text": [
      "\n",
      "\n",
      "\n",
      "\n",
      "\n",
      "\n",
      "\n",
      "\n",
      " 84%|████████████████████████████████▋      | 2140/2554 [59:07<12:50,  1.86s/it]\u001B[A\u001B[A\u001B[A\u001B[A\u001B[A\u001B[A\u001B[A\u001B[A"
     ]
    },
    {
     "name": "stdout",
     "output_type": "stream",
     "text": [
      "lauu1247 hakk1236 lauu1247\n",
      "lauu1247 nina1238 lauu1247\n",
      "lauu1247 arab1267 lauu1247\n",
      "lauu1247 soga1242 lauu1247\n",
      "lauu1247 rupa1234 lauu1247\n",
      "lauu1247 ewag1241 lauu1247\n",
      "lauu1247 luop1235 lauu1247\n",
      "lauu1247 nali1245 lauu1247\n",
      "lauu1247 alya1239 lauu1247\n",
      "lauu1247 guhu1244 lauu1247\n",
      "lauu1247 sans1269 lauu1247\n",
      "lauu1247 angu1242 lauu1247\n",
      "lauu1247 akha1245 lauu1247\n",
      "lauu1247 gito1238 lauu1247\n",
      "lauu1247 efik1245 lauu1247\n"
     ]
    },
    {
     "name": "stderr",
     "output_type": "stream",
     "text": [
      "\n",
      "\n",
      "\n",
      "\n",
      "\n",
      "\n",
      "\n",
      "\n",
      " 84%|████████████████████████████████▊      | 2150/2554 [59:24<12:15,  1.82s/it]\u001B[A\u001B[A\u001B[A\u001B[A\u001B[A\u001B[A\u001B[A\u001B[A"
     ]
    },
    {
     "name": "stdout",
     "output_type": "stream",
     "text": [
      "lauu1247 bash1264 lauu1247\n",
      "lauu1247 norw1258 lauu1247\n",
      "lauu1247 lamk1238 lauu1247\n",
      "lauu1247 shil1265 lauu1247\n",
      "lauu1247 bedj1245 lauu1247\n",
      "lauu1247 yuwa1244 lauu1247\n",
      "lauu1247 kuik1246 lauu1247\n",
      "lauu1247 boro1279 lauu1247\n",
      "lauu1247 gang1270 lauu1247\n",
      "lauu1247 kunz1244 lauu1247\n",
      "lauu1247 ufim1240 lauu1247\n",
      "lauu1247 tran1282 lauu1247\n",
      "lauu1247 mina1269 lauu1247\n",
      "lauu1247 finn1318 lauu1247\n",
      "lauu1247 east2538 lauu1247\n"
     ]
    },
    {
     "name": "stderr",
     "output_type": "stream",
     "text": [
      "\n",
      "\n",
      "\n",
      "\n",
      "\n",
      "\n",
      "\n",
      "\n",
      " 85%|████████████████████████████████▉      | 2160/2554 [59:43<12:08,  1.85s/it]\u001B[A\u001B[A\u001B[A\u001B[A\u001B[A\u001B[A\u001B[A\u001B[A"
     ]
    },
    {
     "name": "stdout",
     "output_type": "stream",
     "text": [
      "lauu1247 atam1240 lauu1247\n",
      "lauu1247 sang1328 lauu1247\n",
      "lauu1247 sout2807 lauu1247\n",
      "lauu1247 cala1258 lauu1247\n",
      "lauu1247 blan1242 lauu1247\n"
     ]
    },
    {
     "name": "stderr",
     "output_type": "stream",
     "text": [
      "\n",
      "\n",
      "\n",
      "\n",
      "\n",
      "\n",
      "\n",
      "\n",
      " 85%|███████████████████████████████▍     | 2170/2554 [1:00:00<11:30,  1.80s/it]\u001B[A\u001B[A\u001B[A\u001B[A\u001B[A\u001B[A\u001B[A\u001B[A"
     ]
    },
    {
     "name": "stdout",
     "output_type": "stream",
     "text": [
      "lauu1247 daga1272 lauu1247\n",
      "lauu1247 sunw1242 lauu1247\n",
      "lauu1247 dori1246 lauu1247\n",
      "lauu1247 gull1241 lauu1247\n",
      "lauu1247 amun1246 lauu1247\n",
      "lauu1247 mund1325 lauu1247\n",
      "lauu1247 kute1248 lauu1247\n",
      "lauu1247 erzy1239 lauu1247\n",
      "lauu1247 hawk1239 lauu1247\n",
      "lauu1247 folo1238 lauu1247\n",
      "lauu1247 bung1264 lauu1247\n",
      "lauu1247 umir1236 lauu1247\n",
      "lauu1247 hula1239 lauu1247\n"
     ]
    },
    {
     "name": "stderr",
     "output_type": "stream",
     "text": [
      "\n",
      "\n",
      "\n",
      "\n",
      "\n",
      "\n",
      "\n",
      "\n",
      " 85%|███████████████████████████████▌     | 2180/2554 [1:00:20<11:37,  1.87s/it]\u001B[A\u001B[A\u001B[A\u001B[A\u001B[A\u001B[A\u001B[A\u001B[A"
     ]
    },
    {
     "name": "stdout",
     "output_type": "stream",
     "text": [
      "lauu1247 bank1259 lauu1247\n",
      "lauu1247 cebu1242 lauu1247\n",
      "lauu1247 vinz1238 lauu1247\n",
      "lauu1247 gupa1247 lauu1247\n",
      "lauu1247 tena1241 lauu1247\n",
      "lauu1247 ilaa1246 lauu1247\n",
      "lauu1247 hran1239 lauu1247\n",
      "lauu1247 buru1303 lauu1247\n"
     ]
    },
    {
     "name": "stderr",
     "output_type": "stream",
     "text": [
      "\n",
      "\n",
      "\n",
      "\n",
      "\n",
      "\n",
      "\n",
      "\n",
      " 86%|███████████████████████████████▋     | 2190/2554 [1:00:40<11:35,  1.91s/it]\u001B[A\u001B[A\u001B[A\u001B[A\u001B[A\u001B[A\u001B[A\u001B[A"
     ]
    },
    {
     "name": "stdout",
     "output_type": "stream",
     "text": [
      "lauu1247 zima1244 lauu1247\n",
      "lauu1247 zulg1242 lauu1247\n",
      "lauu1247 arao1248 lauu1247\n",
      "lauu1247 mosa1240 lauu1247\n",
      "lauu1247 siri1273 lauu1247\n",
      "lauu1247 dzao1238 lauu1247\n",
      "lauu1247 maan1238 lauu1247\n",
      "lauu1247 wamb1259 lauu1247\n",
      "lauu1247 lamb1272 lauu1247\n",
      "lauu1247 vagh1249 lauu1247\n",
      "lauu1247 sate1243 lauu1247\n",
      "lauu1247 sogd1245 lauu1247\n"
     ]
    },
    {
     "name": "stderr",
     "output_type": "stream",
     "text": [
      "\n",
      "\n",
      "\n",
      "\n",
      "\n",
      "\n",
      "\n",
      "\n",
      " 86%|███████████████████████████████▊     | 2200/2554 [1:00:58<10:59,  1.86s/it]\u001B[A\u001B[A\u001B[A\u001B[A\u001B[A\u001B[A\u001B[A\u001B[A"
     ]
    },
    {
     "name": "stdout",
     "output_type": "stream",
     "text": [
      "lauu1247 ixil1251 lauu1247\n",
      "lauu1247 yuet1238 lauu1247\n",
      "lauu1247 west2631 lauu1247\n",
      "lauu1247 zulu1248 lauu1247\n",
      "lauu1247 nort2980 lauu1247\n"
     ]
    },
    {
     "name": "stderr",
     "output_type": "stream",
     "text": [
      "\n",
      "\n",
      "\n",
      "\n",
      "\n",
      "\n",
      "\n",
      "\n",
      " 87%|████████████████████████████████     | 2210/2554 [1:01:16<10:42,  1.87s/it]\u001B[A\u001B[A\u001B[A\u001B[A\u001B[A\u001B[A\u001B[A\u001B[A"
     ]
    },
    {
     "name": "stdout",
     "output_type": "stream",
     "text": [
      "lauu1247 cerm1238 lauu1247\n",
      "lauu1247 mian1254 lauu1247\n",
      "lauu1247 gudu1250 lauu1247\n",
      "lauu1247 ucay1237 lauu1247\n",
      "lauu1247 taba1268 lauu1247\n",
      "lauu1247 eipo1242 lauu1247\n",
      "lauu1247 chep1245 lauu1247\n",
      "lauu1247 goli1247 lauu1247\n",
      "lauu1247 lwan1234 lauu1247\n",
      "lauu1247 seta1246 lauu1247\n",
      "lauu1247 kony1248 lauu1247\n",
      "lauu1247 baty1234 lauu1247\n",
      "lauu1247 wapi1253 lauu1247\n",
      "lauu1247 kuke1242 lauu1247\n",
      "lauu1247 nige1253 lauu1247\n",
      "lauu1247 fayu1238 lauu1247\n",
      "lauu1247 pero1241 lauu1247\n",
      "lauu1247 sout2943 lauu1247\n",
      "lauu1247 dutc1256 lauu1247\n",
      "lauu1247 mari1438 lauu1247\n"
     ]
    },
    {
     "name": "stderr",
     "output_type": "stream",
     "text": [
      "\n",
      "\n",
      "\n",
      "\n",
      "\n",
      "\n",
      "\n",
      "\n",
      " 87%|████████████████████████████████▏    | 2220/2554 [1:01:37<10:39,  1.91s/it]\u001B[A\u001B[A\u001B[A\u001B[A\u001B[A\u001B[A\u001B[A\u001B[A"
     ]
    },
    {
     "name": "stdout",
     "output_type": "stream",
     "text": [
      "lauu1247 mpur1239 lauu1247\n",
      "lauu1247 west2409 lauu1247\n",
      "lauu1247 woun1238 lauu1247\n",
      "lauu1247 sinh1246 lauu1247\n",
      "lauu1247 svan1243 lauu1247\n"
     ]
    },
    {
     "name": "stderr",
     "output_type": "stream",
     "text": [
      "\n",
      "\n",
      "\n",
      "\n",
      "\n",
      "\n",
      "\n",
      "\n",
      " 87%|████████████████████████████████▎    | 2230/2554 [1:01:54<10:02,  1.86s/it]\u001B[A\u001B[A\u001B[A\u001B[A\u001B[A\u001B[A\u001B[A\u001B[A"
     ]
    },
    {
     "name": "stdout",
     "output_type": "stream",
     "text": [
      "lauu1247 ngas1240 lauu1247\n",
      "lauu1247 cent2150 lauu1247\n",
      "lauu1247 lian1251 lauu1247\n",
      "lauu1247 zaiw1241 lauu1247\n"
     ]
    },
    {
     "name": "stderr",
     "output_type": "stream",
     "text": [
      "\n",
      "\n",
      "\n",
      "\n",
      "\n",
      "\n",
      "\n",
      "\n",
      " 88%|████████████████████████████████▍    | 2240/2554 [1:02:14<09:52,  1.89s/it]\u001B[A\u001B[A\u001B[A\u001B[A\u001B[A\u001B[A\u001B[A\u001B[A"
     ]
    },
    {
     "name": "stdout",
     "output_type": "stream",
     "text": [
      "lauu1247 bend1258 lauu1247\n",
      "lauu1247 suru1262 lauu1247\n",
      "lauu1247 rotu1241 lauu1247\n",
      "lauu1247 arab1268 lauu1247\n",
      "lauu1247 kodi1247 lauu1247\n",
      "lauu1247 huam1248 lauu1247\n",
      "lauu1247 cusc1236 lauu1247\n",
      "lauu1247 sanj1286 lauu1247\n",
      "lauu1247 casu1237 lauu1247\n",
      "lauu1247 yoso1239 lauu1247\n",
      "lauu1247 pino1237 lauu1247\n",
      "lauu1247 sout2896 lauu1247\n"
     ]
    },
    {
     "name": "stderr",
     "output_type": "stream",
     "text": [
      "\n",
      "\n",
      "\n",
      "\n",
      "\n",
      "\n",
      "\n",
      "\n",
      " 88%|████████████████████████████████▌    | 2250/2554 [1:02:32<09:25,  1.86s/it]\u001B[A\u001B[A\u001B[A\u001B[A\u001B[A\u001B[A\u001B[A\u001B[A"
     ]
    },
    {
     "name": "stdout",
     "output_type": "stream",
     "text": [
      "lauu1247 kare1335 lauu1247\n",
      "lauu1247 xava1240 lauu1247\n",
      "lauu1247 nimo1246 lauu1247\n",
      "lauu1247 tokh1242 lauu1247\n",
      "lauu1247 area1240 lauu1247\n",
      "lauu1247 demi1242 lauu1247\n",
      "lauu1247 kich1262 lauu1247\n",
      "lauu1247 tari1263 lauu1247\n",
      "lauu1247 biet1238 lauu1247\n",
      "lauu1247 ipik1244 lauu1247\n",
      "lauu1247 stan1289 lauu1247\n",
      "lauu1247 swis1247 lauu1247\n",
      "lauu1247 lang1324 lauu1247\n"
     ]
    },
    {
     "name": "stderr",
     "output_type": "stream",
     "text": [
      "\n",
      "\n",
      "\n",
      "\n",
      "\n",
      "\n",
      "\n",
      "\n",
      " 88%|████████████████████████████████▋    | 2260/2554 [1:02:53<09:28,  1.93s/it]\u001B[A\u001B[A\u001B[A\u001B[A\u001B[A\u001B[A\u001B[A\u001B[A\n",
      "\n",
      "\n",
      "\n",
      "\n",
      "\n",
      "\n",
      "\n",
      " 89%|████████████████████████████████▉    | 2270/2554 [1:03:12<09:05,  1.92s/it]\u001B[A\u001B[A\u001B[A\u001B[A\u001B[A\u001B[A\u001B[A\u001B[A"
     ]
    },
    {
     "name": "stdout",
     "output_type": "stream",
     "text": [
      "lauu1247 west1506 lauu1247\n",
      "lauu1247 mara1379 lauu1247\n",
      "lauu1247 east2881 lauu1247\n",
      "lauu1247 hebr1245 lauu1247\n",
      "lauu1247 west2392 lauu1247\n",
      "lauu1247 wark1247 lauu1247\n",
      "lauu1247 bade1248 lauu1247\n",
      "lauu1247 sina1266 lauu1247\n",
      "lauu1247 sout2795 lauu1247\n"
     ]
    },
    {
     "name": "stderr",
     "output_type": "stream",
     "text": [
      "\n",
      "\n",
      "\n",
      "\n",
      "\n",
      "\n",
      "\n",
      "\n",
      " 89%|█████████████████████████████████    | 2280/2554 [1:03:32<09:00,  1.97s/it]\u001B[A\u001B[A\u001B[A\u001B[A\u001B[A\u001B[A\u001B[A\u001B[A"
     ]
    },
    {
     "name": "stdout",
     "output_type": "stream",
     "text": [
      "lauu1247 nort2684 lauu1247\n",
      "lauu1247 iyow1239 lauu1247\n",
      "lauu1247 nake1240 lauu1247\n",
      "lauu1247 kalk1246 lauu1247\n",
      "lauu1247 tere1279 lauu1247\n",
      "lauu1247 acha1250 lauu1247\n",
      "lauu1247 garu1246 lauu1247\n",
      "lauu1247 nucl1632 lauu1247\n",
      "lauu1247 tawa1275 lauu1247\n",
      "lauu1247 chec1245 lauu1247\n",
      "lauu1247 pich1237 lauu1247\n",
      "lauu1247 koyr1240 lauu1247\n",
      "lauu1247 lewo1242 lauu1247\n",
      "lauu1247 tali1259 lauu1247\n",
      "lauu1247 sher1255 lauu1247\n",
      "lauu1247 sion1247 lauu1247\n",
      "lauu1247 sout2694 lauu1247\n"
     ]
    },
    {
     "name": "stderr",
     "output_type": "stream",
     "text": [
      "\n",
      "\n",
      "\n",
      "\n",
      "\n",
      "\n",
      "\n",
      "\n",
      " 90%|█████████████████████████████████▏   | 2290/2554 [1:03:52<08:39,  1.97s/it]\u001B[A\u001B[A\u001B[A\u001B[A\u001B[A\u001B[A\u001B[A\u001B[A"
     ]
    },
    {
     "name": "stdout",
     "output_type": "stream",
     "text": [
      "lauu1247 west2635 lauu1247\n",
      "lauu1247 marg1265 lauu1247\n",
      "lauu1247 vwan1235 lauu1247\n",
      "lauu1247 manc1252 lauu1247\n",
      "lauu1247 nucl1634 lauu1247\n",
      "lauu1247 west2599 lauu1247\n",
      "lauu1247 waiw1244 lauu1247\n",
      "lauu1247 kabu1249 lauu1247\n",
      "lauu1247 yamb1251 lauu1247\n"
     ]
    },
    {
     "name": "stderr",
     "output_type": "stream",
     "text": [
      "\n",
      "\n",
      "\n",
      "\n",
      "\n",
      "\n",
      "\n",
      "\n",
      " 90%|█████████████████████████████████▎   | 2300/2554 [1:04:10<08:04,  1.91s/it]\u001B[A\u001B[A\u001B[A\u001B[A\u001B[A\u001B[A\u001B[A\u001B[A"
     ]
    },
    {
     "name": "stdout",
     "output_type": "stream",
     "text": [
      "lauu1247 ngin1244 lauu1247\n",
      "lauu1247 midd1343 lauu1247\n",
      "lauu1247 kopa1248 lauu1247\n",
      "lauu1247 boga1251 lauu1247\n",
      "lauu1247 west2624 lauu1247\n",
      "lauu1247 mlab1235 lauu1247\n",
      "lauu1247 guga1239 lauu1247\n",
      "lauu1247 lamm1241 lauu1247\n",
      "lauu1247 sahu1245 lauu1247\n",
      "lauu1247 malg1242 lauu1247\n",
      "lauu1247 ikwe1242 lauu1247\n",
      "lauu1247 idat1237 lauu1247\n",
      "lauu1247 iatm1242 lauu1247\n",
      "lauu1247 east2332 lauu1247\n",
      "lauu1247 sout2992 lauu1247\n",
      "lauu1247 taki1248 lauu1247\n",
      "lauu1247 huau1238 lauu1247\n",
      "lauu1247 kelo1247 lauu1247\n"
     ]
    },
    {
     "name": "stderr",
     "output_type": "stream",
     "text": [
      "\n",
      "\n",
      "\n",
      "\n",
      "\n",
      "\n",
      "\n",
      "\n",
      " 90%|█████████████████████████████████▍   | 2310/2554 [1:04:29<07:49,  1.92s/it]\u001B[A\u001B[A\u001B[A\u001B[A\u001B[A\u001B[A\u001B[A\u001B[A"
     ]
    },
    {
     "name": "stdout",
     "output_type": "stream",
     "text": [
      "lauu1247 bord1248 lauu1247\n",
      "lauu1247 yetf1238 lauu1247\n",
      "lauu1247 east2328 lauu1247\n",
      "lauu1247 tsou1248 lauu1247\n"
     ]
    },
    {
     "name": "stderr",
     "output_type": "stream",
     "text": [
      "\n",
      "\n",
      "\n",
      "\n",
      "\n",
      "\n",
      "\n",
      "\n",
      " 91%|█████████████████████████████████▌   | 2320/2554 [1:04:51<07:47,  2.00s/it]\u001B[A\u001B[A\u001B[A\u001B[A\u001B[A\u001B[A\u001B[A\u001B[A"
     ]
    },
    {
     "name": "stdout",
     "output_type": "stream",
     "text": [
      "lauu1247 rahu1234 lauu1247\n",
      "lauu1247 seco1241 lauu1247\n",
      "lauu1247 akaw1239 lauu1247\n",
      "lauu1247 gude1246 lauu1247\n"
     ]
    },
    {
     "name": "stderr",
     "output_type": "stream",
     "text": [
      "\n",
      "\n",
      "\n",
      "\n",
      "\n",
      "\n",
      "\n",
      "\n",
      " 91%|█████████████████████████████████▊   | 2330/2554 [1:05:12<07:30,  2.01s/it]\u001B[A\u001B[A\u001B[A\u001B[A\u001B[A\u001B[A\u001B[A\u001B[A"
     ]
    },
    {
     "name": "stdout",
     "output_type": "stream",
     "text": [
      "lauu1247 meru1245 lauu1247\n",
      "lauu1247 kamw1239 lauu1247\n",
      "lauu1247 high1276 lauu1247\n",
      "lauu1247 waja1257 lauu1247\n",
      "lauu1247 moks1248 lauu1247\n"
     ]
    },
    {
     "name": "stderr",
     "output_type": "stream",
     "text": [
      "\n",
      "\n",
      "\n",
      "\n",
      "\n",
      "\n",
      "\n",
      "\n",
      " 92%|█████████████████████████████████▉   | 2340/2554 [1:05:30<06:58,  1.96s/it]\u001B[A\u001B[A\u001B[A\u001B[A\u001B[A\u001B[A\u001B[A\u001B[A"
     ]
    },
    {
     "name": "stdout",
     "output_type": "stream",
     "text": [
      "lauu1247 bond1248 lauu1247\n",
      "lauu1247 dhuw1249 lauu1247\n",
      "lauu1247 maqu1238 lauu1247\n",
      "lauu1247 macu1259 lauu1247\n",
      "lauu1247 mace1250 lauu1247\n",
      "lauu1247 nyan1301 lauu1247\n",
      "lauu1247 shub1238 lauu1247\n",
      "lauu1247 seng1285 lauu1247\n",
      "lauu1247 sout2990 lauu1247\n",
      "lauu1247 nort2690 lauu1247\n",
      "lauu1247 pare1272 lauu1247\n",
      "lauu1247 odoo1238 lauu1247\n",
      "lauu1247 patp1243 lauu1247\n",
      "lauu1247 baur1252 lauu1247\n",
      "lauu1247 wulg1239 lauu1247\n",
      "lauu1247 biak1248 lauu1247\n"
     ]
    },
    {
     "name": "stderr",
     "output_type": "stream",
     "text": [
      "\n",
      "\n",
      "\n",
      "\n",
      "\n",
      "\n",
      "\n",
      "\n",
      " 92%|██████████████████████████████████   | 2350/2554 [1:05:48<06:28,  1.90s/it]\u001B[A\u001B[A\u001B[A\u001B[A\u001B[A\u001B[A\u001B[A\u001B[A"
     ]
    },
    {
     "name": "stdout",
     "output_type": "stream",
     "text": [
      "lauu1247 nucl1649 lauu1247\n",
      "lauu1247 kuoo1238 lauu1247\n",
      "lauu1247 mund1327 lauu1247\n",
      "lauu1247 rucc1239 lauu1247\n",
      "lauu1247 high1242 lauu1247\n",
      "lauu1247 ling1263 lauu1247\n",
      "lauu1247 guer1243 lauu1247\n",
      "lauu1247 sain1246 lauu1247\n",
      "lauu1247 nafa1258 lauu1247\n",
      "lauu1247 nort2641 lauu1247\n",
      "lauu1247 mina1268 lauu1247\n",
      "lauu1247 east2295 lauu1247\n",
      "lauu1247 tibe1272 lauu1247\n",
      "lauu1247 konk1269 lauu1247\n",
      "lauu1247 inar1241 lauu1247\n",
      "lauu1247 west2386 lauu1247\n",
      "lauu1247 sout2991 lauu1247\n",
      "lauu1247 aran1237 lauu1247\n"
     ]
    },
    {
     "name": "stderr",
     "output_type": "stream",
     "text": [
      "\n",
      "\n",
      "\n",
      "\n",
      "\n",
      "\n",
      "\n",
      "\n",
      " 92%|██████████████████████████████████▏  | 2360/2554 [1:06:06<06:06,  1.89s/it]\u001B[A\u001B[A\u001B[A\u001B[A\u001B[A\u001B[A\u001B[A\u001B[A"
     ]
    },
    {
     "name": "stdout",
     "output_type": "stream",
     "text": [
      "lauu1247 bata1298 lauu1247\n",
      "lauu1247 dadu1237 lauu1247\n",
      "lauu1247 crim1257 lauu1247\n",
      "lauu1247 tait1250 lauu1247\n",
      "lauu1247 biat1246 lauu1247\n",
      "lauu1247 loth1237 lauu1247\n"
     ]
    },
    {
     "name": "stderr",
     "output_type": "stream",
     "text": [
      "\n",
      "\n",
      "\n",
      "\n",
      "\n",
      "\n",
      "\n",
      "\n",
      " 93%|██████████████████████████████████▎  | 2370/2554 [1:06:27<05:57,  1.94s/it]\u001B[A\u001B[A\u001B[A\u001B[A\u001B[A\u001B[A\u001B[A\u001B[A"
     ]
    },
    {
     "name": "stdout",
     "output_type": "stream",
     "text": [
      "lauu1247 mpot1240 lauu1247\n",
      "lauu1247 yala1262 lauu1247\n",
      "lauu1247 mand1415 lauu1247\n",
      "lauu1247 wall1255 lauu1247\n",
      "lauu1247 komb1272 lauu1247\n",
      "lauu1247 tepe1280 lauu1247\n",
      "lauu1247 tzel1254 lauu1247\n",
      "lauu1247 kups1238 lauu1247\n"
     ]
    },
    {
     "name": "stderr",
     "output_type": "stream",
     "text": [
      "\n",
      "\n",
      "\n",
      "\n",
      "\n",
      "\n",
      "\n",
      "\n",
      " 93%|██████████████████████████████████▍  | 2380/2554 [1:06:45<05:29,  1.89s/it]\u001B[A\u001B[A\u001B[A\u001B[A\u001B[A\u001B[A\u001B[A\u001B[A"
     ]
    },
    {
     "name": "stdout",
     "output_type": "stream",
     "text": [
      "lauu1247 urap1240 lauu1247\n",
      "lauu1247 geji1246 lauu1247\n",
      "lauu1247 gbag1258 lauu1247\n",
      "lauu1247 ndal1241 lauu1247\n",
      "lauu1247 mapo1242 lauu1247\n",
      "lauu1247 mars1254 lauu1247\n",
      "lauu1247 shar1245 lauu1247\n",
      "lauu1247 atay1247 lauu1247\n",
      "lauu1247 lati1261 lauu1247\n",
      "lauu1247 kina1250 lauu1247\n",
      "lauu1247 cari1276 lauu1247\n",
      "lauu1247 tido1248 lauu1247\n",
      "lauu1247 wada1263 lauu1247\n",
      "lauu1247 amga1235 lauu1247\n",
      "lauu1247 uabm1237 lauu1247\n",
      "lauu1247 suki1245 lauu1247\n",
      "lauu1247 lewo1244 lauu1247\n",
      "lauu1247 seka1247 lauu1247\n",
      "lauu1247 nobo1238 lauu1247\n",
      "lauu1247 samo1303 lauu1247\n",
      "lauu1247 alor1247 lauu1247\n",
      "lauu1247 kisi1243 lauu1247\n",
      "lauu1247 guan1269 lauu1247\n"
     ]
    },
    {
     "name": "stderr",
     "output_type": "stream",
     "text": [
      "\n",
      "\n",
      "\n",
      "\n",
      "\n",
      "\n",
      "\n",
      "\n",
      " 94%|██████████████████████████████████▌  | 2390/2554 [1:07:03<05:09,  1.89s/it]\u001B[A\u001B[A\u001B[A\u001B[A\u001B[A\u001B[A\u001B[A\u001B[A"
     ]
    },
    {
     "name": "stdout",
     "output_type": "stream",
     "text": [
      "lauu1247 baga1272 lauu1247\n",
      "lauu1247 sila1250 lauu1247\n",
      "lauu1247 chac1251 lauu1247\n",
      "lauu1247 yaga1260 lauu1247\n"
     ]
    },
    {
     "name": "stderr",
     "output_type": "stream",
     "text": [
      "\n",
      "\n",
      "\n",
      "\n",
      "\n",
      "\n",
      "\n",
      "\n",
      " 94%|██████████████████████████████████▊  | 2400/2554 [1:07:22<04:51,  1.89s/it]\u001B[A\u001B[A\u001B[A\u001B[A\u001B[A\u001B[A\u001B[A\u001B[A"
     ]
    },
    {
     "name": "stdout",
     "output_type": "stream",
     "text": [
      "lauu1247 wama1247 lauu1247\n",
      "lauu1247 keng1240 lauu1247\n",
      "lauu1247 mauw1238 lauu1247\n",
      "lauu1247 wara1300 lauu1247\n"
     ]
    },
    {
     "name": "stderr",
     "output_type": "stream",
     "text": [
      "\n",
      "\n",
      "\n",
      "\n",
      "\n",
      "\n",
      "\n",
      "\n",
      " 94%|██████████████████████████████████▉  | 2410/2554 [1:07:39<04:21,  1.82s/it]\u001B[A\u001B[A\u001B[A\u001B[A\u001B[A\u001B[A\u001B[A\u001B[A"
     ]
    },
    {
     "name": "stdout",
     "output_type": "stream",
     "text": [
      "lauu1247 bari1297 lauu1247\n",
      "lauu1247 kaba1281 lauu1247\n",
      "lauu1247 ugar1238 lauu1247\n",
      "lauu1247 lama1277 lauu1247\n",
      "lauu1247 tari1256 lauu1247\n",
      "lauu1247 kaya1330 lauu1247\n",
      "lauu1247 mang1383 lauu1247\n",
      "lauu1247 tahi1242 lauu1247\n",
      "lauu1247 fili1244 lauu1247\n",
      "lauu1247 mala1484 lauu1247\n",
      "lauu1247 plap1239 lauu1247\n",
      "lauu1247 wagi1249 lauu1247\n",
      "lauu1247 degg1238 lauu1247\n"
     ]
    },
    {
     "name": "stderr",
     "output_type": "stream",
     "text": [
      "\n",
      "\n",
      "\n",
      "\n",
      "\n",
      "\n",
      "\n",
      "\n",
      " 95%|███████████████████████████████████  | 2420/2554 [1:07:58<04:06,  1.84s/it]\u001B[A\u001B[A\u001B[A\u001B[A\u001B[A\u001B[A\u001B[A\u001B[A"
     ]
    },
    {
     "name": "stdout",
     "output_type": "stream",
     "text": [
      "lauu1247 ngaj1237 lauu1247\n",
      "lauu1247 supy1237 lauu1247\n",
      "lauu1247 selk1253 lauu1247\n",
      "lauu1247 maka1325 lauu1247\n",
      "lauu1247 anam1248 lauu1247\n",
      "lauu1247 toka1244 lauu1247\n",
      "lauu1247 dama1272 lauu1247\n",
      "lauu1247 bila1257 lauu1247\n",
      "lauu1247 guib1244 lauu1247\n",
      "lauu1247 nort2979 lauu1247\n",
      "lauu1247 bian1252 lauu1247\n",
      "lauu1247 bahi1254 lauu1247\n",
      "lauu1247 mate1260 lauu1247\n"
     ]
    },
    {
     "name": "stderr",
     "output_type": "stream",
     "text": [
      "\n",
      "\n",
      "\n",
      "\n",
      "\n",
      "\n",
      "\n",
      "\n",
      " 95%|███████████████████████████████████▏ | 2430/2554 [1:08:17<03:52,  1.88s/it]\u001B[A\u001B[A\u001B[A\u001B[A\u001B[A\u001B[A\u001B[A\u001B[A"
     ]
    },
    {
     "name": "stdout",
     "output_type": "stream",
     "text": [
      "lauu1247 sout2674 lauu1247\n",
      "lauu1247 bass1258 lauu1247\n",
      "lauu1247 gour1243 lauu1247\n",
      "lauu1247 kari1311 lauu1247\n",
      "lauu1247 urdu1245 lauu1247\n",
      "lauu1247 tuyu1244 lauu1247\n",
      "lauu1247 khin1240 lauu1247\n",
      "lauu1247 hiri1237 lauu1247\n",
      "lauu1247 bauw1240 lauu1247\n",
      "lauu1247 kitu1246 lauu1247\n"
     ]
    },
    {
     "name": "stderr",
     "output_type": "stream",
     "text": [
      "\n",
      "\n",
      "\n",
      "\n",
      "\n",
      "\n",
      "\n",
      "\n",
      " 96%|███████████████████████████████████▎ | 2440/2554 [1:08:36<03:33,  1.87s/it]\u001B[A\u001B[A\u001B[A\u001B[A\u001B[A\u001B[A\u001B[A\u001B[A"
     ]
    },
    {
     "name": "stdout",
     "output_type": "stream",
     "text": [
      "lauu1247 noma1260 lauu1247\n",
      "lauu1247 zauz1238 lauu1247\n",
      "lauu1247 soch1239 lauu1247\n",
      "lauu1247 kaiw1246 lauu1247\n",
      "lauu1247 juku1254 lauu1247\n",
      "lauu1247 tang1347 lauu1247\n",
      "lauu1247 cent2092 lauu1247\n",
      "lauu1247 siri1274 lauu1247\n",
      "lauu1247 tama1365 lauu1247\n"
     ]
    },
    {
     "name": "stderr",
     "output_type": "stream",
     "text": [
      "\n",
      "\n",
      "\n",
      "\n",
      "\n",
      "\n",
      "\n",
      "\n",
      " 96%|███████████████████████████████████▍ | 2450/2554 [1:08:54<03:12,  1.85s/it]\u001B[A\u001B[A\u001B[A\u001B[A\u001B[A\u001B[A\u001B[A\u001B[A"
     ]
    },
    {
     "name": "stdout",
     "output_type": "stream",
     "text": [
      "lauu1247 mufi1238 lauu1247\n",
      "lauu1247 waru1265 lauu1247\n",
      "lauu1247 para1301 lauu1247\n",
      "lauu1247 aheu1239 lauu1247\n",
      "lauu1247 nand1264 lauu1247\n",
      "lauu1247 lagh1246 lauu1247\n"
     ]
    },
    {
     "name": "stderr",
     "output_type": "stream",
     "text": [
      "\n",
      "\n",
      "\n",
      "\n",
      "\n",
      "\n",
      "\n",
      "\n",
      " 96%|███████████████████████████████████▋ | 2460/2554 [1:09:14<02:58,  1.90s/it]\u001B[A\u001B[A\u001B[A\u001B[A\u001B[A\u001B[A\u001B[A\u001B[A"
     ]
    },
    {
     "name": "stdout",
     "output_type": "stream",
     "text": [
      "lauu1247 macu1260 lauu1247\n",
      "lauu1247 suku1261 lauu1247\n",
      "lauu1247 masa1322 lauu1247\n",
      "lauu1247 yunl1238 lauu1247\n",
      "lauu1247 bola1250 lauu1247\n",
      "lauu1247 fran1266 lauu1247\n",
      "lauu1247 wikm1247 lauu1247\n",
      "lauu1247 mane1266 lauu1247\n",
      "lauu1247 yoid1240 lauu1247\n",
      "lauu1247 kaim1241 lauu1247\n",
      "lauu1247 cham1312 lauu1247\n",
      "lauu1247 kaga1256 lauu1247\n",
      "lauu1247 buhi1245 lauu1247\n",
      "lauu1247 izii1239 lauu1247\n",
      "lauu1247 noon1243 lauu1247\n",
      "lauu1247 yaga1256 lauu1247\n",
      "lauu1247 mutu1242 lauu1247\n",
      "lauu1247 biri1256 lauu1247\n",
      "lauu1247 waga1260 lauu1247\n"
     ]
    },
    {
     "name": "stderr",
     "output_type": "stream",
     "text": [
      "\n",
      "\n",
      "\n",
      "\n",
      "\n",
      "\n",
      "\n",
      "\n",
      " 97%|███████████████████████████████████▊ | 2470/2554 [1:09:32<02:35,  1.85s/it]\u001B[A\u001B[A\u001B[A\u001B[A\u001B[A\u001B[A\u001B[A\u001B[A"
     ]
    },
    {
     "name": "stdout",
     "output_type": "stream",
     "text": [
      "lauu1247 kupa1239 lauu1247\n",
      "lauu1247 chan1326 lauu1247\n",
      "lauu1247 yine1238 lauu1247\n",
      "lauu1247 mada1282 lauu1247\n",
      "lauu1247 fata1247 lauu1247\n",
      "lauu1247 samo1306 lauu1247\n",
      "lauu1247 nyak1260 lauu1247\n"
     ]
    },
    {
     "name": "stderr",
     "output_type": "stream",
     "text": [
      "\n",
      "\n",
      "\n",
      "\n",
      "\n",
      "\n",
      "\n",
      "\n",
      " 97%|███████████████████████████████████▉ | 2480/2554 [1:09:50<02:17,  1.86s/it]\u001B[A\u001B[A\u001B[A\u001B[A\u001B[A\u001B[A\u001B[A\u001B[A"
     ]
    },
    {
     "name": "stdout",
     "output_type": "stream",
     "text": [
      "lauu1247 pohn1238 lauu1247\n",
      "lauu1247 chek1238 lauu1247\n",
      "lauu1247 ngam1282 lauu1247\n",
      "lauu1247 kore1283 lauu1247\n",
      "lauu1247 mats1244 lauu1247\n"
     ]
    },
    {
     "name": "stderr",
     "output_type": "stream",
     "text": [
      "\n",
      "\n",
      "\n",
      "\n",
      "\n",
      "\n",
      "\n",
      "\n",
      " 97%|████████████████████████████████████ | 2490/2554 [1:10:07<01:55,  1.80s/it]\u001B[A\u001B[A\u001B[A\u001B[A\u001B[A\u001B[A\u001B[A\u001B[A"
     ]
    },
    {
     "name": "stdout",
     "output_type": "stream",
     "text": [
      "lauu1247 rikb1245 lauu1247\n",
      "lauu1247 chua1250 lauu1247\n",
      "lauu1247 tavr1235 lauu1247\n",
      "lauu1247 cent2084 lauu1247\n",
      "lauu1247 samb1305 lauu1247\n",
      "lauu1247 pahn1237 lauu1247\n",
      "lauu1247 wipi1242 lauu1247\n",
      "lauu1247 uspa1245 lauu1247\n",
      "lauu1247 tuma1250 lauu1247\n",
      "lauu1247 kare1348 lauu1247\n",
      "lauu1247 lakk1238 lauu1247\n",
      "lauu1247 oldp1253 lauu1247\n",
      "lauu1247 tera1251 lauu1247\n",
      "lauu1247 mosk1236 lauu1247\n",
      "lauu1247 akan1250 lauu1247\n",
      "lauu1247 gogo1265 lauu1247\n"
     ]
    },
    {
     "name": "stderr",
     "output_type": "stream",
     "text": [
      "\n",
      "\n",
      "\n",
      "\n",
      "\n",
      "\n",
      "\n",
      "\n",
      " 98%|████████████████████████████████████▏| 2500/2554 [1:10:25<01:37,  1.81s/it]\u001B[A\u001B[A\u001B[A\u001B[A\u001B[A\u001B[A\u001B[A\u001B[A"
     ]
    },
    {
     "name": "stdout",
     "output_type": "stream",
     "text": [
      "lauu1247 iban1264 lauu1247\n",
      "lauu1247 yaum1237 lauu1247\n",
      "lauu1247 sang1336 lauu1247\n",
      "lauu1247 biso1243 lauu1247\n",
      "lauu1247 yala1267 lauu1247\n",
      "lauu1247 kibi1239 lauu1247\n",
      "lauu1247 mape1249 lauu1247\n",
      "lauu1247 pamp1243 lauu1247\n",
      "lauu1247 musa1266 lauu1247\n",
      "lauu1247 nama1264 lauu1247\n"
     ]
    },
    {
     "name": "stderr",
     "output_type": "stream",
     "text": [
      "\n",
      "\n",
      "\n",
      "\n",
      "\n",
      "\n",
      "\n",
      "\n",
      " 98%|████████████████████████████████████▎| 2510/2554 [1:10:44<01:20,  1.83s/it]\u001B[A\u001B[A\u001B[A\u001B[A\u001B[A\u001B[A\u001B[A\u001B[A"
     ]
    },
    {
     "name": "stdout",
     "output_type": "stream",
     "text": [
      "lauu1247 kaqc1270 lauu1247\n",
      "lauu1247 ashk1246 lauu1247\n",
      "lauu1247 iseb1246 lauu1247\n",
      "lauu1247 ngur1263 lauu1247\n",
      "lauu1247 tamp1252 lauu1247\n",
      "lauu1247 bang1368 lauu1247\n",
      "lauu1247 momb1254 lauu1247\n",
      "lauu1247 sanm1301 lauu1247\n",
      "lauu1247 arhu1242 lauu1247\n",
      "lauu1247 djiw1241 lauu1247\n"
     ]
    },
    {
     "name": "stderr",
     "output_type": "stream",
     "text": [
      "\n",
      "\n",
      "\n",
      "\n",
      "\n",
      "\n",
      "\n",
      "\n",
      " 99%|████████████████████████████████████▌| 2520/2554 [1:11:01<01:01,  1.80s/it]\u001B[A\u001B[A\u001B[A\u001B[A\u001B[A\u001B[A\u001B[A\u001B[A"
     ]
    },
    {
     "name": "stdout",
     "output_type": "stream",
     "text": [
      "lauu1247 bine1240 lauu1247\n",
      "lauu1247 unaa1239 lauu1247\n",
      "lauu1247 haaa1252 lauu1247\n",
      "lauu1247 duna1248 lauu1247\n",
      "lauu1247 daii1240 lauu1247\n",
      "lauu1247 yaqu1251 lauu1247\n",
      "lauu1247 seim1238 lauu1247\n"
     ]
    },
    {
     "name": "stderr",
     "output_type": "stream",
     "text": [
      "\n",
      "\n",
      "\n",
      "\n",
      "\n",
      "\n",
      "\n",
      "\n",
      " 99%|████████████████████████████████████▋| 2530/2554 [1:11:22<00:45,  1.88s/it]\u001B[A\u001B[A\u001B[A\u001B[A\u001B[A\u001B[A\u001B[A\u001B[A"
     ]
    },
    {
     "name": "stdout",
     "output_type": "stream",
     "text": [
      "lauu1247 laar1238 lauu1247\n",
      "lauu1247 larg1235 lauu1247\n",
      "lauu1247 dier1241 lauu1247\n",
      "lauu1247 naue1237 lauu1247\n",
      "lauu1247 deny1238 lauu1247\n",
      "lauu1247 gang1268 lauu1247\n",
      "lauu1247 semi1264 lauu1247\n",
      "lauu1247 sind1272 lauu1247\n",
      "lauu1247 iter1241 lauu1247\n",
      "lauu1247 ilea1237 lauu1247\n",
      "lauu1247 erit1239 lauu1247\n",
      "lauu1247 cent2128 lauu1247\n",
      "lauu1247 cent1992 lauu1247\n",
      "lauu1247 kema1243 lauu1247\n",
      "lauu1247 chac1249 lauu1247\n",
      "lauu1247 kuma1280 lauu1247\n",
      "lauu1247 moni1261 lauu1247\n",
      "lauu1247 rovi1238 lauu1247\n"
     ]
    },
    {
     "name": "stderr",
     "output_type": "stream",
     "text": [
      "\n",
      "\n",
      "\n",
      "\n",
      "\n",
      "\n",
      "\n",
      "\n",
      " 99%|████████████████████████████████████▊| 2540/2554 [1:11:40<00:26,  1.86s/it]\u001B[A\u001B[A\u001B[A\u001B[A\u001B[A\u001B[A\u001B[A\u001B[A"
     ]
    },
    {
     "name": "stdout",
     "output_type": "stream",
     "text": [
      "lauu1247 ngar1235 lauu1247\n",
      "lauu1247 mait1250 lauu1247\n",
      "lauu1247 ngit1239 lauu1247\n",
      "lauu1247 sout2728 lauu1247\n"
     ]
    },
    {
     "name": "stderr",
     "output_type": "stream",
     "text": [
      "\n",
      "\n",
      "\n",
      "\n",
      "\n",
      "\n",
      "\n",
      "\n",
      "100%|█████████████████████████████████████| 2554/2554 [1:11:57<00:00,  1.69s/it]\u001B[A\u001B[A\u001B[A\u001B[A\u001B[A\u001B[A\u001B[A\u001B[A\n"
     ]
    },
    {
     "name": "stdout",
     "output_type": "stream",
     "text": [
      "lauu1247 duvl1242 lauu1247\n",
      "lauu1247 helo1243 lauu1247\n",
      "lauu1247 oira1263 lauu1247\n",
      "lauu1247 uppe1430 lauu1247\n",
      "lauu1247 sout2754 lauu1247\n",
      "lauu1247 bara1380 lauu1247\n",
      "lauu1247 clas1252 lauu1247\n",
      "lauu1247 rung1255 lauu1247\n",
      "lauu1247 nucl1379 lauu1247\n",
      "lauu1247 cune1239 lauu1247\n",
      "lauu1247 renn1242 lauu1247\n",
      "lauu1247 swed1254 lauu1247\n",
      "lauu1247 ship1254 lauu1247\n",
      "lauu1247 pany1241 lauu1247\n",
      "lauu1247 amba1265 lauu1247\n",
      "lauu1247 waff1241 lauu1247\n"
     ]
    },
    {
     "data": {
      "text/plain": [
       "[None,\n",
       " None,\n",
       " None,\n",
       " None,\n",
       " None,\n",
       " None,\n",
       " None,\n",
       " None,\n",
       " None,\n",
       " None,\n",
       " None,\n",
       " None,\n",
       " None,\n",
       " None,\n",
       " None,\n",
       " None,\n",
       " None,\n",
       " None,\n",
       " None,\n",
       " None,\n",
       " None,\n",
       " None,\n",
       " None,\n",
       " None,\n",
       " None,\n",
       " None,\n",
       " None,\n",
       " None,\n",
       " None,\n",
       " None,\n",
       " None,\n",
       " None,\n",
       " None,\n",
       " None,\n",
       " None,\n",
       " None,\n",
       " None,\n",
       " None,\n",
       " None,\n",
       " None,\n",
       " None,\n",
       " None,\n",
       " None,\n",
       " None,\n",
       " None,\n",
       " None,\n",
       " None,\n",
       " None,\n",
       " None,\n",
       " None,\n",
       " None,\n",
       " None,\n",
       " None,\n",
       " None,\n",
       " None,\n",
       " None,\n",
       " None,\n",
       " None,\n",
       " None,\n",
       " None,\n",
       " None,\n",
       " None,\n",
       " None,\n",
       " None,\n",
       " None,\n",
       " None,\n",
       " None,\n",
       " None,\n",
       " None,\n",
       " None,\n",
       " None,\n",
       " None,\n",
       " None,\n",
       " None,\n",
       " None,\n",
       " None,\n",
       " None,\n",
       " None,\n",
       " None,\n",
       " None,\n",
       " None,\n",
       " None,\n",
       " None,\n",
       " None,\n",
       " None,\n",
       " None,\n",
       " None,\n",
       " None,\n",
       " None,\n",
       " None,\n",
       " None,\n",
       " None,\n",
       " None,\n",
       " None,\n",
       " None,\n",
       " None,\n",
       " None,\n",
       " None,\n",
       " None,\n",
       " None,\n",
       " None,\n",
       " None,\n",
       " None,\n",
       " None,\n",
       " None,\n",
       " None,\n",
       " None,\n",
       " None,\n",
       " None,\n",
       " None,\n",
       " None,\n",
       " None,\n",
       " None,\n",
       " None,\n",
       " None,\n",
       " None,\n",
       " None,\n",
       " None,\n",
       " None,\n",
       " None,\n",
       " None,\n",
       " None,\n",
       " None,\n",
       " None,\n",
       " None,\n",
       " None,\n",
       " None,\n",
       " None,\n",
       " None,\n",
       " None,\n",
       " None,\n",
       " None,\n",
       " None,\n",
       " None,\n",
       " None,\n",
       " None,\n",
       " None,\n",
       " None,\n",
       " None,\n",
       " None,\n",
       " None,\n",
       " None,\n",
       " None,\n",
       " None,\n",
       " None,\n",
       " None,\n",
       " None,\n",
       " None,\n",
       " None,\n",
       " None,\n",
       " None,\n",
       " None,\n",
       " None,\n",
       " None,\n",
       " None,\n",
       " None,\n",
       " None,\n",
       " None,\n",
       " None,\n",
       " None,\n",
       " None,\n",
       " None,\n",
       " None,\n",
       " None,\n",
       " None,\n",
       " None,\n",
       " None,\n",
       " None,\n",
       " None,\n",
       " None,\n",
       " None,\n",
       " None,\n",
       " None,\n",
       " None,\n",
       " None,\n",
       " None,\n",
       " None,\n",
       " None,\n",
       " None,\n",
       " None,\n",
       " None,\n",
       " None,\n",
       " None,\n",
       " None,\n",
       " None,\n",
       " None,\n",
       " None,\n",
       " None,\n",
       " None,\n",
       " None,\n",
       " None,\n",
       " None,\n",
       " None,\n",
       " None,\n",
       " None,\n",
       " None,\n",
       " None,\n",
       " None,\n",
       " None,\n",
       " None,\n",
       " None,\n",
       " None,\n",
       " None,\n",
       " None,\n",
       " None,\n",
       " None,\n",
       " None,\n",
       " None,\n",
       " None,\n",
       " None,\n",
       " None,\n",
       " None,\n",
       " None,\n",
       " None,\n",
       " None,\n",
       " None,\n",
       " None,\n",
       " None,\n",
       " None,\n",
       " None,\n",
       " None,\n",
       " None,\n",
       " None,\n",
       " None,\n",
       " None,\n",
       " None,\n",
       " None,\n",
       " None,\n",
       " None,\n",
       " None,\n",
       " None,\n",
       " None,\n",
       " None,\n",
       " None,\n",
       " None,\n",
       " None,\n",
       " None,\n",
       " None,\n",
       " None,\n",
       " None,\n",
       " None,\n",
       " None,\n",
       " None,\n",
       " None,\n",
       " None,\n",
       " None,\n",
       " None,\n",
       " None,\n",
       " None,\n",
       " None,\n",
       " None,\n",
       " None,\n",
       " None,\n",
       " None,\n",
       " None,\n",
       " None,\n",
       " None,\n",
       " None,\n",
       " None,\n",
       " None,\n",
       " None,\n",
       " None,\n",
       " None,\n",
       " None,\n",
       " None,\n",
       " None,\n",
       " None,\n",
       " None,\n",
       " None,\n",
       " None,\n",
       " None,\n",
       " None,\n",
       " None,\n",
       " None,\n",
       " None,\n",
       " None,\n",
       " None,\n",
       " None,\n",
       " None,\n",
       " None,\n",
       " None,\n",
       " None,\n",
       " None,\n",
       " None,\n",
       " None,\n",
       " None,\n",
       " None,\n",
       " None,\n",
       " None,\n",
       " None,\n",
       " None,\n",
       " None,\n",
       " None,\n",
       " None,\n",
       " None,\n",
       " None,\n",
       " None,\n",
       " None,\n",
       " None,\n",
       " None,\n",
       " None,\n",
       " None,\n",
       " None,\n",
       " None,\n",
       " None,\n",
       " None,\n",
       " None,\n",
       " None,\n",
       " None,\n",
       " None,\n",
       " None,\n",
       " None,\n",
       " None,\n",
       " None,\n",
       " None,\n",
       " None,\n",
       " None,\n",
       " None,\n",
       " None,\n",
       " None,\n",
       " None,\n",
       " None,\n",
       " None,\n",
       " None,\n",
       " None,\n",
       " None,\n",
       " None,\n",
       " None,\n",
       " None,\n",
       " None,\n",
       " None,\n",
       " None,\n",
       " None,\n",
       " None,\n",
       " None,\n",
       " None,\n",
       " None,\n",
       " None,\n",
       " None,\n",
       " None,\n",
       " None,\n",
       " None,\n",
       " None,\n",
       " None,\n",
       " None,\n",
       " None,\n",
       " None,\n",
       " None,\n",
       " None,\n",
       " None,\n",
       " None,\n",
       " None,\n",
       " None,\n",
       " None,\n",
       " None,\n",
       " None,\n",
       " None,\n",
       " None,\n",
       " None,\n",
       " None,\n",
       " None,\n",
       " None,\n",
       " None,\n",
       " None,\n",
       " None,\n",
       " None,\n",
       " None,\n",
       " None,\n",
       " None,\n",
       " None,\n",
       " None,\n",
       " None,\n",
       " None,\n",
       " None,\n",
       " None,\n",
       " None,\n",
       " None,\n",
       " None,\n",
       " None,\n",
       " None,\n",
       " None,\n",
       " None,\n",
       " None,\n",
       " None,\n",
       " None,\n",
       " None,\n",
       " None,\n",
       " None,\n",
       " None,\n",
       " None,\n",
       " None,\n",
       " None,\n",
       " None,\n",
       " None,\n",
       " None,\n",
       " None,\n",
       " None,\n",
       " None,\n",
       " None,\n",
       " None,\n",
       " None,\n",
       " None,\n",
       " None,\n",
       " None,\n",
       " None,\n",
       " None,\n",
       " None,\n",
       " None,\n",
       " None,\n",
       " None,\n",
       " None,\n",
       " None,\n",
       " None,\n",
       " None,\n",
       " None,\n",
       " None,\n",
       " None,\n",
       " None,\n",
       " None,\n",
       " None,\n",
       " None,\n",
       " None,\n",
       " None,\n",
       " None,\n",
       " None,\n",
       " None,\n",
       " None,\n",
       " None,\n",
       " None,\n",
       " None,\n",
       " None,\n",
       " None,\n",
       " None,\n",
       " None,\n",
       " None,\n",
       " None,\n",
       " None,\n",
       " None,\n",
       " None,\n",
       " None,\n",
       " None,\n",
       " None,\n",
       " None,\n",
       " None,\n",
       " None,\n",
       " None,\n",
       " None,\n",
       " None,\n",
       " None,\n",
       " None,\n",
       " None,\n",
       " None,\n",
       " None,\n",
       " None,\n",
       " None,\n",
       " None,\n",
       " None,\n",
       " None,\n",
       " None,\n",
       " None,\n",
       " None,\n",
       " None,\n",
       " None,\n",
       " None,\n",
       " None,\n",
       " None,\n",
       " None,\n",
       " None,\n",
       " None,\n",
       " None,\n",
       " None,\n",
       " None,\n",
       " None,\n",
       " None,\n",
       " None,\n",
       " None,\n",
       " None,\n",
       " None,\n",
       " None,\n",
       " None,\n",
       " None,\n",
       " None,\n",
       " None,\n",
       " None,\n",
       " None,\n",
       " None,\n",
       " None,\n",
       " None,\n",
       " None,\n",
       " None,\n",
       " None,\n",
       " None,\n",
       " None,\n",
       " None,\n",
       " None,\n",
       " None,\n",
       " None,\n",
       " None,\n",
       " None,\n",
       " None,\n",
       " None,\n",
       " None,\n",
       " None,\n",
       " None,\n",
       " None,\n",
       " None,\n",
       " None,\n",
       " None,\n",
       " None,\n",
       " None,\n",
       " None,\n",
       " None,\n",
       " None,\n",
       " None,\n",
       " None,\n",
       " None,\n",
       " None,\n",
       " None,\n",
       " None,\n",
       " None,\n",
       " None,\n",
       " None,\n",
       " None,\n",
       " None,\n",
       " None,\n",
       " None,\n",
       " None,\n",
       " None,\n",
       " None,\n",
       " None,\n",
       " None,\n",
       " None,\n",
       " None,\n",
       " None,\n",
       " None,\n",
       " None,\n",
       " None,\n",
       " None,\n",
       " None,\n",
       " None,\n",
       " None,\n",
       " None,\n",
       " None,\n",
       " None,\n",
       " None,\n",
       " None,\n",
       " None,\n",
       " None,\n",
       " None,\n",
       " None,\n",
       " None,\n",
       " None,\n",
       " None,\n",
       " None,\n",
       " None,\n",
       " None,\n",
       " None,\n",
       " None,\n",
       " None,\n",
       " None,\n",
       " None,\n",
       " None,\n",
       " None,\n",
       " None,\n",
       " None,\n",
       " None,\n",
       " None,\n",
       " None,\n",
       " None,\n",
       " None,\n",
       " None,\n",
       " None,\n",
       " None,\n",
       " None,\n",
       " None,\n",
       " None,\n",
       " None,\n",
       " None,\n",
       " None,\n",
       " None,\n",
       " None,\n",
       " None,\n",
       " None,\n",
       " None,\n",
       " None,\n",
       " None,\n",
       " None,\n",
       " None,\n",
       " None,\n",
       " None,\n",
       " None,\n",
       " None,\n",
       " None,\n",
       " None,\n",
       " None,\n",
       " None,\n",
       " None,\n",
       " None,\n",
       " None,\n",
       " None,\n",
       " None,\n",
       " None,\n",
       " None,\n",
       " None,\n",
       " None,\n",
       " None,\n",
       " None,\n",
       " None,\n",
       " None,\n",
       " None,\n",
       " None,\n",
       " None,\n",
       " None,\n",
       " None,\n",
       " None,\n",
       " None,\n",
       " None,\n",
       " None,\n",
       " None,\n",
       " None,\n",
       " None,\n",
       " None,\n",
       " None,\n",
       " None,\n",
       " None,\n",
       " None,\n",
       " None,\n",
       " None,\n",
       " None,\n",
       " None,\n",
       " None,\n",
       " None,\n",
       " None,\n",
       " None,\n",
       " None,\n",
       " None,\n",
       " None,\n",
       " None,\n",
       " None,\n",
       " None,\n",
       " None,\n",
       " None,\n",
       " None,\n",
       " None,\n",
       " None,\n",
       " None,\n",
       " None,\n",
       " None,\n",
       " None,\n",
       " None,\n",
       " None,\n",
       " None,\n",
       " None,\n",
       " None,\n",
       " None,\n",
       " None,\n",
       " None,\n",
       " None,\n",
       " None,\n",
       " None,\n",
       " None,\n",
       " None,\n",
       " None,\n",
       " None,\n",
       " None,\n",
       " None,\n",
       " None,\n",
       " None,\n",
       " None,\n",
       " None,\n",
       " None,\n",
       " None,\n",
       " None,\n",
       " None,\n",
       " None,\n",
       " None,\n",
       " None,\n",
       " None,\n",
       " None,\n",
       " None,\n",
       " None,\n",
       " None,\n",
       " None,\n",
       " None,\n",
       " None,\n",
       " None,\n",
       " None,\n",
       " None,\n",
       " None,\n",
       " None,\n",
       " None,\n",
       " None,\n",
       " None,\n",
       " None,\n",
       " None,\n",
       " None,\n",
       " None,\n",
       " None,\n",
       " None,\n",
       " None,\n",
       " None,\n",
       " None,\n",
       " None,\n",
       " None,\n",
       " None,\n",
       " None,\n",
       " None,\n",
       " None,\n",
       " None,\n",
       " None,\n",
       " None,\n",
       " None,\n",
       " None,\n",
       " None,\n",
       " None,\n",
       " None,\n",
       " None,\n",
       " None,\n",
       " None,\n",
       " None,\n",
       " None,\n",
       " None,\n",
       " None,\n",
       " None,\n",
       " None,\n",
       " None,\n",
       " None,\n",
       " None,\n",
       " None,\n",
       " None,\n",
       " None,\n",
       " None,\n",
       " None,\n",
       " None,\n",
       " None,\n",
       " None,\n",
       " None,\n",
       " None,\n",
       " None,\n",
       " None,\n",
       " None,\n",
       " None,\n",
       " None,\n",
       " None,\n",
       " None,\n",
       " None,\n",
       " None,\n",
       " None,\n",
       " None,\n",
       " None,\n",
       " None,\n",
       " None,\n",
       " None,\n",
       " None,\n",
       " None,\n",
       " None,\n",
       " None,\n",
       " None,\n",
       " None,\n",
       " None,\n",
       " None,\n",
       " None,\n",
       " None,\n",
       " None,\n",
       " None,\n",
       " None,\n",
       " None,\n",
       " None,\n",
       " None,\n",
       " None,\n",
       " None,\n",
       " None,\n",
       " None,\n",
       " None,\n",
       " None,\n",
       " None,\n",
       " None,\n",
       " None,\n",
       " None,\n",
       " None,\n",
       " None,\n",
       " None,\n",
       " None,\n",
       " None,\n",
       " None,\n",
       " None,\n",
       " None,\n",
       " None,\n",
       " None,\n",
       " None,\n",
       " None,\n",
       " None,\n",
       " None,\n",
       " None,\n",
       " None,\n",
       " None,\n",
       " None,\n",
       " None,\n",
       " None,\n",
       " None,\n",
       " None,\n",
       " None,\n",
       " None,\n",
       " None,\n",
       " None,\n",
       " None,\n",
       " None,\n",
       " None,\n",
       " None,\n",
       " None,\n",
       " None,\n",
       " None,\n",
       " None,\n",
       " None,\n",
       " None,\n",
       " None,\n",
       " None,\n",
       " None,\n",
       " None,\n",
       " None,\n",
       " None,\n",
       " None,\n",
       " None,\n",
       " None,\n",
       " None,\n",
       " None,\n",
       " None,\n",
       " None,\n",
       " None,\n",
       " None,\n",
       " None,\n",
       " None,\n",
       " None,\n",
       " None,\n",
       " None,\n",
       " None,\n",
       " None,\n",
       " None,\n",
       " None,\n",
       " None,\n",
       " None,\n",
       " None,\n",
       " None,\n",
       " None,\n",
       " None,\n",
       " None,\n",
       " None,\n",
       " None,\n",
       " None,\n",
       " None,\n",
       " None,\n",
       " None,\n",
       " None,\n",
       " None,\n",
       " None,\n",
       " None,\n",
       " None,\n",
       " None,\n",
       " None,\n",
       " None,\n",
       " None,\n",
       " None,\n",
       " None,\n",
       " None,\n",
       " None,\n",
       " None,\n",
       " None,\n",
       " None,\n",
       " None,\n",
       " None,\n",
       " None,\n",
       " None,\n",
       " None,\n",
       " None,\n",
       " None,\n",
       " None,\n",
       " None,\n",
       " None,\n",
       " None,\n",
       " None,\n",
       " None,\n",
       " None,\n",
       " None,\n",
       " None,\n",
       " None,\n",
       " None,\n",
       " None,\n",
       " None,\n",
       " None,\n",
       " None,\n",
       " None,\n",
       " None,\n",
       " None,\n",
       " None,\n",
       " None,\n",
       " None,\n",
       " None,\n",
       " None,\n",
       " None,\n",
       " None,\n",
       " None,\n",
       " None,\n",
       " None,\n",
       " None,\n",
       " None,\n",
       " None,\n",
       " None,\n",
       " None,\n",
       " None,\n",
       " None,\n",
       " None,\n",
       " None,\n",
       " None,\n",
       " None,\n",
       " None,\n",
       " None,\n",
       " None,\n",
       " None,\n",
       " None,\n",
       " None,\n",
       " None,\n",
       " None,\n",
       " None,\n",
       " None,\n",
       " None,\n",
       " None,\n",
       " None,\n",
       " None,\n",
       " None,\n",
       " None,\n",
       " None,\n",
       " None,\n",
       " None,\n",
       " None,\n",
       " None,\n",
       " None,\n",
       " None,\n",
       " None,\n",
       " None,\n",
       " None,\n",
       " None,\n",
       " None,\n",
       " None,\n",
       " None,\n",
       " None,\n",
       " None,\n",
       " None,\n",
       " None,\n",
       " None,\n",
       " None,\n",
       " None,\n",
       " None,\n",
       " None,\n",
       " None,\n",
       " None,\n",
       " None,\n",
       " None,\n",
       " None,\n",
       " None,\n",
       " None,\n",
       " None,\n",
       " None,\n",
       " None,\n",
       " None,\n",
       " None,\n",
       " None,\n",
       " None,\n",
       " None,\n",
       " None,\n",
       " None,\n",
       " None,\n",
       " None,\n",
       " None,\n",
       " None,\n",
       " None,\n",
       " None,\n",
       " None,\n",
       " None,\n",
       " None,\n",
       " None,\n",
       " None,\n",
       " None,\n",
       " None,\n",
       " None,\n",
       " None,\n",
       " None,\n",
       " None,\n",
       " None,\n",
       " None,\n",
       " None,\n",
       " None,\n",
       " None,\n",
       " None,\n",
       " None,\n",
       " None,\n",
       " None,\n",
       " None,\n",
       " None,\n",
       " None,\n",
       " None,\n",
       " ...]"
      ]
     },
     "execution_count": 103,
     "metadata": {},
     "output_type": "execute_result"
    }
   ],
   "source": [
    "Parallel(n_jobs=-1)(delayed(get_lang2lang_contacts)(i) for i in tqdm(interlangs))"
   ]
  },
  {
   "cell_type": "markdown",
   "id": "eb6b0682-e689-4f4f-81c2-48139f0441fe",
   "metadata": {},
   "source": [
    "# Step4: Merge language distance dictionaries."
   ]
  },
  {
   "cell_type": "code",
   "execution_count": 105,
   "id": "0a4f70ec-2428-45c4-b231-9b5b10430da5",
   "metadata": {},
   "outputs": [],
   "source": [
    "import networkx as nx"
   ]
  },
  {
   "cell_type": "code",
   "execution_count": 106,
   "id": "130ad3ba-5253-423f-8e8a-bb6c3fc75ea6",
   "metadata": {},
   "outputs": [],
   "source": [
    "input_folder=\"../data/stage1/language_contacts_nr1\""
   ]
  },
  {
   "cell_type": "code",
   "execution_count": 107,
   "id": "a57dd7bc-0c9d-4581-8e8a-a7bbd5968136",
   "metadata": {},
   "outputs": [],
   "source": [
    "langs = [x.replace(\".json\",\"\") for x in os.listdir(input_folder) if x.endswith(\".json\")]"
   ]
  },
  {
   "cell_type": "code",
   "execution_count": 108,
   "id": "3cc153d9-c35c-4024-a16d-9526b7cc66cb",
   "metadata": {},
   "outputs": [
    {
     "data": {
      "text/plain": [
       "2554"
      ]
     },
     "execution_count": 108,
     "metadata": {},
     "output_type": "execute_result"
    }
   ],
   "source": [
    "len(langs)"
   ]
  },
  {
   "cell_type": "code",
   "execution_count": null,
   "id": "8a6143ea-e27a-40a8-b2d7-b553fba5c65e",
   "metadata": {},
   "outputs": [],
   "source": []
  },
  {
   "cell_type": "code",
   "execution_count": 109,
   "id": "5fc2f7f8-d05e-4568-998e-b0647831a6be",
   "metadata": {
    "scrolled": true
   },
   "outputs": [
    {
     "data": {
      "text/plain": [
       "'guin1254'"
      ]
     },
     "execution_count": 109,
     "metadata": {},
     "output_type": "execute_result"
    }
   ],
   "source": [
    "langs[0]"
   ]
  },
  {
   "cell_type": "markdown",
   "id": "66c106f8-239a-4ab2-a076-47cc23c69150",
   "metadata": {},
   "source": [
    "## populate a graph"
   ]
  },
  {
   "cell_type": "code",
   "execution_count": 113,
   "id": "abd9a6be-d180-4cf3-8617-f08cc1ae5283",
   "metadata": {},
   "outputs": [],
   "source": [
    "def langauge_info():\n",
    "    \"\"\"\n",
    "    Load language information\n",
    "    :return: a dictionary of language information with glottocode as key.\n",
    "    \"\"\"\n",
    "    langdict = pd.read_csv(\"../data/languages/languages_all.csv\", index_col=0).to_dict(orient=\"index\")\n",
    "    return langdict"
   ]
  },
  {
   "cell_type": "code",
   "execution_count": 114,
   "id": "bdd691a2-08c6-46b7-9a29-927885a44bb8",
   "metadata": {},
   "outputs": [],
   "source": [
    "langdict=langauge_info()"
   ]
  },
  {
   "cell_type": "code",
   "execution_count": 151,
   "id": "d08486c1-a310-441d-a195-1b1a44fa05ff",
   "metadata": {},
   "outputs": [],
   "source": [
    "g = nx.Graph()\n",
    "g.graph[\"dataset\"]=\"geo\"\n",
    "g.graph[\"langs\"]=len(langs)"
   ]
  },
  {
   "cell_type": "code",
   "execution_count": 152,
   "id": "2b256b11-0a2a-4617-bc93-de11a22d7708",
   "metadata": {},
   "outputs": [
    {
     "data": {
      "text/plain": [
       "{'dataset': 'geo', 'langs': 2554}"
      ]
     },
     "execution_count": 152,
     "metadata": {},
     "output_type": "execute_result"
    }
   ],
   "source": [
    "g.graph"
   ]
  },
  {
   "cell_type": "code",
   "execution_count": 153,
   "id": "ac6632ab-62a9-41ab-8012-7e3923570e05",
   "metadata": {},
   "outputs": [
    {
     "data": {
      "text/plain": [
       "2554"
      ]
     },
     "execution_count": 153,
     "metadata": {},
     "output_type": "execute_result"
    }
   ],
   "source": [
    "len(langs)"
   ]
  },
  {
   "cell_type": "code",
   "execution_count": 155,
   "id": "c1b3d118-dfdc-4ac7-9973-bb138c9ebe29",
   "metadata": {},
   "outputs": [
    {
     "data": {
      "text/plain": [
       "{'parent': 'kpel1252',\n",
       " 'name': 'Guinea Kpelle',\n",
       " 'level': 'language',\n",
       " 'hid': 'gkp',\n",
       " 'iso639_3': 'gkp',\n",
       " 'latitude': 7.93196,\n",
       " 'longitude': -8.98843,\n",
       " 'macroareas': \"['Africa']\",\n",
       " 'countries': \"['Guinea', 'Liberia']\",\n",
       " 'timespan': nan,\n",
       " 'branch': 'Kpelle',\n",
       " 'parent_name': 'Kpelle',\n",
       " 'id.1': 'guin1254',\n",
       " 'family': 'Mande',\n",
       " 'family_id': 'mand1469',\n",
       " 'macroarea': 'Africa',\n",
       " 'nr_macroarea': 1}"
      ]
     },
     "execution_count": 155,
     "metadata": {},
     "output_type": "execute_result"
    }
   ],
   "source": [
    "langdict[\"guin1254\"]"
   ]
  },
  {
   "cell_type": "code",
   "execution_count": null,
   "id": "e3250b67-e772-48a1-88f3-85e0655f2141",
   "metadata": {},
   "outputs": [],
   "source": []
  },
  {
   "cell_type": "code",
   "execution_count": 156,
   "id": "5f942391-ef1d-412a-942f-e5166c4260bd",
   "metadata": {
    "scrolled": true
   },
   "outputs": [
    {
     "name": "stderr",
     "output_type": "stream",
     "text": [
      "\n",
      "\n",
      "\n",
      "\n",
      "\n",
      "\n",
      "\n",
      "\n",
      "100%|███████████████████████████████████| 2554/2554 [00:00<00:00, 184512.68it/s]\u001B[A\u001B[A\u001B[A\u001B[A\u001B[A\u001B[A\u001B[A\u001B[A\n"
     ]
    }
   ],
   "source": [
    "\n",
    "for lang in tqdm(langs):\n",
    "    node_dict = langdict[lang] # geo information\n",
    "    name = node_dict[\"name\"]\n",
    "    fam = node_dict[\"family\"]\n",
    "    parent = node_dict[\"parent_name\"]\n",
    "    branch = node_dict[\"branch\"]\n",
    "    iso_code = node_dict[\"iso639_3\"]\n",
    "    lat = node_dict[\"latitude\"]\n",
    "    long=node_dict[\"longitude\"]\n",
    "    area = node_dict[\"macroarea\"]\n",
    "    times=[]\n",
    "    if str(node_dict[\"timespan\"])!=\"nan\":\n",
    "        timespan = literal_eval(node_dict[\"timespan\"])\n",
    "        start_year= timespan[\"start_year\"]\n",
    "        times.append(start_year)\n",
    "        end_year=timespan[\"end_year\"]\n",
    "        times.append(end_year)\n",
    "    \n",
    "    g.add_node(lang, \n",
    "                   name=name,\n",
    "                   family= fam,\n",
    "                   parent= parent,\n",
    "                   branch= branch,\n",
    "                   iso3 = iso_code,\n",
    "                   area = area,\n",
    "                   timespan = tuple(times),\n",
    "                   coord= (lat, long))"
   ]
  },
  {
   "cell_type": "code",
   "execution_count": 173,
   "id": "cf69f89f-37c1-4a08-93f5-a43b2629599a",
   "metadata": {
    "scrolled": true
   },
   "outputs": [
    {
     "name": "stderr",
     "output_type": "stream",
     "text": [
      "\n",
      "\n",
      "\n",
      "\n",
      "\n",
      "\n",
      "\n",
      "\n",
      "  0%|                                                  | 0/2554 [00:00<?, ?it/s]\u001B[A\u001B[A\u001B[A\u001B[A\u001B[A\u001B[A\u001B[A\u001B[A\n",
      "\n",
      "\n",
      "\n",
      "\n",
      "\n",
      "\n",
      "\n",
      "  0%|▏                                         | 9/2554 [00:00<00:30, 83.84it/s]\u001B[A\u001B[A\u001B[A\u001B[A\u001B[A\u001B[A\u001B[A\u001B[A\n",
      "\n",
      "\n",
      "\n",
      "\n",
      "\n",
      "\n",
      "\n",
      "  1%|▎                                        | 19/2554 [00:00<00:27, 91.50it/s]\u001B[A\u001B[A\u001B[A\u001B[A\u001B[A\u001B[A\u001B[A\u001B[A\n",
      "\n",
      "\n",
      "\n",
      "\n",
      "\n",
      "\n",
      "\n",
      "  1%|▍                                        | 29/2554 [00:00<00:27, 90.96it/s]\u001B[A\u001B[A\u001B[A\u001B[A\u001B[A\u001B[A\u001B[A\u001B[A\n",
      "\n",
      "\n",
      "\n",
      "\n",
      "\n",
      "\n",
      "\n",
      "  2%|▋                                        | 40/2554 [00:00<00:26, 95.51it/s]\u001B[A\u001B[A\u001B[A\u001B[A\u001B[A\u001B[A\u001B[A\u001B[A\n",
      "\n",
      "\n",
      "\n",
      "\n",
      "\n",
      "\n",
      "\n",
      "  2%|▊                                        | 50/2554 [00:00<00:25, 96.41it/s]\u001B[A\u001B[A\u001B[A\u001B[A\u001B[A\u001B[A\u001B[A\u001B[A\n",
      "\n",
      "\n",
      "\n",
      "\n",
      "\n",
      "\n",
      "\n",
      "  2%|▉                                        | 60/2554 [00:00<00:26, 94.55it/s]\u001B[A\u001B[A\u001B[A\u001B[A\u001B[A\u001B[A\u001B[A\u001B[A\n",
      "\n",
      "\n",
      "\n",
      "\n",
      "\n",
      "\n",
      "\n",
      "  3%|█                                        | 70/2554 [00:00<00:26, 93.85it/s]\u001B[A\u001B[A\u001B[A\u001B[A\u001B[A\u001B[A\u001B[A\u001B[A\n",
      "\n",
      "\n",
      "\n",
      "\n",
      "\n",
      "\n",
      "\n",
      "  3%|█▎                                       | 80/2554 [00:00<00:25, 95.16it/s]\u001B[A\u001B[A\u001B[A\u001B[A\u001B[A\u001B[A\u001B[A\u001B[A\n",
      "\n",
      "\n",
      "\n",
      "\n",
      "\n",
      "\n",
      "\n",
      "  4%|█▍                                       | 91/2554 [00:00<00:25, 98.05it/s]\u001B[A\u001B[A\u001B[A\u001B[A\u001B[A\u001B[A\u001B[A\u001B[A\n",
      "\n",
      "\n",
      "\n",
      "\n",
      "\n",
      "\n",
      "\n",
      "  4%|█▌                                      | 101/2554 [00:01<00:24, 98.52it/s]\u001B[A\u001B[A\u001B[A\u001B[A\u001B[A\u001B[A\u001B[A\u001B[A\n",
      "\n",
      "\n",
      "\n",
      "\n",
      "\n",
      "\n",
      "\n",
      "  4%|█▋                                      | 111/2554 [00:01<00:24, 98.64it/s]\u001B[A\u001B[A\u001B[A\u001B[A\u001B[A\u001B[A\u001B[A\u001B[A\n",
      "\n",
      "\n",
      "\n",
      "\n",
      "\n",
      "\n",
      "\n",
      "  5%|█▊                                     | 122/2554 [00:01<00:24, 100.23it/s]\u001B[A\u001B[A\u001B[A\u001B[A\u001B[A\u001B[A\u001B[A\u001B[A\n",
      "\n",
      "\n",
      "\n",
      "\n",
      "\n",
      "\n",
      "\n",
      "  5%|██                                     | 133/2554 [00:01<00:23, 101.89it/s]\u001B[A\u001B[A\u001B[A\u001B[A\u001B[A\u001B[A\u001B[A\u001B[A\n",
      "\n",
      "\n",
      "\n",
      "\n",
      "\n",
      "\n",
      "\n",
      "  6%|██▏                                    | 144/2554 [00:01<00:23, 100.97it/s]\u001B[A\u001B[A\u001B[A\u001B[A\u001B[A\u001B[A\u001B[A\u001B[A\n",
      "\n",
      "\n",
      "\n",
      "\n",
      "\n",
      "\n",
      "\n",
      "  6%|██▍                                     | 155/2554 [00:01<00:24, 97.42it/s]\u001B[A\u001B[A\u001B[A\u001B[A\u001B[A\u001B[A\u001B[A\u001B[A\n",
      "\n",
      "\n",
      "\n",
      "\n",
      "\n",
      "\n",
      "\n",
      "  6%|██▌                                     | 165/2554 [00:01<00:25, 94.29it/s]\u001B[A\u001B[A\u001B[A\u001B[A\u001B[A\u001B[A\u001B[A\u001B[A\n",
      "\n",
      "\n",
      "\n",
      "\n",
      "\n",
      "\n",
      "\n",
      "  7%|██▋                                     | 175/2554 [00:01<00:25, 93.10it/s]\u001B[A\u001B[A\u001B[A\u001B[A\u001B[A\u001B[A\u001B[A\u001B[A\n",
      "\n",
      "\n",
      "\n",
      "\n",
      "\n",
      "\n",
      "\n",
      "  7%|██▉                                     | 185/2554 [00:01<00:25, 93.07it/s]\u001B[A\u001B[A\u001B[A\u001B[A\u001B[A\u001B[A\u001B[A\u001B[A\n",
      "\n",
      "\n",
      "\n",
      "\n",
      "\n",
      "\n",
      "\n",
      "  8%|███                                     | 196/2554 [00:02<00:24, 95.75it/s]\u001B[A\u001B[A\u001B[A\u001B[A\u001B[A\u001B[A\u001B[A\u001B[A\n",
      "\n",
      "\n",
      "\n",
      "\n",
      "\n",
      "\n",
      "\n",
      "  8%|███▏                                    | 207/2554 [00:02<00:24, 97.53it/s]\u001B[A\u001B[A\u001B[A\u001B[A\u001B[A\u001B[A\u001B[A\u001B[A\n",
      "\n",
      "\n",
      "\n",
      "\n",
      "\n",
      "\n",
      "\n",
      "  8%|███▍                                    | 217/2554 [00:02<00:24, 96.33it/s]\u001B[A\u001B[A\u001B[A\u001B[A\u001B[A\u001B[A\u001B[A\u001B[A\n",
      "\n",
      "\n",
      "\n",
      "\n",
      "\n",
      "\n",
      "\n",
      "  9%|███▌                                    | 227/2554 [00:02<00:24, 94.13it/s]\u001B[A\u001B[A\u001B[A\u001B[A\u001B[A\u001B[A\u001B[A\u001B[A\n",
      "\n",
      "\n",
      "\n",
      "\n",
      "\n",
      "\n",
      "\n",
      "  9%|███▋                                    | 237/2554 [00:02<00:25, 92.11it/s]\u001B[A\u001B[A\u001B[A\u001B[A\u001B[A\u001B[A\u001B[A\u001B[A\n",
      "\n",
      "\n",
      "\n",
      "\n",
      "\n",
      "\n",
      "\n",
      " 10%|███▊                                    | 247/2554 [00:02<00:25, 91.78it/s]\u001B[A\u001B[A\u001B[A\u001B[A\u001B[A\u001B[A\u001B[A\u001B[A\n",
      "\n",
      "\n",
      "\n",
      "\n",
      "\n",
      "\n",
      "\n",
      " 10%|████                                    | 257/2554 [00:02<00:24, 92.81it/s]\u001B[A\u001B[A\u001B[A\u001B[A\u001B[A\u001B[A\u001B[A\u001B[A\n",
      "\n",
      "\n",
      "\n",
      "\n",
      "\n",
      "\n",
      "\n",
      " 10%|████▏                                   | 267/2554 [00:02<00:24, 92.35it/s]\u001B[A\u001B[A\u001B[A\u001B[A\u001B[A\u001B[A\u001B[A\u001B[A\n",
      "\n",
      "\n",
      "\n",
      "\n",
      "\n",
      "\n",
      "\n",
      " 11%|████▎                                   | 277/2554 [00:02<00:24, 93.98it/s]\u001B[A\u001B[A\u001B[A\u001B[A\u001B[A\u001B[A\u001B[A\u001B[A\n",
      "\n",
      "\n",
      "\n",
      "\n",
      "\n",
      "\n",
      "\n",
      " 11%|████▍                                   | 287/2554 [00:03<00:23, 94.53it/s]\u001B[A\u001B[A\u001B[A\u001B[A\u001B[A\u001B[A\u001B[A\u001B[A\n",
      "\n",
      "\n",
      "\n",
      "\n",
      "\n",
      "\n",
      "\n",
      " 12%|████▋                                   | 297/2554 [00:03<00:24, 93.99it/s]\u001B[A\u001B[A\u001B[A\u001B[A\u001B[A\u001B[A\u001B[A\u001B[A\n",
      "\n",
      "\n",
      "\n",
      "\n",
      "\n",
      "\n",
      "\n",
      " 12%|████▊                                   | 308/2554 [00:03<00:23, 96.75it/s]\u001B[A\u001B[A\u001B[A\u001B[A\u001B[A\u001B[A\u001B[A\u001B[A\n",
      "\n",
      "\n",
      "\n",
      "\n",
      "\n",
      "\n",
      "\n",
      " 12%|████▉                                   | 318/2554 [00:03<00:23, 95.96it/s]\u001B[A\u001B[A\u001B[A\u001B[A\u001B[A\u001B[A\u001B[A\u001B[A\n",
      "\n",
      "\n",
      "\n",
      "\n",
      "\n",
      "\n",
      "\n",
      " 13%|█████▏                                  | 328/2554 [00:03<00:23, 94.26it/s]\u001B[A\u001B[A\u001B[A\u001B[A\u001B[A\u001B[A\u001B[A\u001B[A\n",
      "\n",
      "\n",
      "\n",
      "\n",
      "\n",
      "\n",
      "\n",
      " 13%|█████▎                                  | 338/2554 [00:03<00:23, 94.24it/s]\u001B[A\u001B[A\u001B[A\u001B[A\u001B[A\u001B[A\u001B[A\u001B[A\n",
      "\n",
      "\n",
      "\n",
      "\n",
      "\n",
      "\n",
      "\n",
      " 14%|█████▍                                  | 348/2554 [00:03<00:23, 95.47it/s]\u001B[A\u001B[A\u001B[A\u001B[A\u001B[A\u001B[A\u001B[A\u001B[A\n",
      "\n",
      "\n",
      "\n",
      "\n",
      "\n",
      "\n",
      "\n",
      " 14%|█████▌                                  | 359/2554 [00:03<00:22, 97.59it/s]\u001B[A\u001B[A\u001B[A\u001B[A\u001B[A\u001B[A\u001B[A\u001B[A\n",
      "\n",
      "\n",
      "\n",
      "\n",
      "\n",
      "\n",
      "\n",
      " 14%|█████▊                                  | 369/2554 [00:03<00:23, 94.75it/s]\u001B[A\u001B[A\u001B[A\u001B[A\u001B[A\u001B[A\u001B[A\u001B[A\n",
      "\n",
      "\n",
      "\n",
      "\n",
      "\n",
      "\n",
      "\n",
      " 15%|█████▉                                  | 379/2554 [00:03<00:22, 96.03it/s]\u001B[A\u001B[A\u001B[A\u001B[A\u001B[A\u001B[A\u001B[A\u001B[A\n",
      "\n",
      "\n",
      "\n",
      "\n",
      "\n",
      "\n",
      "\n",
      " 15%|██████                                  | 389/2554 [00:04<00:22, 97.02it/s]\u001B[A\u001B[A\u001B[A\u001B[A\u001B[A\u001B[A\u001B[A\u001B[A\n",
      "\n",
      "\n",
      "\n",
      "\n",
      "\n",
      "\n",
      "\n",
      " 16%|██████▏                                 | 399/2554 [00:04<00:22, 96.85it/s]\u001B[A\u001B[A\u001B[A\u001B[A\u001B[A\u001B[A\u001B[A\u001B[A\n",
      "\n",
      "\n",
      "\n",
      "\n",
      "\n",
      "\n",
      "\n",
      " 16%|██████▍                                 | 409/2554 [00:04<00:22, 94.23it/s]\u001B[A\u001B[A\u001B[A\u001B[A\u001B[A\u001B[A\u001B[A\u001B[A\n",
      "\n",
      "\n",
      "\n",
      "\n",
      "\n",
      "\n",
      "\n",
      " 16%|██████▌                                 | 419/2554 [00:04<00:23, 90.37it/s]\u001B[A\u001B[A\u001B[A\u001B[A\u001B[A\u001B[A\u001B[A\u001B[A\n",
      "\n",
      "\n",
      "\n",
      "\n",
      "\n",
      "\n",
      "\n",
      " 17%|██████▋                                 | 429/2554 [00:04<00:23, 91.02it/s]\u001B[A\u001B[A\u001B[A\u001B[A\u001B[A\u001B[A\u001B[A\u001B[A\n",
      "\n",
      "\n",
      "\n",
      "\n",
      "\n",
      "\n",
      "\n",
      " 17%|██████▉                                 | 439/2554 [00:04<00:22, 93.10it/s]\u001B[A\u001B[A\u001B[A\u001B[A\u001B[A\u001B[A\u001B[A\u001B[A\n",
      "\n",
      "\n",
      "\n",
      "\n",
      "\n",
      "\n",
      "\n",
      " 18%|███████                                 | 449/2554 [00:04<00:22, 94.63it/s]\u001B[A\u001B[A\u001B[A\u001B[A\u001B[A\u001B[A\u001B[A\u001B[A\n",
      "\n",
      "\n",
      "\n",
      "\n",
      "\n",
      "\n",
      "\n",
      " 18%|███████▏                                | 459/2554 [00:04<00:22, 93.86it/s]\u001B[A\u001B[A\u001B[A\u001B[A\u001B[A\u001B[A\u001B[A\u001B[A\n",
      "\n",
      "\n",
      "\n",
      "\n",
      "\n",
      "\n",
      "\n",
      " 18%|███████▎                                | 469/2554 [00:04<00:21, 94.99it/s]\u001B[A\u001B[A\u001B[A\u001B[A\u001B[A\u001B[A\u001B[A\u001B[A\n",
      "\n",
      "\n",
      "\n",
      "\n",
      "\n",
      "\n",
      "\n",
      " 19%|███████▌                                | 479/2554 [00:05<00:21, 95.81it/s]\u001B[A\u001B[A\u001B[A\u001B[A\u001B[A\u001B[A\u001B[A\u001B[A\n",
      "\n",
      "\n",
      "\n",
      "\n",
      "\n",
      "\n",
      "\n",
      " 19%|███████▋                                | 490/2554 [00:05<00:21, 97.55it/s]\u001B[A\u001B[A\u001B[A\u001B[A\u001B[A\u001B[A\u001B[A\u001B[A\n",
      "\n",
      "\n",
      "\n",
      "\n",
      "\n",
      "\n",
      "\n",
      " 20%|███████▊                                | 500/2554 [00:05<00:21, 97.03it/s]\u001B[A\u001B[A\u001B[A\u001B[A\u001B[A\u001B[A\u001B[A\u001B[A\n",
      "\n",
      "\n",
      "\n",
      "\n",
      "\n",
      "\n",
      "\n",
      " 20%|███████▉                                | 510/2554 [00:05<00:21, 95.94it/s]\u001B[A\u001B[A\u001B[A\u001B[A\u001B[A\u001B[A\u001B[A\u001B[A\n",
      "\n",
      "\n",
      "\n",
      "\n",
      "\n",
      "\n",
      "\n",
      " 20%|████████▏                               | 520/2554 [00:05<00:21, 95.07it/s]\u001B[A\u001B[A\u001B[A\u001B[A\u001B[A\u001B[A\u001B[A\u001B[A\n",
      "\n",
      "\n",
      "\n",
      "\n",
      "\n",
      "\n",
      "\n",
      " 21%|████████▎                               | 530/2554 [00:05<00:21, 95.56it/s]\u001B[A\u001B[A\u001B[A\u001B[A\u001B[A\u001B[A\u001B[A\u001B[A\n",
      "\n",
      "\n",
      "\n",
      "\n",
      "\n",
      "\n",
      "\n",
      " 21%|████████▍                               | 540/2554 [00:05<00:20, 95.96it/s]\u001B[A\u001B[A\u001B[A\u001B[A\u001B[A\u001B[A\u001B[A\u001B[A\n",
      "\n",
      "\n",
      "\n",
      "\n",
      "\n",
      "\n",
      "\n",
      " 22%|████████▋                               | 551/2554 [00:05<00:20, 96.65it/s]\u001B[A\u001B[A\u001B[A\u001B[A\u001B[A\u001B[A\u001B[A\u001B[A\n",
      "\n",
      "\n",
      "\n",
      "\n",
      "\n",
      "\n",
      "\n",
      " 22%|████████▊                               | 561/2554 [00:05<00:21, 94.33it/s]\u001B[A\u001B[A\u001B[A\u001B[A\u001B[A\u001B[A\u001B[A\u001B[A\n",
      "\n",
      "\n",
      "\n",
      "\n",
      "\n",
      "\n",
      "\n",
      " 22%|████████▉                               | 571/2554 [00:05<00:20, 95.88it/s]\u001B[A\u001B[A\u001B[A\u001B[A\u001B[A\u001B[A\u001B[A\u001B[A\n",
      "\n",
      "\n",
      "\n",
      "\n",
      "\n",
      "\n",
      "\n",
      " 23%|█████████                               | 581/2554 [00:06<00:20, 96.09it/s]\u001B[A\u001B[A\u001B[A\u001B[A\u001B[A\u001B[A\u001B[A\u001B[A\n",
      "\n",
      "\n",
      "\n",
      "\n",
      "\n",
      "\n",
      "\n",
      " 23%|█████████▎                              | 591/2554 [00:06<00:20, 97.03it/s]\u001B[A\u001B[A\u001B[A\u001B[A\u001B[A\u001B[A\u001B[A\u001B[A\n",
      "\n",
      "\n",
      "\n",
      "\n",
      "\n",
      "\n",
      "\n",
      " 24%|█████████▍                              | 601/2554 [00:06<00:20, 97.16it/s]\u001B[A\u001B[A\u001B[A\u001B[A\u001B[A\u001B[A\u001B[A\u001B[A\n",
      "\n",
      "\n",
      "\n",
      "\n",
      "\n",
      "\n",
      "\n",
      " 24%|█████████▌                              | 611/2554 [00:06<00:20, 93.83it/s]\u001B[A\u001B[A\u001B[A\u001B[A\u001B[A\u001B[A\u001B[A\u001B[A\n",
      "\n",
      "\n",
      "\n",
      "\n",
      "\n",
      "\n",
      "\n",
      " 24%|█████████▋                              | 621/2554 [00:06<00:20, 95.18it/s]\u001B[A\u001B[A\u001B[A\u001B[A\u001B[A\u001B[A\u001B[A\u001B[A\n",
      "\n",
      "\n",
      "\n",
      "\n",
      "\n",
      "\n",
      "\n",
      " 25%|█████████▉                              | 631/2554 [00:06<00:20, 93.92it/s]\u001B[A\u001B[A\u001B[A\u001B[A\u001B[A\u001B[A\u001B[A\u001B[A\n",
      "\n",
      "\n",
      "\n",
      "\n",
      "\n",
      "\n",
      "\n",
      " 25%|██████████                              | 641/2554 [00:06<00:20, 95.15it/s]\u001B[A\u001B[A\u001B[A\u001B[A\u001B[A\u001B[A\u001B[A\u001B[A\n",
      "\n",
      "\n",
      "\n",
      "\n",
      "\n",
      "\n",
      "\n",
      " 25%|██████████▏                             | 651/2554 [00:06<00:20, 94.73it/s]\u001B[A\u001B[A\u001B[A\u001B[A\u001B[A\u001B[A\u001B[A\u001B[A\n",
      "\n",
      "\n",
      "\n",
      "\n",
      "\n",
      "\n",
      "\n",
      " 26%|██████████▎                             | 661/2554 [00:06<00:19, 96.12it/s]\u001B[A\u001B[A\u001B[A\u001B[A\u001B[A\u001B[A\u001B[A\u001B[A\n",
      "\n",
      "\n",
      "\n",
      "\n",
      "\n",
      "\n",
      "\n",
      " 26%|██████████▌                             | 671/2554 [00:07<00:19, 97.23it/s]\u001B[A\u001B[A\u001B[A\u001B[A\u001B[A\u001B[A\u001B[A\u001B[A\n",
      "\n",
      "\n",
      "\n",
      "\n",
      "\n",
      "\n",
      "\n",
      " 27%|██████████▋                             | 682/2554 [00:07<00:18, 98.85it/s]\u001B[A\u001B[A\u001B[A\u001B[A\u001B[A\u001B[A\u001B[A\u001B[A\n",
      "\n",
      "\n",
      "\n",
      "\n",
      "\n",
      "\n",
      "\n",
      " 27%|██████████▊                             | 692/2554 [00:07<00:19, 97.84it/s]\u001B[A\u001B[A\u001B[A\u001B[A\u001B[A\u001B[A\u001B[A\u001B[A\n",
      "\n",
      "\n",
      "\n",
      "\n",
      "\n",
      "\n",
      "\n",
      " 28%|███████████                             | 703/2554 [00:07<00:18, 99.15it/s]\u001B[A\u001B[A\u001B[A\u001B[A\u001B[A\u001B[A\u001B[A\u001B[A\n",
      "\n",
      "\n",
      "\n",
      "\n",
      "\n",
      "\n",
      "\n",
      " 28%|███████████▏                            | 714/2554 [00:07<00:18, 99.70it/s]\u001B[A\u001B[A\u001B[A\u001B[A\u001B[A\u001B[A\u001B[A\u001B[A\n",
      "\n",
      "\n",
      "\n",
      "\n",
      "\n",
      "\n",
      "\n",
      " 28%|███████████▎                            | 724/2554 [00:07<00:18, 96.77it/s]\u001B[A\u001B[A\u001B[A\u001B[A\u001B[A\u001B[A\u001B[A\u001B[A\n",
      "\n",
      "\n",
      "\n",
      "\n",
      "\n",
      "\n",
      "\n",
      " 29%|███████████▍                            | 734/2554 [00:07<00:18, 96.38it/s]\u001B[A\u001B[A\u001B[A\u001B[A\u001B[A\u001B[A\u001B[A\u001B[A\n",
      "\n",
      "\n",
      "\n",
      "\n",
      "\n",
      "\n",
      "\n",
      " 29%|███████████▋                            | 744/2554 [00:07<00:18, 96.95it/s]\u001B[A\u001B[A\u001B[A\u001B[A\u001B[A\u001B[A\u001B[A\u001B[A\n",
      "\n",
      "\n",
      "\n",
      "\n",
      "\n",
      "\n",
      "\n",
      " 30%|███████████▊                            | 754/2554 [00:07<00:19, 93.19it/s]\u001B[A\u001B[A\u001B[A\u001B[A\u001B[A\u001B[A\u001B[A\u001B[A\n",
      "\n",
      "\n",
      "\n",
      "\n",
      "\n",
      "\n",
      "\n",
      " 30%|███████████▉                            | 764/2554 [00:08<00:19, 92.77it/s]\u001B[A\u001B[A\u001B[A\u001B[A\u001B[A\u001B[A\u001B[A\u001B[A\n",
      "\n",
      "\n",
      "\n",
      "\n",
      "\n",
      "\n",
      "\n",
      " 30%|████████████                            | 774/2554 [00:08<00:19, 93.31it/s]\u001B[A\u001B[A\u001B[A\u001B[A\u001B[A\u001B[A\u001B[A\u001B[A\n",
      "\n",
      "\n",
      "\n",
      "\n",
      "\n",
      "\n",
      "\n",
      " 31%|████████████▎                           | 784/2554 [00:08<00:18, 93.16it/s]\u001B[A\u001B[A\u001B[A\u001B[A\u001B[A\u001B[A\u001B[A\u001B[A\n",
      "\n",
      "\n",
      "\n",
      "\n",
      "\n",
      "\n",
      "\n",
      " 31%|████████████▍                           | 794/2554 [00:08<00:18, 94.82it/s]\u001B[A\u001B[A\u001B[A\u001B[A\u001B[A\u001B[A\u001B[A\u001B[A\n",
      "\n",
      "\n",
      "\n",
      "\n",
      "\n",
      "\n",
      "\n",
      " 32%|████████████▌                           | 805/2554 [00:08<00:18, 97.02it/s]\u001B[A\u001B[A\u001B[A\u001B[A\u001B[A\u001B[A\u001B[A\u001B[A\n",
      "\n",
      "\n",
      "\n",
      "\n",
      "\n",
      "\n",
      "\n",
      " 32%|████████████▊                           | 815/2554 [00:08<00:18, 95.59it/s]\u001B[A\u001B[A\u001B[A\u001B[A\u001B[A\u001B[A\u001B[A\u001B[A\n",
      "\n",
      "\n",
      "\n",
      "\n",
      "\n",
      "\n",
      "\n",
      " 32%|████████████▉                           | 825/2554 [00:08<00:18, 94.74it/s]\u001B[A\u001B[A\u001B[A\u001B[A\u001B[A\u001B[A\u001B[A\u001B[A\n",
      "\n",
      "\n",
      "\n",
      "\n",
      "\n",
      "\n",
      "\n",
      " 33%|█████████████                           | 836/2554 [00:08<00:17, 96.75it/s]\u001B[A\u001B[A\u001B[A\u001B[A\u001B[A\u001B[A\u001B[A\u001B[A\n",
      "\n",
      "\n",
      "\n",
      "\n",
      "\n",
      "\n",
      "\n",
      " 33%|█████████████▏                          | 846/2554 [00:08<00:18, 94.58it/s]\u001B[A\u001B[A\u001B[A\u001B[A\u001B[A\u001B[A\u001B[A\u001B[A\n",
      "\n",
      "\n",
      "\n",
      "\n",
      "\n",
      "\n",
      "\n",
      " 34%|█████████████▍                          | 856/2554 [00:08<00:17, 95.69it/s]\u001B[A\u001B[A\u001B[A\u001B[A\u001B[A\u001B[A\u001B[A\u001B[A\n",
      "\n",
      "\n",
      "\n",
      "\n",
      "\n",
      "\n",
      "\n",
      " 34%|█████████████▌                          | 866/2554 [00:09<00:17, 95.79it/s]\u001B[A\u001B[A\u001B[A\u001B[A\u001B[A\u001B[A\u001B[A\u001B[A\n",
      "\n",
      "\n",
      "\n",
      "\n",
      "\n",
      "\n",
      "\n",
      " 34%|█████████████▋                          | 876/2554 [00:09<00:17, 96.73it/s]\u001B[A\u001B[A\u001B[A\u001B[A\u001B[A\u001B[A\u001B[A\u001B[A\n",
      "\n",
      "\n",
      "\n",
      "\n",
      "\n",
      "\n",
      "\n",
      " 35%|█████████████▉                          | 887/2554 [00:09<00:17, 97.99it/s]\u001B[A\u001B[A\u001B[A\u001B[A\u001B[A\u001B[A\u001B[A\u001B[A\n",
      "\n",
      "\n",
      "\n",
      "\n",
      "\n",
      "\n",
      "\n",
      " 35%|██████████████                          | 897/2554 [00:09<00:16, 97.71it/s]\u001B[A\u001B[A\u001B[A\u001B[A\u001B[A\u001B[A\u001B[A\u001B[A\n",
      "\n",
      "\n",
      "\n",
      "\n",
      "\n",
      "\n",
      "\n",
      " 36%|██████████████▏                         | 907/2554 [00:09<00:16, 97.13it/s]\u001B[A\u001B[A\u001B[A\u001B[A\u001B[A\u001B[A\u001B[A\u001B[A\n",
      "\n",
      "\n",
      "\n",
      "\n",
      "\n",
      "\n",
      "\n",
      " 36%|██████████████▎                         | 917/2554 [00:09<00:17, 94.17it/s]\u001B[A\u001B[A\u001B[A\u001B[A\u001B[A\u001B[A\u001B[A\u001B[A\n",
      "\n",
      "\n",
      "\n",
      "\n",
      "\n",
      "\n",
      "\n",
      " 36%|██████████████▌                         | 927/2554 [00:09<00:17, 93.85it/s]\u001B[A\u001B[A\u001B[A\u001B[A\u001B[A\u001B[A\u001B[A\u001B[A\n",
      "\n",
      "\n",
      "\n",
      "\n",
      "\n",
      "\n",
      "\n",
      " 37%|██████████████▋                         | 937/2554 [00:09<00:17, 90.60it/s]\u001B[A\u001B[A\u001B[A\u001B[A\u001B[A\u001B[A\u001B[A\u001B[A\n",
      "\n",
      "\n",
      "\n",
      "\n",
      "\n",
      "\n",
      "\n",
      " 37%|██████████████▊                         | 947/2554 [00:09<00:17, 91.15it/s]\u001B[A\u001B[A\u001B[A\u001B[A\u001B[A\u001B[A\u001B[A\u001B[A\n",
      "\n",
      "\n",
      "\n",
      "\n",
      "\n",
      "\n",
      "\n",
      " 37%|██████████████▉                         | 957/2554 [00:10<00:17, 93.25it/s]\u001B[A\u001B[A\u001B[A\u001B[A\u001B[A\u001B[A\u001B[A\u001B[A\n",
      "\n",
      "\n",
      "\n",
      "\n",
      "\n",
      "\n",
      "\n",
      " 38%|███████████████▏                        | 967/2554 [00:10<00:17, 92.05it/s]\u001B[A\u001B[A\u001B[A\u001B[A\u001B[A\u001B[A\u001B[A\u001B[A\n",
      "\n",
      "\n",
      "\n",
      "\n",
      "\n",
      "\n",
      "\n",
      " 38%|███████████████▎                        | 977/2554 [00:10<00:17, 92.43it/s]\u001B[A\u001B[A\u001B[A\u001B[A\u001B[A\u001B[A\u001B[A\u001B[A\n",
      "\n",
      "\n",
      "\n",
      "\n",
      "\n",
      "\n",
      "\n",
      " 39%|███████████████▍                        | 987/2554 [00:10<00:17, 91.34it/s]\u001B[A\u001B[A\u001B[A\u001B[A\u001B[A\u001B[A\u001B[A\u001B[A\n",
      "\n",
      "\n",
      "\n",
      "\n",
      "\n",
      "\n",
      "\n",
      " 39%|███████████████▌                        | 997/2554 [00:10<00:17, 89.78it/s]\u001B[A\u001B[A\u001B[A\u001B[A\u001B[A\u001B[A\u001B[A\u001B[A\n",
      "\n",
      "\n",
      "\n",
      "\n",
      "\n",
      "\n",
      "\n",
      " 39%|███████████████▍                       | 1007/2554 [00:10<00:16, 91.08it/s]\u001B[A\u001B[A\u001B[A\u001B[A\u001B[A\u001B[A\u001B[A\u001B[A\n",
      "\n",
      "\n",
      "\n",
      "\n",
      "\n",
      "\n",
      "\n",
      " 40%|███████████████▌                       | 1017/2554 [00:10<00:17, 89.23it/s]\u001B[A\u001B[A\u001B[A\u001B[A\u001B[A\u001B[A\u001B[A\u001B[A\n",
      "\n",
      "\n",
      "\n",
      "\n",
      "\n",
      "\n",
      "\n",
      " 40%|███████████████▋                       | 1026/2554 [00:10<00:17, 88.30it/s]\u001B[A\u001B[A\u001B[A\u001B[A\u001B[A\u001B[A\u001B[A\u001B[A\n",
      "\n",
      "\n",
      "\n",
      "\n",
      "\n",
      "\n",
      "\n",
      " 41%|███████████████▊                       | 1036/2554 [00:10<00:16, 89.79it/s]\u001B[A\u001B[A\u001B[A\u001B[A\u001B[A\u001B[A\u001B[A\u001B[A\n",
      "\n",
      "\n",
      "\n",
      "\n",
      "\n",
      "\n",
      "\n",
      " 41%|███████████████▉                       | 1045/2554 [00:11<00:16, 89.69it/s]\u001B[A\u001B[A\u001B[A\u001B[A\u001B[A\u001B[A\u001B[A\u001B[A\n",
      "\n",
      "\n",
      "\n",
      "\n",
      "\n",
      "\n",
      "\n",
      " 41%|████████████████                       | 1055/2554 [00:11<00:16, 90.89it/s]\u001B[A\u001B[A\u001B[A\u001B[A\u001B[A\u001B[A\u001B[A\u001B[A\n",
      "\n",
      "\n",
      "\n",
      "\n",
      "\n",
      "\n",
      "\n",
      " 42%|████████████████▎                      | 1065/2554 [00:11<00:16, 92.09it/s]\u001B[A\u001B[A\u001B[A\u001B[A\u001B[A\u001B[A\u001B[A\u001B[A\n",
      "\n",
      "\n",
      "\n",
      "\n",
      "\n",
      "\n",
      "\n",
      " 42%|████████████████▍                      | 1075/2554 [00:11<00:15, 93.23it/s]\u001B[A\u001B[A\u001B[A\u001B[A\u001B[A\u001B[A\u001B[A\u001B[A\n",
      "\n",
      "\n",
      "\n",
      "\n",
      "\n",
      "\n",
      "\n",
      " 42%|████████████████▌                      | 1085/2554 [00:11<00:15, 94.24it/s]\u001B[A\u001B[A\u001B[A\u001B[A\u001B[A\u001B[A\u001B[A\u001B[A\n",
      "\n",
      "\n",
      "\n",
      "\n",
      "\n",
      "\n",
      "\n",
      " 43%|████████████████▋                      | 1095/2554 [00:11<00:15, 94.41it/s]\u001B[A\u001B[A\u001B[A\u001B[A\u001B[A\u001B[A\u001B[A\u001B[A\n",
      "\n",
      "\n",
      "\n",
      "\n",
      "\n",
      "\n",
      "\n",
      " 43%|████████████████▊                      | 1105/2554 [00:11<00:15, 93.03it/s]\u001B[A\u001B[A\u001B[A\u001B[A\u001B[A\u001B[A\u001B[A\u001B[A\n",
      "\n",
      "\n",
      "\n",
      "\n",
      "\n",
      "\n",
      "\n",
      " 44%|█████████████████                      | 1115/2554 [00:11<00:15, 91.99it/s]\u001B[A\u001B[A\u001B[A\u001B[A\u001B[A\u001B[A\u001B[A\u001B[A\n",
      "\n",
      "\n",
      "\n",
      "\n",
      "\n",
      "\n",
      "\n",
      " 44%|█████████████████▏                     | 1125/2554 [00:11<00:16, 88.71it/s]\u001B[A\u001B[A\u001B[A\u001B[A\u001B[A\u001B[A\u001B[A\u001B[A\n",
      "\n",
      "\n",
      "\n",
      "\n",
      "\n",
      "\n",
      "\n",
      " 44%|█████████████████▎                     | 1135/2554 [00:11<00:15, 90.64it/s]\u001B[A\u001B[A\u001B[A\u001B[A\u001B[A\u001B[A\u001B[A\u001B[A\n",
      "\n",
      "\n",
      "\n",
      "\n",
      "\n",
      "\n",
      "\n",
      " 45%|█████████████████▍                     | 1145/2554 [00:12<00:15, 92.31it/s]\u001B[A\u001B[A\u001B[A\u001B[A\u001B[A\u001B[A\u001B[A\u001B[A\n",
      "\n",
      "\n",
      "\n",
      "\n",
      "\n",
      "\n",
      "\n",
      " 45%|█████████████████▋                     | 1155/2554 [00:12<00:15, 92.03it/s]\u001B[A\u001B[A\u001B[A\u001B[A\u001B[A\u001B[A\u001B[A\u001B[A\n",
      "\n",
      "\n",
      "\n",
      "\n",
      "\n",
      "\n",
      "\n",
      " 46%|█████████████████▊                     | 1165/2554 [00:12<00:14, 92.99it/s]\u001B[A\u001B[A\u001B[A\u001B[A\u001B[A\u001B[A\u001B[A\u001B[A\n",
      "\n",
      "\n",
      "\n",
      "\n",
      "\n",
      "\n",
      "\n",
      " 46%|█████████████████▉                     | 1175/2554 [00:12<00:14, 92.32it/s]\u001B[A\u001B[A\u001B[A\u001B[A\u001B[A\u001B[A\u001B[A\u001B[A\n",
      "\n",
      "\n",
      "\n",
      "\n",
      "\n",
      "\n",
      "\n",
      " 46%|██████████████████                     | 1185/2554 [00:12<00:14, 93.38it/s]\u001B[A\u001B[A\u001B[A\u001B[A\u001B[A\u001B[A\u001B[A\u001B[A\n",
      "\n",
      "\n",
      "\n",
      "\n",
      "\n",
      "\n",
      "\n",
      " 47%|██████████████████▏                    | 1195/2554 [00:12<00:14, 91.57it/s]\u001B[A\u001B[A\u001B[A\u001B[A\u001B[A\u001B[A\u001B[A\u001B[A\n",
      "\n",
      "\n",
      "\n",
      "\n",
      "\n",
      "\n",
      "\n",
      " 47%|██████████████████▍                    | 1205/2554 [00:12<00:14, 93.07it/s]\u001B[A\u001B[A\u001B[A\u001B[A\u001B[A\u001B[A\u001B[A\u001B[A\n",
      "\n",
      "\n",
      "\n",
      "\n",
      "\n",
      "\n",
      "\n",
      " 48%|██████████████████▌                    | 1215/2554 [00:12<00:14, 89.49it/s]\u001B[A\u001B[A\u001B[A\u001B[A\u001B[A\u001B[A\u001B[A\u001B[A\n",
      "\n",
      "\n",
      "\n",
      "\n",
      "\n",
      "\n",
      "\n",
      " 48%|██████████████████▋                    | 1225/2554 [00:12<00:14, 90.90it/s]\u001B[A\u001B[A\u001B[A\u001B[A\u001B[A\u001B[A\u001B[A\u001B[A\n",
      "\n",
      "\n",
      "\n",
      "\n",
      "\n",
      "\n",
      "\n",
      " 48%|██████████████████▊                    | 1235/2554 [00:13<00:14, 91.80it/s]\u001B[A\u001B[A\u001B[A\u001B[A\u001B[A\u001B[A\u001B[A\u001B[A\n",
      "\n",
      "\n",
      "\n",
      "\n",
      "\n",
      "\n",
      "\n",
      " 49%|███████████████████                    | 1245/2554 [00:13<00:14, 90.06it/s]\u001B[A\u001B[A\u001B[A\u001B[A\u001B[A\u001B[A\u001B[A\u001B[A\n",
      "\n",
      "\n",
      "\n",
      "\n",
      "\n",
      "\n",
      "\n",
      " 49%|███████████████████▏                   | 1255/2554 [00:13<00:14, 90.34it/s]\u001B[A\u001B[A\u001B[A\u001B[A\u001B[A\u001B[A\u001B[A\u001B[A\n",
      "\n",
      "\n",
      "\n",
      "\n",
      "\n",
      "\n",
      "\n",
      " 50%|███████████████████▎                   | 1265/2554 [00:13<00:14, 91.82it/s]\u001B[A\u001B[A\u001B[A\u001B[A\u001B[A\u001B[A\u001B[A\u001B[A\n",
      "\n",
      "\n",
      "\n",
      "\n",
      "\n",
      "\n",
      "\n",
      " 50%|███████████████████▍                   | 1275/2554 [00:13<00:13, 91.90it/s]\u001B[A\u001B[A\u001B[A\u001B[A\u001B[A\u001B[A\u001B[A\u001B[A\n",
      "\n",
      "\n",
      "\n",
      "\n",
      "\n",
      "\n",
      "\n",
      " 50%|███████████████████▌                   | 1285/2554 [00:13<00:14, 89.95it/s]\u001B[A\u001B[A\u001B[A\u001B[A\u001B[A\u001B[A\u001B[A\u001B[A\n",
      "\n",
      "\n",
      "\n",
      "\n",
      "\n",
      "\n",
      "\n",
      " 51%|███████████████████▊                   | 1295/2554 [00:13<00:13, 91.42it/s]\u001B[A\u001B[A\u001B[A\u001B[A\u001B[A\u001B[A\u001B[A\u001B[A\n",
      "\n",
      "\n",
      "\n",
      "\n",
      "\n",
      "\n",
      "\n",
      " 51%|███████████████████▉                   | 1305/2554 [00:13<00:14, 88.82it/s]\u001B[A\u001B[A\u001B[A\u001B[A\u001B[A\u001B[A\u001B[A\u001B[A\n",
      "\n",
      "\n",
      "\n",
      "\n",
      "\n",
      "\n",
      "\n",
      " 51%|████████████████████                   | 1314/2554 [00:13<00:14, 88.52it/s]\u001B[A\u001B[A\u001B[A\u001B[A\u001B[A\u001B[A\u001B[A\u001B[A\n",
      "\n",
      "\n",
      "\n",
      "\n",
      "\n",
      "\n",
      "\n",
      " 52%|████████████████████▏                  | 1324/2554 [00:14<00:13, 90.32it/s]\u001B[A\u001B[A\u001B[A\u001B[A\u001B[A\u001B[A\u001B[A\u001B[A\n",
      "\n",
      "\n",
      "\n",
      "\n",
      "\n",
      "\n",
      "\n",
      " 52%|████████████████████▎                  | 1334/2554 [00:14<00:13, 90.86it/s]\u001B[A\u001B[A\u001B[A\u001B[A\u001B[A\u001B[A\u001B[A\u001B[A\n",
      "\n",
      "\n",
      "\n",
      "\n",
      "\n",
      "\n",
      "\n",
      " 53%|████████████████████▌                  | 1344/2554 [00:14<00:13, 90.38it/s]\u001B[A\u001B[A\u001B[A\u001B[A\u001B[A\u001B[A\u001B[A\u001B[A\n",
      "\n",
      "\n",
      "\n",
      "\n",
      "\n",
      "\n",
      "\n",
      " 53%|████████████████████▋                  | 1354/2554 [00:14<00:13, 91.01it/s]\u001B[A\u001B[A\u001B[A\u001B[A\u001B[A\u001B[A\u001B[A\u001B[A\n",
      "\n",
      "\n",
      "\n",
      "\n",
      "\n",
      "\n",
      "\n",
      " 53%|████████████████████▊                  | 1364/2554 [00:14<00:12, 92.24it/s]\u001B[A\u001B[A\u001B[A\u001B[A\u001B[A\u001B[A\u001B[A\u001B[A\n",
      "\n",
      "\n",
      "\n",
      "\n",
      "\n",
      "\n",
      "\n",
      " 54%|████████████████████▉                  | 1374/2554 [00:14<00:12, 91.92it/s]\u001B[A\u001B[A\u001B[A\u001B[A\u001B[A\u001B[A\u001B[A\u001B[A\n",
      "\n",
      "\n",
      "\n",
      "\n",
      "\n",
      "\n",
      "\n",
      " 54%|█████████████████████▏                 | 1384/2554 [00:14<00:12, 92.04it/s]\u001B[A\u001B[A\u001B[A\u001B[A\u001B[A\u001B[A\u001B[A\u001B[A\n",
      "\n",
      "\n",
      "\n",
      "\n",
      "\n",
      "\n",
      "\n",
      " 55%|█████████████████████▎                 | 1394/2554 [00:14<00:12, 91.24it/s]\u001B[A\u001B[A\u001B[A\u001B[A\u001B[A\u001B[A\u001B[A\u001B[A\n",
      "\n",
      "\n",
      "\n",
      "\n",
      "\n",
      "\n",
      "\n",
      " 55%|█████████████████████▍                 | 1404/2554 [00:14<00:12, 90.62it/s]\u001B[A\u001B[A\u001B[A\u001B[A\u001B[A\u001B[A\u001B[A\u001B[A\n",
      "\n",
      "\n",
      "\n",
      "\n",
      "\n",
      "\n",
      "\n",
      " 55%|█████████████████████▌                 | 1414/2554 [00:15<00:12, 90.29it/s]\u001B[A\u001B[A\u001B[A\u001B[A\u001B[A\u001B[A\u001B[A\u001B[A\n",
      "\n",
      "\n",
      "\n",
      "\n",
      "\n",
      "\n",
      "\n",
      " 56%|█████████████████████▋                 | 1424/2554 [00:15<00:12, 89.91it/s]\u001B[A\u001B[A\u001B[A\u001B[A\u001B[A\u001B[A\u001B[A\u001B[A\n",
      "\n",
      "\n",
      "\n",
      "\n",
      "\n",
      "\n",
      "\n",
      " 56%|█████████████████████▉                 | 1434/2554 [00:15<00:12, 90.98it/s]\u001B[A\u001B[A\u001B[A\u001B[A\u001B[A\u001B[A\u001B[A\u001B[A\n",
      "\n",
      "\n",
      "\n",
      "\n",
      "\n",
      "\n",
      "\n",
      " 57%|██████████████████████                 | 1444/2554 [00:15<00:12, 92.10it/s]\u001B[A\u001B[A\u001B[A\u001B[A\u001B[A\u001B[A\u001B[A\u001B[A\n",
      "\n",
      "\n",
      "\n",
      "\n",
      "\n",
      "\n",
      "\n",
      " 57%|██████████████████████▏                | 1454/2554 [00:15<00:11, 93.80it/s]\u001B[A\u001B[A\u001B[A\u001B[A\u001B[A\u001B[A\u001B[A\u001B[A\n",
      "\n",
      "\n",
      "\n",
      "\n",
      "\n",
      "\n",
      "\n",
      " 57%|██████████████████████▎                | 1464/2554 [00:15<00:11, 91.64it/s]\u001B[A\u001B[A\u001B[A\u001B[A\u001B[A\u001B[A\u001B[A\u001B[A\n",
      "\n",
      "\n",
      "\n",
      "\n",
      "\n",
      "\n",
      "\n",
      " 58%|██████████████████████▌                | 1474/2554 [00:15<00:11, 92.30it/s]\u001B[A\u001B[A\u001B[A\u001B[A\u001B[A\u001B[A\u001B[A\u001B[A\n",
      "\n",
      "\n",
      "\n",
      "\n",
      "\n",
      "\n",
      "\n",
      " 58%|██████████████████████▋                | 1484/2554 [00:15<00:11, 90.73it/s]\u001B[A\u001B[A\u001B[A\u001B[A\u001B[A\u001B[A\u001B[A\u001B[A\n",
      "\n",
      "\n",
      "\n",
      "\n",
      "\n",
      "\n",
      "\n",
      " 58%|██████████████████████▊                | 1494/2554 [00:15<00:11, 89.98it/s]\u001B[A\u001B[A\u001B[A\u001B[A\u001B[A\u001B[A\u001B[A\u001B[A\n",
      "\n",
      "\n",
      "\n",
      "\n",
      "\n",
      "\n",
      "\n",
      " 59%|██████████████████████▉                | 1504/2554 [00:16<00:11, 91.46it/s]\u001B[A\u001B[A\u001B[A\u001B[A\u001B[A\u001B[A\u001B[A\u001B[A\n",
      "\n",
      "\n",
      "\n",
      "\n",
      "\n",
      "\n",
      "\n",
      " 59%|███████████████████████                | 1514/2554 [00:16<00:11, 92.47it/s]\u001B[A\u001B[A\u001B[A\u001B[A\u001B[A\u001B[A\u001B[A\u001B[A\n",
      "\n",
      "\n",
      "\n",
      "\n",
      "\n",
      "\n",
      "\n",
      " 60%|███████████████████████▎               | 1524/2554 [00:16<00:11, 92.58it/s]\u001B[A\u001B[A\u001B[A\u001B[A\u001B[A\u001B[A\u001B[A\u001B[A\n",
      "\n",
      "\n",
      "\n",
      "\n",
      "\n",
      "\n",
      "\n",
      " 60%|███████████████████████▍               | 1534/2554 [00:16<00:10, 93.18it/s]\u001B[A\u001B[A\u001B[A\u001B[A\u001B[A\u001B[A\u001B[A\u001B[A\n",
      "\n",
      "\n",
      "\n",
      "\n",
      "\n",
      "\n",
      "\n",
      " 60%|███████████████████████▌               | 1544/2554 [00:16<00:10, 93.03it/s]\u001B[A\u001B[A\u001B[A\u001B[A\u001B[A\u001B[A\u001B[A\u001B[A\n",
      "\n",
      "\n",
      "\n",
      "\n",
      "\n",
      "\n",
      "\n",
      " 61%|███████████████████████▋               | 1554/2554 [00:16<00:10, 92.15it/s]\u001B[A\u001B[A\u001B[A\u001B[A\u001B[A\u001B[A\u001B[A\u001B[A\n",
      "\n",
      "\n",
      "\n",
      "\n",
      "\n",
      "\n",
      "\n",
      " 61%|███████████████████████▉               | 1564/2554 [00:16<00:10, 91.17it/s]\u001B[A\u001B[A\u001B[A\u001B[A\u001B[A\u001B[A\u001B[A\u001B[A\n",
      "\n",
      "\n",
      "\n",
      "\n",
      "\n",
      "\n",
      "\n",
      " 62%|████████████████████████               | 1574/2554 [00:16<00:10, 91.45it/s]\u001B[A\u001B[A\u001B[A\u001B[A\u001B[A\u001B[A\u001B[A\u001B[A\n",
      "\n",
      "\n",
      "\n",
      "\n",
      "\n",
      "\n",
      "\n",
      " 62%|████████████████████████▏              | 1584/2554 [00:16<00:11, 87.85it/s]\u001B[A\u001B[A\u001B[A\u001B[A\u001B[A\u001B[A\u001B[A\u001B[A\n",
      "\n",
      "\n",
      "\n",
      "\n",
      "\n",
      "\n",
      "\n",
      " 62%|████████████████████████▎              | 1594/2554 [00:17<00:10, 89.24it/s]\u001B[A\u001B[A\u001B[A\u001B[A\u001B[A\u001B[A\u001B[A\u001B[A\n",
      "\n",
      "\n",
      "\n",
      "\n",
      "\n",
      "\n",
      "\n",
      " 63%|████████████████████████▍              | 1603/2554 [00:17<00:10, 88.44it/s]\u001B[A\u001B[A\u001B[A\u001B[A\u001B[A\u001B[A\u001B[A\u001B[A\n",
      "\n",
      "\n",
      "\n",
      "\n",
      "\n",
      "\n",
      "\n",
      " 63%|████████████████████████▌              | 1612/2554 [00:17<00:10, 87.93it/s]\u001B[A\u001B[A\u001B[A\u001B[A\u001B[A\u001B[A\u001B[A\u001B[A\n",
      "\n",
      "\n",
      "\n",
      "\n",
      "\n",
      "\n",
      "\n",
      " 64%|████████████████████████▊              | 1622/2554 [00:17<00:10, 89.14it/s]\u001B[A\u001B[A\u001B[A\u001B[A\u001B[A\u001B[A\u001B[A\u001B[A\n",
      "\n",
      "\n",
      "\n",
      "\n",
      "\n",
      "\n",
      "\n",
      " 64%|████████████████████████▉              | 1631/2554 [00:17<00:10, 85.98it/s]\u001B[A\u001B[A\u001B[A\u001B[A\u001B[A\u001B[A\u001B[A\u001B[A\n",
      "\n",
      "\n",
      "\n",
      "\n",
      "\n",
      "\n",
      "\n",
      " 64%|█████████████████████████              | 1640/2554 [00:17<00:11, 81.26it/s]\u001B[A\u001B[A\u001B[A\u001B[A\u001B[A\u001B[A\u001B[A\u001B[A\n",
      "\n",
      "\n",
      "\n",
      "\n",
      "\n",
      "\n",
      "\n",
      " 65%|█████████████████████████▏             | 1649/2554 [00:17<00:11, 79.69it/s]\u001B[A\u001B[A\u001B[A\u001B[A\u001B[A\u001B[A\u001B[A\u001B[A\n",
      "\n",
      "\n",
      "\n",
      "\n",
      "\n",
      "\n",
      "\n",
      " 65%|█████████████████████████▎             | 1658/2554 [00:17<00:11, 79.04it/s]\u001B[A\u001B[A\u001B[A\u001B[A\u001B[A\u001B[A\u001B[A\u001B[A\n",
      "\n",
      "\n",
      "\n",
      "\n",
      "\n",
      "\n",
      "\n",
      " 65%|█████████████████████████▍             | 1667/2554 [00:17<00:11, 79.91it/s]\u001B[A\u001B[A\u001B[A\u001B[A\u001B[A\u001B[A\u001B[A\u001B[A\n",
      "\n",
      "\n",
      "\n",
      "\n",
      "\n",
      "\n",
      "\n",
      " 66%|█████████████████████████▌             | 1676/2554 [00:18<00:10, 82.37it/s]\u001B[A\u001B[A\u001B[A\u001B[A\u001B[A\u001B[A\u001B[A\u001B[A\n",
      "\n",
      "\n",
      "\n",
      "\n",
      "\n",
      "\n",
      "\n",
      " 66%|█████████████████████████▋             | 1685/2554 [00:18<00:10, 80.97it/s]\u001B[A\u001B[A\u001B[A\u001B[A\u001B[A\u001B[A\u001B[A\u001B[A\n",
      "\n",
      "\n",
      "\n",
      "\n",
      "\n",
      "\n",
      "\n",
      " 66%|█████████████████████████▊             | 1694/2554 [00:18<00:11, 77.28it/s]\u001B[A\u001B[A\u001B[A\u001B[A\u001B[A\u001B[A\u001B[A\u001B[A\n",
      "\n",
      "\n",
      "\n",
      "\n",
      "\n",
      "\n",
      "\n",
      " 67%|█████████████████████████▉             | 1702/2554 [00:18<00:11, 76.27it/s]\u001B[A\u001B[A\u001B[A\u001B[A\u001B[A\u001B[A\u001B[A\u001B[A\n",
      "\n",
      "\n",
      "\n",
      "\n",
      "\n",
      "\n",
      "\n",
      " 67%|██████████████████████████             | 1710/2554 [00:18<00:11, 74.73it/s]\u001B[A\u001B[A\u001B[A\u001B[A\u001B[A\u001B[A\u001B[A\u001B[A\n",
      "\n",
      "\n",
      "\n",
      "\n",
      "\n",
      "\n",
      "\n",
      " 67%|██████████████████████████▏            | 1718/2554 [00:18<00:11, 73.11it/s]\u001B[A\u001B[A\u001B[A\u001B[A\u001B[A\u001B[A\u001B[A\u001B[A\n",
      "\n",
      "\n",
      "\n",
      "\n",
      "\n",
      "\n",
      "\n",
      " 68%|██████████████████████████▎            | 1726/2554 [00:18<00:11, 73.65it/s]\u001B[A\u001B[A\u001B[A\u001B[A\u001B[A\u001B[A\u001B[A\u001B[A\n",
      "\n",
      "\n",
      "\n",
      "\n",
      "\n",
      "\n",
      "\n",
      " 68%|██████████████████████████▍            | 1734/2554 [00:18<00:11, 73.71it/s]\u001B[A\u001B[A\u001B[A\u001B[A\u001B[A\u001B[A\u001B[A\u001B[A\n",
      "\n",
      "\n",
      "\n",
      "\n",
      "\n",
      "\n",
      "\n",
      " 68%|██████████████████████████▌            | 1742/2554 [00:18<00:10, 74.86it/s]\u001B[A\u001B[A\u001B[A\u001B[A\u001B[A\u001B[A\u001B[A\u001B[A\n",
      "\n",
      "\n",
      "\n",
      "\n",
      "\n",
      "\n",
      "\n",
      " 69%|██████████████████████████▋            | 1750/2554 [00:19<00:10, 75.14it/s]\u001B[A\u001B[A\u001B[A\u001B[A\u001B[A\u001B[A\u001B[A\u001B[A\n",
      "\n",
      "\n",
      "\n",
      "\n",
      "\n",
      "\n",
      "\n",
      " 69%|██████████████████████████▊            | 1758/2554 [00:19<00:10, 75.38it/s]\u001B[A\u001B[A\u001B[A\u001B[A\u001B[A\u001B[A\u001B[A\u001B[A\n",
      "\n",
      "\n",
      "\n",
      "\n",
      "\n",
      "\n",
      "\n",
      " 69%|██████████████████████████▉            | 1766/2554 [00:19<00:10, 76.69it/s]\u001B[A\u001B[A\u001B[A\u001B[A\u001B[A\u001B[A\u001B[A\u001B[A\n",
      "\n",
      "\n",
      "\n",
      "\n",
      "\n",
      "\n",
      "\n",
      " 69%|███████████████████████████            | 1775/2554 [00:19<00:09, 78.27it/s]\u001B[A\u001B[A\u001B[A\u001B[A\u001B[A\u001B[A\u001B[A\u001B[A\n",
      "\n",
      "\n",
      "\n",
      "\n",
      "\n",
      "\n",
      "\n",
      " 70%|███████████████████████████▏           | 1783/2554 [00:19<00:10, 76.42it/s]\u001B[A\u001B[A\u001B[A\u001B[A\u001B[A\u001B[A\u001B[A\u001B[A\n",
      "\n",
      "\n",
      "\n",
      "\n",
      "\n",
      "\n",
      "\n",
      " 70%|███████████████████████████▎           | 1791/2554 [00:19<00:10, 76.25it/s]\u001B[A\u001B[A\u001B[A\u001B[A\u001B[A\u001B[A\u001B[A\u001B[A\n",
      "\n",
      "\n",
      "\n",
      "\n",
      "\n",
      "\n",
      "\n",
      " 70%|███████████████████████████▍           | 1799/2554 [00:19<00:10, 74.56it/s]\u001B[A\u001B[A\u001B[A\u001B[A\u001B[A\u001B[A\u001B[A\u001B[A\n",
      "\n",
      "\n",
      "\n",
      "\n",
      "\n",
      "\n",
      "\n",
      " 71%|███████████████████████████▌           | 1807/2554 [00:19<00:10, 73.71it/s]\u001B[A\u001B[A\u001B[A\u001B[A\u001B[A\u001B[A\u001B[A\u001B[A\n",
      "\n",
      "\n",
      "\n",
      "\n",
      "\n",
      "\n",
      "\n",
      " 71%|███████████████████████████▋           | 1815/2554 [00:19<00:10, 73.13it/s]\u001B[A\u001B[A\u001B[A\u001B[A\u001B[A\u001B[A\u001B[A\u001B[A\n",
      "\n",
      "\n",
      "\n",
      "\n",
      "\n",
      "\n",
      "\n",
      " 71%|███████████████████████████▊           | 1823/2554 [00:20<00:09, 73.93it/s]\u001B[A\u001B[A\u001B[A\u001B[A\u001B[A\u001B[A\u001B[A\u001B[A\n",
      "\n",
      "\n",
      "\n",
      "\n",
      "\n",
      "\n",
      "\n",
      " 72%|███████████████████████████▉           | 1832/2554 [00:20<00:09, 76.29it/s]\u001B[A\u001B[A\u001B[A\u001B[A\u001B[A\u001B[A\u001B[A\u001B[A\n",
      "\n",
      "\n",
      "\n",
      "\n",
      "\n",
      "\n",
      "\n",
      " 72%|████████████████████████████           | 1841/2554 [00:20<00:09, 77.48it/s]\u001B[A\u001B[A\u001B[A\u001B[A\u001B[A\u001B[A\u001B[A\u001B[A\n",
      "\n",
      "\n",
      "\n",
      "\n",
      "\n",
      "\n",
      "\n",
      " 72%|████████████████████████████▏          | 1850/2554 [00:20<00:08, 79.76it/s]\u001B[A\u001B[A\u001B[A\u001B[A\u001B[A\u001B[A\u001B[A\u001B[A\n",
      "\n",
      "\n",
      "\n",
      "\n",
      "\n",
      "\n",
      "\n",
      " 73%|████████████████████████████▍          | 1860/2554 [00:20<00:08, 83.46it/s]\u001B[A\u001B[A\u001B[A\u001B[A\u001B[A\u001B[A\u001B[A\u001B[A\n",
      "\n",
      "\n",
      "\n",
      "\n",
      "\n",
      "\n",
      "\n",
      " 73%|████████████████████████████▌          | 1869/2554 [00:20<00:08, 83.96it/s]\u001B[A\u001B[A\u001B[A\u001B[A\u001B[A\u001B[A\u001B[A\u001B[A\n",
      "\n",
      "\n",
      "\n",
      "\n",
      "\n",
      "\n",
      "\n",
      " 74%|████████████████████████████▋          | 1878/2554 [00:20<00:08, 83.67it/s]\u001B[A\u001B[A\u001B[A\u001B[A\u001B[A\u001B[A\u001B[A\u001B[A\n",
      "\n",
      "\n",
      "\n",
      "\n",
      "\n",
      "\n",
      "\n",
      " 74%|████████████████████████████▊          | 1888/2554 [00:20<00:07, 86.06it/s]\u001B[A\u001B[A\u001B[A\u001B[A\u001B[A\u001B[A\u001B[A\u001B[A\n",
      "\n",
      "\n",
      "\n",
      "\n",
      "\n",
      "\n",
      "\n",
      " 74%|████████████████████████████▉          | 1897/2554 [00:20<00:07, 83.47it/s]\u001B[A\u001B[A\u001B[A\u001B[A\u001B[A\u001B[A\u001B[A\u001B[A\n",
      "\n",
      "\n",
      "\n",
      "\n",
      "\n",
      "\n",
      "\n",
      " 75%|█████████████████████████████          | 1906/2554 [00:20<00:07, 84.60it/s]\u001B[A\u001B[A\u001B[A\u001B[A\u001B[A\u001B[A\u001B[A\u001B[A\n",
      "\n",
      "\n",
      "\n",
      "\n",
      "\n",
      "\n",
      "\n",
      " 75%|█████████████████████████████▏         | 1915/2554 [00:21<00:07, 85.67it/s]\u001B[A\u001B[A\u001B[A\u001B[A\u001B[A\u001B[A\u001B[A\u001B[A\n",
      "\n",
      "\n",
      "\n",
      "\n",
      "\n",
      "\n",
      "\n",
      " 75%|█████████████████████████████▍         | 1924/2554 [00:21<00:07, 86.37it/s]\u001B[A\u001B[A\u001B[A\u001B[A\u001B[A\u001B[A\u001B[A\u001B[A\n",
      "\n",
      "\n",
      "\n",
      "\n",
      "\n",
      "\n",
      "\n",
      " 76%|█████████████████████████████▌         | 1934/2554 [00:21<00:06, 88.97it/s]\u001B[A\u001B[A\u001B[A\u001B[A\u001B[A\u001B[A\u001B[A\u001B[A\n",
      "\n",
      "\n",
      "\n",
      "\n",
      "\n",
      "\n",
      "\n",
      " 76%|█████████████████████████████▋         | 1944/2554 [00:21<00:06, 90.83it/s]\u001B[A\u001B[A\u001B[A\u001B[A\u001B[A\u001B[A\u001B[A\u001B[A\n",
      "\n",
      "\n",
      "\n",
      "\n",
      "\n",
      "\n",
      "\n",
      " 77%|█████████████████████████████▊         | 1954/2554 [00:21<00:06, 91.85it/s]\u001B[A\u001B[A\u001B[A\u001B[A\u001B[A\u001B[A\u001B[A\u001B[A\n",
      "\n",
      "\n",
      "\n",
      "\n",
      "\n",
      "\n",
      "\n",
      " 77%|█████████████████████████████▉         | 1964/2554 [00:21<00:06, 90.40it/s]\u001B[A\u001B[A\u001B[A\u001B[A\u001B[A\u001B[A\u001B[A\u001B[A\n",
      "\n",
      "\n",
      "\n",
      "\n",
      "\n",
      "\n",
      "\n",
      " 77%|██████████████████████████████▏        | 1974/2554 [00:21<00:06, 88.26it/s]\u001B[A\u001B[A\u001B[A\u001B[A\u001B[A\u001B[A\u001B[A\u001B[A\n",
      "\n",
      "\n",
      "\n",
      "\n",
      "\n",
      "\n",
      "\n",
      " 78%|██████████████████████████████▎        | 1983/2554 [00:21<00:06, 85.90it/s]\u001B[A\u001B[A\u001B[A\u001B[A\u001B[A\u001B[A\u001B[A\u001B[A\n",
      "\n",
      "\n",
      "\n",
      "\n",
      "\n",
      "\n",
      "\n",
      " 78%|██████████████████████████████▍        | 1992/2554 [00:21<00:06, 85.77it/s]\u001B[A\u001B[A\u001B[A\u001B[A\u001B[A\u001B[A\u001B[A\u001B[A\n",
      "\n",
      "\n",
      "\n",
      "\n",
      "\n",
      "\n",
      "\n",
      " 78%|██████████████████████████████▌        | 2001/2554 [00:22<00:06, 86.18it/s]\u001B[A\u001B[A\u001B[A\u001B[A\u001B[A\u001B[A\u001B[A\u001B[A\n",
      "\n",
      "\n",
      "\n",
      "\n",
      "\n",
      "\n",
      "\n",
      " 79%|██████████████████████████████▋        | 2010/2554 [00:22<00:06, 83.91it/s]\u001B[A\u001B[A\u001B[A\u001B[A\u001B[A\u001B[A\u001B[A\u001B[A\n",
      "\n",
      "\n",
      "\n",
      "\n",
      "\n",
      "\n",
      "\n",
      " 79%|██████████████████████████████▊        | 2019/2554 [00:22<00:06, 84.72it/s]\u001B[A\u001B[A\u001B[A\u001B[A\u001B[A\u001B[A\u001B[A\u001B[A\n",
      "\n",
      "\n",
      "\n",
      "\n",
      "\n",
      "\n",
      "\n",
      " 79%|██████████████████████████████▉        | 2029/2554 [00:22<00:06, 87.42it/s]\u001B[A\u001B[A\u001B[A\u001B[A\u001B[A\u001B[A\u001B[A\u001B[A\n",
      "\n",
      "\n",
      "\n",
      "\n",
      "\n",
      "\n",
      "\n",
      " 80%|███████████████████████████████▏       | 2039/2554 [00:22<00:05, 88.99it/s]\u001B[A\u001B[A\u001B[A\u001B[A\u001B[A\u001B[A\u001B[A\u001B[A\n",
      "\n",
      "\n",
      "\n",
      "\n",
      "\n",
      "\n",
      "\n",
      " 80%|███████████████████████████████▎       | 2048/2554 [00:22<00:05, 89.28it/s]\u001B[A\u001B[A\u001B[A\u001B[A\u001B[A\u001B[A\u001B[A\u001B[A\n",
      "\n",
      "\n",
      "\n",
      "\n",
      "\n",
      "\n",
      "\n",
      " 81%|███████████████████████████████▍       | 2057/2554 [00:22<00:05, 88.53it/s]\u001B[A\u001B[A\u001B[A\u001B[A\u001B[A\u001B[A\u001B[A\u001B[A\n",
      "\n",
      "\n",
      "\n",
      "\n",
      "\n",
      "\n",
      "\n",
      " 81%|███████████████████████████████▌       | 2066/2554 [00:22<00:05, 88.25it/s]\u001B[A\u001B[A\u001B[A\u001B[A\u001B[A\u001B[A\u001B[A\u001B[A\n",
      "\n",
      "\n",
      "\n",
      "\n",
      "\n",
      "\n",
      "\n",
      " 81%|███████████████████████████████▋       | 2075/2554 [00:22<00:05, 86.21it/s]\u001B[A\u001B[A\u001B[A\u001B[A\u001B[A\u001B[A\u001B[A\u001B[A\n",
      "\n",
      "\n",
      "\n",
      "\n",
      "\n",
      "\n",
      "\n",
      " 82%|███████████████████████████████▊       | 2084/2554 [00:23<00:05, 85.58it/s]\u001B[A\u001B[A\u001B[A\u001B[A\u001B[A\u001B[A\u001B[A\u001B[A\n",
      "\n",
      "\n",
      "\n",
      "\n",
      "\n",
      "\n",
      "\n",
      " 82%|███████████████████████████████▉       | 2093/2554 [00:23<00:05, 85.93it/s]\u001B[A\u001B[A\u001B[A\u001B[A\u001B[A\u001B[A\u001B[A\u001B[A\n",
      "\n",
      "\n",
      "\n",
      "\n",
      "\n",
      "\n",
      "\n",
      " 82%|████████████████████████████████       | 2102/2554 [00:23<00:05, 86.40it/s]\u001B[A\u001B[A\u001B[A\u001B[A\u001B[A\u001B[A\u001B[A\u001B[A\n",
      "\n",
      "\n",
      "\n",
      "\n",
      "\n",
      "\n",
      "\n",
      " 83%|████████████████████████████████▎      | 2112/2554 [00:23<00:05, 88.07it/s]\u001B[A\u001B[A\u001B[A\u001B[A\u001B[A\u001B[A\u001B[A\u001B[A\n",
      "\n",
      "\n",
      "\n",
      "\n",
      "\n",
      "\n",
      "\n",
      " 83%|████████████████████████████████▍      | 2122/2554 [00:23<00:04, 89.58it/s]\u001B[A\u001B[A\u001B[A\u001B[A\u001B[A\u001B[A\u001B[A\u001B[A\n",
      "\n",
      "\n",
      "\n",
      "\n",
      "\n",
      "\n",
      "\n",
      " 83%|████████████████████████████████▌      | 2132/2554 [00:23<00:04, 91.09it/s]\u001B[A\u001B[A\u001B[A\u001B[A\u001B[A\u001B[A\u001B[A\u001B[A\n",
      "\n",
      "\n",
      "\n",
      "\n",
      "\n",
      "\n",
      "\n",
      " 84%|████████████████████████████████▋      | 2142/2554 [00:23<00:04, 89.77it/s]\u001B[A\u001B[A\u001B[A\u001B[A\u001B[A\u001B[A\u001B[A\u001B[A\n",
      "\n",
      "\n",
      "\n",
      "\n",
      "\n",
      "\n",
      "\n",
      " 84%|████████████████████████████████▊      | 2151/2554 [00:23<00:04, 89.69it/s]\u001B[A\u001B[A\u001B[A\u001B[A\u001B[A\u001B[A\u001B[A\u001B[A\n",
      "\n",
      "\n",
      "\n",
      "\n",
      "\n",
      "\n",
      "\n",
      " 85%|████████████████████████████████▉      | 2160/2554 [00:23<00:04, 86.40it/s]\u001B[A\u001B[A\u001B[A\u001B[A\u001B[A\u001B[A\u001B[A\u001B[A\n",
      "\n",
      "\n",
      "\n",
      "\n",
      "\n",
      "\n",
      "\n",
      " 85%|█████████████████████████████████▏     | 2170/2554 [00:23<00:04, 87.97it/s]\u001B[A\u001B[A\u001B[A\u001B[A\u001B[A\u001B[A\u001B[A\u001B[A\n",
      "\n",
      "\n",
      "\n",
      "\n",
      "\n",
      "\n",
      "\n",
      " 85%|█████████████████████████████████▎     | 2179/2554 [00:24<00:04, 86.53it/s]\u001B[A\u001B[A\u001B[A\u001B[A\u001B[A\u001B[A\u001B[A\u001B[A\n",
      "\n",
      "\n",
      "\n",
      "\n",
      "\n",
      "\n",
      "\n",
      " 86%|█████████████████████████████████▍     | 2188/2554 [00:24<00:04, 81.32it/s]\u001B[A\u001B[A\u001B[A\u001B[A\u001B[A\u001B[A\u001B[A\u001B[A\n",
      "\n",
      "\n",
      "\n",
      "\n",
      "\n",
      "\n",
      "\n",
      " 86%|█████████████████████████████████▌     | 2197/2554 [00:24<00:04, 78.47it/s]\u001B[A\u001B[A\u001B[A\u001B[A\u001B[A\u001B[A\u001B[A\u001B[A\n",
      "\n",
      "\n",
      "\n",
      "\n",
      "\n",
      "\n",
      "\n",
      " 86%|█████████████████████████████████▋     | 2205/2554 [00:24<00:04, 76.41it/s]\u001B[A\u001B[A\u001B[A\u001B[A\u001B[A\u001B[A\u001B[A\u001B[A\n",
      "\n",
      "\n",
      "\n",
      "\n",
      "\n",
      "\n",
      "\n",
      " 87%|█████████████████████████████████▊     | 2213/2554 [00:24<00:04, 75.29it/s]\u001B[A\u001B[A\u001B[A\u001B[A\u001B[A\u001B[A\u001B[A\u001B[A\n",
      "\n",
      "\n",
      "\n",
      "\n",
      "\n",
      "\n",
      "\n",
      " 87%|█████████████████████████████████▉     | 2221/2554 [00:24<00:04, 75.83it/s]\u001B[A\u001B[A\u001B[A\u001B[A\u001B[A\u001B[A\u001B[A\u001B[A\n",
      "\n",
      "\n",
      "\n",
      "\n",
      "\n",
      "\n",
      "\n",
      " 87%|██████████████████████████████████     | 2229/2554 [00:24<00:04, 76.03it/s]\u001B[A\u001B[A\u001B[A\u001B[A\u001B[A\u001B[A\u001B[A\u001B[A\n",
      "\n",
      "\n",
      "\n",
      "\n",
      "\n",
      "\n",
      "\n",
      " 88%|██████████████████████████████████▏    | 2237/2554 [00:24<00:04, 74.92it/s]\u001B[A\u001B[A\u001B[A\u001B[A\u001B[A\u001B[A\u001B[A\u001B[A\n",
      "\n",
      "\n",
      "\n",
      "\n",
      "\n",
      "\n",
      "\n",
      " 88%|██████████████████████████████████▎    | 2246/2554 [00:24<00:03, 77.62it/s]\u001B[A\u001B[A\u001B[A\u001B[A\u001B[A\u001B[A\u001B[A\u001B[A\n",
      "\n",
      "\n",
      "\n",
      "\n",
      "\n",
      "\n",
      "\n",
      " 88%|██████████████████████████████████▍    | 2255/2554 [00:25<00:03, 78.20it/s]\u001B[A\u001B[A\u001B[A\u001B[A\u001B[A\u001B[A\u001B[A\u001B[A\n",
      "\n",
      "\n",
      "\n",
      "\n",
      "\n",
      "\n",
      "\n",
      " 89%|██████████████████████████████████▌    | 2263/2554 [00:25<00:03, 78.25it/s]\u001B[A\u001B[A\u001B[A\u001B[A\u001B[A\u001B[A\u001B[A\u001B[A\n",
      "\n",
      "\n",
      "\n",
      "\n",
      "\n",
      "\n",
      "\n",
      " 89%|██████████████████████████████████▋    | 2272/2554 [00:25<00:03, 80.81it/s]\u001B[A\u001B[A\u001B[A\u001B[A\u001B[A\u001B[A\u001B[A\u001B[A\n",
      "\n",
      "\n",
      "\n",
      "\n",
      "\n",
      "\n",
      "\n",
      " 89%|██████████████████████████████████▊    | 2281/2554 [00:25<00:03, 81.94it/s]\u001B[A\u001B[A\u001B[A\u001B[A\u001B[A\u001B[A\u001B[A\u001B[A\n",
      "\n",
      "\n",
      "\n",
      "\n",
      "\n",
      "\n",
      "\n",
      " 90%|██████████████████████████████████▉    | 2290/2554 [00:25<00:03, 80.78it/s]\u001B[A\u001B[A\u001B[A\u001B[A\u001B[A\u001B[A\u001B[A\u001B[A\n",
      "\n",
      "\n",
      "\n",
      "\n",
      "\n",
      "\n",
      "\n",
      " 90%|███████████████████████████████████    | 2299/2554 [00:25<00:03, 80.26it/s]\u001B[A\u001B[A\u001B[A\u001B[A\u001B[A\u001B[A\u001B[A\u001B[A\n",
      "\n",
      "\n",
      "\n",
      "\n",
      "\n",
      "\n",
      "\n",
      " 90%|███████████████████████████████████▏   | 2308/2554 [00:25<00:02, 82.15it/s]\u001B[A\u001B[A\u001B[A\u001B[A\u001B[A\u001B[A\u001B[A\u001B[A\n",
      "\n",
      "\n",
      "\n",
      "\n",
      "\n",
      "\n",
      "\n",
      " 91%|███████████████████████████████████▍   | 2317/2554 [00:25<00:03, 78.34it/s]\u001B[A\u001B[A\u001B[A\u001B[A\u001B[A\u001B[A\u001B[A\u001B[A\n",
      "\n",
      "\n",
      "\n",
      "\n",
      "\n",
      "\n",
      "\n",
      " 91%|███████████████████████████████████▌   | 2325/2554 [00:25<00:02, 77.66it/s]\u001B[A\u001B[A\u001B[A\u001B[A\u001B[A\u001B[A\u001B[A\u001B[A\n",
      "\n",
      "\n",
      "\n",
      "\n",
      "\n",
      "\n",
      "\n",
      " 91%|███████████████████████████████████▋   | 2333/2554 [00:26<00:02, 77.90it/s]\u001B[A\u001B[A\u001B[A\u001B[A\u001B[A\u001B[A\u001B[A\u001B[A\n",
      "\n",
      "\n",
      "\n",
      "\n",
      "\n",
      "\n",
      "\n",
      " 92%|███████████████████████████████████▋   | 2341/2554 [00:26<00:02, 76.21it/s]\u001B[A\u001B[A\u001B[A\u001B[A\u001B[A\u001B[A\u001B[A\u001B[A\n",
      "\n",
      "\n",
      "\n",
      "\n",
      "\n",
      "\n",
      "\n",
      " 92%|███████████████████████████████████▊   | 2349/2554 [00:26<00:02, 74.49it/s]\u001B[A\u001B[A\u001B[A\u001B[A\u001B[A\u001B[A\u001B[A\u001B[A\n",
      "\n",
      "\n",
      "\n",
      "\n",
      "\n",
      "\n",
      "\n",
      " 92%|███████████████████████████████████▉   | 2357/2554 [00:26<00:02, 74.71it/s]\u001B[A\u001B[A\u001B[A\u001B[A\u001B[A\u001B[A\u001B[A\u001B[A\n",
      "\n",
      "\n",
      "\n",
      "\n",
      "\n",
      "\n",
      "\n",
      " 93%|████████████████████████████████████   | 2365/2554 [00:26<00:02, 75.99it/s]\u001B[A\u001B[A\u001B[A\u001B[A\u001B[A\u001B[A\u001B[A\u001B[A\n",
      "\n",
      "\n",
      "\n",
      "\n",
      "\n",
      "\n",
      "\n",
      " 93%|████████████████████████████████████▏  | 2373/2554 [00:26<00:02, 76.49it/s]\u001B[A\u001B[A\u001B[A\u001B[A\u001B[A\u001B[A\u001B[A\u001B[A\n",
      "\n",
      "\n",
      "\n",
      "\n",
      "\n",
      "\n",
      "\n",
      " 93%|████████████████████████████████████▎  | 2382/2554 [00:26<00:02, 80.15it/s]\u001B[A\u001B[A\u001B[A\u001B[A\u001B[A\u001B[A\u001B[A\u001B[A\n",
      "\n",
      "\n",
      "\n",
      "\n",
      "\n",
      "\n",
      "\n",
      " 94%|████████████████████████████████████▌  | 2391/2554 [00:26<00:01, 81.75it/s]\u001B[A\u001B[A\u001B[A\u001B[A\u001B[A\u001B[A\u001B[A\u001B[A\n",
      "\n",
      "\n",
      "\n",
      "\n",
      "\n",
      "\n",
      "\n",
      " 94%|████████████████████████████████████▋  | 2400/2554 [00:26<00:01, 83.94it/s]\u001B[A\u001B[A\u001B[A\u001B[A\u001B[A\u001B[A\u001B[A\u001B[A\n",
      "\n",
      "\n",
      "\n",
      "\n",
      "\n",
      "\n",
      "\n",
      " 94%|████████████████████████████████████▊  | 2410/2554 [00:27<00:01, 86.04it/s]\u001B[A\u001B[A\u001B[A\u001B[A\u001B[A\u001B[A\u001B[A\u001B[A\n",
      "\n",
      "\n",
      "\n",
      "\n",
      "\n",
      "\n",
      "\n",
      " 95%|████████████████████████████████████▉  | 2419/2554 [00:27<00:01, 84.55it/s]\u001B[A\u001B[A\u001B[A\u001B[A\u001B[A\u001B[A\u001B[A\u001B[A\n",
      "\n",
      "\n",
      "\n",
      "\n",
      "\n",
      "\n",
      "\n",
      " 95%|█████████████████████████████████████  | 2428/2554 [00:27<00:01, 83.56it/s]\u001B[A\u001B[A\u001B[A\u001B[A\u001B[A\u001B[A\u001B[A\u001B[A\n",
      "\n",
      "\n",
      "\n",
      "\n",
      "\n",
      "\n",
      "\n",
      " 95%|█████████████████████████████████████▏ | 2437/2554 [00:27<00:01, 84.28it/s]\u001B[A\u001B[A\u001B[A\u001B[A\u001B[A\u001B[A\u001B[A\u001B[A\n",
      "\n",
      "\n",
      "\n",
      "\n",
      "\n",
      "\n",
      "\n",
      " 96%|█████████████████████████████████████▎ | 2446/2554 [00:27<00:01, 84.80it/s]\u001B[A\u001B[A\u001B[A\u001B[A\u001B[A\u001B[A\u001B[A\u001B[A\n",
      "\n",
      "\n",
      "\n",
      "\n",
      "\n",
      "\n",
      "\n",
      " 96%|█████████████████████████████████████▍ | 2455/2554 [00:27<00:01, 85.44it/s]\u001B[A\u001B[A\u001B[A\u001B[A\u001B[A\u001B[A\u001B[A\u001B[A\n",
      "\n",
      "\n",
      "\n",
      "\n",
      "\n",
      "\n",
      "\n",
      " 96%|█████████████████████████████████████▋ | 2464/2554 [00:27<00:01, 82.95it/s]\u001B[A\u001B[A\u001B[A\u001B[A\u001B[A\u001B[A\u001B[A\u001B[A\n",
      "\n",
      "\n",
      "\n",
      "\n",
      "\n",
      "\n",
      "\n",
      " 97%|█████████████████████████████████████▊ | 2474/2554 [00:27<00:00, 85.37it/s]\u001B[A\u001B[A\u001B[A\u001B[A\u001B[A\u001B[A\u001B[A\u001B[A\n",
      "\n",
      "\n",
      "\n",
      "\n",
      "\n",
      "\n",
      "\n",
      " 97%|█████████████████████████████████████▉ | 2483/2554 [00:27<00:00, 85.53it/s]\u001B[A\u001B[A\u001B[A\u001B[A\u001B[A\u001B[A\u001B[A\u001B[A\n",
      "\n",
      "\n",
      "\n",
      "\n",
      "\n",
      "\n",
      "\n",
      " 98%|██████████████████████████████████████ | 2492/2554 [00:28<00:00, 85.21it/s]\u001B[A\u001B[A\u001B[A\u001B[A\u001B[A\u001B[A\u001B[A\u001B[A\n",
      "\n",
      "\n",
      "\n",
      "\n",
      "\n",
      "\n",
      "\n",
      " 98%|██████████████████████████████████████▏| 2501/2554 [00:28<00:00, 83.19it/s]\u001B[A\u001B[A\u001B[A\u001B[A\u001B[A\u001B[A\u001B[A\u001B[A\n",
      "\n",
      "\n",
      "\n",
      "\n",
      "\n",
      "\n",
      "\n",
      " 98%|██████████████████████████████████████▎| 2510/2554 [00:28<00:00, 83.06it/s]\u001B[A\u001B[A\u001B[A\u001B[A\u001B[A\u001B[A\u001B[A\u001B[A\n",
      "\n",
      "\n",
      "\n",
      "\n",
      "\n",
      "\n",
      "\n",
      " 99%|██████████████████████████████████████▍| 2519/2554 [00:28<00:00, 84.81it/s]\u001B[A\u001B[A\u001B[A\u001B[A\u001B[A\u001B[A\u001B[A\u001B[A\n",
      "\n",
      "\n",
      "\n",
      "\n",
      "\n",
      "\n",
      "\n",
      " 99%|██████████████████████████████████████▌| 2528/2554 [00:28<00:00, 86.29it/s]\u001B[A\u001B[A\u001B[A\u001B[A\u001B[A\u001B[A\u001B[A\u001B[A\n",
      "\n",
      "\n",
      "\n",
      "\n",
      "\n",
      "\n",
      "\n",
      " 99%|██████████████████████████████████████▊| 2538/2554 [00:28<00:00, 88.27it/s]\u001B[A\u001B[A\u001B[A\u001B[A\u001B[A\u001B[A\u001B[A\u001B[A\n",
      "\n",
      "\n",
      "\n",
      "\n",
      "\n",
      "\n",
      "\n",
      "100%|███████████████████████████████████████| 2554/2554 [00:28<00:00, 88.90it/s]\u001B[A\u001B[A\u001B[A\u001B[A\u001B[A\u001B[A\u001B[A\u001B[A\n"
     ]
    }
   ],
   "source": [
    "\n",
    "    \n",
    "for lang in tqdm(langs):\n",
    "    with open(f\"{input_folder}/{lang}.json\") as f:\n",
    "        langd = json.load(f)\n",
    "\n",
    "    for lang2, con in langd[lang].items():\n",
    "        if con is not None:\n",
    "            g.add_edge(lang, lang2)\n",
    "            branch1 = g.nodes[lang][\"branch\"]\n",
    "            branch2= g.nodes[lang2][\"branch\"]\n",
    "            \n",
    "            if str(branch1)!=\"nan\" and str(branch2)!=\"nan\":\n",
    "                if branch1 != branch2:\n",
    "                    branch=0\n",
    "                elif branch1 == branch2:\n",
    "                    branch=1\n",
    "                else:\n",
    "                    branch=-1\n",
    "\n",
    "            else:\n",
    "                branch=-1\n",
    "                    \n",
    "            \n",
    "\n",
    "            l1,l2= sorted([lang,lang2])\n",
    "            distkm =lang2lang_dict_sorted[(l1,l2)]\n",
    "            if con<10:\n",
    "                g.add_edge(lang,lang2, contact=con, geodist=distkm, neighbour=1, branch=branch)\n",
    "            else:\n",
    "                g.add_edge(lang,lang2, contact=con, geodist=distkm, neighbour=0, branch=branch)\n",
    "\n",
    "            \n"
   ]
  },
  {
   "cell_type": "code",
   "execution_count": 166,
   "id": "2633d252-70fa-4836-83bb-e597c3ce1051",
   "metadata": {},
   "outputs": [
    {
     "data": {
      "text/plain": [
       "{'contact': 2119, 'geodist': 17172.307067554568, 'neighbour': 0, 'branch': -1}"
      ]
     },
     "execution_count": 166,
     "metadata": {},
     "output_type": "execute_result"
    }
   ],
   "source": [
    "g.edges['guin1254', 'pawa1255']"
   ]
  },
  {
   "cell_type": "code",
   "execution_count": 159,
   "id": "173e27aa-9146-4190-ac65-b92e2780c9d6",
   "metadata": {},
   "outputs": [
    {
     "data": {
      "text/plain": [
       "{'contact': 2119, 'geodist': 17172.307067554568, 'neighbour': 0, 'branch': -1}"
      ]
     },
     "execution_count": 159,
     "metadata": {},
     "output_type": "execute_result"
    }
   ],
   "source": [
    "g.edges[ 'pawa1255','guin1254']"
   ]
  },
  {
   "cell_type": "code",
   "execution_count": 160,
   "id": "ac808d2d-3a15-4ef1-a5d2-e8ddd3cc382d",
   "metadata": {
    "scrolled": true
   },
   "outputs": [
    {
     "data": {
      "text/plain": [
       "(2554, 3260181)"
      ]
     },
     "execution_count": 160,
     "metadata": {},
     "output_type": "execute_result"
    }
   ],
   "source": [
    "len(g.nodes), len(g.edges)"
   ]
  },
  {
   "cell_type": "code",
   "execution_count": null,
   "id": "35fe8132-9eff-4c3a-96fe-07c0aecd4e37",
   "metadata": {
    "scrolled": true
   },
   "outputs": [],
   "source": [
    "\n",
    "for edge in g.edges:\n",
    "    t1, t2= edge\n",
    "    branch = g.edges[t1,t2][\"branch\"]\n",
    "    neighbour = g.edges[t1,t2][\"neighbour\"]\n",
    "    if branch==1:\n",
    "        if neighbour!=1:\n",
    "            print(t1,t2, g.edges[t1,t2])\n",
    "            "
   ]
  },
  {
   "cell_type": "code",
   "execution_count": 199,
   "id": "45176481-ffff-4cc5-97a5-b9e8836f429f",
   "metadata": {
    "scrolled": true
   },
   "outputs": [
    {
     "name": "stdout",
     "output_type": "stream",
     "text": [
      "{'name': 'Iu Mien', 'family': 'Hmong-Mien', 'parent': 'Mien-Mun', 'branch': 'Mien-Mun', 'iso3': 'ium', 'area': 'Eurasia', 'timespan': (), 'coord': (20.83, 101.17)}\n"
     ]
    }
   ],
   "source": [
    "print(g.nodes[\"iumi1238\"])"
   ]
  },
  {
   "cell_type": "code",
   "execution_count": 200,
   "id": "9baf9623-856e-4897-9151-fd645dc3bd50",
   "metadata": {},
   "outputs": [
    {
     "name": "stdout",
     "output_type": "stream",
     "text": [
      "{'name': 'Kim Mun', 'family': 'Hmong-Mien', 'parent': 'Mien-Mun', 'branch': 'Mien-Mun', 'iso3': 'mji', 'area': 'Eurasia', 'timespan': (), 'coord': (22.9856, 105.024)}\n"
     ]
    }
   ],
   "source": [
    "print(g.nodes[\"kimm1245\"])"
   ]
  },
  {
   "cell_type": "code",
   "execution_count": 188,
   "id": "79a80bf8-4c11-40b3-9ace-9e8ff80ff2dd",
   "metadata": {},
   "outputs": [
    {
     "data": {
      "text/plain": [
       "{'contact': 13, 'geodist': 648.8953043040958, 'neighbour': 0, 'branch': 0}"
      ]
     },
     "execution_count": 188,
     "metadata": {},
     "output_type": "execute_result"
    }
   ],
   "source": [
    "g.edges[\"stan1295\", \"dutc1256\"]"
   ]
  },
  {
   "cell_type": "code",
   "execution_count": 190,
   "id": "48d4aa89-702b-48b1-bf0c-665991526ebe",
   "metadata": {},
   "outputs": [
    {
     "data": {
      "text/plain": [
       "{'contact': 4, 'geodist': 61.02906153629475, 'neighbour': 1, 'branch': 1}"
      ]
     },
     "execution_count": 190,
     "metadata": {},
     "output_type": "execute_result"
    }
   ],
   "source": [
    "g.edges[\"loth1237\", \"sang1321\"]"
   ]
  },
  {
   "cell_type": "code",
   "execution_count": 191,
   "id": "e85ccd11-758b-4453-8544-10f686cfe027",
   "metadata": {},
   "outputs": [
    {
     "data": {
      "text/plain": [
       "({'name': 'Lotha Naga',\n",
       "  'family': 'Sino-Tibetan',\n",
       "  'parent': 'Central Naga',\n",
       "  'branch': 'Central Naga',\n",
       "  'iso3': 'njh',\n",
       "  'area': 'Eurasia',\n",
       "  'timespan': (),\n",
       "  'coord': (26.01396, 94.04355)},\n",
       " {'name': 'Sangtam Naga',\n",
       "  'family': 'Sino-Tibetan',\n",
       "  'parent': 'Central Naga',\n",
       "  'branch': 'Central Naga',\n",
       "  'iso3': 'nsa',\n",
       "  'area': 'Eurasia',\n",
       "  'timespan': (),\n",
       "  'coord': (25.8581, 94.6279)})"
      ]
     },
     "execution_count": 191,
     "metadata": {},
     "output_type": "execute_result"
    }
   ],
   "source": [
    "g.nodes[\"loth1237\"], g.nodes[\"sang1321\"]"
   ]
  },
  {
   "cell_type": "code",
   "execution_count": 178,
   "id": "876057f2-f93a-43d8-9896-f364b0040768",
   "metadata": {},
   "outputs": [
    {
     "data": {
      "text/plain": [
       "[]"
      ]
     },
     "execution_count": 178,
     "metadata": {},
     "output_type": "execute_result"
    }
   ],
   "source": [
    "list(g.subgraph([\"stan1295\"]).edges)"
   ]
  },
  {
   "cell_type": "code",
   "execution_count": 182,
   "id": "a06c6bb2-70ad-46c4-9114-850d3f6fad1d",
   "metadata": {},
   "outputs": [
    {
     "data": {
      "text/plain": [
       "EdgeView([('nort2627', 'xhos1239'), ('nort2627', 'stan1295'), ('xhos1239', 'stan1295')])"
      ]
     },
     "execution_count": 182,
     "metadata": {},
     "output_type": "execute_result"
    }
   ],
   "source": [
    "g.subgraph([\"stan1295\", \"nort2627\", \"xhos1239\"]).edges"
   ]
  },
  {
   "cell_type": "code",
   "execution_count": null,
   "id": "64bd6391-3bda-4c56-85e9-0c2d6f6138c1",
   "metadata": {},
   "outputs": [],
   "source": []
  },
  {
   "cell_type": "code",
   "execution_count": null,
   "id": "15df669b-6a75-472d-8ba8-45a2fafdae98",
   "metadata": {},
   "outputs": [],
   "source": []
  },
  {
   "cell_type": "code",
   "execution_count": null,
   "id": "4c1c3e04-e84c-4933-9b49-7fb9b2170fd4",
   "metadata": {},
   "outputs": [],
   "source": []
  },
  {
   "cell_type": "code",
   "execution_count": 161,
   "id": "d70619be-92a5-49dc-acbb-ce1d1eefe90b",
   "metadata": {},
   "outputs": [
    {
     "name": "stdout",
     "output_type": "stream",
     "text": [
      "nort2627 {'name': 'Eastern Low German', 'family': 'Indo-European', 'parent': 'Greater East Low German', 'branch': 'Greater East Low German', 'iso3': 'nds', 'area': 'Eurasia', 'timespan': (), 'coord': (53.115373, 12.391439)}\n",
      "stan1295 {'name': 'German', 'family': 'Indo-European', 'parent': 'Global German', 'branch': 'Global German', 'iso3': 'deu', 'area': 'Eurasia', 'timespan': (), 'coord': (48.649, 12.4676)}\n",
      "oldh1241 {'name': 'Old High German (ca. 750-1050)', 'family': 'Indo-European', 'parent': 'Upper German', 'branch': 'Upper German', 'iso3': 'goh', 'area': 'Eurasia', 'timespan': (800, 1100), 'coord': (52.0, 10.0)}\n",
      "midd1343 {'name': 'Middle High German', 'family': 'Indo-European', 'parent': 'Middle-Modern High German', 'branch': 'Middle-Modern High German', 'iso3': 'gmh', 'area': 'Eurasia', 'timespan': (1050, 1500), 'coord': (48.254, 10.599)}\n",
      "midd1318 {'name': 'Middle Low German', 'family': 'Indo-European', 'parent': 'Middle-Modern Low German', 'branch': 'Middle-Modern Low German', 'iso3': 'gml', 'area': 'Eurasia', 'timespan': (1200, 1500), 'coord': (53.14, 9.67)}\n",
      "penn1240 {'name': 'Pennsylvania German', 'family': 'Indo-European', 'parent': 'Palatinate', 'branch': 'Palatinate', 'iso3': 'pdc', 'area': 'North America', 'timespan': (), 'coord': (40.030507, -76.3211)}\n"
     ]
    }
   ],
   "source": [
    "for node in g.nodes:\n",
    "    if \"German\" in g.nodes[node][\"name\"]:\n",
    "        print(node, g.nodes[node])"
   ]
  },
  {
   "cell_type": "code",
   "execution_count": null,
   "id": "ce053ccd-cdb1-4b7e-8d8d-e26d9b35e7de",
   "metadata": {},
   "outputs": [],
   "source": [
    "for node in g.nodes:\n",
    "    "
   ]
  },
  {
   "cell_type": "code",
   "execution_count": 144,
   "id": "f08a5f12-bc15-483f-bafe-56024a8df12f",
   "metadata": {},
   "outputs": [
    {
     "name": "stdout",
     "output_type": "stream",
     "text": [
      "dutc1256 {'name': 'Dutch', 'family': 'Indo-European', 'parent': 'Global Dutch', 'branch': 'Global Dutch', 'iso3': 'nld', 'area': 'Eurasia', 'timespan': (), 'coord': (52.0, 5.0)}\n",
      "midd1321 {'name': 'Middle Dutch', 'family': 'Indo-European', 'parent': 'Middle-Modern Dutch', 'branch': 'Middle-Modern Dutch', 'iso3': 'dum', 'area': 'Eurasia', 'timespan': (1100, 1500), 'coord': (51.656, 5.34)}\n"
     ]
    }
   ],
   "source": [
    "for node in g.nodes:\n",
    "    if \"Dutch\" in g.nodes[node][\"name\"]:\n",
    "        print(node, g.nodes[node])"
   ]
  },
  {
   "cell_type": "code",
   "execution_count": 148,
   "id": "21a855d7-d1fe-41e5-8d8a-c9dd96e7dac6",
   "metadata": {},
   "outputs": [
    {
     "data": {
      "text/plain": [
       "<networkx.classes.graph.Graph at 0x7fc9d6c69b10>"
      ]
     },
     "execution_count": 148,
     "metadata": {},
     "output_type": "execute_result"
    }
   ],
   "source": [
    "nx.subgraph(g, [\"stan1295\", \"dutc1256\"])"
   ]
  },
  {
   "cell_type": "code",
   "execution_count": 145,
   "id": "28475888-2c3f-4e8d-a100-8dccd55b3879",
   "metadata": {},
   "outputs": [
    {
     "data": {
      "text/plain": [
       "{'contact': 13, 'geodist': 648.8953043040958, 'neighbour': 0}"
      ]
     },
     "execution_count": 145,
     "metadata": {},
     "output_type": "execute_result"
    }
   ],
   "source": [
    "g.edges[\"stan1295\", \"dutc1256\"]"
   ]
  },
  {
   "cell_type": "code",
   "execution_count": 139,
   "id": "425700cd-26d2-462a-be81-0be4094c9b17",
   "metadata": {},
   "outputs": [
    {
     "data": {
      "text/plain": [
       "{'name': 'Pawaia',\n",
       " 'family': nan,\n",
       " 'parent': nan,\n",
       " 'branch': nan,\n",
       " 'iso3': 'pwa',\n",
       " 'area': 'Papunesia',\n",
       " 'timespan': (),\n",
       " 'coord': (-6.88021, 145.081)}"
      ]
     },
     "execution_count": 139,
     "metadata": {},
     "output_type": "execute_result"
    }
   ],
   "source": [
    "g.nodes[\"pawa1255\"]"
   ]
  },
  {
   "cell_type": "code",
   "execution_count": 185,
   "id": "451d3124-1fb6-4b1e-8e02-7a59e3142fc9",
   "metadata": {},
   "outputs": [],
   "source": [
    "g= g.to_undirected(as_view=True)"
   ]
  },
  {
   "cell_type": "code",
   "execution_count": 186,
   "id": "64422c23-549c-4ffe-b8bb-a5ac2ba02f08",
   "metadata": {},
   "outputs": [
    {
     "data": {
      "text/plain": [
       "(2554, 3260181)"
      ]
     },
     "execution_count": 186,
     "metadata": {},
     "output_type": "execute_result"
    }
   ],
   "source": [
    "len(g.nodes), len(g.edges)"
   ]
  },
  {
   "cell_type": "code",
   "execution_count": 187,
   "id": "2eb3d092-93e4-489e-ba71-9de766391603",
   "metadata": {},
   "outputs": [],
   "source": [
    "import pickle\n",
    "with open(\"../data/stage1/language_geo_graph.pickle\", \"wb\") as f:\n",
    "    pickle.dump(g,f)"
   ]
  },
  {
   "cell_type": "code",
   "execution_count": null,
   "id": "e0dde8b5-0e4f-484a-abb2-0cadda8a7729",
   "metadata": {},
   "outputs": [],
   "source": []
  },
  {
   "cell_type": "code",
   "execution_count": null,
   "id": "6dde5d67-cc4e-46a4-bc7e-cdafdfd3c0f9",
   "metadata": {},
   "outputs": [],
   "source": []
  },
  {
   "cell_type": "markdown",
   "id": "f94e46a2-902c-423c-933e-61b46a3c86b6",
   "metadata": {},
   "source": [
    "# Others"
   ]
  },
  {
   "cell_type": "code",
   "execution_count": 15,
   "id": "c0073340-2b70-4429-a528-a6cad5f7d2c7",
   "metadata": {},
   "outputs": [],
   "source": [
    "langs= pd.read_csv(\"../data/stage1/pmiLanguageDistances.csv\", sep=\"\\t\")"
   ]
  },
  {
   "cell_type": "code",
   "execution_count": 18,
   "id": "8d18139d-8f83-496b-b265-07eba959ab89",
   "metadata": {},
   "outputs": [],
   "source": [
    "langs_=langs.dropna(subset=[\"PMI\"])"
   ]
  },
  {
   "cell_type": "code",
   "execution_count": 22,
   "id": "0b5fb294-a5e9-471e-a7ce-e95f618685f4",
   "metadata": {},
   "outputs": [],
   "source": [
    "glottocodes= list(set(langs_[\"Glottocode1\"].tolist()+langs_[\"Glottocode2\"].tolist()))"
   ]
  },
  {
   "cell_type": "code",
   "execution_count": 24,
   "id": "e2fd7db7-aa99-4c99-ab3d-3e54943be4bd",
   "metadata": {
    "scrolled": true
   },
   "outputs": [
    {
     "data": {
      "text/plain": [
       "1563"
      ]
     },
     "execution_count": 24,
     "metadata": {},
     "output_type": "execute_result"
    }
   ],
   "source": [
    "len(glottocodes)"
   ]
  },
  {
   "cell_type": "code",
   "execution_count": 63,
   "id": "c028d93e-6015-4268-97e0-aa2d9557e72a",
   "metadata": {},
   "outputs": [],
   "source": [
    "glottocodes.remove(\"hang1263\")"
   ]
  },
  {
   "cell_type": "code",
   "execution_count": 5,
   "id": "a562e04f-886a-4290-ab2b-1190a54e98cb",
   "metadata": {},
   "outputs": [],
   "source": [
    "df_langs = pd.read_csv(\"../data/languages/languages_family_area.csv\")"
   ]
  },
  {
   "cell_type": "code",
   "execution_count": 7,
   "id": "e1d4737a-1b5b-485d-96c8-09b18f84ed32",
   "metadata": {},
   "outputs": [],
   "source": [
    "df_langs=df_langs.dropna(subset=[\"latitude\",\"longitude\"])\n"
   ]
  },
  {
   "cell_type": "code",
   "execution_count": 25,
   "id": "2102763b-90cb-4a90-b650-4e045b788fcc",
   "metadata": {},
   "outputs": [],
   "source": [
    "df_langs = df_langs[df_langs.id.isin(glottocodes)]"
   ]
  },
  {
   "cell_type": "code",
   "execution_count": 45,
   "id": "4ebd4e4d-9177-461c-82d3-739dd2affff9",
   "metadata": {},
   "outputs": [
    {
     "data": {
      "text/plain": [
       "macroarea\n",
       "Papunesia        605\n",
       "Africa           381\n",
       "Eurasia          258\n",
       "South America    173\n",
       "North America    140\n",
       "Australia          4\n",
       "Name: count, dtype: int64"
      ]
     },
     "execution_count": 45,
     "metadata": {},
     "output_type": "execute_result"
    }
   ],
   "source": [
    "df_langs[\"macroarea\"].value_counts()"
   ]
  },
  {
   "cell_type": "code",
   "execution_count": 46,
   "id": "92c7914f-2b04-4527-91c8-c78d7edd8486",
   "metadata": {
    "scrolled": true
   },
   "outputs": [
    {
     "data": {
      "text/html": [
       "<div>\n",
       "<style scoped>\n",
       "    .dataframe tbody tr th:only-of-type {\n",
       "        vertical-align: middle;\n",
       "    }\n",
       "\n",
       "    .dataframe tbody tr th {\n",
       "        vertical-align: top;\n",
       "    }\n",
       "\n",
       "    .dataframe thead th {\n",
       "        text-align: right;\n",
       "    }\n",
       "</style>\n",
       "<table border=\"1\" class=\"dataframe\">\n",
       "  <thead>\n",
       "    <tr style=\"text-align: right;\">\n",
       "      <th></th>\n",
       "      <th>id</th>\n",
       "      <th>name</th>\n",
       "      <th>family_id</th>\n",
       "      <th>top-level family</th>\n",
       "      <th>macroarea</th>\n",
       "      <th>latitude</th>\n",
       "      <th>longitude</th>\n",
       "      <th>iso639-3</th>\n",
       "    </tr>\n",
       "  </thead>\n",
       "  <tbody>\n",
       "    <tr>\n",
       "      <th>9343</th>\n",
       "      <td>yuga1244</td>\n",
       "      <td>Yugambal</td>\n",
       "      <td>pama1250</td>\n",
       "      <td>Pama-Nyungan</td>\n",
       "      <td>Australia</td>\n",
       "      <td>-27.8030</td>\n",
       "      <td>153.082</td>\n",
       "      <td>yub</td>\n",
       "    </tr>\n",
       "    <tr>\n",
       "      <th>10178</th>\n",
       "      <td>maun1240</td>\n",
       "      <td>Mawng</td>\n",
       "      <td>iwai1246</td>\n",
       "      <td>Iwaidjan Proper</td>\n",
       "      <td>Australia</td>\n",
       "      <td>-11.6600</td>\n",
       "      <td>133.376</td>\n",
       "      <td>mph</td>\n",
       "    </tr>\n",
       "    <tr>\n",
       "      <th>11875</th>\n",
       "      <td>nung1290</td>\n",
       "      <td>Wubuy</td>\n",
       "      <td>gunw1250</td>\n",
       "      <td>Gunwinyguan</td>\n",
       "      <td>Australia</td>\n",
       "      <td>-14.2623</td>\n",
       "      <td>135.753</td>\n",
       "      <td>nuy</td>\n",
       "    </tr>\n",
       "    <tr>\n",
       "      <th>17040</th>\n",
       "      <td>bura1267</td>\n",
       "      <td>Burarra</td>\n",
       "      <td>mani1293</td>\n",
       "      <td>Maningrida</td>\n",
       "      <td>Australia</td>\n",
       "      <td>-12.3061</td>\n",
       "      <td>134.365</td>\n",
       "      <td>bvr</td>\n",
       "    </tr>\n",
       "  </tbody>\n",
       "</table>\n",
       "</div>"
      ],
      "text/plain": [
       "             id      name family_id top-level family  macroarea  latitude   \n",
       "9343   yuga1244  Yugambal  pama1250     Pama-Nyungan  Australia  -27.8030  \\\n",
       "10178  maun1240     Mawng  iwai1246  Iwaidjan Proper  Australia  -11.6600   \n",
       "11875  nung1290     Wubuy  gunw1250      Gunwinyguan  Australia  -14.2623   \n",
       "17040  bura1267   Burarra  mani1293       Maningrida  Australia  -12.3061   \n",
       "\n",
       "       longitude iso639-3  \n",
       "9343     153.082      yub  \n",
       "10178    133.376      mph  \n",
       "11875    135.753      nuy  \n",
       "17040    134.365      bvr  "
      ]
     },
     "execution_count": 46,
     "metadata": {},
     "output_type": "execute_result"
    }
   ],
   "source": [
    "df_langs[df_langs[\"macroarea\"]==\"Australia\"]"
   ]
  },
  {
   "cell_type": "code",
   "execution_count": null,
   "id": "81281a01-2bf0-433e-bd0d-63709b4f6e42",
   "metadata": {},
   "outputs": [],
   "source": [
    "langs="
   ]
  },
  {
   "cell_type": "code",
   "execution_count": 59,
   "id": "f5f58b7e-7cda-494a-b381-dd51d2585178",
   "metadata": {},
   "outputs": [],
   "source": [
    "df_langs.to_csv(\"../data/stage1/languages.csv\", index=False)"
   ]
  },
  {
   "cell_type": "code",
   "execution_count": 33,
   "id": "69d77f6a-1a1f-449d-a05c-e1dac24765ad",
   "metadata": {},
   "outputs": [],
   "source": [
    "import random"
   ]
  },
  {
   "cell_type": "code",
   "execution_count": 49,
   "id": "e6306378-5903-4f42-acda-6cf3534139dd",
   "metadata": {},
   "outputs": [],
   "source": [
    "possibles= [ \"maun1240\",\"nung1290\", \"bura1267\"]"
   ]
  },
  {
   "cell_type": "code",
   "execution_count": 48,
   "id": "f347ea64-4c5d-4d46-8f87-d4c5e54c1632",
   "metadata": {},
   "outputs": [
    {
     "data": {
      "text/plain": [
       "['yuga1244', 'maun1240', 'nung1290', 'bura1267']"
      ]
     },
     "execution_count": 48,
     "metadata": {},
     "output_type": "execute_result"
    }
   ],
   "source": [
    "possibles"
   ]
  },
  {
   "cell_type": "code",
   "execution_count": 56,
   "id": "9762a73e-833d-4666-a1a2-6b53a140a0c5",
   "metadata": {
    "scrolled": true
   },
   "outputs": [
    {
     "name": "stdout",
     "output_type": "stream",
     "text": [
      "maun1240\n",
      "297\n",
      "nung1290\n",
      "56\n",
      "bura1267\n",
      "193\n"
     ]
    }
   ],
   "source": [
    "s = get_indryer2018_isos(possibles, \"yuga1244\", df_langs)"
   ]
  },
  {
   "cell_type": "code",
   "execution_count": 51,
   "id": "3a57db9f-1cb1-48be-8ca1-e6d5ff1450e0",
   "metadata": {},
   "outputs": [
    {
     "data": {
      "text/plain": [
       "set()"
      ]
     },
     "execution_count": 51,
     "metadata": {},
     "output_type": "execute_result"
    }
   ],
   "source": [
    "s"
   ]
  },
  {
   "cell_type": "code",
   "execution_count": null,
   "id": "506a3d9f-34e4-4798-9c86-e514001c7271",
   "metadata": {},
   "outputs": [],
   "source": []
  }
 ],
 "metadata": {
  "kernelspec": {
   "display_name": "colex",
   "language": "python",
   "name": "colex"
  },
  "language_info": {
   "codemirror_mode": {
    "name": "ipython",
    "version": 3
   },
   "file_extension": ".py",
   "mimetype": "text/x-python",
   "name": "python",
   "nbconvert_exporter": "python",
   "pygments_lexer": "ipython3",
   "version": "3.10.11"
  }
 },
 "nbformat": 4,
 "nbformat_minor": 5
}
