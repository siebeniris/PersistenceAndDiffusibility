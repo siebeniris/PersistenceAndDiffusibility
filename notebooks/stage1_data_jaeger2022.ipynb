{
 "cells": [
  {
   "cell_type": "code",
   "execution_count": 56,
   "id": "01aaf9fe-dad5-4019-b2b2-67b7445f88ad",
   "metadata": {},
   "outputs": [],
   "source": [
    "import pandas as pd\n",
    "import numpy as np\n",
    "from itertools import combinations"
   ]
  },
  {
   "cell_type": "code",
   "execution_count": 18,
   "id": "d569cf6d-9106-4b30-b87b-a39d4f88e981",
   "metadata": {},
   "outputs": [],
   "source": [
    "df_colex= pd.read_csv(\"../data/colexifications/colex_all.csv\")"
   ]
  },
  {
   "cell_type": "code",
   "execution_count": 23,
   "id": "3c51a7a6-10e5-46d8-9b52-091d25141bf4",
   "metadata": {},
   "outputs": [],
   "source": [
    "langs_iso = list(set(df_colex[\"Glottocode\"].tolist()))"
   ]
  },
  {
   "cell_type": "code",
   "execution_count": 24,
   "id": "cf495129-d357-4c23-bc7b-d619f357f5f5",
   "metadata": {},
   "outputs": [
    {
     "data": {
      "text/plain": [
       "2933"
      ]
     },
     "execution_count": 24,
     "metadata": {},
     "output_type": "execute_result"
    }
   ],
   "source": [
    "len(langs_iso)"
   ]
  },
  {
   "cell_type": "code",
   "execution_count": 25,
   "id": "14408658-b883-4b6f-b3f8-d38e12010ae1",
   "metadata": {},
   "outputs": [],
   "source": [
    "df_langs = pd.read_csv(\"../data/Jaeger2022/data/languages.csv\")"
   ]
  },
  {
   "cell_type": "code",
   "execution_count": 27,
   "id": "6d114063-50fe-42e3-b35b-a14b017aad3f",
   "metadata": {},
   "outputs": [],
   "source": [
    "df_langs =df_langs[df_langs.Glottocode.isin(langs_iso)]"
   ]
  },
  {
   "cell_type": "code",
   "execution_count": 30,
   "id": "efb7b3c4-7bd1-4720-9597-6d7b95e49e6c",
   "metadata": {},
   "outputs": [],
   "source": [
    "langs = list(set(df_langs[\"Glottocode\"].tolist()))"
   ]
  },
  {
   "cell_type": "code",
   "execution_count": 52,
   "id": "91abd24a-2e33-49c0-bfcf-a6898733f70b",
   "metadata": {},
   "outputs": [],
   "source": [
    "df_langs[\"JaegerCode\"]=df_langs[\"classification_wals\"]+\".\"+df_langs[\"ID\"]"
   ]
  },
  {
   "cell_type": "code",
   "execution_count": 60,
   "id": "73df7a1d-b62c-4917-a9c3-06213304d45a",
   "metadata": {},
   "outputs": [],
   "source": [
    "jaeger2glotto= dict(zip(df_langs[\"JaegerCode\"], df_langs[\"Glottocode\"]))"
   ]
  },
  {
   "cell_type": "code",
   "execution_count": 61,
   "id": "ca80a55f-9f65-42ae-b0c3-88a60ffe4aa9",
   "metadata": {},
   "outputs": [
    {
     "data": {
      "text/plain": [
       "52"
      ]
     },
     "execution_count": 61,
     "metadata": {},
     "output_type": "execute_result"
    }
   ],
   "source": [
    "writer= open(\"../data/pmiLanguageDistances.csv\", \"w+\")\n",
    "writer.write(\"JaegerCode1\\tJaegerCode2\\tGlottocode1\\tGlottocode2\\tPMI\\n\")"
   ]
  },
  {
   "cell_type": "code",
   "execution_count": 58,
   "id": "aa2187a9-0c95-412f-98da-d18243b63d78",
   "metadata": {},
   "outputs": [
    {
     "data": {
      "text/plain": [
       "[(1, 2), (1, 3), (2, 3)]"
      ]
     },
     "execution_count": 58,
     "metadata": {},
     "output_type": "execute_result"
    }
   ],
   "source": [
    "list(combinations([1,2,3],2))"
   ]
  },
  {
   "cell_type": "code",
   "execution_count": 63,
   "id": "c71d1fa1-c462-47a9-8101-46bbbb7c6e37",
   "metadata": {},
   "outputs": [],
   "source": [
    "from tqdm import tqdm"
   ]
  },
  {
   "cell_type": "code",
   "execution_count": 64,
   "id": "6f6c02fd-681b-4dae-9e08-4facd631fa7b",
   "metadata": {},
   "outputs": [
    {
     "name": "stderr",
     "output_type": "stream",
     "text": [
      "10444735it [00:42, 248244.77it/s]\n"
     ]
    }
   ],
   "source": [
    "for comb in tqdm(combinations(df_langs[\"JaegerCode\"].tolist(),2)):\n",
    "    lang1,lang2=sorted(comb)\n",
    "    glottocode1 = jaeger2glotto[lang1]\n",
    "    glottocode2 = jaeger2glotto[lang2]\n",
    "    try:\n",
    "        pmi_score=pmi.at[lang1,lang2]\n",
    "        writer.write(f\"{lang1}\\t{lang2}\\t{glottocode1}\\t{glottocode2}\\t{pmi_score}\\n\")\n",
    "        if pmi_score==np.nan:\n",
    "            try:\n",
    "                pmi_score=pmi.at[lang2,lang1]\n",
    "                writer.write(f\"{lang1}\\t{lang2}\\t{glottocode1}\\t{glottocode2}\\t{pmi_score}\\n\")\n",
    "            except Exception:\n",
    "                continue\n",
    "                \n",
    "    except Exception:            \n",
    "        continue\n",
    "    "
   ]
  },
  {
   "cell_type": "code",
   "execution_count": 43,
   "id": "de3fc79b-2729-48d3-bf37-e2fbedf29f95",
   "metadata": {},
   "outputs": [
    {
     "data": {
      "text/html": [
       "<div>\n",
       "<style scoped>\n",
       "    .dataframe tbody tr th:only-of-type {\n",
       "        vertical-align: middle;\n",
       "    }\n",
       "\n",
       "    .dataframe tbody tr th {\n",
       "        vertical-align: top;\n",
       "    }\n",
       "\n",
       "    .dataframe thead th {\n",
       "        text-align: right;\n",
       "    }\n",
       "</style>\n",
       "<table border=\"1\" class=\"dataframe\">\n",
       "  <thead>\n",
       "    <tr style=\"text-align: right;\">\n",
       "      <th></th>\n",
       "      <th>ID</th>\n",
       "      <th>classification_wals</th>\n",
       "    </tr>\n",
       "  </thead>\n",
       "  <tbody>\n",
       "    <tr>\n",
       "      <th>3</th>\n",
       "      <td>A53_BAFIA_RIKPA</td>\n",
       "      <td>NC.BANTOID</td>\n",
       "    </tr>\n",
       "    <tr>\n",
       "      <th>14</th>\n",
       "      <td>ABASAKUR</td>\n",
       "      <td>TNG.MADANG</td>\n",
       "    </tr>\n",
       "    <tr>\n",
       "      <th>15</th>\n",
       "      <td>ABAU</td>\n",
       "      <td>Sep.UPPER_SEPIK</td>\n",
       "    </tr>\n",
       "    <tr>\n",
       "      <th>16</th>\n",
       "      <td>ABAU_2</td>\n",
       "      <td>Sep.UPPER_SEPIK</td>\n",
       "    </tr>\n",
       "    <tr>\n",
       "      <th>17</th>\n",
       "      <td>ABAZA</td>\n",
       "      <td>NWC.NORTHWEST_CAUCASIAN</td>\n",
       "    </tr>\n",
       "    <tr>\n",
       "      <th>...</th>\n",
       "      <td>...</td>\n",
       "      <td>...</td>\n",
       "    </tr>\n",
       "    <tr>\n",
       "      <th>9781</th>\n",
       "      <td>ZULGO</td>\n",
       "      <td>AA.BIU-MANDARA</td>\n",
       "    </tr>\n",
       "    <tr>\n",
       "      <th>9782</th>\n",
       "      <td>ZULU</td>\n",
       "      <td>NC.BANTOID</td>\n",
       "    </tr>\n",
       "    <tr>\n",
       "      <th>9783</th>\n",
       "      <td>ZULU_2</td>\n",
       "      <td>NC.BANTOID</td>\n",
       "    </tr>\n",
       "    <tr>\n",
       "      <th>9784</th>\n",
       "      <td>ZULU_NKANDLA</td>\n",
       "      <td>NC.BANTOID</td>\n",
       "    </tr>\n",
       "    <tr>\n",
       "      <th>9786</th>\n",
       "      <td>ZUNI</td>\n",
       "      <td>Zun.ZUNI</td>\n",
       "    </tr>\n",
       "  </tbody>\n",
       "</table>\n",
       "<p>4571 rows × 2 columns</p>\n",
       "</div>"
      ],
      "text/plain": [
       "                   ID      classification_wals\n",
       "3     A53_BAFIA_RIKPA               NC.BANTOID\n",
       "14           ABASAKUR               TNG.MADANG\n",
       "15               ABAU          Sep.UPPER_SEPIK\n",
       "16             ABAU_2          Sep.UPPER_SEPIK\n",
       "17              ABAZA  NWC.NORTHWEST_CAUCASIAN\n",
       "...               ...                      ...\n",
       "9781            ZULGO           AA.BIU-MANDARA\n",
       "9782             ZULU               NC.BANTOID\n",
       "9783           ZULU_2               NC.BANTOID\n",
       "9784     ZULU_NKANDLA               NC.BANTOID\n",
       "9786             ZUNI                 Zun.ZUNI\n",
       "\n",
       "[4571 rows x 2 columns]"
      ]
     },
     "execution_count": 43,
     "metadata": {},
     "output_type": "execute_result"
    }
   ],
   "source": [
    "df_langs[[\"ID\",\"classification_wals\"]]"
   ]
  },
  {
   "cell_type": "code",
   "execution_count": 39,
   "id": "0e6a1603-489f-40b7-945a-482643ce5903",
   "metadata": {},
   "outputs": [],
   "source": [
    "pmi= pd.read_csv(\"../data/Jaeger2022/data/pmiLanguageDistances.csv\",index_col=0)"
   ]
  },
  {
   "cell_type": "code",
   "execution_count": 50,
   "id": "e2ee812b-f3f0-4128-a081-c8d9125d6503",
   "metadata": {},
   "outputs": [
    {
     "data": {
      "text/plain": [
       "nan"
      ]
     },
     "execution_count": 50,
     "metadata": {},
     "output_type": "execute_result"
    }
   ],
   "source": [
    "pmi.at[\"Sep.UPPER_SEPIK.ABAU_2\", \"TNG.MADANG.ABASAKUR\"]"
   ]
  },
  {
   "cell_type": "code",
   "execution_count": 41,
   "id": "34f33294-fd13-4404-943a-a1107822dc71",
   "metadata": {},
   "outputs": [
    {
     "data": {
      "text/plain": [
       "0.5146103424296252"
      ]
     },
     "execution_count": 41,
     "metadata": {},
     "output_type": "execute_result"
    }
   ],
   "source": [
    "pmi.at[\"NC.BANTOID.A51_BAFIA_MAJA\",\"NC.BANTOID.A53_BAFIA_RIKPA\"]"
   ]
  },
  {
   "cell_type": "code",
   "execution_count": null,
   "id": "475da5d3-5549-4b72-b09c-3019790bd1c6",
   "metadata": {},
   "outputs": [],
   "source": []
  }
 ],
 "metadata": {
  "kernelspec": {
   "display_name": "colex",
   "language": "python",
   "name": "colex"
  },
  "language_info": {
   "codemirror_mode": {
    "name": "ipython",
    "version": 3
   },
   "file_extension": ".py",
   "mimetype": "text/x-python",
   "name": "python",
   "nbconvert_exporter": "python",
   "pygments_lexer": "ipython3",
   "version": "3.10.11"
  }
 },
 "nbformat": 4,
 "nbformat_minor": 5
}
